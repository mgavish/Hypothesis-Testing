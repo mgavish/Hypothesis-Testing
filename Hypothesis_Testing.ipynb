{
 "cells": [
  {
   "cell_type": "markdown",
   "metadata": {
    "toc": true
   },
   "source": [
    "<h1>Table of Contents<span class=\"tocSkip\"></span></h1>\n",
    "<div class=\"toc\"><ul class=\"toc-item\"><li><span><a href=\"#Case-Study:-Northwind-Traders\" data-toc-modified-id=\"Case-Study:-Northwind-Traders-1\">Case Study: Northwind Traders</a></span><ul class=\"toc-item\"><li><span><a href=\"#-Question-1-\" data-toc-modified-id=\"-Question-1--1.1\"><font color=\"lime\"> Question 1 </font></a></span><ul class=\"toc-item\"><li><span><a href=\"#Question-1:\" data-toc-modified-id=\"Question-1:-1.1.1\">Question 1:</a></span></li></ul></li><li><span><a href=\"#-Question-2-\" data-toc-modified-id=\"-Question-2--1.2\"><font color=\"lime\"> Question 2 </font></a></span></li><li><span><a href=\"#-Question-3-\" data-toc-modified-id=\"-Question-3--1.3\"><font color=\"lime\"> Question 3 </font></a></span></li><li><span><a href=\"#-Question-4-\" data-toc-modified-id=\"-Question-4--1.4\"><font color=\"lime\"> Question 4 </font></a></span></li></ul></li></ul></div>"
   ]
  },
  {
   "cell_type": "markdown",
   "metadata": {},
   "source": [
    "[link to question #2](#link_to_question_#2)\n",
    "<br>\n",
    "[link to question #3](#link_to_question_#3)\n",
    "<br>\n",
    "[link to question #4](#link_to_question_#4)\n",
    "\n",
    "\n"
   ]
  },
  {
   "cell_type": "markdown",
   "metadata": {},
   "source": [
    "# Case Study: Northwind Traders\n"
   ]
  },
  {
   "cell_type": "markdown",
   "metadata": {},
   "source": [
    "Four questions to consider:<br>\n",
    "1. Do discounted items sell in greater quantites than non-discounted items?  And if so, does the level of discount have an impact?\n",
    "2. Are there any days per week that stand out?\n",
    "3. Are the distributions of order Quanitites by time-in-job similar between employees?\n",
    "4. Does the distribution of product categories purchased change when a discount is offered?\n"
   ]
  },
  {
   "cell_type": "code",
   "execution_count": 1,
   "metadata": {},
   "outputs": [],
   "source": [
    "# import packages and modules\n",
    "\n",
    "\n",
    "import pandas as pd\n",
    "import numpy as np\n",
    "from scipy.stats import kurtosis, skew\n",
    "import scipy.stats as stats\n",
    "from math import sqrt\n",
    "import math\n",
    "import copy\n",
    "import statsmodels.api as sm             #for ANOVA\n",
    "from statsmodels.formula.api import ols  #for ANOVA\n",
    "from sklearn import preprocessing\n",
    "\n",
    "import sqlalchemy\n",
    "from sqlalchemy import create_engine\n",
    "from sqlalchemy.orm import session, sessionmaker\n",
    "from sqlalchemy import inspect # so we can perform high level investigations\n",
    "\n",
    "from datetime import timedelta\n",
    "\n",
    "import seaborn as sns\n",
    "\n",
    "import matplotlib.pyplot as plt\n",
    "%matplotlib inline\n",
    "#plt.style.use('seaborn')\n",
    "from matplotlib import style\n",
    "\n",
    "pd.set_option('display.max_columns', None)"
   ]
  },
  {
   "cell_type": "code",
   "execution_count": 2,
   "metadata": {},
   "outputs": [
    {
     "name": "stdout",
     "output_type": "stream",
     "text": [
      "2019-05-26 11:29:39,744 INFO sqlalchemy.engine.base.Engine SELECT CAST('test plain returns' AS VARCHAR(60)) AS anon_1\n",
      "2019-05-26 11:29:39,750 INFO sqlalchemy.engine.base.Engine ()\n",
      "2019-05-26 11:29:39,751 INFO sqlalchemy.engine.base.Engine SELECT CAST('test unicode returns' AS VARCHAR(60)) AS anon_1\n",
      "2019-05-26 11:29:39,752 INFO sqlalchemy.engine.base.Engine ()\n"
     ]
    }
   ],
   "source": [
    "# creating an engine object and a session to connect and work with the Northwind sql db\n",
    "\n",
    "engine = create_engine(\"sqlite:///Northwind_small.sqlite\", echo = True)\n",
    "Session = sessionmaker(bind = engine)\n",
    "session = Session\n",
    "inspector = inspect(engine)"
   ]
  },
  {
   "cell_type": "code",
   "execution_count": 3,
   "metadata": {},
   "outputs": [
    {
     "name": "stdout",
     "output_type": "stream",
     "text": [
      "2019-05-26 11:29:39,762 INFO sqlalchemy.engine.base.Engine SELECT name FROM sqlite_master WHERE type='table' ORDER BY name\n",
      "2019-05-26 11:29:39,763 INFO sqlalchemy.engine.base.Engine ()\n"
     ]
    },
    {
     "data": {
      "text/plain": [
       "['Category',\n",
       " 'Customer',\n",
       " 'CustomerCustomerDemo',\n",
       " 'CustomerDemographic',\n",
       " 'Employee',\n",
       " 'EmployeeTerritory',\n",
       " 'Order',\n",
       " 'OrderDetail',\n",
       " 'Product',\n",
       " 'Region',\n",
       " 'Shipper',\n",
       " 'Supplier',\n",
       " 'Territory']"
      ]
     },
     "execution_count": 3,
     "metadata": {},
     "output_type": "execute_result"
    }
   ],
   "source": [
    "# lets have a look at the tables we will be working with and get to know them better\n",
    "\n",
    "inspector.get_table_names()"
   ]
  },
  {
   "cell_type": "code",
   "execution_count": 4,
   "metadata": {},
   "outputs": [],
   "source": [
    "\n",
    "\n",
    "from sqlalchemy import MetaData\n",
    "from sqlalchemy.ext.automap import automap_base # creates a framework that clones the db structure so that it can generate a \n",
    "                                                  # a new model in which to map the db with its metadata, ie, column headings"
   ]
  },
  {
   "cell_type": "code",
   "execution_count": 5,
   "metadata": {
    "scrolled": true
   },
   "outputs": [
    {
     "name": "stdout",
     "output_type": "stream",
     "text": [
      "2019-05-26 11:29:39,793 INFO sqlalchemy.engine.base.Engine SELECT name FROM sqlite_master WHERE type='table' ORDER BY name\n",
      "2019-05-26 11:29:39,794 INFO sqlalchemy.engine.base.Engine ()\n",
      "2019-05-26 11:29:39,796 INFO sqlalchemy.engine.base.Engine PRAGMA table_info(\"Category\")\n",
      "2019-05-26 11:29:39,797 INFO sqlalchemy.engine.base.Engine ()\n",
      "2019-05-26 11:29:39,799 INFO sqlalchemy.engine.base.Engine SELECT sql FROM  (SELECT * FROM sqlite_master UNION ALL   SELECT * FROM sqlite_temp_master) WHERE name = 'Category' AND type = 'table'\n",
      "2019-05-26 11:29:39,800 INFO sqlalchemy.engine.base.Engine ()\n",
      "2019-05-26 11:29:39,802 INFO sqlalchemy.engine.base.Engine PRAGMA foreign_key_list(\"Category\")\n",
      "2019-05-26 11:29:39,803 INFO sqlalchemy.engine.base.Engine ()\n",
      "2019-05-26 11:29:39,803 INFO sqlalchemy.engine.base.Engine SELECT sql FROM  (SELECT * FROM sqlite_master UNION ALL   SELECT * FROM sqlite_temp_master) WHERE name = 'Category' AND type = 'table'\n",
      "2019-05-26 11:29:39,804 INFO sqlalchemy.engine.base.Engine ()\n",
      "2019-05-26 11:29:39,807 INFO sqlalchemy.engine.base.Engine PRAGMA index_list(\"Category\")\n",
      "2019-05-26 11:29:39,808 INFO sqlalchemy.engine.base.Engine ()\n",
      "2019-05-26 11:29:39,810 INFO sqlalchemy.engine.base.Engine PRAGMA index_list(\"Category\")\n",
      "2019-05-26 11:29:39,810 INFO sqlalchemy.engine.base.Engine ()\n",
      "2019-05-26 11:29:39,812 INFO sqlalchemy.engine.base.Engine SELECT sql FROM  (SELECT * FROM sqlite_master UNION ALL   SELECT * FROM sqlite_temp_master) WHERE name = 'Category' AND type = 'table'\n",
      "2019-05-26 11:29:39,812 INFO sqlalchemy.engine.base.Engine ()\n",
      "2019-05-26 11:29:39,816 INFO sqlalchemy.engine.base.Engine PRAGMA table_info(\"Customer\")\n",
      "2019-05-26 11:29:39,817 INFO sqlalchemy.engine.base.Engine ()\n",
      "2019-05-26 11:29:39,818 INFO sqlalchemy.engine.base.Engine SELECT sql FROM  (SELECT * FROM sqlite_master UNION ALL   SELECT * FROM sqlite_temp_master) WHERE name = 'Customer' AND type = 'table'\n",
      "2019-05-26 11:29:39,819 INFO sqlalchemy.engine.base.Engine ()\n",
      "2019-05-26 11:29:39,820 INFO sqlalchemy.engine.base.Engine PRAGMA foreign_key_list(\"Customer\")\n",
      "2019-05-26 11:29:39,821 INFO sqlalchemy.engine.base.Engine ()\n",
      "2019-05-26 11:29:39,822 INFO sqlalchemy.engine.base.Engine SELECT sql FROM  (SELECT * FROM sqlite_master UNION ALL   SELECT * FROM sqlite_temp_master) WHERE name = 'Customer' AND type = 'table'\n",
      "2019-05-26 11:29:39,823 INFO sqlalchemy.engine.base.Engine ()\n",
      "2019-05-26 11:29:39,824 INFO sqlalchemy.engine.base.Engine PRAGMA index_list(\"Customer\")\n",
      "2019-05-26 11:29:39,824 INFO sqlalchemy.engine.base.Engine ()\n",
      "2019-05-26 11:29:39,825 INFO sqlalchemy.engine.base.Engine PRAGMA index_list(\"Customer\")\n",
      "2019-05-26 11:29:39,826 INFO sqlalchemy.engine.base.Engine ()\n",
      "2019-05-26 11:29:39,826 INFO sqlalchemy.engine.base.Engine PRAGMA index_info(\"sqlite_autoindex_Customer_1\")\n",
      "2019-05-26 11:29:39,827 INFO sqlalchemy.engine.base.Engine ()\n",
      "2019-05-26 11:29:39,828 INFO sqlalchemy.engine.base.Engine SELECT sql FROM  (SELECT * FROM sqlite_master UNION ALL   SELECT * FROM sqlite_temp_master) WHERE name = 'Customer' AND type = 'table'\n",
      "2019-05-26 11:29:39,828 INFO sqlalchemy.engine.base.Engine ()\n",
      "2019-05-26 11:29:39,830 INFO sqlalchemy.engine.base.Engine PRAGMA table_info(\"CustomerCustomerDemo\")\n",
      "2019-05-26 11:29:39,830 INFO sqlalchemy.engine.base.Engine ()\n",
      "2019-05-26 11:29:39,832 INFO sqlalchemy.engine.base.Engine SELECT sql FROM  (SELECT * FROM sqlite_master UNION ALL   SELECT * FROM sqlite_temp_master) WHERE name = 'CustomerCustomerDemo' AND type = 'table'\n",
      "2019-05-26 11:29:39,833 INFO sqlalchemy.engine.base.Engine ()\n",
      "2019-05-26 11:29:39,834 INFO sqlalchemy.engine.base.Engine PRAGMA foreign_key_list(\"CustomerCustomerDemo\")\n",
      "2019-05-26 11:29:39,834 INFO sqlalchemy.engine.base.Engine ()\n",
      "2019-05-26 11:29:39,835 INFO sqlalchemy.engine.base.Engine SELECT sql FROM  (SELECT * FROM sqlite_master UNION ALL   SELECT * FROM sqlite_temp_master) WHERE name = 'CustomerCustomerDemo' AND type = 'table'\n",
      "2019-05-26 11:29:39,836 INFO sqlalchemy.engine.base.Engine ()\n",
      "2019-05-26 11:29:39,837 INFO sqlalchemy.engine.base.Engine PRAGMA index_list(\"CustomerCustomerDemo\")\n",
      "2019-05-26 11:29:39,837 INFO sqlalchemy.engine.base.Engine ()\n",
      "2019-05-26 11:29:39,838 INFO sqlalchemy.engine.base.Engine PRAGMA index_list(\"CustomerCustomerDemo\")\n",
      "2019-05-26 11:29:39,838 INFO sqlalchemy.engine.base.Engine ()\n",
      "2019-05-26 11:29:39,839 INFO sqlalchemy.engine.base.Engine PRAGMA index_info(\"sqlite_autoindex_CustomerCustomerDemo_1\")\n",
      "2019-05-26 11:29:39,840 INFO sqlalchemy.engine.base.Engine ()\n",
      "2019-05-26 11:29:39,841 INFO sqlalchemy.engine.base.Engine SELECT sql FROM  (SELECT * FROM sqlite_master UNION ALL   SELECT * FROM sqlite_temp_master) WHERE name = 'CustomerCustomerDemo' AND type = 'table'\n",
      "2019-05-26 11:29:39,841 INFO sqlalchemy.engine.base.Engine ()\n",
      "2019-05-26 11:29:39,843 INFO sqlalchemy.engine.base.Engine PRAGMA table_info(\"CustomerDemographic\")\n",
      "2019-05-26 11:29:39,843 INFO sqlalchemy.engine.base.Engine ()\n",
      "2019-05-26 11:29:39,844 INFO sqlalchemy.engine.base.Engine SELECT sql FROM  (SELECT * FROM sqlite_master UNION ALL   SELECT * FROM sqlite_temp_master) WHERE name = 'CustomerDemographic' AND type = 'table'\n",
      "2019-05-26 11:29:39,844 INFO sqlalchemy.engine.base.Engine ()\n",
      "2019-05-26 11:29:39,846 INFO sqlalchemy.engine.base.Engine PRAGMA foreign_key_list(\"CustomerDemographic\")\n",
      "2019-05-26 11:29:39,846 INFO sqlalchemy.engine.base.Engine ()\n",
      "2019-05-26 11:29:39,847 INFO sqlalchemy.engine.base.Engine SELECT sql FROM  (SELECT * FROM sqlite_master UNION ALL   SELECT * FROM sqlite_temp_master) WHERE name = 'CustomerDemographic' AND type = 'table'\n",
      "2019-05-26 11:29:39,847 INFO sqlalchemy.engine.base.Engine ()\n",
      "2019-05-26 11:29:39,849 INFO sqlalchemy.engine.base.Engine PRAGMA index_list(\"CustomerDemographic\")\n",
      "2019-05-26 11:29:39,850 INFO sqlalchemy.engine.base.Engine ()\n",
      "2019-05-26 11:29:39,851 INFO sqlalchemy.engine.base.Engine PRAGMA index_list(\"CustomerDemographic\")\n",
      "2019-05-26 11:29:39,852 INFO sqlalchemy.engine.base.Engine ()\n",
      "2019-05-26 11:29:39,853 INFO sqlalchemy.engine.base.Engine PRAGMA index_info(\"sqlite_autoindex_CustomerDemographic_1\")\n",
      "2019-05-26 11:29:39,854 INFO sqlalchemy.engine.base.Engine ()\n",
      "2019-05-26 11:29:39,856 INFO sqlalchemy.engine.base.Engine SELECT sql FROM  (SELECT * FROM sqlite_master UNION ALL   SELECT * FROM sqlite_temp_master) WHERE name = 'CustomerDemographic' AND type = 'table'\n",
      "2019-05-26 11:29:39,857 INFO sqlalchemy.engine.base.Engine ()\n",
      "2019-05-26 11:29:39,858 INFO sqlalchemy.engine.base.Engine PRAGMA table_info(\"Employee\")\n",
      "2019-05-26 11:29:39,859 INFO sqlalchemy.engine.base.Engine ()\n",
      "2019-05-26 11:29:39,861 INFO sqlalchemy.engine.base.Engine SELECT sql FROM  (SELECT * FROM sqlite_master UNION ALL   SELECT * FROM sqlite_temp_master) WHERE name = 'Employee' AND type = 'table'\n",
      "2019-05-26 11:29:39,861 INFO sqlalchemy.engine.base.Engine ()\n",
      "2019-05-26 11:29:39,863 INFO sqlalchemy.engine.base.Engine PRAGMA foreign_key_list(\"Employee\")\n",
      "2019-05-26 11:29:39,863 INFO sqlalchemy.engine.base.Engine ()\n",
      "2019-05-26 11:29:39,865 INFO sqlalchemy.engine.base.Engine SELECT sql FROM  (SELECT * FROM sqlite_master UNION ALL   SELECT * FROM sqlite_temp_master) WHERE name = 'Employee' AND type = 'table'\n",
      "2019-05-26 11:29:39,865 INFO sqlalchemy.engine.base.Engine ()\n",
      "2019-05-26 11:29:39,866 INFO sqlalchemy.engine.base.Engine PRAGMA index_list(\"Employee\")\n",
      "2019-05-26 11:29:39,867 INFO sqlalchemy.engine.base.Engine ()\n",
      "2019-05-26 11:29:39,868 INFO sqlalchemy.engine.base.Engine PRAGMA index_list(\"Employee\")\n",
      "2019-05-26 11:29:39,868 INFO sqlalchemy.engine.base.Engine ()\n",
      "2019-05-26 11:29:39,869 INFO sqlalchemy.engine.base.Engine SELECT sql FROM  (SELECT * FROM sqlite_master UNION ALL   SELECT * FROM sqlite_temp_master) WHERE name = 'Employee' AND type = 'table'\n",
      "2019-05-26 11:29:39,869 INFO sqlalchemy.engine.base.Engine ()\n",
      "2019-05-26 11:29:39,871 INFO sqlalchemy.engine.base.Engine PRAGMA table_info(\"EmployeeTerritory\")\n",
      "2019-05-26 11:29:39,871 INFO sqlalchemy.engine.base.Engine ()\n",
      "2019-05-26 11:29:39,872 INFO sqlalchemy.engine.base.Engine SELECT sql FROM  (SELECT * FROM sqlite_master UNION ALL   SELECT * FROM sqlite_temp_master) WHERE name = 'EmployeeTerritory' AND type = 'table'\n",
      "2019-05-26 11:29:39,873 INFO sqlalchemy.engine.base.Engine ()\n"
     ]
    },
    {
     "name": "stdout",
     "output_type": "stream",
     "text": [
      "2019-05-26 11:29:39,874 INFO sqlalchemy.engine.base.Engine PRAGMA foreign_key_list(\"EmployeeTerritory\")\n",
      "2019-05-26 11:29:39,874 INFO sqlalchemy.engine.base.Engine ()\n",
      "2019-05-26 11:29:39,875 INFO sqlalchemy.engine.base.Engine SELECT sql FROM  (SELECT * FROM sqlite_master UNION ALL   SELECT * FROM sqlite_temp_master) WHERE name = 'EmployeeTerritory' AND type = 'table'\n",
      "2019-05-26 11:29:39,875 INFO sqlalchemy.engine.base.Engine ()\n",
      "2019-05-26 11:29:39,876 INFO sqlalchemy.engine.base.Engine PRAGMA index_list(\"EmployeeTerritory\")\n",
      "2019-05-26 11:29:39,877 INFO sqlalchemy.engine.base.Engine ()\n",
      "2019-05-26 11:29:39,878 INFO sqlalchemy.engine.base.Engine PRAGMA index_list(\"EmployeeTerritory\")\n",
      "2019-05-26 11:29:39,878 INFO sqlalchemy.engine.base.Engine ()\n",
      "2019-05-26 11:29:39,879 INFO sqlalchemy.engine.base.Engine PRAGMA index_info(\"sqlite_autoindex_EmployeeTerritory_1\")\n",
      "2019-05-26 11:29:39,879 INFO sqlalchemy.engine.base.Engine ()\n",
      "2019-05-26 11:29:39,880 INFO sqlalchemy.engine.base.Engine SELECT sql FROM  (SELECT * FROM sqlite_master UNION ALL   SELECT * FROM sqlite_temp_master) WHERE name = 'EmployeeTerritory' AND type = 'table'\n",
      "2019-05-26 11:29:39,881 INFO sqlalchemy.engine.base.Engine ()\n",
      "2019-05-26 11:29:39,882 INFO sqlalchemy.engine.base.Engine PRAGMA table_info(\"Order\")\n",
      "2019-05-26 11:29:39,882 INFO sqlalchemy.engine.base.Engine ()\n",
      "2019-05-26 11:29:39,884 INFO sqlalchemy.engine.base.Engine SELECT sql FROM  (SELECT * FROM sqlite_master UNION ALL   SELECT * FROM sqlite_temp_master) WHERE name = 'Order' AND type = 'table'\n",
      "2019-05-26 11:29:39,885 INFO sqlalchemy.engine.base.Engine ()\n",
      "2019-05-26 11:29:39,886 INFO sqlalchemy.engine.base.Engine PRAGMA foreign_key_list(\"Order\")\n",
      "2019-05-26 11:29:39,886 INFO sqlalchemy.engine.base.Engine ()\n",
      "2019-05-26 11:29:39,887 INFO sqlalchemy.engine.base.Engine SELECT sql FROM  (SELECT * FROM sqlite_master UNION ALL   SELECT * FROM sqlite_temp_master) WHERE name = 'Order' AND type = 'table'\n",
      "2019-05-26 11:29:39,887 INFO sqlalchemy.engine.base.Engine ()\n",
      "2019-05-26 11:29:39,888 INFO sqlalchemy.engine.base.Engine PRAGMA index_list(\"Order\")\n",
      "2019-05-26 11:29:39,888 INFO sqlalchemy.engine.base.Engine ()\n",
      "2019-05-26 11:29:39,889 INFO sqlalchemy.engine.base.Engine PRAGMA index_list(\"Order\")\n",
      "2019-05-26 11:29:39,890 INFO sqlalchemy.engine.base.Engine ()\n",
      "2019-05-26 11:29:39,890 INFO sqlalchemy.engine.base.Engine SELECT sql FROM  (SELECT * FROM sqlite_master UNION ALL   SELECT * FROM sqlite_temp_master) WHERE name = 'Order' AND type = 'table'\n",
      "2019-05-26 11:29:39,891 INFO sqlalchemy.engine.base.Engine ()\n",
      "2019-05-26 11:29:39,892 INFO sqlalchemy.engine.base.Engine PRAGMA table_info(\"OrderDetail\")\n",
      "2019-05-26 11:29:39,893 INFO sqlalchemy.engine.base.Engine ()\n",
      "2019-05-26 11:29:39,894 INFO sqlalchemy.engine.base.Engine SELECT sql FROM  (SELECT * FROM sqlite_master UNION ALL   SELECT * FROM sqlite_temp_master) WHERE name = 'OrderDetail' AND type = 'table'\n",
      "2019-05-26 11:29:39,895 INFO sqlalchemy.engine.base.Engine ()\n",
      "2019-05-26 11:29:39,896 INFO sqlalchemy.engine.base.Engine PRAGMA foreign_key_list(\"OrderDetail\")\n",
      "2019-05-26 11:29:39,896 INFO sqlalchemy.engine.base.Engine ()\n",
      "2019-05-26 11:29:39,897 INFO sqlalchemy.engine.base.Engine SELECT sql FROM  (SELECT * FROM sqlite_master UNION ALL   SELECT * FROM sqlite_temp_master) WHERE name = 'OrderDetail' AND type = 'table'\n",
      "2019-05-26 11:29:39,897 INFO sqlalchemy.engine.base.Engine ()\n",
      "2019-05-26 11:29:39,898 INFO sqlalchemy.engine.base.Engine PRAGMA index_list(\"OrderDetail\")\n",
      "2019-05-26 11:29:39,898 INFO sqlalchemy.engine.base.Engine ()\n",
      "2019-05-26 11:29:39,899 INFO sqlalchemy.engine.base.Engine PRAGMA index_list(\"OrderDetail\")\n",
      "2019-05-26 11:29:39,900 INFO sqlalchemy.engine.base.Engine ()\n",
      "2019-05-26 11:29:39,901 INFO sqlalchemy.engine.base.Engine PRAGMA index_info(\"sqlite_autoindex_OrderDetail_1\")\n",
      "2019-05-26 11:29:39,902 INFO sqlalchemy.engine.base.Engine ()\n",
      "2019-05-26 11:29:39,903 INFO sqlalchemy.engine.base.Engine SELECT sql FROM  (SELECT * FROM sqlite_master UNION ALL   SELECT * FROM sqlite_temp_master) WHERE name = 'OrderDetail' AND type = 'table'\n",
      "2019-05-26 11:29:39,904 INFO sqlalchemy.engine.base.Engine ()\n",
      "2019-05-26 11:29:39,905 INFO sqlalchemy.engine.base.Engine PRAGMA table_info(\"Product\")\n",
      "2019-05-26 11:29:39,907 INFO sqlalchemy.engine.base.Engine ()\n",
      "2019-05-26 11:29:39,909 INFO sqlalchemy.engine.base.Engine SELECT sql FROM  (SELECT * FROM sqlite_master UNION ALL   SELECT * FROM sqlite_temp_master) WHERE name = 'Product' AND type = 'table'\n",
      "2019-05-26 11:29:39,911 INFO sqlalchemy.engine.base.Engine ()\n",
      "2019-05-26 11:29:39,912 INFO sqlalchemy.engine.base.Engine PRAGMA foreign_key_list(\"Product\")\n",
      "2019-05-26 11:29:39,913 INFO sqlalchemy.engine.base.Engine ()\n",
      "2019-05-26 11:29:39,913 INFO sqlalchemy.engine.base.Engine SELECT sql FROM  (SELECT * FROM sqlite_master UNION ALL   SELECT * FROM sqlite_temp_master) WHERE name = 'Product' AND type = 'table'\n",
      "2019-05-26 11:29:39,915 INFO sqlalchemy.engine.base.Engine ()\n",
      "2019-05-26 11:29:39,916 INFO sqlalchemy.engine.base.Engine PRAGMA index_list(\"Product\")\n",
      "2019-05-26 11:29:39,916 INFO sqlalchemy.engine.base.Engine ()\n",
      "2019-05-26 11:29:39,917 INFO sqlalchemy.engine.base.Engine PRAGMA index_list(\"Product\")\n",
      "2019-05-26 11:29:39,918 INFO sqlalchemy.engine.base.Engine ()\n",
      "2019-05-26 11:29:39,918 INFO sqlalchemy.engine.base.Engine SELECT sql FROM  (SELECT * FROM sqlite_master UNION ALL   SELECT * FROM sqlite_temp_master) WHERE name = 'Product' AND type = 'table'\n",
      "2019-05-26 11:29:39,919 INFO sqlalchemy.engine.base.Engine ()\n",
      "2019-05-26 11:29:39,920 INFO sqlalchemy.engine.base.Engine PRAGMA table_info(\"Region\")\n",
      "2019-05-26 11:29:39,921 INFO sqlalchemy.engine.base.Engine ()\n",
      "2019-05-26 11:29:39,922 INFO sqlalchemy.engine.base.Engine SELECT sql FROM  (SELECT * FROM sqlite_master UNION ALL   SELECT * FROM sqlite_temp_master) WHERE name = 'Region' AND type = 'table'\n",
      "2019-05-26 11:29:39,923 INFO sqlalchemy.engine.base.Engine ()\n",
      "2019-05-26 11:29:39,924 INFO sqlalchemy.engine.base.Engine PRAGMA foreign_key_list(\"Region\")\n",
      "2019-05-26 11:29:39,924 INFO sqlalchemy.engine.base.Engine ()\n",
      "2019-05-26 11:29:39,925 INFO sqlalchemy.engine.base.Engine SELECT sql FROM  (SELECT * FROM sqlite_master UNION ALL   SELECT * FROM sqlite_temp_master) WHERE name = 'Region' AND type = 'table'\n",
      "2019-05-26 11:29:39,926 INFO sqlalchemy.engine.base.Engine ()\n",
      "2019-05-26 11:29:39,928 INFO sqlalchemy.engine.base.Engine PRAGMA index_list(\"Region\")\n",
      "2019-05-26 11:29:39,928 INFO sqlalchemy.engine.base.Engine ()\n",
      "2019-05-26 11:29:39,929 INFO sqlalchemy.engine.base.Engine PRAGMA index_list(\"Region\")\n",
      "2019-05-26 11:29:39,930 INFO sqlalchemy.engine.base.Engine ()\n",
      "2019-05-26 11:29:39,932 INFO sqlalchemy.engine.base.Engine SELECT sql FROM  (SELECT * FROM sqlite_master UNION ALL   SELECT * FROM sqlite_temp_master) WHERE name = 'Region' AND type = 'table'\n",
      "2019-05-26 11:29:39,932 INFO sqlalchemy.engine.base.Engine ()\n",
      "2019-05-26 11:29:39,933 INFO sqlalchemy.engine.base.Engine PRAGMA table_info(\"Shipper\")\n",
      "2019-05-26 11:29:39,934 INFO sqlalchemy.engine.base.Engine ()\n",
      "2019-05-26 11:29:39,935 INFO sqlalchemy.engine.base.Engine SELECT sql FROM  (SELECT * FROM sqlite_master UNION ALL   SELECT * FROM sqlite_temp_master) WHERE name = 'Shipper' AND type = 'table'\n",
      "2019-05-26 11:29:39,936 INFO sqlalchemy.engine.base.Engine ()\n",
      "2019-05-26 11:29:39,937 INFO sqlalchemy.engine.base.Engine PRAGMA foreign_key_list(\"Shipper\")\n",
      "2019-05-26 11:29:39,937 INFO sqlalchemy.engine.base.Engine ()\n",
      "2019-05-26 11:29:39,938 INFO sqlalchemy.engine.base.Engine SELECT sql FROM  (SELECT * FROM sqlite_master UNION ALL   SELECT * FROM sqlite_temp_master) WHERE name = 'Shipper' AND type = 'table'\n",
      "2019-05-26 11:29:39,939 INFO sqlalchemy.engine.base.Engine ()\n",
      "2019-05-26 11:29:39,940 INFO sqlalchemy.engine.base.Engine PRAGMA index_list(\"Shipper\")\n",
      "2019-05-26 11:29:39,940 INFO sqlalchemy.engine.base.Engine ()\n",
      "2019-05-26 11:29:39,941 INFO sqlalchemy.engine.base.Engine PRAGMA index_list(\"Shipper\")\n",
      "2019-05-26 11:29:39,941 INFO sqlalchemy.engine.base.Engine ()\n",
      "2019-05-26 11:29:39,942 INFO sqlalchemy.engine.base.Engine SELECT sql FROM  (SELECT * FROM sqlite_master UNION ALL   SELECT * FROM sqlite_temp_master) WHERE name = 'Shipper' AND type = 'table'\n",
      "2019-05-26 11:29:39,942 INFO sqlalchemy.engine.base.Engine ()\n"
     ]
    },
    {
     "name": "stdout",
     "output_type": "stream",
     "text": [
      "2019-05-26 11:29:39,944 INFO sqlalchemy.engine.base.Engine PRAGMA table_info(\"Supplier\")\n",
      "2019-05-26 11:29:39,944 INFO sqlalchemy.engine.base.Engine ()\n",
      "2019-05-26 11:29:39,946 INFO sqlalchemy.engine.base.Engine SELECT sql FROM  (SELECT * FROM sqlite_master UNION ALL   SELECT * FROM sqlite_temp_master) WHERE name = 'Supplier' AND type = 'table'\n",
      "2019-05-26 11:29:39,946 INFO sqlalchemy.engine.base.Engine ()\n",
      "2019-05-26 11:29:39,948 INFO sqlalchemy.engine.base.Engine PRAGMA foreign_key_list(\"Supplier\")\n",
      "2019-05-26 11:29:39,948 INFO sqlalchemy.engine.base.Engine ()\n",
      "2019-05-26 11:29:39,949 INFO sqlalchemy.engine.base.Engine SELECT sql FROM  (SELECT * FROM sqlite_master UNION ALL   SELECT * FROM sqlite_temp_master) WHERE name = 'Supplier' AND type = 'table'\n",
      "2019-05-26 11:29:39,949 INFO sqlalchemy.engine.base.Engine ()\n",
      "2019-05-26 11:29:39,950 INFO sqlalchemy.engine.base.Engine PRAGMA index_list(\"Supplier\")\n",
      "2019-05-26 11:29:39,950 INFO sqlalchemy.engine.base.Engine ()\n",
      "2019-05-26 11:29:39,951 INFO sqlalchemy.engine.base.Engine PRAGMA index_list(\"Supplier\")\n",
      "2019-05-26 11:29:39,951 INFO sqlalchemy.engine.base.Engine ()\n",
      "2019-05-26 11:29:39,952 INFO sqlalchemy.engine.base.Engine SELECT sql FROM  (SELECT * FROM sqlite_master UNION ALL   SELECT * FROM sqlite_temp_master) WHERE name = 'Supplier' AND type = 'table'\n",
      "2019-05-26 11:29:39,952 INFO sqlalchemy.engine.base.Engine ()\n",
      "2019-05-26 11:29:39,954 INFO sqlalchemy.engine.base.Engine PRAGMA table_info(\"Territory\")\n",
      "2019-05-26 11:29:39,954 INFO sqlalchemy.engine.base.Engine ()\n",
      "2019-05-26 11:29:39,955 INFO sqlalchemy.engine.base.Engine SELECT sql FROM  (SELECT * FROM sqlite_master UNION ALL   SELECT * FROM sqlite_temp_master) WHERE name = 'Territory' AND type = 'table'\n",
      "2019-05-26 11:29:39,956 INFO sqlalchemy.engine.base.Engine ()\n",
      "2019-05-26 11:29:39,957 INFO sqlalchemy.engine.base.Engine PRAGMA foreign_key_list(\"Territory\")\n",
      "2019-05-26 11:29:39,958 INFO sqlalchemy.engine.base.Engine ()\n",
      "2019-05-26 11:29:39,958 INFO sqlalchemy.engine.base.Engine SELECT sql FROM  (SELECT * FROM sqlite_master UNION ALL   SELECT * FROM sqlite_temp_master) WHERE name = 'Territory' AND type = 'table'\n",
      "2019-05-26 11:29:39,958 INFO sqlalchemy.engine.base.Engine ()\n",
      "2019-05-26 11:29:39,959 INFO sqlalchemy.engine.base.Engine PRAGMA index_list(\"Territory\")\n",
      "2019-05-26 11:29:39,960 INFO sqlalchemy.engine.base.Engine ()\n",
      "2019-05-26 11:29:39,961 INFO sqlalchemy.engine.base.Engine PRAGMA index_list(\"Territory\")\n",
      "2019-05-26 11:29:39,962 INFO sqlalchemy.engine.base.Engine ()\n",
      "2019-05-26 11:29:39,963 INFO sqlalchemy.engine.base.Engine PRAGMA index_info(\"sqlite_autoindex_Territory_1\")\n",
      "2019-05-26 11:29:39,964 INFO sqlalchemy.engine.base.Engine ()\n",
      "2019-05-26 11:29:39,966 INFO sqlalchemy.engine.base.Engine SELECT sql FROM  (SELECT * FROM sqlite_master UNION ALL   SELECT * FROM sqlite_temp_master) WHERE name = 'Territory' AND type = 'table'\n",
      "2019-05-26 11:29:39,967 INFO sqlalchemy.engine.base.Engine ()\n"
     ]
    }
   ],
   "source": [
    "# map the db table features with their headings\n",
    "\n",
    "metadata = MetaData()\n",
    "metadata.reflect(engine)\n",
    "Base = automap_base(metadata = metadata)\n",
    "Base.prepare()\n",
    "\n",
    "Category, Customer, CustomerCustomerDemo, CustomerDemographic, Employee, EmployeeTerritory, Order, OrderDetail,\\\n",
    "Product, Region, Shipper, Supplier, Territory = \\\n",
    "Base.classes.Category,\\\n",
    "Base.classes.Customer,\\\n",
    "Base.classes.CustomerCustomerDemo,\\\n",
    "Base.classes.CustomerDemographic, \\\n",
    "Base.classes.Employee, \\\n",
    "Base.classes.EmployeeTerritory,\\\n",
    "Base.classes.Order,\\\n",
    "Base.classes.OrderDetail, \\\n",
    "Base.classes.Product, \\\n",
    "Base.classes.Region,\\\n",
    "Base.classes.Shipper, \\\n",
    "Base.classes.Supplier, \\\n",
    "Base.classes.Territory"
   ]
  },
  {
   "cell_type": "markdown",
   "metadata": {},
   "source": [
    "##### converting each mapped table to a pandas dataframe"
   ]
  },
  {
   "cell_type": "code",
   "execution_count": 6,
   "metadata": {
    "scrolled": true
   },
   "outputs": [
    {
     "name": "stdout",
     "output_type": "stream",
     "text": [
      "2019-05-26 11:29:39,997 INFO sqlalchemy.engine.base.Engine SELECT * FROM [category]\n",
      "2019-05-26 11:29:39,999 INFO sqlalchemy.engine.base.Engine ()\n",
      "2019-05-26 11:29:40,005 INFO sqlalchemy.engine.base.Engine SELECT * FROM [customer]\n",
      "2019-05-26 11:29:40,006 INFO sqlalchemy.engine.base.Engine ()\n",
      "2019-05-26 11:29:40,013 INFO sqlalchemy.engine.base.Engine SELECT * FROM [customerCustomerDemo]\n",
      "2019-05-26 11:29:40,013 INFO sqlalchemy.engine.base.Engine ()\n",
      "2019-05-26 11:29:40,017 INFO sqlalchemy.engine.base.Engine SELECT * FROM [customerDemographic]\n",
      "2019-05-26 11:29:40,018 INFO sqlalchemy.engine.base.Engine ()\n",
      "2019-05-26 11:29:40,021 INFO sqlalchemy.engine.base.Engine SELECT * FROM [employee]\n",
      "2019-05-26 11:29:40,021 INFO sqlalchemy.engine.base.Engine ()\n",
      "2019-05-26 11:29:40,027 INFO sqlalchemy.engine.base.Engine SELECT * FROM [employeeTerritory]\n",
      "2019-05-26 11:29:40,027 INFO sqlalchemy.engine.base.Engine ()\n",
      "2019-05-26 11:29:40,031 INFO sqlalchemy.engine.base.Engine SELECT * FROM [order]\n",
      "2019-05-26 11:29:40,031 INFO sqlalchemy.engine.base.Engine ()\n",
      "2019-05-26 11:29:40,073 INFO sqlalchemy.engine.base.Engine SELECT * FROM [orderDetail]\n",
      "2019-05-26 11:29:40,074 INFO sqlalchemy.engine.base.Engine ()\n",
      "2019-05-26 11:29:40,113 INFO sqlalchemy.engine.base.Engine SELECT * FROM [product]\n",
      "2019-05-26 11:29:40,115 INFO sqlalchemy.engine.base.Engine ()\n",
      "2019-05-26 11:29:40,121 INFO sqlalchemy.engine.base.Engine SELECT * FROM [region]\n",
      "2019-05-26 11:29:40,122 INFO sqlalchemy.engine.base.Engine ()\n",
      "2019-05-26 11:29:40,125 INFO sqlalchemy.engine.base.Engine SELECT * FROM [shipper]\n",
      "2019-05-26 11:29:40,126 INFO sqlalchemy.engine.base.Engine ()\n",
      "2019-05-26 11:29:40,132 INFO sqlalchemy.engine.base.Engine SELECT * FROM [supplier]\n",
      "2019-05-26 11:29:40,133 INFO sqlalchemy.engine.base.Engine ()\n",
      "2019-05-26 11:29:40,138 INFO sqlalchemy.engine.base.Engine SELECT * FROM [territory]\n",
      "2019-05-26 11:29:40,139 INFO sqlalchemy.engine.base.Engine ()\n"
     ]
    }
   ],
   "source": [
    "# converting each mapped table to a pandas dataframe\n",
    "\n",
    "category_df= pd.read_sql_query(\"SELECT * FROM [category]\", engine)\n",
    "customer_df = pd.read_sql_query(\"SELECT * FROM [customer]\", engine)\n",
    "customerCustomerDemo_df = pd.read_sql_query(\"SELECT * FROM [customerCustomerDemo]\", engine)\n",
    "customerDemographic_df = pd.read_sql_query(\"SELECT * FROM [customerDemographic]\", engine)\n",
    "employee_df = pd.read_sql_query(\"SELECT * FROM [employee]\", engine)\n",
    "employeeTerritory_df = pd.read_sql_query(\"SELECT * FROM [employeeTerritory]\", engine)\n",
    "order_df = pd.read_sql_query(\"SELECT * FROM [order]\", engine)\n",
    "orderDetail_df = pd.read_sql_query(\"SELECT * FROM [orderDetail]\", engine)\n",
    "product_df = pd.read_sql_query(\"SELECT * FROM [product]\", engine)\n",
    "region_df = pd.read_sql_query(\"SELECT * FROM [region]\", engine)\n",
    "shipper_df = pd.read_sql_query(\"SELECT * FROM [shipper]\", engine)\n",
    "supplier_df = pd.read_sql_query(\"SELECT * FROM [supplier]\", engine)\n",
    "territory_df = pd.read_sql_query(\"SELECT * FROM [territory]\", engine)"
   ]
  },
  {
   "cell_type": "code",
   "execution_count": 7,
   "metadata": {},
   "outputs": [
    {
     "data": {
      "text/html": [
       "<div>\n",
       "<style scoped>\n",
       "    .dataframe tbody tr th:only-of-type {\n",
       "        vertical-align: middle;\n",
       "    }\n",
       "\n",
       "    .dataframe tbody tr th {\n",
       "        vertical-align: top;\n",
       "    }\n",
       "\n",
       "    .dataframe thead th {\n",
       "        text-align: right;\n",
       "    }\n",
       "</style>\n",
       "<table border=\"1\" class=\"dataframe\">\n",
       "  <thead>\n",
       "    <tr style=\"text-align: right;\">\n",
       "      <th></th>\n",
       "      <th>Id</th>\n",
       "      <th>LastName</th>\n",
       "      <th>FirstName</th>\n",
       "      <th>Title</th>\n",
       "      <th>TitleOfCourtesy</th>\n",
       "      <th>BirthDate</th>\n",
       "      <th>HireDate</th>\n",
       "      <th>Address</th>\n",
       "      <th>City</th>\n",
       "      <th>Region</th>\n",
       "      <th>PostalCode</th>\n",
       "      <th>Country</th>\n",
       "      <th>HomePhone</th>\n",
       "      <th>Extension</th>\n",
       "      <th>Photo</th>\n",
       "      <th>Notes</th>\n",
       "      <th>ReportsTo</th>\n",
       "      <th>PhotoPath</th>\n",
       "    </tr>\n",
       "  </thead>\n",
       "  <tbody>\n",
       "    <tr>\n",
       "      <th>0</th>\n",
       "      <td>1</td>\n",
       "      <td>Davolio</td>\n",
       "      <td>Nancy</td>\n",
       "      <td>Sales Representative</td>\n",
       "      <td>Ms.</td>\n",
       "      <td>1980-12-08</td>\n",
       "      <td>2024-05-01</td>\n",
       "      <td>507 - 20th Ave. E. Apt. 2A</td>\n",
       "      <td>Seattle</td>\n",
       "      <td>North America</td>\n",
       "      <td>98122</td>\n",
       "      <td>USA</td>\n",
       "      <td>(206) 555-9857</td>\n",
       "      <td>5467</td>\n",
       "      <td>None</td>\n",
       "      <td>Education includes a BA in psychology from Col...</td>\n",
       "      <td>2.0</td>\n",
       "      <td>http://accweb/emmployees/davolio.bmp</td>\n",
       "    </tr>\n",
       "    <tr>\n",
       "      <th>1</th>\n",
       "      <td>2</td>\n",
       "      <td>Fuller</td>\n",
       "      <td>Andrew</td>\n",
       "      <td>Vice President, Sales</td>\n",
       "      <td>Dr.</td>\n",
       "      <td>1984-02-19</td>\n",
       "      <td>2024-08-14</td>\n",
       "      <td>908 W. Capital Way</td>\n",
       "      <td>Tacoma</td>\n",
       "      <td>North America</td>\n",
       "      <td>98401</td>\n",
       "      <td>USA</td>\n",
       "      <td>(206) 555-9482</td>\n",
       "      <td>3457</td>\n",
       "      <td>None</td>\n",
       "      <td>Andrew received his BTS commercial in 1974 and...</td>\n",
       "      <td>NaN</td>\n",
       "      <td>http://accweb/emmployees/fuller.bmp</td>\n",
       "    </tr>\n",
       "  </tbody>\n",
       "</table>\n",
       "</div>"
      ],
      "text/plain": [
       "   Id LastName FirstName                  Title TitleOfCourtesy   BirthDate  \\\n",
       "0   1  Davolio     Nancy   Sales Representative             Ms.  1980-12-08   \n",
       "1   2   Fuller    Andrew  Vice President, Sales             Dr.  1984-02-19   \n",
       "\n",
       "     HireDate                     Address     City         Region PostalCode  \\\n",
       "0  2024-05-01  507 - 20th Ave. E. Apt. 2A  Seattle  North America      98122   \n",
       "1  2024-08-14          908 W. Capital Way   Tacoma  North America      98401   \n",
       "\n",
       "  Country       HomePhone Extension Photo  \\\n",
       "0     USA  (206) 555-9857      5467  None   \n",
       "1     USA  (206) 555-9482      3457  None   \n",
       "\n",
       "                                               Notes  ReportsTo  \\\n",
       "0  Education includes a BA in psychology from Col...        2.0   \n",
       "1  Andrew received his BTS commercial in 1974 and...        NaN   \n",
       "\n",
       "                              PhotoPath  \n",
       "0  http://accweb/emmployees/davolio.bmp  \n",
       "1   http://accweb/emmployees/fuller.bmp  "
      ]
     },
     "execution_count": 7,
     "metadata": {},
     "output_type": "execute_result"
    }
   ],
   "source": [
    "employee_df.head(2)"
   ]
  },
  {
   "cell_type": "code",
   "execution_count": 8,
   "metadata": {},
   "outputs": [
    {
     "data": {
      "text/plain": [
       "2025-10-17    2\n",
       "2026-01-02    1\n",
       "2024-04-01    1\n",
       "2024-08-14    1\n",
       "2026-11-15    1\n",
       "2025-05-03    1\n",
       "2024-05-01    1\n",
       "2026-03-05    1\n",
       "Name: HireDate, dtype: int64"
      ]
     },
     "execution_count": 8,
     "metadata": {},
     "output_type": "execute_result"
    }
   ],
   "source": [
    "employee_df.HireDate.value_counts()"
   ]
  },
  {
   "cell_type": "markdown",
   "metadata": {},
   "source": [
    "looks like we have input errors, lets fix those"
   ]
  },
  {
   "cell_type": "code",
   "execution_count": 9,
   "metadata": {},
   "outputs": [
    {
     "data": {
      "text/plain": [
       "2005-10-17    2\n",
       "2006-01-02    1\n",
       "2006-11-15    1\n",
       "2004-04-01    1\n",
       "2005-05-03    1\n",
       "2004-08-14    1\n",
       "2004-05-01    1\n",
       "2006-03-05    1\n",
       "Name: HireDate, dtype: int64"
      ]
     },
     "execution_count": 9,
     "metadata": {},
     "output_type": "execute_result"
    }
   ],
   "source": [
    "employee_df.replace({'HireDate':{'2025-10-17':'2005-10-17', '2026-01-02':'2006-01-02', '2024-04-01':'2004-04-01', '2024-08-14':'2004-08-14', '2024-05-01':'2004-05-01',\n",
    "                                 '2026-03-05':'2006-03-05', '2025-05-03':'2005-05-03', '2026-11-15':'2006-11-15'}}, inplace = True)\n",
    "employee_df.HireDate.value_counts()"
   ]
  },
  {
   "cell_type": "code",
   "execution_count": 10,
   "metadata": {},
   "outputs": [
    {
     "data": {
      "text/html": [
       "<div>\n",
       "<style scoped>\n",
       "    .dataframe tbody tr th:only-of-type {\n",
       "        vertical-align: middle;\n",
       "    }\n",
       "\n",
       "    .dataframe tbody tr th {\n",
       "        vertical-align: top;\n",
       "    }\n",
       "\n",
       "    .dataframe thead th {\n",
       "        text-align: right;\n",
       "    }\n",
       "</style>\n",
       "<table border=\"1\" class=\"dataframe\">\n",
       "  <thead>\n",
       "    <tr style=\"text-align: right;\">\n",
       "      <th></th>\n",
       "      <th>CategoryId</th>\n",
       "      <th>CategoryName</th>\n",
       "      <th>Description</th>\n",
       "      <th>ProductId</th>\n",
       "      <th>ProductName</th>\n",
       "      <th>SupplierId</th>\n",
       "      <th>QuantityPerUnit</th>\n",
       "      <th>UnitPrice_x</th>\n",
       "      <th>UnitsInStock</th>\n",
       "      <th>UnitsOnOrder</th>\n",
       "      <th>ReorderLevel</th>\n",
       "      <th>Discontinued</th>\n",
       "      <th>Id</th>\n",
       "      <th>OrderId</th>\n",
       "      <th>UnitPrice_y</th>\n",
       "      <th>Quantity</th>\n",
       "      <th>Discount</th>\n",
       "      <th>CustomerId</th>\n",
       "      <th>EmployeeId</th>\n",
       "      <th>OrderDate</th>\n",
       "      <th>RequiredDate</th>\n",
       "      <th>ShippedDate</th>\n",
       "      <th>ShipVia</th>\n",
       "      <th>Freight</th>\n",
       "      <th>ShipName</th>\n",
       "      <th>ShipAddress</th>\n",
       "      <th>ShipCity</th>\n",
       "      <th>ShipRegion</th>\n",
       "      <th>ShipPostalCode</th>\n",
       "      <th>ShipCountry</th>\n",
       "      <th>CompanyName</th>\n",
       "      <th>ContactName</th>\n",
       "      <th>ContactTitle</th>\n",
       "      <th>Address_x</th>\n",
       "      <th>City_x</th>\n",
       "      <th>Region_x</th>\n",
       "      <th>PostalCode_x</th>\n",
       "      <th>Country_x</th>\n",
       "      <th>Phone</th>\n",
       "      <th>Fax</th>\n",
       "      <th>LastName</th>\n",
       "      <th>FirstName</th>\n",
       "      <th>Title</th>\n",
       "      <th>TitleOfCourtesy</th>\n",
       "      <th>BirthDate</th>\n",
       "      <th>HireDate</th>\n",
       "      <th>Address_y</th>\n",
       "      <th>City_y</th>\n",
       "      <th>Region_y</th>\n",
       "      <th>PostalCode_y</th>\n",
       "      <th>Country_y</th>\n",
       "      <th>HomePhone</th>\n",
       "      <th>Extension</th>\n",
       "      <th>Photo</th>\n",
       "      <th>Notes</th>\n",
       "      <th>ReportsTo</th>\n",
       "      <th>PhotoPath</th>\n",
       "    </tr>\n",
       "  </thead>\n",
       "  <tbody>\n",
       "    <tr>\n",
       "      <th>0</th>\n",
       "      <td>1.0</td>\n",
       "      <td>Beverages</td>\n",
       "      <td>Soft drinks, coffees, teas, beers, and ales</td>\n",
       "      <td>1.0</td>\n",
       "      <td>Chai</td>\n",
       "      <td>1.0</td>\n",
       "      <td>10 boxes x 20 bags</td>\n",
       "      <td>18.0</td>\n",
       "      <td>39.0</td>\n",
       "      <td>0.0</td>\n",
       "      <td>10.0</td>\n",
       "      <td>0.0</td>\n",
       "      <td>10285/1</td>\n",
       "      <td>10285.0</td>\n",
       "      <td>14.4</td>\n",
       "      <td>45.0</td>\n",
       "      <td>0.2</td>\n",
       "      <td>QUICK</td>\n",
       "      <td>1.0</td>\n",
       "      <td>2012-08-20</td>\n",
       "      <td>2012-09-17</td>\n",
       "      <td>2012-08-26</td>\n",
       "      <td>2.0</td>\n",
       "      <td>76.83</td>\n",
       "      <td>QUICK-Stop</td>\n",
       "      <td>Taucherstraße 10</td>\n",
       "      <td>Cunewalde</td>\n",
       "      <td>Western Europe</td>\n",
       "      <td>01307</td>\n",
       "      <td>Germany</td>\n",
       "      <td>QUICK-Stop</td>\n",
       "      <td>Horst Kloss</td>\n",
       "      <td>Accounting Manager</td>\n",
       "      <td>Taucherstraße 10</td>\n",
       "      <td>Cunewalde</td>\n",
       "      <td>Western Europe</td>\n",
       "      <td>01307</td>\n",
       "      <td>Germany</td>\n",
       "      <td>0372-035188</td>\n",
       "      <td>None</td>\n",
       "      <td>Davolio</td>\n",
       "      <td>Nancy</td>\n",
       "      <td>Sales Representative</td>\n",
       "      <td>Ms.</td>\n",
       "      <td>1980-12-08</td>\n",
       "      <td>2004-05-01</td>\n",
       "      <td>507 - 20th Ave. E. Apt. 2A</td>\n",
       "      <td>Seattle</td>\n",
       "      <td>North America</td>\n",
       "      <td>98122</td>\n",
       "      <td>USA</td>\n",
       "      <td>(206) 555-9857</td>\n",
       "      <td>5467</td>\n",
       "      <td>None</td>\n",
       "      <td>Education includes a BA in psychology from Col...</td>\n",
       "      <td>2.0</td>\n",
       "      <td>http://accweb/emmployees/davolio.bmp</td>\n",
       "    </tr>\n",
       "  </tbody>\n",
       "</table>\n",
       "</div>"
      ],
      "text/plain": [
       "   CategoryId CategoryName                                  Description  \\\n",
       "0         1.0    Beverages  Soft drinks, coffees, teas, beers, and ales   \n",
       "\n",
       "   ProductId ProductName  SupplierId     QuantityPerUnit  UnitPrice_x  \\\n",
       "0        1.0        Chai         1.0  10 boxes x 20 bags         18.0   \n",
       "\n",
       "   UnitsInStock  UnitsOnOrder  ReorderLevel  Discontinued       Id  OrderId  \\\n",
       "0          39.0           0.0          10.0           0.0  10285/1  10285.0   \n",
       "\n",
       "   UnitPrice_y  Quantity  Discount CustomerId  EmployeeId   OrderDate  \\\n",
       "0         14.4      45.0       0.2      QUICK         1.0  2012-08-20   \n",
       "\n",
       "  RequiredDate ShippedDate  ShipVia  Freight    ShipName       ShipAddress  \\\n",
       "0   2012-09-17  2012-08-26      2.0    76.83  QUICK-Stop  Taucherstraße 10   \n",
       "\n",
       "    ShipCity      ShipRegion ShipPostalCode ShipCountry CompanyName  \\\n",
       "0  Cunewalde  Western Europe          01307     Germany  QUICK-Stop   \n",
       "\n",
       "   ContactName        ContactTitle         Address_x     City_x  \\\n",
       "0  Horst Kloss  Accounting Manager  Taucherstraße 10  Cunewalde   \n",
       "\n",
       "         Region_x PostalCode_x Country_x        Phone   Fax LastName  \\\n",
       "0  Western Europe        01307   Germany  0372-035188  None  Davolio   \n",
       "\n",
       "  FirstName                 Title TitleOfCourtesy   BirthDate    HireDate  \\\n",
       "0     Nancy  Sales Representative             Ms.  1980-12-08  2004-05-01   \n",
       "\n",
       "                    Address_y   City_y       Region_y PostalCode_y Country_y  \\\n",
       "0  507 - 20th Ave. E. Apt. 2A  Seattle  North America        98122       USA   \n",
       "\n",
       "        HomePhone Extension Photo  \\\n",
       "0  (206) 555-9857      5467  None   \n",
       "\n",
       "                                               Notes  ReportsTo  \\\n",
       "0  Education includes a BA in psychology from Col...        2.0   \n",
       "\n",
       "                              PhotoPath  \n",
       "0  http://accweb/emmployees/davolio.bmp  "
      ]
     },
     "execution_count": 10,
     "metadata": {},
     "output_type": "execute_result"
    }
   ],
   "source": [
    "category_df.rename(columns = {\"Id\":\"CategoryId\"}, inplace = True)\n",
    "\n",
    "cat_prod_df = pd.merge(category_df, product_df, how = 'outer', on = \"CategoryId\" )\n",
    "\n",
    "cat_prod_df.rename(columns = {\"Id\": \"ProductId\"}, inplace = True)\n",
    "\n",
    "cat_prod_OrDtl_df = pd.merge(cat_prod_df, orderDetail_df, how = 'outer', on = \"ProductId\")\n",
    "\n",
    "order_df.rename(columns = {\"Id\" : \"OrderId\"}, inplace = True)\n",
    "\n",
    "cat_prod_OrDtl_orders_df = pd.merge(cat_prod_OrDtl_df, order_df, how = 'outer', on = \"OrderId\" )\n",
    "\n",
    "customer_df.rename(columns ={\"Id\": \"CustomerId\"}, inplace = True)\n",
    "\n",
    "cat_prod_OrDtl_orders_cust_df = pd.merge(cat_prod_OrDtl_orders_df, customer_df, how = 'outer', on = \"CustomerId\")\n",
    "\n",
    "employee_df.rename(columns = {'Id':'EmployeeId'}, inplace = True)\n",
    "\n",
    "data = pd.merge(cat_prod_OrDtl_orders_cust_df, employee_df, how = 'outer', on = 'EmployeeId' )\n",
    "\n",
    "data.head(1)"
   ]
  },
  {
   "cell_type": "markdown",
   "metadata": {},
   "source": [
    "## <font color='lime'> Question 1 </font>\n",
    "###### Do discounted items sell in greater quantites than non-discounted items?  And if so, does the level of discount have an impact?"
   ]
  },
  {
   "cell_type": "markdown",
   "metadata": {},
   "source": [
    "##### Isolate the data we need "
   ]
  },
  {
   "cell_type": "code",
   "execution_count": 11,
   "metadata": {},
   "outputs": [
    {
     "data": {
      "text/html": [
       "<div>\n",
       "<style scoped>\n",
       "    .dataframe tbody tr th:only-of-type {\n",
       "        vertical-align: middle;\n",
       "    }\n",
       "\n",
       "    .dataframe tbody tr th {\n",
       "        vertical-align: top;\n",
       "    }\n",
       "\n",
       "    .dataframe thead th {\n",
       "        text-align: right;\n",
       "    }\n",
       "</style>\n",
       "<table border=\"1\" class=\"dataframe\">\n",
       "  <thead>\n",
       "    <tr style=\"text-align: right;\">\n",
       "      <th></th>\n",
       "      <th>Quantity</th>\n",
       "      <th>Discount</th>\n",
       "    </tr>\n",
       "  </thead>\n",
       "  <tbody>\n",
       "    <tr>\n",
       "      <th>0</th>\n",
       "      <td>12</td>\n",
       "      <td>0.0</td>\n",
       "    </tr>\n",
       "    <tr>\n",
       "      <th>1</th>\n",
       "      <td>10</td>\n",
       "      <td>0.0</td>\n",
       "    </tr>\n",
       "    <tr>\n",
       "      <th>2</th>\n",
       "      <td>5</td>\n",
       "      <td>0.0</td>\n",
       "    </tr>\n",
       "    <tr>\n",
       "      <th>3</th>\n",
       "      <td>9</td>\n",
       "      <td>0.0</td>\n",
       "    </tr>\n",
       "    <tr>\n",
       "      <th>4</th>\n",
       "      <td>40</td>\n",
       "      <td>0.0</td>\n",
       "    </tr>\n",
       "  </tbody>\n",
       "</table>\n",
       "</div>"
      ],
      "text/plain": [
       "   Quantity  Discount\n",
       "0        12       0.0\n",
       "1        10       0.0\n",
       "2         5       0.0\n",
       "3         9       0.0\n",
       "4        40       0.0"
      ]
     },
     "execution_count": 11,
     "metadata": {},
     "output_type": "execute_result"
    }
   ],
   "source": [
    "# we will need Quanity and Discount columns to answer both parts of quesiotn 1\n",
    "\n",
    "q1df = copy.deepcopy(orderDetail_df[[\"Quantity\", \"Discount\"]])\n",
    "q1df.head()"
   ]
  },
  {
   "cell_type": "code",
   "execution_count": 12,
   "metadata": {},
   "outputs": [
    {
     "data": {
      "text/plain": [
       "0.00    1317\n",
       "0.05     185\n",
       "0.10     173\n",
       "0.20     161\n",
       "0.15     157\n",
       "0.25     154\n",
       "0.03       3\n",
       "0.02       2\n",
       "0.01       1\n",
       "0.04       1\n",
       "0.06       1\n",
       "Name: Discount, dtype: int64"
      ]
     },
     "execution_count": 12,
     "metadata": {},
     "output_type": "execute_result"
    }
   ],
   "source": [
    "q1df.Discount.value_counts()"
   ]
  },
  {
   "cell_type": "code",
   "execution_count": 13,
   "metadata": {},
   "outputs": [],
   "source": [
    "# remove irrelevant discount levels based on the extremely low number of observations\n",
    "\n",
    "q1df = copy.deepcopy(q1df[q1df.Discount.isin([ 0.05, 0.10, 0.20, 0.15, 0.25, 0.00])])"
   ]
  },
  {
   "cell_type": "code",
   "execution_count": 14,
   "metadata": {},
   "outputs": [
    {
     "name": "stdout",
     "output_type": "stream",
     "text": [
      "<class 'pandas.core.frame.DataFrame'>\n",
      "Int64Index: 2147 entries, 0 to 2154\n",
      "Data columns (total 2 columns):\n",
      "Quantity    2147 non-null int64\n",
      "Discount    2147 non-null float64\n",
      "dtypes: float64(1), int64(1)\n",
      "memory usage: 50.3 KB\n"
     ]
    }
   ],
   "source": [
    "# check for null values\n",
    "\n",
    "q1df.info()"
   ]
  },
  {
   "cell_type": "markdown",
   "metadata": {},
   "source": [
    "##### Lets check for normality visually and with statistical tests "
   ]
  },
  {
   "cell_type": "code",
   "execution_count": 15,
   "metadata": {},
   "outputs": [
    {
     "name": "stdout",
     "output_type": "stream",
     "text": [
      "number observations without discount: 1317\n",
      "number observations with discount : 830\n",
      "avg. quantity sold with discount: 27.35421686746988\n",
      "avg. quantity sold without a discount: 21.715261958997722\n"
     ]
    }
   ],
   "source": [
    "# split the data between the control (no discount) and experiment group (having a discount)\n",
    "\n",
    "q1_wDis = copy.deepcopy(q1df[q1df.Discount > 0.0])\n",
    "q1_woDis = copy.deepcopy(q1df[q1df.Discount == 0.0])\n",
    "\n",
    "print(\"number observations without discount:\", len(q1_woDis))\n",
    "print(\"number observations with discount :\", len(q1_wDis))\n",
    "\n",
    "wDisAvg = q1_wDis['Quantity'].mean()\n",
    "print(\"avg. quantity sold with discount:\" , wDisAvg)\n",
    "\n",
    "wOdisAvg = q1_woDis['Quantity'].mean()\n",
    "print(\"avg. quantity sold without a discount:\" , wOdisAvg)"
   ]
  },
  {
   "cell_type": "markdown",
   "metadata": {},
   "source": [
    "##### Visual checks for normality "
   ]
  },
  {
   "cell_type": "code",
   "execution_count": 16,
   "metadata": {},
   "outputs": [
    {
     "data": {
      "image/png": "[encoded data removed]",
      "text/plain": [
       "<Figure size 432x288 with 1 Axes>"
      ]
     },
     "metadata": {
      "needs_background": "light"
     },
     "output_type": "display_data"
    },
    {
     "data": {
      "image/png": "[encoded data removed]",
      "text/plain": [
       "<Figure size 432x288 with 1 Axes>"
      ]
     },
     "metadata": {
      "needs_background": "light"
     },
     "output_type": "display_data"
    }
   ],
   "source": [
    "from statsmodels.graphics.gofplots import qqplot\n",
    "\n",
    "wo_dis = qqplot(q1_woDis.Quantity, line = 's')\n",
    "w_dis=qqplot(q1_wDis.Quantity, line = 's')"
   ]
  },
  {
   "cell_type": "markdown",
   "metadata": {},
   "source": [
    "##### The Quanitle Quantile (QQ) plots above for the experiment and control group show a large deviation from the ideal normal distribution (the straight line). "
   ]
  },
  {
   "cell_type": "code",
   "execution_count": 17,
   "metadata": {
    "scrolled": true
   },
   "outputs": [
    {
     "name": "stderr",
     "output_type": "stream",
     "text": [
      "C:\\Users\\mngav\\Anaconda3\\envs\\learn-env\\lib\\site-packages\\scipy\\stats\\stats.py:1713: FutureWarning: Using a non-tuple sequence for multidimensional indexing is deprecated; use `arr[tuple(seq)]` instead of `arr[seq]`. In the future this will be interpreted as an array index, `arr[np.array(seq)]`, which will result either in an error or a different result.\n",
      "  return np.add.reduce(sorted[indexer] * weights, axis=axis) / sumval\n"
     ]
    },
    {
     "data": {
      "text/plain": [
       "<matplotlib.axes._subplots.AxesSubplot at 0x1b495d6b7b8>"
      ]
     },
     "execution_count": 17,
     "metadata": {},
     "output_type": "execute_result"
    },
    {
     "data": {
      "image/png": "[encoded data removed]",
      "text/plain": [
       "<Figure size 432x288 with 1 Axes>"
      ]
     },
     "metadata": {
      "needs_background": "light"
     },
     "output_type": "display_data"
    }
   ],
   "source": [
    "# kde turned off so we see actual frequency instead of normalized frequency\n",
    "\n",
    "sns.distplot(q1_wDis.Quantity, kde = False, color = 'g', label = \"w discount\")\n",
    "sns.distplot(q1_woDis.Quantity, kde = False, color = 'b', label = \"wo discount\")"
   ]
  },
  {
   "cell_type": "code",
   "execution_count": 18,
   "metadata": {},
   "outputs": [
    {
     "name": "stderr",
     "output_type": "stream",
     "text": [
      "C:\\Users\\mngav\\Anaconda3\\envs\\learn-env\\lib\\site-packages\\scipy\\stats\\stats.py:1713: FutureWarning: Using a non-tuple sequence for multidimensional indexing is deprecated; use `arr[tuple(seq)]` instead of `arr[seq]`. In the future this will be interpreted as an array index, `arr[np.array(seq)]`, which will result either in an error or a different result.\n",
      "  return np.add.reduce(sorted[indexer] * weights, axis=axis) / sumval\n"
     ]
    },
    {
     "data": {
      "text/plain": [
       "<matplotlib.legend.Legend at 0x1b495e56080>"
      ]
     },
     "execution_count": 18,
     "metadata": {},
     "output_type": "execute_result"
    },
    {
     "data": {
      "image/png": "[encoded data removed]",
      "text/plain": [
       "<Figure size 720x504 with 1 Axes>"
      ]
     },
     "metadata": {},
     "output_type": "display_data"
    }
   ],
   "source": [
    "#plt.style.use(\"dark_background\")\n",
    "#sns.set_color_codes(\"bright\")\n",
    "sns.set(rc={'figure.figsize':(10,7)})\n",
    "sns.distplot(q1_wDis.Quantity, color = \"g\", label = \"with discount\", norm_hist = False) \n",
    "sns.distplot(q1_woDis.Quantity, color = \"b\", label = \"without discount\", norm_hist = False) \n",
    "\n",
    "font = {'family': 'serif',\n",
    "        'color':  'darkred',\n",
    "        'weight': 'normal',\n",
    "        'size': 17,\n",
    "        }\n",
    "\n",
    "plt.title(\"Order Quantity with and without a discount\", fontdict=font)\n",
    "plt.legend()"
   ]
  },
  {
   "cell_type": "markdown",
   "metadata": {},
   "source": [
    "###### The qq plots and historgrams look non-normal; lets conifrm with the stats normaltest method which performs a D'Aostino K**2 test that looks at skew (asymetry) and kurtosis (magnitude of observations present in a tail)"
   ]
  },
  {
   "cell_type": "code",
   "execution_count": 19,
   "metadata": {},
   "outputs": [
    {
     "name": "stdout",
     "output_type": "stream",
     "text": [
      "NormaltestResult(statistic=261.04626710761113, pvalue=2.0631145260149106e-57)\n",
      "NormaltestResult(statistic=544.5770045551502, pvalue=5.579637380545965e-119)\n"
     ]
    }
   ],
   "source": [
    "print(stats.normaltest(q1_wDis.Quantity))\n",
    "print(stats.normaltest(q1_woDis.Quantity))"
   ]
  },
  {
   "cell_type": "markdown",
   "metadata": {},
   "source": [
    "##### P-value for both sets is less than alpha of 0.05 so we reject the null that distribution is normal. <br> Now lets focus on getting our samples to fit a normal distribution<br>we will use the property of the Central Limit Theorem and sampling distribution of the mean"
   ]
  },
  {
   "cell_type": "code",
   "execution_count": 20,
   "metadata": {},
   "outputs": [],
   "source": [
    "def get_sample(data, n):\n",
    "    sample = []\n",
    "    while len(sample) != n:\n",
    "        x = np.random.choice(data)\n",
    "        sample.append(x)\n",
    "    \n",
    "    return sample\n",
    "\n",
    "def create_sample_distribution(data, dist_size=2000, n=500):\n",
    "    sample_dist = []\n",
    "    while len(sample_dist) != dist_size:\n",
    "        sample = get_sample(data, n)\n",
    "        sample_mean = sum(sample) / len(sample)\n",
    "        sample_dist.append(sample_mean)\n",
    "    \n",
    "    return sample_dist\n",
    "\n",
    "\n"
   ]
  },
  {
   "cell_type": "code",
   "execution_count": 21,
   "metadata": {},
   "outputs": [],
   "source": [
    "q1_norm_wDis = pd.Series(create_sample_distribution(q1_wDis.Quantity))\n",
    "q1_norm_woDis = pd.Series(create_sample_distribution(q1_woDis.Quantity))"
   ]
  },
  {
   "cell_type": "markdown",
   "metadata": {},
   "source": [
    "###### now lets visually inspect the distribution of sample means for the control and experiment groups"
   ]
  },
  {
   "cell_type": "code",
   "execution_count": 22,
   "metadata": {},
   "outputs": [
    {
     "name": "stderr",
     "output_type": "stream",
     "text": [
      "C:\\Users\\mngav\\Anaconda3\\envs\\learn-env\\lib\\site-packages\\scipy\\stats\\stats.py:1713: FutureWarning: Using a non-tuple sequence for multidimensional indexing is deprecated; use `arr[tuple(seq)]` instead of `arr[seq]`. In the future this will be interpreted as an array index, `arr[np.array(seq)]`, which will result either in an error or a different result.\n",
      "  return np.add.reduce(sorted[indexer] * weights, axis=axis) / sumval\n"
     ]
    },
    {
     "data": {
      "text/plain": [
       "<matplotlib.legend.Legend at 0x1b4961cc320>"
      ]
     },
     "execution_count": 22,
     "metadata": {},
     "output_type": "execute_result"
    },
    {
     "data": {
      "image/png": "[encoded data removed]",
      "text/plain": [
       "<Figure size 720x720 with 1 Axes>"
      ]
     },
     "metadata": {},
     "output_type": "display_data"
    }
   ],
   "source": [
    "plt.figure(figsize = (10,10))\n",
    "sns.distplot(q1_norm_woDis, label = \"control sample\")\n",
    "sns.distplot(q1_norm_wDis, label = \"experiment sample\")\n",
    "plt.title(\"Distribution of Quantity Ordered\", fontsize= 10)\n",
    "plt.xlabel(\"Quantity Ordered\")\n",
    "plt.legend(fontsize = 10)"
   ]
  },
  {
   "cell_type": "code",
   "execution_count": 23,
   "metadata": {},
   "outputs": [
    {
     "name": "stdout",
     "output_type": "stream",
     "text": [
      "NormaltestResult(statistic=0.3257244000593756, pvalue=0.8497082701218739)\n",
      "NormaltestResult(statistic=1.7742437095000188, pvalue=0.4118393821681303)\n"
     ]
    }
   ],
   "source": [
    "print(stats.normaltest(q1_norm_woDis))\n",
    "print(stats.normaltest(q1_norm_wDis))"
   ]
  },
  {
   "cell_type": "markdown",
   "metadata": {},
   "source": [
    "##### running a normal test on the new data we see we fail to reject the null that the distributions are normal <br> Our data now satisfies the normality assumption. "
   ]
  },
  {
   "cell_type": "markdown",
   "metadata": {},
   "source": [
    "### Question 1: \n",
    "##### Does offering a discount precipitate a meaningful difference in order quantity?<br> And if so, is there a discount level that stands out from the rest?"
   ]
  },
  {
   "cell_type": "markdown",
   "metadata": {},
   "source": [
    "question 1 part a\n",
    "<br>\n",
    "$H_O$: Offering a discount does not change the average order quantity<br>\n",
    "$H_a$: Products having a discount are ordered in greater quantities compared to those not having a discount<br>\n",
    "\n",
    "this is a one tail test"
   ]
  },
  {
   "cell_type": "code",
   "execution_count": 24,
   "metadata": {},
   "outputs": [
    {
     "name": "stdout",
     "output_type": "stream",
     "text": [
      "Ttest_indResult(statistic=201.5288770401119, pvalue=0.0)\n"
     ]
    }
   ],
   "source": [
    "# Run a T-test\n",
    "\n",
    "#print(stats.ttest_ind(q1_wDis.Quantity, q1_woDis.Quantity , equal_var = False))\n",
    "\n",
    "print(stats.ttest_ind(q1_norm_wDis, q1_norm_woDis , equal_var = False))\n"
   ]
  },
  {
   "cell_type": "code",
   "execution_count": 25,
   "metadata": {},
   "outputs": [
    {
     "data": {
      "text/plain": [
       "pandas.core.series.Series"
      ]
     },
     "metadata": {},
     "output_type": "display_data"
    },
    {
     "data": {
      "text/plain": [
       "pandas.core.series.Series"
      ]
     },
     "metadata": {},
     "output_type": "display_data"
    },
    {
     "data": {
      "text/html": [
       "<div>\n",
       "<style scoped>\n",
       "    .dataframe tbody tr th:only-of-type {\n",
       "        vertical-align: middle;\n",
       "    }\n",
       "\n",
       "    .dataframe tbody tr th {\n",
       "        vertical-align: top;\n",
       "    }\n",
       "\n",
       "    .dataframe thead th {\n",
       "        text-align: right;\n",
       "    }\n",
       "</style>\n",
       "<table border=\"1\" class=\"dataframe\">\n",
       "  <thead>\n",
       "    <tr style=\"text-align: right;\">\n",
       "      <th></th>\n",
       "      <th>Discount Level</th>\n",
       "      <th>Avg Quantity</th>\n",
       "    </tr>\n",
       "  </thead>\n",
       "  <tbody>\n",
       "    <tr>\n",
       "      <th>0</th>\n",
       "      <td>with discount</td>\n",
       "      <td>27</td>\n",
       "    </tr>\n",
       "    <tr>\n",
       "      <th>1</th>\n",
       "      <td>without discount</td>\n",
       "      <td>21</td>\n",
       "    </tr>\n",
       "  </tbody>\n",
       "</table>\n",
       "</div>"
      ],
      "text/plain": [
       "     Discount Level  Avg Quantity\n",
       "0     with discount            27\n",
       "1  without discount            21"
      ]
     },
     "execution_count": 25,
     "metadata": {},
     "output_type": "execute_result"
    }
   ],
   "source": [
    "q1_norm_wDis = pd.Series(q1_norm_wDis.mean(), name = 'with discount')\n",
    "display(type(q1_norm_wDis))\n",
    "\n",
    "q1_norm_woDis = pd.Series(q1_norm_woDis.mean(), name = 'without discount')\n",
    "display(type(q1_norm_woDis))\n",
    "\n",
    "q1plotdata = pd.DataFrame({'Discount Level': ['with discount', 'without discount'], 'Avg Quantity': [27, 21]})\n",
    "q1plotdata.head()\n",
    "\n",
    "#q1plotdata= pd.concat([q1_norm_wDis, q1_norm_woDis], axis = 1)\n",
    "#display(type(q1plotdata))\n"
   ]
  },
  {
   "cell_type": "code",
   "execution_count": 26,
   "metadata": {},
   "outputs": [
    {
     "data": {
      "image/png": "[encoded data removed]",
      "text/plain": [
       "<Figure size 720x504 with 1 Axes>"
      ]
     },
     "metadata": {},
     "output_type": "display_data"
    }
   ],
   "source": [
    "q1BarPlot = sns.barplot(x= 'Discount Level', y='Avg Quantity', data= q1plotdata)"
   ]
  },
  {
   "cell_type": "code",
   "execution_count": 27,
   "metadata": {},
   "outputs": [
    {
     "data": {
      "text/html": [
       "<div>\n",
       "<style scoped>\n",
       "    .dataframe tbody tr th:only-of-type {\n",
       "        vertical-align: middle;\n",
       "    }\n",
       "\n",
       "    .dataframe tbody tr th {\n",
       "        vertical-align: top;\n",
       "    }\n",
       "\n",
       "    .dataframe thead th {\n",
       "        text-align: right;\n",
       "    }\n",
       "</style>\n",
       "<table border=\"1\" class=\"dataframe\">\n",
       "  <thead>\n",
       "    <tr style=\"text-align: right;\">\n",
       "      <th></th>\n",
       "      <th>Discount Level</th>\n",
       "      <th>Avg Quantity</th>\n",
       "    </tr>\n",
       "  </thead>\n",
       "  <tbody>\n",
       "    <tr>\n",
       "      <th>0</th>\n",
       "      <td>with discount</td>\n",
       "      <td>27</td>\n",
       "    </tr>\n",
       "    <tr>\n",
       "      <th>1</th>\n",
       "      <td>without discount</td>\n",
       "      <td>21</td>\n",
       "    </tr>\n",
       "  </tbody>\n",
       "</table>\n",
       "</div>"
      ],
      "text/plain": [
       "     Discount Level  Avg Quantity\n",
       "0     with discount            27\n",
       "1  without discount            21"
      ]
     },
     "execution_count": 27,
     "metadata": {},
     "output_type": "execute_result"
    }
   ],
   "source": [
    "q1plotdata.head()"
   ]
  },
  {
   "cell_type": "code",
   "execution_count": 28,
   "metadata": {},
   "outputs": [
    {
     "name": "stdout",
     "output_type": "stream",
     "text": [
      "avg. quantity sold with discount: 27.339356999999996\n",
      "avg. quantity sold without a discount: 21.723425\n",
      "difference in avg. quantity sold (simple effect size): 6.0\n",
      "relative to not using a discount, discounted items increase quanties sold by 26.0 percent on avearge\n"
     ]
    }
   ],
   "source": [
    "print(\"avg. quantity sold with discount:\" , q1_norm_wDis.mean())\n",
    "print(\"avg. quantity sold without a discount:\" , q1_norm_woDis.mean())\n",
    "print(\"difference in avg. quantity sold (simple effect size):\", round(q1_norm_wDis.mean() - q1_norm_woDis.mean(),0) )\n",
    "print(\"relative to not using a discount, discounted items increase quanties sold by {} percent on avearge\" .format(round(((q1_norm_wDis.mean() - q1_norm_woDis.mean())/q1_norm_woDis.mean())*100),1))\n",
    "\n",
    "#print(\"Effect size: \", round(discount['Quantity'].mean() - no_discount['Quantity'].mean(),1))\n",
    "#print(\"Relative effect size: \", round((discount['Quantity'].mean() - no_discount['Quantity'].mean())/no_discount['Quantity'].mean(),2))"
   ]
  },
  {
   "cell_type": "markdown",
   "metadata": {},
   "source": [
    "#####  <font color='blue'> Conclusion part 1a </font>\n",
    "Our P-value and T-score tell us we can confidently reject the null hypothsis (P value is less than alpha and T score is greater than critical value of 1.96) so we now know that the sample means are different and that we can trust the results of the test to a statistically significant degree."
   ]
  },
  {
   "cell_type": "markdown",
   "metadata": {},
   "source": [
    "###### Question 1 part b\n",
    "\n",
    "for the next part of the question, we will dig a bit deeper to determine if there is a certain level of discount that precipitates an increase in order size, or not"
   ]
  },
  {
   "cell_type": "markdown",
   "metadata": {},
   "source": [
    "will separate/bin the discount levels so we can compare each experiment group to the control"
   ]
  },
  {
   "cell_type": "code",
   "execution_count": 29,
   "metadata": {},
   "outputs": [
    {
     "name": "stderr",
     "output_type": "stream",
     "text": [
      "C:\\Users\\mngav\\Anaconda3\\envs\\learn-env\\lib\\site-packages\\scipy\\stats\\stats.py:1713: FutureWarning: Using a non-tuple sequence for multidimensional indexing is deprecated; use `arr[tuple(seq)]` instead of `arr[seq]`. In the future this will be interpreted as an array index, `arr[np.array(seq)]`, which will result either in an error or a different result.\n",
      "  return np.add.reduce(sorted[indexer] * weights, axis=axis) / sumval\n"
     ]
    },
    {
     "data": {
      "text/plain": [
       "<matplotlib.legend.Legend at 0x1b497461048>"
      ]
     },
     "execution_count": 29,
     "metadata": {},
     "output_type": "execute_result"
    },
    {
     "data": {
      "image/png": "[encoded data removed]",
      "text/plain": [
       "<Figure size 720x360 with 1 Axes>"
      ]
     },
     "metadata": {},
     "output_type": "display_data"
    }
   ],
   "source": [
    "\n",
    "\n",
    "plt.figure(figsize = (10,5))\n",
    "\n",
    "sns.distplot(q1_wDis['Quantity'][q1_wDis['Discount']==0.05], label = \"0.05\")\n",
    "sns.distplot(q1_wDis['Quantity'][q1_wDis['Discount']==0.10], label = \"0.10\")\n",
    "sns.distplot(q1_wDis['Quantity'][q1_wDis['Discount']==0.15], label = \"0.15\")\n",
    "sns.distplot(q1_wDis['Quantity'][q1_wDis['Discount']==0.20], label = \"0.20\")\n",
    "sns.distplot(q1_wDis['Quantity'][q1_wDis['Discount']==0.25], label = \"0.25\")\n",
    "\n",
    "\n",
    "\n",
    "plt.title(\"Distribution of Quantity Ordered\", fontsize= 10)\n",
    "plt.xlabel(\"Quantity Ordered\")\n",
    "plt.legend(fontsize = 10)"
   ]
  },
  {
   "cell_type": "code",
   "execution_count": 30,
   "metadata": {},
   "outputs": [
    {
     "name": "stdout",
     "output_type": "stream",
     "text": [
      "NormaltestResult(statistic=63.84242740591745, pvalue=1.3702286160643066e-14)\n",
      "NormaltestResult(statistic=98.50271035413209, pvalue=4.0776337983848464e-22)\n",
      "NormaltestResult(statistic=38.52550343019272, pvalue=4.308173885400061e-09)\n",
      "NormaltestResult(statistic=31.398997154435623, pvalue=1.519827852850104e-07)\n",
      "NormaltestResult(statistic=54.44887806745976, pvalue=1.5016763972075847e-12)\n"
     ]
    }
   ],
   "source": [
    "q1a_feature_groups = [ \n",
    "                       q1_wDis['Quantity'][q1_wDis['Discount']==.05], \n",
    "                       q1_wDis['Quantity'][q1_wDis['Discount']==.10], \n",
    "                       q1_wDis['Quantity'][q1_wDis['Discount']==.15], \n",
    "                       q1_wDis['Quantity'][q1_wDis['Discount']==.20], \n",
    "                       q1_wDis['Quantity'][q1_wDis['Discount']==.25] \n",
    "                     ]\n",
    "\n",
    "\n",
    "for i in q1a_feature_groups:\n",
    "    print(stats.normaltest(i))"
   ]
  },
  {
   "cell_type": "markdown",
   "metadata": {},
   "source": [
    "groups of the different discount levels are not Gaussian"
   ]
  },
  {
   "cell_type": "code",
   "execution_count": 31,
   "metadata": {},
   "outputs": [],
   "source": [
    "\n",
    "df_05 = q1df[q1df.Discount == 0.05]\n",
    "df_10 = q1df[q1df.Discount == 0.10]\n",
    "df_15 = q1df[q1df.Discount == 0.15]\n",
    "df_20 = q1df[q1df.Discount == 0.20]\n",
    "df_25 = q1df[q1df.Discount == 0.25]\n",
    "\n",
    "\n",
    "norm_05 = create_sample_distribution(df_05.Quantity, dist_size=1000, n=1000)\n",
    "norm_10 = create_sample_distribution(df_10.Quantity, dist_size=1000, n=1000)\n",
    "norm_15 = create_sample_distribution(df_15.Quantity, dist_size=1000, n=1000)\n",
    "norm_20 = create_sample_distribution(df_20.Quantity, dist_size=1000, n=1000)\n",
    "norm_25 = create_sample_distribution(df_25.Quantity, dist_size=1000, n=1000)"
   ]
  },
  {
   "cell_type": "code",
   "execution_count": 32,
   "metadata": {},
   "outputs": [
    {
     "name": "stderr",
     "output_type": "stream",
     "text": [
      "C:\\Users\\mngav\\Anaconda3\\envs\\learn-env\\lib\\site-packages\\scipy\\stats\\stats.py:1713: FutureWarning: Using a non-tuple sequence for multidimensional indexing is deprecated; use `arr[tuple(seq)]` instead of `arr[seq]`. In the future this will be interpreted as an array index, `arr[np.array(seq)]`, which will result either in an error or a different result.\n",
      "  return np.add.reduce(sorted[indexer] * weights, axis=axis) / sumval\n"
     ]
    },
    {
     "data": {
      "text/plain": [
       "<matplotlib.legend.Legend at 0x1b4973f90b8>"
      ]
     },
     "execution_count": 32,
     "metadata": {},
     "output_type": "execute_result"
    },
    {
     "data": {
      "image/png": "[encoded data removed]",
      "text/plain": [
       "<Figure size 720x360 with 1 Axes>"
      ]
     },
     "metadata": {},
     "output_type": "display_data"
    }
   ],
   "source": [
    "plt.figure(figsize = (10,5))\n",
    "\n",
    "\n",
    "sns.distplot(norm_05, label = \"05\")\n",
    "sns.distplot(norm_10, label = \"10\")\n",
    "sns.distplot(norm_15, label = \"15\")\n",
    "sns.distplot(norm_20, label = \"20\")\n",
    "sns.distplot(norm_25, label = \"25\")\n",
    "\n",
    "plt.title(\"Distribution of Quantity Ordered\", fontsize= 10)\n",
    "plt.xlabel(\"Quantity Ordered\")\n",
    "plt.legend(fontsize = 10)"
   ]
  },
  {
   "cell_type": "code",
   "execution_count": 33,
   "metadata": {},
   "outputs": [
    {
     "name": "stdout",
     "output_type": "stream",
     "text": [
      "NormaltestResult(statistic=4.254350984581963, pvalue=0.1191734251843169)\n",
      "NormaltestResult(statistic=1.351235468862213, pvalue=0.5088419942817033)\n",
      "NormaltestResult(statistic=1.5230663696496998, pvalue=0.46694995732150035)\n",
      "NormaltestResult(statistic=4.7666900849363545, pvalue=0.09224150910976804)\n",
      "NormaltestResult(statistic=10.199761599244558, pvalue=0.006097473343324349)\n"
     ]
    }
   ],
   "source": [
    "norm_levels = [norm_05, norm_10, norm_15, norm_20, norm_25]\n",
    "\n",
    "for level in norm_levels:\n",
    "    print(stats.normaltest(level))"
   ]
  },
  {
   "cell_type": "code",
   "execution_count": 34,
   "metadata": {},
   "outputs": [
    {
     "data": {
      "text/html": [
       "<div>\n",
       "<style scoped>\n",
       "    .dataframe tbody tr th:only-of-type {\n",
       "        vertical-align: middle;\n",
       "    }\n",
       "\n",
       "    .dataframe tbody tr th {\n",
       "        vertical-align: top;\n",
       "    }\n",
       "\n",
       "    .dataframe thead th {\n",
       "        text-align: right;\n",
       "    }\n",
       "</style>\n",
       "<table border=\"1\" class=\"dataframe\">\n",
       "  <thead>\n",
       "    <tr style=\"text-align: right;\">\n",
       "      <th></th>\n",
       "      <th>Discount</th>\n",
       "      <th>Quantity</th>\n",
       "    </tr>\n",
       "  </thead>\n",
       "  <tbody>\n",
       "    <tr>\n",
       "      <th>0</th>\n",
       "      <td>norm_05</td>\n",
       "      <td>27.317</td>\n",
       "    </tr>\n",
       "    <tr>\n",
       "      <th>1</th>\n",
       "      <td>norm_05</td>\n",
       "      <td>28.560</td>\n",
       "    </tr>\n",
       "    <tr>\n",
       "      <th>2</th>\n",
       "      <td>norm_05</td>\n",
       "      <td>29.255</td>\n",
       "    </tr>\n",
       "    <tr>\n",
       "      <th>3</th>\n",
       "      <td>norm_05</td>\n",
       "      <td>27.767</td>\n",
       "    </tr>\n",
       "    <tr>\n",
       "      <th>4</th>\n",
       "      <td>norm_05</td>\n",
       "      <td>27.775</td>\n",
       "    </tr>\n",
       "  </tbody>\n",
       "</table>\n",
       "</div>"
      ],
      "text/plain": [
       "  Discount  Quantity\n",
       "0  norm_05    27.317\n",
       "1  norm_05    28.560\n",
       "2  norm_05    29.255\n",
       "3  norm_05    27.767\n",
       "4  norm_05    27.775"
      ]
     },
     "execution_count": 34,
     "metadata": {},
     "output_type": "execute_result"
    }
   ],
   "source": [
    "# converting the lists of resampled quantities into series\n",
    "\n",
    "\n",
    "norm_05=pd.Series( norm_05, name= 'norm_05')\n",
    "norm_10=pd.Series( norm_10, name= 'norm_10')\n",
    "norm_15=pd.Series( norm_15, name= 'norm_15')\n",
    "norm_20=pd.Series( norm_20, name= 'norm_20')\n",
    "norm_25=pd.Series(norm_25, name= 'norm_25')\n",
    "\n",
    "# combining the series into a dataFrame\n",
    "norm_dis_df = pd.DataFrame(pd.concat([norm_05, norm_10, norm_15, norm_20, norm_25], axis = 1))\n",
    "\n",
    "# using .melt() to change the datas structure into one that will allow me to compute ANOVA\n",
    "norm_discount_melted_df = copy.deepcopy(pd.melt(norm_dis_df))\n",
    "\n",
    "# renaming column names to be intuitive\n",
    "norm_discount_melted_df.rename(columns = {'variable': 'Discount', 'value': 'Quantity'}, inplace=True)\n",
    "\n",
    "#norm_discount_melted_df.replace({'Discount':{'norm_05':0.05, 'norm_10':0.10, 'norm_15':0.15, 'norm_20':0.20, 'norm_25':0.25}}, inplace = True)\n",
    "norm_discount_melted_df.head()"
   ]
  },
  {
   "cell_type": "markdown",
   "metadata": {},
   "source": [
    "ANOVA Table"
   ]
  },
  {
   "cell_type": "code",
   "execution_count": 35,
   "metadata": {},
   "outputs": [
    {
     "name": "stdout",
     "output_type": "stream",
     "text": [
      "                    sum_sq     df         F    PR(>F)\n",
      "C(Discount)    1159.517551    4.0  0.674103  0.610041\n",
      "Residual     354768.342690  825.0       NaN       NaN\n"
     ]
    }
   ],
   "source": [
    "formula = \"Quantity ~ C(Discount)\"\n",
    "           \n",
    "lm = ols(formula, q1_wDis).fit()\n",
    "table = sm.stats.anova_lm(lm, typ=2)\n",
    "print(table)\n"
   ]
  },
  {
   "cell_type": "markdown",
   "metadata": {},
   "source": [
    "###### The ANOVA F statistic is not in the rejection region, being less than the critical value of 2.57, however, the P-value is insignificant, so we fail to reject the null that the magnitude of impact between the varying discount levels on quantities sold are equal.  "
   ]
  },
  {
   "cell_type": "markdown",
   "metadata": {},
   "source": [
    "##### <font color='blue'> Conclusion part 1b </font>\n",
    "\n",
    "**Restate the question and hypotheses:**<br>\n",
    "is there a difference in magnitude of impact on order quantities between the varying discount levels?<br>\n",
    "𝐻𝑂: All discount groups have an equal impact on order quantities<br>\n",
    "𝐻𝑎: Varying discount levels produce different results on order quantities<br>\n",
    "\n",
    "There is no significant difference in order quantities between the different disscount levels.\n",
    "The implication of this conclusion is that Northwind can achieve the same results with a 5% discount as a 25% discount, so, they should use the less expensive discount to buy demand."
   ]
  },
  {
   "cell_type": "markdown",
   "metadata": {},
   "source": [
    "<a id='link_to_question_#2'></a>\n",
    "\n",
    "\n",
    "## <font color ='lime'> Question 2 </font>\n",
    "###### Are order quantities equivalent by day of the week?"
   ]
  },
  {
   "cell_type": "markdown",
   "metadata": {},
   "source": [
    "$H_O$: Order quantities are uniform between days of the week <br>\n",
    "$H_a$: Order quantities vary with significance between days of the week<br>\n",
    "\n",
    "this is a two tailed test"
   ]
  },
  {
   "cell_type": "code",
   "execution_count": 36,
   "metadata": {},
   "outputs": [
    {
     "data": {
      "text/html": [
       "<div>\n",
       "<style scoped>\n",
       "    .dataframe tbody tr th:only-of-type {\n",
       "        vertical-align: middle;\n",
       "    }\n",
       "\n",
       "    .dataframe tbody tr th {\n",
       "        vertical-align: top;\n",
       "    }\n",
       "\n",
       "    .dataframe thead th {\n",
       "        text-align: right;\n",
       "    }\n",
       "</style>\n",
       "<table border=\"1\" class=\"dataframe\">\n",
       "  <thead>\n",
       "    <tr style=\"text-align: right;\">\n",
       "      <th></th>\n",
       "      <th>CategoryId</th>\n",
       "      <th>CategoryName</th>\n",
       "      <th>Description</th>\n",
       "      <th>ProductId</th>\n",
       "      <th>ProductName</th>\n",
       "      <th>SupplierId</th>\n",
       "      <th>QuantityPerUnit</th>\n",
       "      <th>UnitPrice_x</th>\n",
       "      <th>UnitsInStock</th>\n",
       "      <th>UnitsOnOrder</th>\n",
       "      <th>ReorderLevel</th>\n",
       "      <th>Discontinued</th>\n",
       "      <th>Id</th>\n",
       "      <th>OrderId</th>\n",
       "      <th>UnitPrice_y</th>\n",
       "      <th>Quantity</th>\n",
       "      <th>Discount</th>\n",
       "      <th>CustomerId</th>\n",
       "      <th>EmployeeId</th>\n",
       "      <th>OrderDate</th>\n",
       "      <th>RequiredDate</th>\n",
       "      <th>ShippedDate</th>\n",
       "      <th>ShipVia</th>\n",
       "      <th>Freight</th>\n",
       "      <th>ShipName</th>\n",
       "      <th>ShipAddress</th>\n",
       "      <th>ShipCity</th>\n",
       "      <th>ShipRegion</th>\n",
       "      <th>ShipPostalCode</th>\n",
       "      <th>ShipCountry</th>\n",
       "      <th>CompanyName</th>\n",
       "      <th>ContactName</th>\n",
       "      <th>ContactTitle</th>\n",
       "      <th>Address_x</th>\n",
       "      <th>City_x</th>\n",
       "      <th>Region_x</th>\n",
       "      <th>PostalCode_x</th>\n",
       "      <th>Country_x</th>\n",
       "      <th>Phone</th>\n",
       "      <th>Fax</th>\n",
       "      <th>LastName</th>\n",
       "      <th>FirstName</th>\n",
       "      <th>Title</th>\n",
       "      <th>TitleOfCourtesy</th>\n",
       "      <th>BirthDate</th>\n",
       "      <th>HireDate</th>\n",
       "      <th>Address_y</th>\n",
       "      <th>City_y</th>\n",
       "      <th>Region_y</th>\n",
       "      <th>PostalCode_y</th>\n",
       "      <th>Country_y</th>\n",
       "      <th>HomePhone</th>\n",
       "      <th>Extension</th>\n",
       "      <th>Photo</th>\n",
       "      <th>Notes</th>\n",
       "      <th>ReportsTo</th>\n",
       "      <th>PhotoPath</th>\n",
       "    </tr>\n",
       "  </thead>\n",
       "  <tbody>\n",
       "    <tr>\n",
       "      <th>0</th>\n",
       "      <td>1.0</td>\n",
       "      <td>Beverages</td>\n",
       "      <td>Soft drinks, coffees, teas, beers, and ales</td>\n",
       "      <td>1.0</td>\n",
       "      <td>Chai</td>\n",
       "      <td>1.0</td>\n",
       "      <td>10 boxes x 20 bags</td>\n",
       "      <td>18.0</td>\n",
       "      <td>39.0</td>\n",
       "      <td>0.0</td>\n",
       "      <td>10.0</td>\n",
       "      <td>0.0</td>\n",
       "      <td>10285/1</td>\n",
       "      <td>10285.0</td>\n",
       "      <td>14.4</td>\n",
       "      <td>45.0</td>\n",
       "      <td>0.2</td>\n",
       "      <td>QUICK</td>\n",
       "      <td>1.0</td>\n",
       "      <td>2012-08-20</td>\n",
       "      <td>2012-09-17</td>\n",
       "      <td>2012-08-26</td>\n",
       "      <td>2.0</td>\n",
       "      <td>76.83</td>\n",
       "      <td>QUICK-Stop</td>\n",
       "      <td>Taucherstraße 10</td>\n",
       "      <td>Cunewalde</td>\n",
       "      <td>Western Europe</td>\n",
       "      <td>01307</td>\n",
       "      <td>Germany</td>\n",
       "      <td>QUICK-Stop</td>\n",
       "      <td>Horst Kloss</td>\n",
       "      <td>Accounting Manager</td>\n",
       "      <td>Taucherstraße 10</td>\n",
       "      <td>Cunewalde</td>\n",
       "      <td>Western Europe</td>\n",
       "      <td>01307</td>\n",
       "      <td>Germany</td>\n",
       "      <td>0372-035188</td>\n",
       "      <td>None</td>\n",
       "      <td>Davolio</td>\n",
       "      <td>Nancy</td>\n",
       "      <td>Sales Representative</td>\n",
       "      <td>Ms.</td>\n",
       "      <td>1980-12-08</td>\n",
       "      <td>2004-05-01</td>\n",
       "      <td>507 - 20th Ave. E. Apt. 2A</td>\n",
       "      <td>Seattle</td>\n",
       "      <td>North America</td>\n",
       "      <td>98122</td>\n",
       "      <td>USA</td>\n",
       "      <td>(206) 555-9857</td>\n",
       "      <td>5467</td>\n",
       "      <td>None</td>\n",
       "      <td>Education includes a BA in psychology from Col...</td>\n",
       "      <td>2.0</td>\n",
       "      <td>http://accweb/emmployees/davolio.bmp</td>\n",
       "    </tr>\n",
       "    <tr>\n",
       "      <th>1</th>\n",
       "      <td>6.0</td>\n",
       "      <td>Meat/Poultry</td>\n",
       "      <td>Prepared meats</td>\n",
       "      <td>53.0</td>\n",
       "      <td>Perth Pasties</td>\n",
       "      <td>24.0</td>\n",
       "      <td>48 pieces</td>\n",
       "      <td>32.8</td>\n",
       "      <td>0.0</td>\n",
       "      <td>0.0</td>\n",
       "      <td>0.0</td>\n",
       "      <td>1.0</td>\n",
       "      <td>10285/53</td>\n",
       "      <td>10285.0</td>\n",
       "      <td>26.2</td>\n",
       "      <td>36.0</td>\n",
       "      <td>0.2</td>\n",
       "      <td>QUICK</td>\n",
       "      <td>1.0</td>\n",
       "      <td>2012-08-20</td>\n",
       "      <td>2012-09-17</td>\n",
       "      <td>2012-08-26</td>\n",
       "      <td>2.0</td>\n",
       "      <td>76.83</td>\n",
       "      <td>QUICK-Stop</td>\n",
       "      <td>Taucherstraße 10</td>\n",
       "      <td>Cunewalde</td>\n",
       "      <td>Western Europe</td>\n",
       "      <td>01307</td>\n",
       "      <td>Germany</td>\n",
       "      <td>QUICK-Stop</td>\n",
       "      <td>Horst Kloss</td>\n",
       "      <td>Accounting Manager</td>\n",
       "      <td>Taucherstraße 10</td>\n",
       "      <td>Cunewalde</td>\n",
       "      <td>Western Europe</td>\n",
       "      <td>01307</td>\n",
       "      <td>Germany</td>\n",
       "      <td>0372-035188</td>\n",
       "      <td>None</td>\n",
       "      <td>Davolio</td>\n",
       "      <td>Nancy</td>\n",
       "      <td>Sales Representative</td>\n",
       "      <td>Ms.</td>\n",
       "      <td>1980-12-08</td>\n",
       "      <td>2004-05-01</td>\n",
       "      <td>507 - 20th Ave. E. Apt. 2A</td>\n",
       "      <td>Seattle</td>\n",
       "      <td>North America</td>\n",
       "      <td>98122</td>\n",
       "      <td>USA</td>\n",
       "      <td>(206) 555-9857</td>\n",
       "      <td>5467</td>\n",
       "      <td>None</td>\n",
       "      <td>Education includes a BA in psychology from Col...</td>\n",
       "      <td>2.0</td>\n",
       "      <td>http://accweb/emmployees/davolio.bmp</td>\n",
       "    </tr>\n",
       "    <tr>\n",
       "      <th>2</th>\n",
       "      <td>8.0</td>\n",
       "      <td>Seafood</td>\n",
       "      <td>Seaweed and fish</td>\n",
       "      <td>40.0</td>\n",
       "      <td>Boston Crab Meat</td>\n",
       "      <td>19.0</td>\n",
       "      <td>24 - 4 oz tins</td>\n",
       "      <td>18.4</td>\n",
       "      <td>123.0</td>\n",
       "      <td>0.0</td>\n",
       "      <td>30.0</td>\n",
       "      <td>0.0</td>\n",
       "      <td>10285/40</td>\n",
       "      <td>10285.0</td>\n",
       "      <td>14.7</td>\n",
       "      <td>40.0</td>\n",
       "      <td>0.2</td>\n",
       "      <td>QUICK</td>\n",
       "      <td>1.0</td>\n",
       "      <td>2012-08-20</td>\n",
       "      <td>2012-09-17</td>\n",
       "      <td>2012-08-26</td>\n",
       "      <td>2.0</td>\n",
       "      <td>76.83</td>\n",
       "      <td>QUICK-Stop</td>\n",
       "      <td>Taucherstraße 10</td>\n",
       "      <td>Cunewalde</td>\n",
       "      <td>Western Europe</td>\n",
       "      <td>01307</td>\n",
       "      <td>Germany</td>\n",
       "      <td>QUICK-Stop</td>\n",
       "      <td>Horst Kloss</td>\n",
       "      <td>Accounting Manager</td>\n",
       "      <td>Taucherstraße 10</td>\n",
       "      <td>Cunewalde</td>\n",
       "      <td>Western Europe</td>\n",
       "      <td>01307</td>\n",
       "      <td>Germany</td>\n",
       "      <td>0372-035188</td>\n",
       "      <td>None</td>\n",
       "      <td>Davolio</td>\n",
       "      <td>Nancy</td>\n",
       "      <td>Sales Representative</td>\n",
       "      <td>Ms.</td>\n",
       "      <td>1980-12-08</td>\n",
       "      <td>2004-05-01</td>\n",
       "      <td>507 - 20th Ave. E. Apt. 2A</td>\n",
       "      <td>Seattle</td>\n",
       "      <td>North America</td>\n",
       "      <td>98122</td>\n",
       "      <td>USA</td>\n",
       "      <td>(206) 555-9857</td>\n",
       "      <td>5467</td>\n",
       "      <td>None</td>\n",
       "      <td>Education includes a BA in psychology from Col...</td>\n",
       "      <td>2.0</td>\n",
       "      <td>http://accweb/emmployees/davolio.bmp</td>\n",
       "    </tr>\n",
       "    <tr>\n",
       "      <th>3</th>\n",
       "      <td>1.0</td>\n",
       "      <td>Beverages</td>\n",
       "      <td>Soft drinks, coffees, teas, beers, and ales</td>\n",
       "      <td>2.0</td>\n",
       "      <td>Chang</td>\n",
       "      <td>1.0</td>\n",
       "      <td>24 - 12 oz bottles</td>\n",
       "      <td>19.0</td>\n",
       "      <td>17.0</td>\n",
       "      <td>40.0</td>\n",
       "      <td>25.0</td>\n",
       "      <td>0.0</td>\n",
       "      <td>10991/2</td>\n",
       "      <td>10991.0</td>\n",
       "      <td>19.0</td>\n",
       "      <td>50.0</td>\n",
       "      <td>0.2</td>\n",
       "      <td>QUICK</td>\n",
       "      <td>1.0</td>\n",
       "      <td>2014-04-01</td>\n",
       "      <td>2014-04-29</td>\n",
       "      <td>2014-04-07</td>\n",
       "      <td>1.0</td>\n",
       "      <td>38.51</td>\n",
       "      <td>QUICK-Stop</td>\n",
       "      <td>Taucherstraße 10</td>\n",
       "      <td>Cunewalde</td>\n",
       "      <td>Western Europe</td>\n",
       "      <td>01307</td>\n",
       "      <td>Germany</td>\n",
       "      <td>QUICK-Stop</td>\n",
       "      <td>Horst Kloss</td>\n",
       "      <td>Accounting Manager</td>\n",
       "      <td>Taucherstraße 10</td>\n",
       "      <td>Cunewalde</td>\n",
       "      <td>Western Europe</td>\n",
       "      <td>01307</td>\n",
       "      <td>Germany</td>\n",
       "      <td>0372-035188</td>\n",
       "      <td>None</td>\n",
       "      <td>Davolio</td>\n",
       "      <td>Nancy</td>\n",
       "      <td>Sales Representative</td>\n",
       "      <td>Ms.</td>\n",
       "      <td>1980-12-08</td>\n",
       "      <td>2004-05-01</td>\n",
       "      <td>507 - 20th Ave. E. Apt. 2A</td>\n",
       "      <td>Seattle</td>\n",
       "      <td>North America</td>\n",
       "      <td>98122</td>\n",
       "      <td>USA</td>\n",
       "      <td>(206) 555-9857</td>\n",
       "      <td>5467</td>\n",
       "      <td>None</td>\n",
       "      <td>Education includes a BA in psychology from Col...</td>\n",
       "      <td>2.0</td>\n",
       "      <td>http://accweb/emmployees/davolio.bmp</td>\n",
       "    </tr>\n",
       "    <tr>\n",
       "      <th>4</th>\n",
       "      <td>1.0</td>\n",
       "      <td>Beverages</td>\n",
       "      <td>Soft drinks, coffees, teas, beers, and ales</td>\n",
       "      <td>70.0</td>\n",
       "      <td>Outback Lager</td>\n",
       "      <td>7.0</td>\n",
       "      <td>24 - 355 ml bottles</td>\n",
       "      <td>15.0</td>\n",
       "      <td>15.0</td>\n",
       "      <td>10.0</td>\n",
       "      <td>30.0</td>\n",
       "      <td>0.0</td>\n",
       "      <td>10991/70</td>\n",
       "      <td>10991.0</td>\n",
       "      <td>15.0</td>\n",
       "      <td>20.0</td>\n",
       "      <td>0.2</td>\n",
       "      <td>QUICK</td>\n",
       "      <td>1.0</td>\n",
       "      <td>2014-04-01</td>\n",
       "      <td>2014-04-29</td>\n",
       "      <td>2014-04-07</td>\n",
       "      <td>1.0</td>\n",
       "      <td>38.51</td>\n",
       "      <td>QUICK-Stop</td>\n",
       "      <td>Taucherstraße 10</td>\n",
       "      <td>Cunewalde</td>\n",
       "      <td>Western Europe</td>\n",
       "      <td>01307</td>\n",
       "      <td>Germany</td>\n",
       "      <td>QUICK-Stop</td>\n",
       "      <td>Horst Kloss</td>\n",
       "      <td>Accounting Manager</td>\n",
       "      <td>Taucherstraße 10</td>\n",
       "      <td>Cunewalde</td>\n",
       "      <td>Western Europe</td>\n",
       "      <td>01307</td>\n",
       "      <td>Germany</td>\n",
       "      <td>0372-035188</td>\n",
       "      <td>None</td>\n",
       "      <td>Davolio</td>\n",
       "      <td>Nancy</td>\n",
       "      <td>Sales Representative</td>\n",
       "      <td>Ms.</td>\n",
       "      <td>1980-12-08</td>\n",
       "      <td>2004-05-01</td>\n",
       "      <td>507 - 20th Ave. E. Apt. 2A</td>\n",
       "      <td>Seattle</td>\n",
       "      <td>North America</td>\n",
       "      <td>98122</td>\n",
       "      <td>USA</td>\n",
       "      <td>(206) 555-9857</td>\n",
       "      <td>5467</td>\n",
       "      <td>None</td>\n",
       "      <td>Education includes a BA in psychology from Col...</td>\n",
       "      <td>2.0</td>\n",
       "      <td>http://accweb/emmployees/davolio.bmp</td>\n",
       "    </tr>\n",
       "  </tbody>\n",
       "</table>\n",
       "</div>"
      ],
      "text/plain": [
       "   CategoryId  CategoryName                                  Description  \\\n",
       "0         1.0     Beverages  Soft drinks, coffees, teas, beers, and ales   \n",
       "1         6.0  Meat/Poultry                               Prepared meats   \n",
       "2         8.0       Seafood                             Seaweed and fish   \n",
       "3         1.0     Beverages  Soft drinks, coffees, teas, beers, and ales   \n",
       "4         1.0     Beverages  Soft drinks, coffees, teas, beers, and ales   \n",
       "\n",
       "   ProductId       ProductName  SupplierId      QuantityPerUnit  UnitPrice_x  \\\n",
       "0        1.0              Chai         1.0   10 boxes x 20 bags         18.0   \n",
       "1       53.0     Perth Pasties        24.0            48 pieces         32.8   \n",
       "2       40.0  Boston Crab Meat        19.0       24 - 4 oz tins         18.4   \n",
       "3        2.0             Chang         1.0   24 - 12 oz bottles         19.0   \n",
       "4       70.0     Outback Lager         7.0  24 - 355 ml bottles         15.0   \n",
       "\n",
       "   UnitsInStock  UnitsOnOrder  ReorderLevel  Discontinued        Id  OrderId  \\\n",
       "0          39.0           0.0          10.0           0.0   10285/1  10285.0   \n",
       "1           0.0           0.0           0.0           1.0  10285/53  10285.0   \n",
       "2         123.0           0.0          30.0           0.0  10285/40  10285.0   \n",
       "3          17.0          40.0          25.0           0.0   10991/2  10991.0   \n",
       "4          15.0          10.0          30.0           0.0  10991/70  10991.0   \n",
       "\n",
       "   UnitPrice_y  Quantity  Discount CustomerId  EmployeeId   OrderDate  \\\n",
       "0         14.4      45.0       0.2      QUICK         1.0  2012-08-20   \n",
       "1         26.2      36.0       0.2      QUICK         1.0  2012-08-20   \n",
       "2         14.7      40.0       0.2      QUICK         1.0  2012-08-20   \n",
       "3         19.0      50.0       0.2      QUICK         1.0  2014-04-01   \n",
       "4         15.0      20.0       0.2      QUICK         1.0  2014-04-01   \n",
       "\n",
       "  RequiredDate ShippedDate  ShipVia  Freight    ShipName       ShipAddress  \\\n",
       "0   2012-09-17  2012-08-26      2.0    76.83  QUICK-Stop  Taucherstraße 10   \n",
       "1   2012-09-17  2012-08-26      2.0    76.83  QUICK-Stop  Taucherstraße 10   \n",
       "2   2012-09-17  2012-08-26      2.0    76.83  QUICK-Stop  Taucherstraße 10   \n",
       "3   2014-04-29  2014-04-07      1.0    38.51  QUICK-Stop  Taucherstraße 10   \n",
       "4   2014-04-29  2014-04-07      1.0    38.51  QUICK-Stop  Taucherstraße 10   \n",
       "\n",
       "    ShipCity      ShipRegion ShipPostalCode ShipCountry CompanyName  \\\n",
       "0  Cunewalde  Western Europe          01307     Germany  QUICK-Stop   \n",
       "1  Cunewalde  Western Europe          01307     Germany  QUICK-Stop   \n",
       "2  Cunewalde  Western Europe          01307     Germany  QUICK-Stop   \n",
       "3  Cunewalde  Western Europe          01307     Germany  QUICK-Stop   \n",
       "4  Cunewalde  Western Europe          01307     Germany  QUICK-Stop   \n",
       "\n",
       "   ContactName        ContactTitle         Address_x     City_x  \\\n",
       "0  Horst Kloss  Accounting Manager  Taucherstraße 10  Cunewalde   \n",
       "1  Horst Kloss  Accounting Manager  Taucherstraße 10  Cunewalde   \n",
       "2  Horst Kloss  Accounting Manager  Taucherstraße 10  Cunewalde   \n",
       "3  Horst Kloss  Accounting Manager  Taucherstraße 10  Cunewalde   \n",
       "4  Horst Kloss  Accounting Manager  Taucherstraße 10  Cunewalde   \n",
       "\n",
       "         Region_x PostalCode_x Country_x        Phone   Fax LastName  \\\n",
       "0  Western Europe        01307   Germany  0372-035188  None  Davolio   \n",
       "1  Western Europe        01307   Germany  0372-035188  None  Davolio   \n",
       "2  Western Europe        01307   Germany  0372-035188  None  Davolio   \n",
       "3  Western Europe        01307   Germany  0372-035188  None  Davolio   \n",
       "4  Western Europe        01307   Germany  0372-035188  None  Davolio   \n",
       "\n",
       "  FirstName                 Title TitleOfCourtesy   BirthDate    HireDate  \\\n",
       "0     Nancy  Sales Representative             Ms.  1980-12-08  2004-05-01   \n",
       "1     Nancy  Sales Representative             Ms.  1980-12-08  2004-05-01   \n",
       "2     Nancy  Sales Representative             Ms.  1980-12-08  2004-05-01   \n",
       "3     Nancy  Sales Representative             Ms.  1980-12-08  2004-05-01   \n",
       "4     Nancy  Sales Representative             Ms.  1980-12-08  2004-05-01   \n",
       "\n",
       "                    Address_y   City_y       Region_y PostalCode_y Country_y  \\\n",
       "0  507 - 20th Ave. E. Apt. 2A  Seattle  North America        98122       USA   \n",
       "1  507 - 20th Ave. E. Apt. 2A  Seattle  North America        98122       USA   \n",
       "2  507 - 20th Ave. E. Apt. 2A  Seattle  North America        98122       USA   \n",
       "3  507 - 20th Ave. E. Apt. 2A  Seattle  North America        98122       USA   \n",
       "4  507 - 20th Ave. E. Apt. 2A  Seattle  North America        98122       USA   \n",
       "\n",
       "        HomePhone Extension Photo  \\\n",
       "0  (206) 555-9857      5467  None   \n",
       "1  (206) 555-9857      5467  None   \n",
       "2  (206) 555-9857      5467  None   \n",
       "3  (206) 555-9857      5467  None   \n",
       "4  (206) 555-9857      5467  None   \n",
       "\n",
       "                                               Notes  ReportsTo  \\\n",
       "0  Education includes a BA in psychology from Col...        2.0   \n",
       "1  Education includes a BA in psychology from Col...        2.0   \n",
       "2  Education includes a BA in psychology from Col...        2.0   \n",
       "3  Education includes a BA in psychology from Col...        2.0   \n",
       "4  Education includes a BA in psychology from Col...        2.0   \n",
       "\n",
       "                              PhotoPath  \n",
       "0  http://accweb/emmployees/davolio.bmp  \n",
       "1  http://accweb/emmployees/davolio.bmp  \n",
       "2  http://accweb/emmployees/davolio.bmp  \n",
       "3  http://accweb/emmployees/davolio.bmp  \n",
       "4  http://accweb/emmployees/davolio.bmp  "
      ]
     },
     "execution_count": 36,
     "metadata": {},
     "output_type": "execute_result"
    }
   ],
   "source": [
    "data.head()"
   ]
  },
  {
   "cell_type": "code",
   "execution_count": 37,
   "metadata": {},
   "outputs": [
    {
     "data": {
      "text/html": [
       "<div>\n",
       "<style scoped>\n",
       "    .dataframe tbody tr th:only-of-type {\n",
       "        vertical-align: middle;\n",
       "    }\n",
       "\n",
       "    .dataframe tbody tr th {\n",
       "        vertical-align: top;\n",
       "    }\n",
       "\n",
       "    .dataframe thead th {\n",
       "        text-align: right;\n",
       "    }\n",
       "</style>\n",
       "<table border=\"1\" class=\"dataframe\">\n",
       "  <thead>\n",
       "    <tr style=\"text-align: right;\">\n",
       "      <th></th>\n",
       "      <th>Quantity</th>\n",
       "      <th>OrderDate</th>\n",
       "    </tr>\n",
       "  </thead>\n",
       "  <tbody>\n",
       "    <tr>\n",
       "      <th>0</th>\n",
       "      <td>45.0</td>\n",
       "      <td>2012-08-20</td>\n",
       "    </tr>\n",
       "    <tr>\n",
       "      <th>1</th>\n",
       "      <td>36.0</td>\n",
       "      <td>2012-08-20</td>\n",
       "    </tr>\n",
       "    <tr>\n",
       "      <th>2</th>\n",
       "      <td>40.0</td>\n",
       "      <td>2012-08-20</td>\n",
       "    </tr>\n",
       "    <tr>\n",
       "      <th>3</th>\n",
       "      <td>50.0</td>\n",
       "      <td>2014-04-01</td>\n",
       "    </tr>\n",
       "    <tr>\n",
       "      <th>4</th>\n",
       "      <td>20.0</td>\n",
       "      <td>2014-04-01</td>\n",
       "    </tr>\n",
       "  </tbody>\n",
       "</table>\n",
       "</div>"
      ],
      "text/plain": [
       "   Quantity   OrderDate\n",
       "0      45.0  2012-08-20\n",
       "1      36.0  2012-08-20\n",
       "2      40.0  2012-08-20\n",
       "3      50.0  2014-04-01\n",
       "4      20.0  2014-04-01"
      ]
     },
     "execution_count": 37,
     "metadata": {},
     "output_type": "execute_result"
    }
   ],
   "source": [
    "q2df = copy.deepcopy(data[[ \"Quantity\", \"OrderDate\"]])\n",
    "q2df.head()\n"
   ]
  },
  {
   "cell_type": "code",
   "execution_count": 38,
   "metadata": {},
   "outputs": [
    {
     "name": "stdout",
     "output_type": "stream",
     "text": [
      "<class 'pandas.core.frame.DataFrame'>\n",
      "Int64Index: 2161 entries, 0 to 2160\n",
      "Data columns (total 2 columns):\n",
      "Quantity     2155 non-null float64\n",
      "OrderDate    2155 non-null object\n",
      "dtypes: float64(1), object(1)\n",
      "memory usage: 50.6+ KB\n"
     ]
    }
   ],
   "source": [
    "q2df.info()"
   ]
  },
  {
   "cell_type": "code",
   "execution_count": 39,
   "metadata": {},
   "outputs": [
    {
     "name": "stdout",
     "output_type": "stream",
     "text": [
      "<class 'pandas.core.frame.DataFrame'>\n",
      "Int64Index: 2161 entries, 0 to 2160\n",
      "Data columns (total 2 columns):\n",
      "Quantity     2155 non-null float64\n",
      "OrderDate    2155 non-null datetime64[ns]\n",
      "dtypes: datetime64[ns](1), float64(1)\n",
      "memory usage: 50.6 KB\n"
     ]
    }
   ],
   "source": [
    "# we need to convert the OrderDate column from a string (object) to a DateTime type.\n",
    "\n",
    "q2df.OrderDate = pd.to_datetime(q2df.OrderDate, infer_datetime_format=True)\n",
    "q2df.info()"
   ]
  },
  {
   "cell_type": "code",
   "execution_count": 40,
   "metadata": {},
   "outputs": [
    {
     "data": {
      "text/html": [
       "<div>\n",
       "<style scoped>\n",
       "    .dataframe tbody tr th:only-of-type {\n",
       "        vertical-align: middle;\n",
       "    }\n",
       "\n",
       "    .dataframe tbody tr th {\n",
       "        vertical-align: top;\n",
       "    }\n",
       "\n",
       "    .dataframe thead th {\n",
       "        text-align: right;\n",
       "    }\n",
       "</style>\n",
       "<table border=\"1\" class=\"dataframe\">\n",
       "  <thead>\n",
       "    <tr style=\"text-align: right;\">\n",
       "      <th></th>\n",
       "      <th>Quantity</th>\n",
       "      <th>OrderDate</th>\n",
       "      <th>DayOfWeek</th>\n",
       "    </tr>\n",
       "  </thead>\n",
       "  <tbody>\n",
       "    <tr>\n",
       "      <th>0</th>\n",
       "      <td>45.0</td>\n",
       "      <td>2012-08-20</td>\n",
       "      <td>Monday</td>\n",
       "    </tr>\n",
       "    <tr>\n",
       "      <th>1</th>\n",
       "      <td>36.0</td>\n",
       "      <td>2012-08-20</td>\n",
       "      <td>Monday</td>\n",
       "    </tr>\n",
       "    <tr>\n",
       "      <th>2</th>\n",
       "      <td>40.0</td>\n",
       "      <td>2012-08-20</td>\n",
       "      <td>Monday</td>\n",
       "    </tr>\n",
       "    <tr>\n",
       "      <th>3</th>\n",
       "      <td>50.0</td>\n",
       "      <td>2014-04-01</td>\n",
       "      <td>Tuesday</td>\n",
       "    </tr>\n",
       "    <tr>\n",
       "      <th>4</th>\n",
       "      <td>20.0</td>\n",
       "      <td>2014-04-01</td>\n",
       "      <td>Tuesday</td>\n",
       "    </tr>\n",
       "  </tbody>\n",
       "</table>\n",
       "</div>"
      ],
      "text/plain": [
       "   Quantity  OrderDate DayOfWeek\n",
       "0      45.0 2012-08-20    Monday\n",
       "1      36.0 2012-08-20    Monday\n",
       "2      40.0 2012-08-20    Monday\n",
       "3      50.0 2014-04-01   Tuesday\n",
       "4      20.0 2014-04-01   Tuesday"
      ]
     },
     "metadata": {},
     "output_type": "display_data"
    },
    {
     "data": {
      "text/plain": [
       "DayOfWeek\n",
       "Monday       23.755294\n",
       "Sunday       23.832134\n",
       "Thursday     24.628505\n",
       "Tuesday      23.962138\n",
       "Wednesday    22.896789\n",
       "Name: Quantity, dtype: float64"
      ]
     },
     "metadata": {},
     "output_type": "display_data"
    }
   ],
   "source": [
    "q2df['DayOfWeek'] = q2df['OrderDate'].dt.day_name()\n",
    "display(q2df.head())\n",
    "display(q2df.groupby(['DayOfWeek'])['Quantity'].mean())"
   ]
  },
  {
   "cell_type": "code",
   "execution_count": 41,
   "metadata": {},
   "outputs": [
    {
     "name": "stderr",
     "output_type": "stream",
     "text": [
      "C:\\Users\\mngav\\Anaconda3\\envs\\learn-env\\lib\\site-packages\\scipy\\stats\\stats.py:1713: FutureWarning: Using a non-tuple sequence for multidimensional indexing is deprecated; use `arr[tuple(seq)]` instead of `arr[seq]`. In the future this will be interpreted as an array index, `arr[np.array(seq)]`, which will result either in an error or a different result.\n",
      "  return np.add.reduce(sorted[indexer] * weights, axis=axis) / sumval\n"
     ]
    },
    {
     "data": {
      "image/png": "[encoded data removed]",
      "text/plain": [
       "<Figure size 720x504 with 1 Axes>"
      ]
     },
     "metadata": {},
     "output_type": "display_data"
    }
   ],
   "source": [
    "q2BarPlot = sns.barplot(x= 'DayOfWeek', y='Quantity', data= q2df, order = ['Sunday', 'Monday', 'Tuesday', 'Wednesday', 'Thursday'])\n",
    "\n"
   ]
  },
  {
   "cell_type": "code",
   "execution_count": 42,
   "metadata": {},
   "outputs": [
    {
     "name": "stdout",
     "output_type": "stream",
     "text": [
      "<class 'pandas.core.frame.DataFrame'>\n",
      "Int64Index: 2161 entries, 0 to 2160\n",
      "Data columns (total 3 columns):\n",
      "Quantity     2155 non-null float64\n",
      "OrderDate    2155 non-null datetime64[ns]\n",
      "DayOfWeek    2155 non-null object\n",
      "dtypes: datetime64[ns](1), float64(1), object(1)\n",
      "memory usage: 147.5+ KB\n"
     ]
    }
   ],
   "source": [
    "q2df.info()"
   ]
  },
  {
   "cell_type": "code",
   "execution_count": 43,
   "metadata": {},
   "outputs": [
    {
     "data": {
      "text/plain": [
       "Tuesday      449\n",
       "Wednesday    436\n",
       "Thursday     428\n",
       "Monday       425\n",
       "Sunday       417\n",
       "Name: DayOfWeek, dtype: int64"
      ]
     },
     "execution_count": 43,
     "metadata": {},
     "output_type": "execute_result"
    }
   ],
   "source": [
    "q2df.DayOfWeek.value_counts()"
   ]
  },
  {
   "cell_type": "code",
   "execution_count": 44,
   "metadata": {},
   "outputs": [
    {
     "data": {
      "text/plain": [
       "Quantity     6\n",
       "OrderDate    6\n",
       "DayOfWeek    6\n",
       "dtype: int64"
      ]
     },
     "execution_count": 44,
     "metadata": {},
     "output_type": "execute_result"
    }
   ],
   "source": [
    "q2df.isnull().sum()"
   ]
  },
  {
   "cell_type": "code",
   "execution_count": 45,
   "metadata": {},
   "outputs": [],
   "source": [
    "q2df.dropna(inplace = True)"
   ]
  },
  {
   "cell_type": "code",
   "execution_count": 46,
   "metadata": {},
   "outputs": [
    {
     "name": "stderr",
     "output_type": "stream",
     "text": [
      "C:\\Users\\mngav\\Anaconda3\\envs\\learn-env\\lib\\site-packages\\scipy\\stats\\stats.py:1713: FutureWarning: Using a non-tuple sequence for multidimensional indexing is deprecated; use `arr[tuple(seq)]` instead of `arr[seq]`. In the future this will be interpreted as an array index, `arr[np.array(seq)]`, which will result either in an error or a different result.\n",
      "  return np.add.reduce(sorted[indexer] * weights, axis=axis) / sumval\n"
     ]
    },
    {
     "data": {
      "image/png": "[encoded data removed]",
      "text/plain": [
       "<Figure size 360x360 with 1 Axes>"
      ]
     },
     "metadata": {},
     "output_type": "display_data"
    }
   ],
   "source": [
    "plt.figure(figsize = (5,5))\n",
    "\n",
    "for day in set(q2df.DayOfWeek):\n",
    "    helper = q2df.loc[q2df.DayOfWeek == day]\n",
    "    sns.distplot(helper.Quantity, label = day)\n",
    "    plt.legend()\n",
    "    plt.xlabel('Order Quantities by Day Of Week')\n"
   ]
  },
  {
   "cell_type": "code",
   "execution_count": 47,
   "metadata": {},
   "outputs": [
    {
     "name": "stdout",
     "output_type": "stream",
     "text": [
      "NormaltestResult(statistic=194.84191471743983, pvalue=4.904737820075197e-43)\n",
      "NormaltestResult(statistic=93.14375548848395, pvalue=5.944159902987768e-21)\n",
      "NormaltestResult(statistic=161.49882980735737, pvalue=8.530503989495187e-36)\n",
      "NormaltestResult(statistic=196.96658929402193, pvalue=1.695307858430877e-43)\n",
      "NormaltestResult(statistic=150.1345580089754, pvalue=2.5043496105433636e-33)\n"
     ]
    }
   ],
   "source": [
    "for day in set(q2df['DayOfWeek']):\n",
    "    helper = q2df.loc[q2df.DayOfWeek == day]\n",
    "    print(stats.normaltest(helper.Quantity))"
   ]
  },
  {
   "cell_type": "code",
   "execution_count": 48,
   "metadata": {},
   "outputs": [],
   "source": [
    "# distributions are not normal; lets log transform\n",
    "q2df['log'] = np.log(q2df.Quantity)\n",
    "\n"
   ]
  },
  {
   "cell_type": "code",
   "execution_count": 49,
   "metadata": {},
   "outputs": [
    {
     "name": "stdout",
     "output_type": "stream",
     "text": [
      "<class 'pandas.core.frame.DataFrame'>\n",
      "Int64Index: 2155 entries, 0 to 2154\n",
      "Data columns (total 4 columns):\n",
      "Quantity     2155 non-null float64\n",
      "OrderDate    2155 non-null datetime64[ns]\n",
      "DayOfWeek    2155 non-null object\n",
      "log          2155 non-null float64\n",
      "dtypes: datetime64[ns](1), float64(2), object(1)\n",
      "memory usage: 84.2+ KB\n"
     ]
    }
   ],
   "source": [
    "q2df.info()"
   ]
  },
  {
   "cell_type": "code",
   "execution_count": 50,
   "metadata": {},
   "outputs": [
    {
     "name": "stderr",
     "output_type": "stream",
     "text": [
      "C:\\Users\\mngav\\Anaconda3\\envs\\learn-env\\lib\\site-packages\\scipy\\stats\\stats.py:1713: FutureWarning: Using a non-tuple sequence for multidimensional indexing is deprecated; use `arr[tuple(seq)]` instead of `arr[seq]`. In the future this will be interpreted as an array index, `arr[np.array(seq)]`, which will result either in an error or a different result.\n",
      "  return np.add.reduce(sorted[indexer] * weights, axis=axis) / sumval\n"
     ]
    },
    {
     "data": {
      "image/png": "[encoded data removed]",
      "text/plain": [
       "<Figure size 576x360 with 1 Axes>"
      ]
     },
     "metadata": {},
     "output_type": "display_data"
    }
   ],
   "source": [
    "plt.figure(figsize = (8,5))\n",
    "\n",
    "for day in set(q2df.DayOfWeek):\n",
    "    helper = q2df.loc[q2df.DayOfWeek == day]\n",
    "    sns.distplot(helper.log, label = day)\n",
    "    plt.legend()\n",
    "    plt.xlabel('Order Quantities by Day Of Week')\n"
   ]
  },
  {
   "cell_type": "code",
   "execution_count": 51,
   "metadata": {},
   "outputs": [
    {
     "name": "stdout",
     "output_type": "stream",
     "text": [
      "NormaltestResult(statistic=34.91516866212612, pvalue=2.6197958971551106e-08)\n",
      "NormaltestResult(statistic=17.965233636635062, pvalue=0.00012557381332319254)\n",
      "NormaltestResult(statistic=22.284386532718354, pvalue=1.4487950321080658e-05)\n",
      "NormaltestResult(statistic=8.609122534538198, pvalue=0.013506810121744138)\n",
      "NormaltestResult(statistic=22.079294564388913, pvalue=1.6052478731796008e-05)\n"
     ]
    }
   ],
   "source": [
    "for day in set(q2df['DayOfWeek']):\n",
    "    helper = q2df.loc[q2df.DayOfWeek == day]\n",
    "    print(stats.normaltest(helper.log))"
   ]
  },
  {
   "cell_type": "code",
   "execution_count": 52,
   "metadata": {},
   "outputs": [
    {
     "name": "stdout",
     "output_type": "stream",
     "text": [
      "                     sum_sq      df         F  PR(>F)\n",
      "C(DayOfWeek)     662.192111     4.0  0.457058  0.7673\n",
      "Residual      778737.444084  2150.0       NaN     NaN\n"
     ]
    }
   ],
   "source": [
    "formula = \"Quantity ~ C(DayOfWeek)\"\n",
    "           \n",
    "lm = ols(formula, q2df).fit()\n",
    "table = sm.stats.anova_lm(lm, typ=2)\n",
    "print(table)"
   ]
  },
  {
   "cell_type": "markdown",
   "metadata": {},
   "source": [
    "##### <font color='blue'> Conclusion Question 2 </font>\n",
    "\n",
    "With a P-value greater than alpha of 0.05, we are not able to reject the null hypotheses that order quantities are uniform through days of the week."
   ]
  },
  {
   "cell_type": "markdown",
   "metadata": {},
   "source": [
    "<a id='link_to_question_#3'></a>\n",
    "\n",
    "\n",
    "\n",
    "## <font color ='lime'> Question 3 </font>\n",
    "Are the distributions of order Quanitites by time-in-job similar between employees?"
   ]
  },
  {
   "cell_type": "markdown",
   "metadata": {},
   "source": [
    "$H_O$: all sales peoples performance are identical between experience levels <br>\n",
    "$H_a$: associate performance accross experience levels are not equivalent<br>\n",
    "\n",
    "this is a two tailed test"
   ]
  },
  {
   "cell_type": "code",
   "execution_count": 11,
   "metadata": {},
   "outputs": [
    {
     "name": "stdout",
     "output_type": "stream",
     "text": [
      "4.0    420\n",
      "1.0    345\n",
      "3.0    321\n",
      "8.0    260\n",
      "2.0    241\n",
      "7.0    176\n",
      "6.0    168\n",
      "5.0    117\n",
      "9.0    107\n",
      "Name: EmployeeId, dtype: int64\n",
      "   EmployeeId  Quantity\n",
      "0         1.0      45.0\n",
      "1         1.0      36.0\n",
      "2         1.0      40.0\n",
      "3         1.0      50.0\n",
      "4         1.0      20.0\n"
     ]
    }
   ],
   "source": [
    "q3df = copy.deepcopy(data[['EmployeeId', 'Quantity', ]])\n",
    "\n",
    "print(q3df.EmployeeId.value_counts())\n",
    "print(q3df.head())"
   ]
  },
  {
   "cell_type": "code",
   "execution_count": 12,
   "metadata": {},
   "outputs": [
    {
     "data": {
      "text/html": [
       "<div>\n",
       "<style scoped>\n",
       "    .dataframe tbody tr th:only-of-type {\n",
       "        vertical-align: middle;\n",
       "    }\n",
       "\n",
       "    .dataframe tbody tr th {\n",
       "        vertical-align: top;\n",
       "    }\n",
       "\n",
       "    .dataframe thead th {\n",
       "        text-align: right;\n",
       "    }\n",
       "</style>\n",
       "<table border=\"1\" class=\"dataframe\">\n",
       "  <thead>\n",
       "    <tr style=\"text-align: right;\">\n",
       "      <th></th>\n",
       "      <th>CategoryId</th>\n",
       "      <th>CategoryName</th>\n",
       "      <th>Description</th>\n",
       "      <th>ProductId</th>\n",
       "      <th>ProductName</th>\n",
       "      <th>SupplierId</th>\n",
       "      <th>QuantityPerUnit</th>\n",
       "      <th>UnitPrice_x</th>\n",
       "      <th>UnitsInStock</th>\n",
       "      <th>UnitsOnOrder</th>\n",
       "      <th>ReorderLevel</th>\n",
       "      <th>Discontinued</th>\n",
       "      <th>Id</th>\n",
       "      <th>OrderId</th>\n",
       "      <th>UnitPrice_y</th>\n",
       "      <th>Quantity</th>\n",
       "      <th>Discount</th>\n",
       "      <th>CustomerId</th>\n",
       "      <th>EmployeeId</th>\n",
       "      <th>OrderDate</th>\n",
       "      <th>RequiredDate</th>\n",
       "      <th>ShippedDate</th>\n",
       "      <th>ShipVia</th>\n",
       "      <th>Freight</th>\n",
       "      <th>ShipName</th>\n",
       "      <th>ShipAddress</th>\n",
       "      <th>ShipCity</th>\n",
       "      <th>ShipRegion</th>\n",
       "      <th>ShipPostalCode</th>\n",
       "      <th>ShipCountry</th>\n",
       "      <th>CompanyName</th>\n",
       "      <th>ContactName</th>\n",
       "      <th>ContactTitle</th>\n",
       "      <th>Address_x</th>\n",
       "      <th>City_x</th>\n",
       "      <th>Region_x</th>\n",
       "      <th>PostalCode_x</th>\n",
       "      <th>Country_x</th>\n",
       "      <th>Phone</th>\n",
       "      <th>Fax</th>\n",
       "      <th>LastName</th>\n",
       "      <th>FirstName</th>\n",
       "      <th>Title</th>\n",
       "      <th>TitleOfCourtesy</th>\n",
       "      <th>BirthDate</th>\n",
       "      <th>HireDate</th>\n",
       "      <th>Address_y</th>\n",
       "      <th>City_y</th>\n",
       "      <th>Region_y</th>\n",
       "      <th>PostalCode_y</th>\n",
       "      <th>Country_y</th>\n",
       "      <th>HomePhone</th>\n",
       "      <th>Extension</th>\n",
       "      <th>Photo</th>\n",
       "      <th>Notes</th>\n",
       "      <th>ReportsTo</th>\n",
       "      <th>PhotoPath</th>\n",
       "    </tr>\n",
       "  </thead>\n",
       "  <tbody>\n",
       "    <tr>\n",
       "      <th>0</th>\n",
       "      <td>1.0</td>\n",
       "      <td>Beverages</td>\n",
       "      <td>Soft drinks, coffees, teas, beers, and ales</td>\n",
       "      <td>1.0</td>\n",
       "      <td>Chai</td>\n",
       "      <td>1.0</td>\n",
       "      <td>10 boxes x 20 bags</td>\n",
       "      <td>18.0</td>\n",
       "      <td>39.0</td>\n",
       "      <td>0.0</td>\n",
       "      <td>10.0</td>\n",
       "      <td>0.0</td>\n",
       "      <td>10285/1</td>\n",
       "      <td>10285.0</td>\n",
       "      <td>14.4</td>\n",
       "      <td>45.0</td>\n",
       "      <td>0.2</td>\n",
       "      <td>QUICK</td>\n",
       "      <td>1.0</td>\n",
       "      <td>2012-08-20</td>\n",
       "      <td>2012-09-17</td>\n",
       "      <td>2012-08-26</td>\n",
       "      <td>2.0</td>\n",
       "      <td>76.83</td>\n",
       "      <td>QUICK-Stop</td>\n",
       "      <td>Taucherstraße 10</td>\n",
       "      <td>Cunewalde</td>\n",
       "      <td>Western Europe</td>\n",
       "      <td>01307</td>\n",
       "      <td>Germany</td>\n",
       "      <td>QUICK-Stop</td>\n",
       "      <td>Horst Kloss</td>\n",
       "      <td>Accounting Manager</td>\n",
       "      <td>Taucherstraße 10</td>\n",
       "      <td>Cunewalde</td>\n",
       "      <td>Western Europe</td>\n",
       "      <td>01307</td>\n",
       "      <td>Germany</td>\n",
       "      <td>0372-035188</td>\n",
       "      <td>None</td>\n",
       "      <td>Davolio</td>\n",
       "      <td>Nancy</td>\n",
       "      <td>Sales Representative</td>\n",
       "      <td>Ms.</td>\n",
       "      <td>1980-12-08</td>\n",
       "      <td>2004-05-01</td>\n",
       "      <td>507 - 20th Ave. E. Apt. 2A</td>\n",
       "      <td>Seattle</td>\n",
       "      <td>North America</td>\n",
       "      <td>98122</td>\n",
       "      <td>USA</td>\n",
       "      <td>(206) 555-9857</td>\n",
       "      <td>5467</td>\n",
       "      <td>None</td>\n",
       "      <td>Education includes a BA in psychology from Col...</td>\n",
       "      <td>2.0</td>\n",
       "      <td>http://accweb/emmployees/davolio.bmp</td>\n",
       "    </tr>\n",
       "    <tr>\n",
       "      <th>1</th>\n",
       "      <td>6.0</td>\n",
       "      <td>Meat/Poultry</td>\n",
       "      <td>Prepared meats</td>\n",
       "      <td>53.0</td>\n",
       "      <td>Perth Pasties</td>\n",
       "      <td>24.0</td>\n",
       "      <td>48 pieces</td>\n",
       "      <td>32.8</td>\n",
       "      <td>0.0</td>\n",
       "      <td>0.0</td>\n",
       "      <td>0.0</td>\n",
       "      <td>1.0</td>\n",
       "      <td>10285/53</td>\n",
       "      <td>10285.0</td>\n",
       "      <td>26.2</td>\n",
       "      <td>36.0</td>\n",
       "      <td>0.2</td>\n",
       "      <td>QUICK</td>\n",
       "      <td>1.0</td>\n",
       "      <td>2012-08-20</td>\n",
       "      <td>2012-09-17</td>\n",
       "      <td>2012-08-26</td>\n",
       "      <td>2.0</td>\n",
       "      <td>76.83</td>\n",
       "      <td>QUICK-Stop</td>\n",
       "      <td>Taucherstraße 10</td>\n",
       "      <td>Cunewalde</td>\n",
       "      <td>Western Europe</td>\n",
       "      <td>01307</td>\n",
       "      <td>Germany</td>\n",
       "      <td>QUICK-Stop</td>\n",
       "      <td>Horst Kloss</td>\n",
       "      <td>Accounting Manager</td>\n",
       "      <td>Taucherstraße 10</td>\n",
       "      <td>Cunewalde</td>\n",
       "      <td>Western Europe</td>\n",
       "      <td>01307</td>\n",
       "      <td>Germany</td>\n",
       "      <td>0372-035188</td>\n",
       "      <td>None</td>\n",
       "      <td>Davolio</td>\n",
       "      <td>Nancy</td>\n",
       "      <td>Sales Representative</td>\n",
       "      <td>Ms.</td>\n",
       "      <td>1980-12-08</td>\n",
       "      <td>2004-05-01</td>\n",
       "      <td>507 - 20th Ave. E. Apt. 2A</td>\n",
       "      <td>Seattle</td>\n",
       "      <td>North America</td>\n",
       "      <td>98122</td>\n",
       "      <td>USA</td>\n",
       "      <td>(206) 555-9857</td>\n",
       "      <td>5467</td>\n",
       "      <td>None</td>\n",
       "      <td>Education includes a BA in psychology from Col...</td>\n",
       "      <td>2.0</td>\n",
       "      <td>http://accweb/emmployees/davolio.bmp</td>\n",
       "    </tr>\n",
       "  </tbody>\n",
       "</table>\n",
       "</div>"
      ],
      "text/plain": [
       "   CategoryId  CategoryName                                  Description  \\\n",
       "0         1.0     Beverages  Soft drinks, coffees, teas, beers, and ales   \n",
       "1         6.0  Meat/Poultry                               Prepared meats   \n",
       "\n",
       "   ProductId    ProductName  SupplierId     QuantityPerUnit  UnitPrice_x  \\\n",
       "0        1.0           Chai         1.0  10 boxes x 20 bags         18.0   \n",
       "1       53.0  Perth Pasties        24.0           48 pieces         32.8   \n",
       "\n",
       "   UnitsInStock  UnitsOnOrder  ReorderLevel  Discontinued        Id  OrderId  \\\n",
       "0          39.0           0.0          10.0           0.0   10285/1  10285.0   \n",
       "1           0.0           0.0           0.0           1.0  10285/53  10285.0   \n",
       "\n",
       "   UnitPrice_y  Quantity  Discount CustomerId  EmployeeId   OrderDate  \\\n",
       "0         14.4      45.0       0.2      QUICK         1.0  2012-08-20   \n",
       "1         26.2      36.0       0.2      QUICK         1.0  2012-08-20   \n",
       "\n",
       "  RequiredDate ShippedDate  ShipVia  Freight    ShipName       ShipAddress  \\\n",
       "0   2012-09-17  2012-08-26      2.0    76.83  QUICK-Stop  Taucherstraße 10   \n",
       "1   2012-09-17  2012-08-26      2.0    76.83  QUICK-Stop  Taucherstraße 10   \n",
       "\n",
       "    ShipCity      ShipRegion ShipPostalCode ShipCountry CompanyName  \\\n",
       "0  Cunewalde  Western Europe          01307     Germany  QUICK-Stop   \n",
       "1  Cunewalde  Western Europe          01307     Germany  QUICK-Stop   \n",
       "\n",
       "   ContactName        ContactTitle         Address_x     City_x  \\\n",
       "0  Horst Kloss  Accounting Manager  Taucherstraße 10  Cunewalde   \n",
       "1  Horst Kloss  Accounting Manager  Taucherstraße 10  Cunewalde   \n",
       "\n",
       "         Region_x PostalCode_x Country_x        Phone   Fax LastName  \\\n",
       "0  Western Europe        01307   Germany  0372-035188  None  Davolio   \n",
       "1  Western Europe        01307   Germany  0372-035188  None  Davolio   \n",
       "\n",
       "  FirstName                 Title TitleOfCourtesy   BirthDate    HireDate  \\\n",
       "0     Nancy  Sales Representative             Ms.  1980-12-08  2004-05-01   \n",
       "1     Nancy  Sales Representative             Ms.  1980-12-08  2004-05-01   \n",
       "\n",
       "                    Address_y   City_y       Region_y PostalCode_y Country_y  \\\n",
       "0  507 - 20th Ave. E. Apt. 2A  Seattle  North America        98122       USA   \n",
       "1  507 - 20th Ave. E. Apt. 2A  Seattle  North America        98122       USA   \n",
       "\n",
       "        HomePhone Extension Photo  \\\n",
       "0  (206) 555-9857      5467  None   \n",
       "1  (206) 555-9857      5467  None   \n",
       "\n",
       "                                               Notes  ReportsTo  \\\n",
       "0  Education includes a BA in psychology from Col...        2.0   \n",
       "1  Education includes a BA in psychology from Col...        2.0   \n",
       "\n",
       "                              PhotoPath  \n",
       "0  http://accweb/emmployees/davolio.bmp  \n",
       "1  http://accweb/emmployees/davolio.bmp  "
      ]
     },
     "execution_count": 12,
     "metadata": {},
     "output_type": "execute_result"
    }
   ],
   "source": [
    "data.head(2)"
   ]
  },
  {
   "cell_type": "code",
   "execution_count": 13,
   "metadata": {},
   "outputs": [
    {
     "data": {
      "text/html": [
       "<div>\n",
       "<style scoped>\n",
       "    .dataframe tbody tr th:only-of-type {\n",
       "        vertical-align: middle;\n",
       "    }\n",
       "\n",
       "    .dataframe tbody tr th {\n",
       "        vertical-align: top;\n",
       "    }\n",
       "\n",
       "    .dataframe thead th {\n",
       "        text-align: right;\n",
       "    }\n",
       "</style>\n",
       "<table border=\"1\" class=\"dataframe\">\n",
       "  <thead>\n",
       "    <tr style=\"text-align: right;\">\n",
       "      <th></th>\n",
       "      <th>Quantity</th>\n",
       "      <th>EmployeeId</th>\n",
       "      <th>HireDate</th>\n",
       "      <th>OrderDate</th>\n",
       "    </tr>\n",
       "  </thead>\n",
       "  <tbody>\n",
       "    <tr>\n",
       "      <th>0</th>\n",
       "      <td>45.0</td>\n",
       "      <td>1.0</td>\n",
       "      <td>2004-05-01</td>\n",
       "      <td>2012-08-20</td>\n",
       "    </tr>\n",
       "    <tr>\n",
       "      <th>1</th>\n",
       "      <td>36.0</td>\n",
       "      <td>1.0</td>\n",
       "      <td>2004-05-01</td>\n",
       "      <td>2012-08-20</td>\n",
       "    </tr>\n",
       "    <tr>\n",
       "      <th>2</th>\n",
       "      <td>40.0</td>\n",
       "      <td>1.0</td>\n",
       "      <td>2004-05-01</td>\n",
       "      <td>2012-08-20</td>\n",
       "    </tr>\n",
       "    <tr>\n",
       "      <th>3</th>\n",
       "      <td>50.0</td>\n",
       "      <td>1.0</td>\n",
       "      <td>2004-05-01</td>\n",
       "      <td>2014-04-01</td>\n",
       "    </tr>\n",
       "    <tr>\n",
       "      <th>4</th>\n",
       "      <td>20.0</td>\n",
       "      <td>1.0</td>\n",
       "      <td>2004-05-01</td>\n",
       "      <td>2014-04-01</td>\n",
       "    </tr>\n",
       "  </tbody>\n",
       "</table>\n",
       "</div>"
      ],
      "text/plain": [
       "   Quantity  EmployeeId    HireDate   OrderDate\n",
       "0      45.0         1.0  2004-05-01  2012-08-20\n",
       "1      36.0         1.0  2004-05-01  2012-08-20\n",
       "2      40.0         1.0  2004-05-01  2012-08-20\n",
       "3      50.0         1.0  2004-05-01  2014-04-01\n",
       "4      20.0         1.0  2004-05-01  2014-04-01"
      ]
     },
     "execution_count": 13,
     "metadata": {},
     "output_type": "execute_result"
    }
   ],
   "source": [
    "q3df = copy.deepcopy(data[['Quantity', 'EmployeeId', 'HireDate', 'OrderDate' ]])\n",
    "q3df.head()\n"
   ]
  },
  {
   "cell_type": "code",
   "execution_count": null,
   "metadata": {},
   "outputs": [],
   "source": []
  },
  {
   "cell_type": "code",
   "execution_count": 14,
   "metadata": {},
   "outputs": [
    {
     "name": "stdout",
     "output_type": "stream",
     "text": [
      "<class 'pandas.core.frame.DataFrame'>\n",
      "Int64Index: 2161 entries, 0 to 2160\n",
      "Data columns (total 4 columns):\n",
      "Quantity      2155 non-null float64\n",
      "EmployeeId    2155 non-null float64\n",
      "HireDate      2155 non-null object\n",
      "OrderDate     2155 non-null object\n",
      "dtypes: float64(2), object(2)\n",
      "memory usage: 84.4+ KB\n"
     ]
    }
   ],
   "source": [
    "q3df.info()"
   ]
  },
  {
   "cell_type": "code",
   "execution_count": 15,
   "metadata": {},
   "outputs": [],
   "source": [
    "q3df.HireDate = pd.to_datetime(q3df.HireDate, infer_datetime_format=True)\n",
    "q3df.OrderDate = pd.to_datetime(q3df.OrderDate, infer_datetime_format=True)"
   ]
  },
  {
   "cell_type": "code",
   "execution_count": 16,
   "metadata": {},
   "outputs": [
    {
     "name": "stdout",
     "output_type": "stream",
     "text": [
      "<class 'pandas.core.frame.DataFrame'>\n",
      "Int64Index: 2161 entries, 0 to 2160\n",
      "Data columns (total 4 columns):\n",
      "Quantity      2155 non-null float64\n",
      "EmployeeId    2155 non-null float64\n",
      "HireDate      2155 non-null datetime64[ns]\n",
      "OrderDate     2155 non-null datetime64[ns]\n",
      "dtypes: datetime64[ns](2), float64(2)\n",
      "memory usage: 84.4 KB\n"
     ]
    }
   ],
   "source": [
    "q3df.info()"
   ]
  },
  {
   "cell_type": "code",
   "execution_count": 17,
   "metadata": {},
   "outputs": [
    {
     "data": {
      "text/plain": [
       "Quantity      6\n",
       "EmployeeId    6\n",
       "HireDate      6\n",
       "OrderDate     6\n",
       "dtype: int64"
      ]
     },
     "execution_count": 17,
     "metadata": {},
     "output_type": "execute_result"
    }
   ],
   "source": [
    "q3df.isna().sum()"
   ]
  },
  {
   "cell_type": "code",
   "execution_count": 18,
   "metadata": {},
   "outputs": [],
   "source": [
    "q3df.dropna(inplace = True)"
   ]
  },
  {
   "cell_type": "code",
   "execution_count": 19,
   "metadata": {},
   "outputs": [],
   "source": [
    "#from dateutil import relativedelta\n",
    "#from dateutil.relativedelta import *\n",
    "from dateutil.relativedelta import relativedelta\n",
    "\n",
    "#q3df['TimeInJob'] = (q3df['OrderDate'] - q3df['HireDate'] )\n",
    "#q3df['yrsInJob'] = relativedelta(q3df['OrderDate'], q3df['HireDate'])\n",
    "\n",
    "q3df['MonthsInJob'] = round(((q3df.OrderDate - q3df.HireDate)/np.timedelta64(1,'M')),0)\n",
    "q3df['YrsInJob'] = round(((q3df.OrderDate - q3df.HireDate)/np.timedelta64(1,'Y')),0)\n",
    "\n"
   ]
  },
  {
   "cell_type": "code",
   "execution_count": 20,
   "metadata": {},
   "outputs": [
    {
     "data": {
      "text/html": [
       "<div>\n",
       "<style scoped>\n",
       "    .dataframe tbody tr th:only-of-type {\n",
       "        vertical-align: middle;\n",
       "    }\n",
       "\n",
       "    .dataframe tbody tr th {\n",
       "        vertical-align: top;\n",
       "    }\n",
       "\n",
       "    .dataframe thead th {\n",
       "        text-align: right;\n",
       "    }\n",
       "</style>\n",
       "<table border=\"1\" class=\"dataframe\">\n",
       "  <thead>\n",
       "    <tr style=\"text-align: right;\">\n",
       "      <th></th>\n",
       "      <th>Quantity</th>\n",
       "      <th>EmployeeId</th>\n",
       "      <th>HireDate</th>\n",
       "      <th>OrderDate</th>\n",
       "      <th>MonthsInJob</th>\n",
       "      <th>YrsInJob</th>\n",
       "    </tr>\n",
       "  </thead>\n",
       "  <tbody>\n",
       "    <tr>\n",
       "      <th>0</th>\n",
       "      <td>45.0</td>\n",
       "      <td>1.0</td>\n",
       "      <td>2004-05-01</td>\n",
       "      <td>2012-08-20</td>\n",
       "      <td>100</td>\n",
       "      <td>8.0</td>\n",
       "    </tr>\n",
       "    <tr>\n",
       "      <th>1</th>\n",
       "      <td>36.0</td>\n",
       "      <td>1.0</td>\n",
       "      <td>2004-05-01</td>\n",
       "      <td>2012-08-20</td>\n",
       "      <td>100</td>\n",
       "      <td>8.0</td>\n",
       "    </tr>\n",
       "    <tr>\n",
       "      <th>2</th>\n",
       "      <td>40.0</td>\n",
       "      <td>1.0</td>\n",
       "      <td>2004-05-01</td>\n",
       "      <td>2012-08-20</td>\n",
       "      <td>100</td>\n",
       "      <td>8.0</td>\n",
       "    </tr>\n",
       "    <tr>\n",
       "      <th>3</th>\n",
       "      <td>50.0</td>\n",
       "      <td>1.0</td>\n",
       "      <td>2004-05-01</td>\n",
       "      <td>2014-04-01</td>\n",
       "      <td>119</td>\n",
       "      <td>10.0</td>\n",
       "    </tr>\n",
       "    <tr>\n",
       "      <th>4</th>\n",
       "      <td>20.0</td>\n",
       "      <td>1.0</td>\n",
       "      <td>2004-05-01</td>\n",
       "      <td>2014-04-01</td>\n",
       "      <td>119</td>\n",
       "      <td>10.0</td>\n",
       "    </tr>\n",
       "  </tbody>\n",
       "</table>\n",
       "</div>"
      ],
      "text/plain": [
       "   Quantity  EmployeeId   HireDate  OrderDate  MonthsInJob  YrsInJob\n",
       "0      45.0         1.0 2004-05-01 2012-08-20          100       8.0\n",
       "1      36.0         1.0 2004-05-01 2012-08-20          100       8.0\n",
       "2      40.0         1.0 2004-05-01 2012-08-20          100       8.0\n",
       "3      50.0         1.0 2004-05-01 2014-04-01          119      10.0\n",
       "4      20.0         1.0 2004-05-01 2014-04-01          119      10.0"
      ]
     },
     "execution_count": 20,
     "metadata": {},
     "output_type": "execute_result"
    }
   ],
   "source": [
    "#q3df.drop(['HireDate', 'OrderDate'], axis = 1, inplace = True)\n",
    "q3df['MonthsInJob'] = q3df['MonthsInJob'].astype('int64')\n",
    "\n",
    "q3df.head()\n"
   ]
  },
  {
   "cell_type": "code",
   "execution_count": 34,
   "metadata": {},
   "outputs": [
    {
     "data": {
      "text/html": [
       "<div>\n",
       "<style scoped>\n",
       "    .dataframe tbody tr th:only-of-type {\n",
       "        vertical-align: middle;\n",
       "    }\n",
       "\n",
       "    .dataframe tbody tr th {\n",
       "        vertical-align: top;\n",
       "    }\n",
       "\n",
       "    .dataframe thead th {\n",
       "        text-align: right;\n",
       "    }\n",
       "</style>\n",
       "<table border=\"1\" class=\"dataframe\">\n",
       "  <thead>\n",
       "    <tr style=\"text-align: right;\">\n",
       "      <th></th>\n",
       "      <th>Employee</th>\n",
       "      <th>Quantity</th>\n",
       "      <th>Year</th>\n",
       "    </tr>\n",
       "  </thead>\n",
       "  <tbody>\n",
       "    <tr>\n",
       "      <th>0</th>\n",
       "      <td>1</td>\n",
       "      <td>1620</td>\n",
       "      <td>2012</td>\n",
       "    </tr>\n",
       "    <tr>\n",
       "      <th>1</th>\n",
       "      <td>2</td>\n",
       "      <td>1085</td>\n",
       "      <td>2012</td>\n",
       "    </tr>\n",
       "    <tr>\n",
       "      <th>2</th>\n",
       "      <td>3</td>\n",
       "      <td>940</td>\n",
       "      <td>2012</td>\n",
       "    </tr>\n",
       "    <tr>\n",
       "      <th>3</th>\n",
       "      <td>4</td>\n",
       "      <td>2212</td>\n",
       "      <td>2012</td>\n",
       "    </tr>\n",
       "    <tr>\n",
       "      <th>4</th>\n",
       "      <td>5</td>\n",
       "      <td>778</td>\n",
       "      <td>2012</td>\n",
       "    </tr>\n",
       "  </tbody>\n",
       "</table>\n",
       "</div>"
      ],
      "text/plain": [
       "   Employee  Quantity  Year\n",
       "0         1      1620  2012\n",
       "1         2      1085  2012\n",
       "2         3       940  2012\n",
       "3         4      2212  2012\n",
       "4         5       778  2012"
      ]
     },
     "execution_count": 34,
     "metadata": {},
     "output_type": "execute_result"
    }
   ],
   "source": [
    "graphB = pd.read_csv('q3-for-pdf.csv')\n",
    "graphB.head()"
   ]
  },
  {
   "cell_type": "code",
   "execution_count": 40,
   "metadata": {},
   "outputs": [
    {
     "data": {
      "image/png": "[encoded data removed]",
      "text/plain": [
       "<Figure size 720x360 with 1 Axes>"
      ]
     },
     "metadata": {
      "needs_background": "light"
     },
     "output_type": "display_data"
    }
   ],
   "source": [
    "plt.rcParams['figure.figsize'] = (10,5)\n",
    "ax = sns.barplot(x=\"Year\", y=\"Quantity\", hue='Employee', data=graphB)"
   ]
  },
  {
   "cell_type": "code",
   "execution_count": 24,
   "metadata": {},
   "outputs": [],
   "source": [
    "Quantity_perEmployee_byMonthsInJob = copy.deepcopy(q3df)"
   ]
  },
  {
   "cell_type": "code",
   "execution_count": 67,
   "metadata": {},
   "outputs": [
    {
     "name": "stderr",
     "output_type": "stream",
     "text": [
      "C:\\Users\\mngav\\Anaconda3\\envs\\learn-env\\lib\\site-packages\\pandas\\core\\frame.py:3940: SettingWithCopyWarning: \n",
      "A value is trying to be set on a copy of a slice from a DataFrame\n",
      "\n",
      "See the caveats in the documentation: http://pandas.pydata.org/pandas-docs/stable/indexing.html#indexing-view-versus-copy\n",
      "  errors=errors)\n"
     ]
    }
   ],
   "source": [
    "# splitting datafram into testible constituent eliments\n",
    "\n",
    "empl_1 = Quantity_perEmployee_byMonthsInJob[Quantity_perEmployee_byMonthsInJob['EmployeeId']==1]\n",
    "empl_1.drop(['EmployeeId'], axis = 1, inplace = True)\n",
    "\n",
    "empl_2 = Quantity_perEmployee_byMonthsInJob[Quantity_perEmployee_byMonthsInJob['EmployeeId']==2]\n",
    "empl_2.drop(['EmployeeId'], axis = 1, inplace = True)\n",
    "\n",
    "empl_3 = Quantity_perEmployee_byMonthsInJob[Quantity_perEmployee_byMonthsInJob['EmployeeId']==3]\n",
    "empl_3.drop(['EmployeeId'], axis = 1, inplace = True)\n",
    "\n",
    "empl_4 = Quantity_perEmployee_byMonthsInJob[Quantity_perEmployee_byMonthsInJob['EmployeeId']==4]\n",
    "empl_4.drop(['EmployeeId'], axis = 1, inplace = True)\n",
    "\n",
    "empl_5 = Quantity_perEmployee_byMonthsInJob[Quantity_perEmployee_byMonthsInJob['EmployeeId']==5]\n",
    "empl_5.drop(['EmployeeId'], axis = 1, inplace = True)\n",
    "\n",
    "empl_6 = Quantity_perEmployee_byMonthsInJob[Quantity_perEmployee_byMonthsInJob['EmployeeId']==6]\n",
    "empl_6.drop(['EmployeeId'], axis = 1, inplace = True)\n",
    "\n",
    "empl_7 = Quantity_perEmployee_byMonthsInJob[Quantity_perEmployee_byMonthsInJob['EmployeeId']==7]\n",
    "empl_7.drop(['EmployeeId'], axis = 1, inplace = True)\n",
    "\n",
    "empl_8 = Quantity_perEmployee_byMonthsInJob[Quantity_perEmployee_byMonthsInJob['EmployeeId']==8]\n",
    "empl_8.drop(['EmployeeId'], axis = 1, inplace = True)\n",
    "\n",
    "empl_9 = Quantity_perEmployee_byMonthsInJob[Quantity_perEmployee_byMonthsInJob['EmployeeId']==9]\n",
    "empl_9.drop(['EmployeeId'], axis = 1, inplace = True)\n"
   ]
  },
  {
   "cell_type": "code",
   "execution_count": 68,
   "metadata": {},
   "outputs": [
    {
     "data": {
      "text/html": [
       "<div>\n",
       "<style scoped>\n",
       "    .dataframe tbody tr th:only-of-type {\n",
       "        vertical-align: middle;\n",
       "    }\n",
       "\n",
       "    .dataframe tbody tr th {\n",
       "        vertical-align: top;\n",
       "    }\n",
       "\n",
       "    .dataframe thead th {\n",
       "        text-align: right;\n",
       "    }\n",
       "</style>\n",
       "<table border=\"1\" class=\"dataframe\">\n",
       "  <thead>\n",
       "    <tr style=\"text-align: right;\">\n",
       "      <th></th>\n",
       "      <th>Quantity</th>\n",
       "      <th>HireDate</th>\n",
       "      <th>OrderDate</th>\n",
       "      <th>MonthsInJob</th>\n",
       "      <th>YrsInJob</th>\n",
       "    </tr>\n",
       "  </thead>\n",
       "  <tbody>\n",
       "    <tr>\n",
       "      <th>0</th>\n",
       "      <td>45.0</td>\n",
       "      <td>2004-05-01</td>\n",
       "      <td>2012-08-20</td>\n",
       "      <td>100</td>\n",
       "      <td>8.0</td>\n",
       "    </tr>\n",
       "    <tr>\n",
       "      <th>1</th>\n",
       "      <td>36.0</td>\n",
       "      <td>2004-05-01</td>\n",
       "      <td>2012-08-20</td>\n",
       "      <td>100</td>\n",
       "      <td>8.0</td>\n",
       "    </tr>\n",
       "    <tr>\n",
       "      <th>2</th>\n",
       "      <td>40.0</td>\n",
       "      <td>2004-05-01</td>\n",
       "      <td>2012-08-20</td>\n",
       "      <td>100</td>\n",
       "      <td>8.0</td>\n",
       "    </tr>\n",
       "    <tr>\n",
       "      <th>3</th>\n",
       "      <td>50.0</td>\n",
       "      <td>2004-05-01</td>\n",
       "      <td>2014-04-01</td>\n",
       "      <td>119</td>\n",
       "      <td>10.0</td>\n",
       "    </tr>\n",
       "    <tr>\n",
       "      <th>4</th>\n",
       "      <td>20.0</td>\n",
       "      <td>2004-05-01</td>\n",
       "      <td>2014-04-01</td>\n",
       "      <td>119</td>\n",
       "      <td>10.0</td>\n",
       "    </tr>\n",
       "  </tbody>\n",
       "</table>\n",
       "</div>"
      ],
      "text/plain": [
       "   Quantity   HireDate  OrderDate  MonthsInJob  YrsInJob\n",
       "0      45.0 2004-05-01 2012-08-20          100       8.0\n",
       "1      36.0 2004-05-01 2012-08-20          100       8.0\n",
       "2      40.0 2004-05-01 2012-08-20          100       8.0\n",
       "3      50.0 2004-05-01 2014-04-01          119      10.0\n",
       "4      20.0 2004-05-01 2014-04-01          119      10.0"
      ]
     },
     "execution_count": 68,
     "metadata": {},
     "output_type": "execute_result"
    }
   ],
   "source": [
    "empl_1.head()"
   ]
  },
  {
   "cell_type": "code",
   "execution_count": 69,
   "metadata": {},
   "outputs": [
    {
     "name": "stderr",
     "output_type": "stream",
     "text": [
      "C:\\Users\\mngav\\Anaconda3\\envs\\learn-env\\lib\\site-packages\\scipy\\stats\\stats.py:1713: FutureWarning: Using a non-tuple sequence for multidimensional indexing is deprecated; use `arr[tuple(seq)]` instead of `arr[seq]`. In the future this will be interpreted as an array index, `arr[np.array(seq)]`, which will result either in an error or a different result.\n",
      "  return np.add.reduce(sorted[indexer] * weights, axis=axis) / sumval\n"
     ]
    },
    {
     "data": {
      "text/plain": [
       "<matplotlib.axes._subplots.AxesSubplot at 0x1b4985175c0>"
      ]
     },
     "execution_count": 69,
     "metadata": {},
     "output_type": "execute_result"
    },
    {
     "data": {
      "image/png": "[encoded data removed]",
      "text/plain": [
       "<Figure size 720x504 with 1 Axes>"
      ]
     },
     "metadata": {},
     "output_type": "display_data"
    }
   ],
   "source": [
    "sns.distplot(empl_1['Quantity'], label = 'emp1')\n",
    "sns.distplot(empl_2['Quantity'], label = 'emp2')\n",
    "sns.distplot(empl_3['Quantity'], label = 'emp3')\n",
    "sns.distplot(empl_4['Quantity'], label = 'emp4')\n",
    "sns.distplot(empl_5['Quantity'], label = 'emp5')\n",
    "sns.distplot(empl_6['Quantity'], label = 'emp6')\n",
    "sns.distplot(empl_7['Quantity'], label = 'emp7')\n",
    "sns.distplot(empl_8['Quantity'], label = 'emp8')\n",
    "sns.distplot(empl_9['Quantity'], label = 'emp9')"
   ]
  },
  {
   "cell_type": "code",
   "execution_count": 70,
   "metadata": {},
   "outputs": [
    {
     "name": "stdout",
     "output_type": "stream",
     "text": [
      "NormaltestResult(statistic=132.86674008677198, pvalue=1.407194003933747e-29)\n",
      "NormaltestResult(statistic=106.79887681764708, pvalue=6.4404848402372496e-24)\n",
      "NormaltestResult(statistic=98.38594839767316, pvalue=4.322776253133252e-22)\n",
      "NormaltestResult(statistic=155.06321850560707, pvalue=2.1303449372777765e-34)\n",
      "NormaltestResult(statistic=60.08853705036921, pvalue=8.952410062218527e-14)\n",
      "NormaltestResult(statistic=114.94903007829242, pvalue=1.09429715073395e-25)\n",
      "NormaltestResult(statistic=67.62002226670552, pvalue=2.0725200070387664e-15)\n",
      "NormaltestResult(statistic=98.80753496906374, pvalue=3.501195779169355e-22)\n",
      "NormaltestResult(statistic=43.76567579794708, pvalue=3.1362036223197405e-10)\n"
     ]
    }
   ],
   "source": [
    "print(stats.normaltest(empl_1.Quantity))\n",
    "print(stats.normaltest(empl_2.Quantity))\n",
    "print(stats.normaltest(empl_3.Quantity))\n",
    "print(stats.normaltest(empl_4.Quantity))\n",
    "print(stats.normaltest(empl_5.Quantity))\n",
    "print(stats.normaltest(empl_6.Quantity))\n",
    "print(stats.normaltest(empl_7.Quantity))\n",
    "print(stats.normaltest(empl_8.Quantity))\n",
    "print(stats.normaltest(empl_9.Quantity))"
   ]
  },
  {
   "cell_type": "markdown",
   "metadata": {},
   "source": [
    "<a id='log_transform_here'></a>\n",
    "\n",
    "data is not gaussian but we can't resample since we need to keep associations between quantity and MonthsInJob so, lets see if we can use log transformation"
   ]
  },
  {
   "cell_type": "code",
   "execution_count": 71,
   "metadata": {},
   "outputs": [
    {
     "name": "stderr",
     "output_type": "stream",
     "text": [
      "C:\\Users\\mngav\\Anaconda3\\envs\\learn-env\\lib\\site-packages\\ipykernel_launcher.py:1: SettingWithCopyWarning: \n",
      "A value is trying to be set on a copy of a slice from a DataFrame.\n",
      "Try using .loc[row_indexer,col_indexer] = value instead\n",
      "\n",
      "See the caveats in the documentation: http://pandas.pydata.org/pandas-docs/stable/indexing.html#indexing-view-versus-copy\n",
      "  \"\"\"Entry point for launching an IPython kernel.\n",
      "C:\\Users\\mngav\\Anaconda3\\envs\\learn-env\\lib\\site-packages\\ipykernel_launcher.py:2: SettingWithCopyWarning: \n",
      "A value is trying to be set on a copy of a slice from a DataFrame.\n",
      "Try using .loc[row_indexer,col_indexer] = value instead\n",
      "\n",
      "See the caveats in the documentation: http://pandas.pydata.org/pandas-docs/stable/indexing.html#indexing-view-versus-copy\n",
      "  \n",
      "C:\\Users\\mngav\\Anaconda3\\envs\\learn-env\\lib\\site-packages\\ipykernel_launcher.py:3: SettingWithCopyWarning: \n",
      "A value is trying to be set on a copy of a slice from a DataFrame.\n",
      "Try using .loc[row_indexer,col_indexer] = value instead\n",
      "\n",
      "See the caveats in the documentation: http://pandas.pydata.org/pandas-docs/stable/indexing.html#indexing-view-versus-copy\n",
      "  This is separate from the ipykernel package so we can avoid doing imports until\n",
      "C:\\Users\\mngav\\Anaconda3\\envs\\learn-env\\lib\\site-packages\\ipykernel_launcher.py:4: SettingWithCopyWarning: \n",
      "A value is trying to be set on a copy of a slice from a DataFrame.\n",
      "Try using .loc[row_indexer,col_indexer] = value instead\n",
      "\n",
      "See the caveats in the documentation: http://pandas.pydata.org/pandas-docs/stable/indexing.html#indexing-view-versus-copy\n",
      "  after removing the cwd from sys.path.\n",
      "C:\\Users\\mngav\\Anaconda3\\envs\\learn-env\\lib\\site-packages\\ipykernel_launcher.py:5: SettingWithCopyWarning: \n",
      "A value is trying to be set on a copy of a slice from a DataFrame.\n",
      "Try using .loc[row_indexer,col_indexer] = value instead\n",
      "\n",
      "See the caveats in the documentation: http://pandas.pydata.org/pandas-docs/stable/indexing.html#indexing-view-versus-copy\n",
      "  \"\"\"\n",
      "C:\\Users\\mngav\\Anaconda3\\envs\\learn-env\\lib\\site-packages\\ipykernel_launcher.py:6: SettingWithCopyWarning: \n",
      "A value is trying to be set on a copy of a slice from a DataFrame.\n",
      "Try using .loc[row_indexer,col_indexer] = value instead\n",
      "\n",
      "See the caveats in the documentation: http://pandas.pydata.org/pandas-docs/stable/indexing.html#indexing-view-versus-copy\n",
      "  \n",
      "C:\\Users\\mngav\\Anaconda3\\envs\\learn-env\\lib\\site-packages\\ipykernel_launcher.py:7: SettingWithCopyWarning: \n",
      "A value is trying to be set on a copy of a slice from a DataFrame.\n",
      "Try using .loc[row_indexer,col_indexer] = value instead\n",
      "\n",
      "See the caveats in the documentation: http://pandas.pydata.org/pandas-docs/stable/indexing.html#indexing-view-versus-copy\n",
      "  import sys\n",
      "C:\\Users\\mngav\\Anaconda3\\envs\\learn-env\\lib\\site-packages\\ipykernel_launcher.py:8: SettingWithCopyWarning: \n",
      "A value is trying to be set on a copy of a slice from a DataFrame.\n",
      "Try using .loc[row_indexer,col_indexer] = value instead\n",
      "\n",
      "See the caveats in the documentation: http://pandas.pydata.org/pandas-docs/stable/indexing.html#indexing-view-versus-copy\n",
      "  \n",
      "C:\\Users\\mngav\\Anaconda3\\envs\\learn-env\\lib\\site-packages\\ipykernel_launcher.py:9: SettingWithCopyWarning: \n",
      "A value is trying to be set on a copy of a slice from a DataFrame.\n",
      "Try using .loc[row_indexer,col_indexer] = value instead\n",
      "\n",
      "See the caveats in the documentation: http://pandas.pydata.org/pandas-docs/stable/indexing.html#indexing-view-versus-copy\n",
      "  if __name__ == '__main__':\n"
     ]
    }
   ],
   "source": [
    "empl_1['log'] = np.log(empl_1['Quantity'])\n",
    "empl_2['log'] = np.log(empl_2['Quantity'])\n",
    "empl_3['log'] = np.log(empl_3['Quantity'])\n",
    "empl_4['log'] = np.log(empl_4['Quantity'])\n",
    "empl_5['log'] = np.log(empl_5['Quantity'])\n",
    "empl_6['log'] = np.log(empl_6['Quantity'])\n",
    "empl_7['log'] = np.log(empl_7['Quantity'])\n",
    "empl_8['log'] = np.log(empl_8['Quantity'])\n",
    "empl_9['log'] = np.log(empl_9['Quantity'])"
   ]
  },
  {
   "cell_type": "code",
   "execution_count": 72,
   "metadata": {},
   "outputs": [
    {
     "name": "stderr",
     "output_type": "stream",
     "text": [
      "C:\\Users\\mngav\\Anaconda3\\envs\\learn-env\\lib\\site-packages\\scipy\\stats\\stats.py:1713: FutureWarning: Using a non-tuple sequence for multidimensional indexing is deprecated; use `arr[tuple(seq)]` instead of `arr[seq]`. In the future this will be interpreted as an array index, `arr[np.array(seq)]`, which will result either in an error or a different result.\n",
      "  return np.add.reduce(sorted[indexer] * weights, axis=axis) / sumval\n"
     ]
    },
    {
     "data": {
      "text/plain": [
       "<matplotlib.axes._subplots.AxesSubplot at 0x1b498213c88>"
      ]
     },
     "execution_count": 72,
     "metadata": {},
     "output_type": "execute_result"
    },
    {
     "data": {
      "image/png": "[encoded data removed]",
      "text/plain": [
       "<Figure size 720x504 with 1 Axes>"
      ]
     },
     "metadata": {},
     "output_type": "display_data"
    }
   ],
   "source": [
    "sns.distplot(empl_1['log'], label = 'emp1')\n",
    "sns.distplot(empl_2['log'], label = 'emp2')\n",
    "sns.distplot(empl_3['log'], label = 'emp3')\n",
    "sns.distplot(empl_4['log'], label = 'emp4')\n",
    "sns.distplot(empl_5['log'], label = 'emp5')\n",
    "sns.distplot(empl_6['log'], label = 'emp6')\n",
    "sns.distplot(empl_7['log'], label = 'emp7')\n",
    "sns.distplot(empl_8['log'], label = 'emp8')\n",
    "sns.distplot(empl_9['log'], label = 'emp9')"
   ]
  },
  {
   "cell_type": "code",
   "execution_count": 73,
   "metadata": {},
   "outputs": [
    {
     "name": "stdout",
     "output_type": "stream",
     "text": [
      "NormaltestResult(statistic=23.09544138812283, pvalue=9.658031644020506e-06)\n",
      "NormaltestResult(statistic=9.573102675782499, pvalue=0.008341173726750983)\n",
      "NormaltestResult(statistic=13.896732520879489, pvalue=0.000960202593914372)\n",
      "NormaltestResult(statistic=27.19000664999532, pvalue=1.2467089421097758e-06)\n",
      "NormaltestResult(statistic=1.1694799877826618, pvalue=0.5572507315721156)\n",
      "NormaltestResult(statistic=8.18463802753808, pvalue=0.01670046002103526)\n",
      "NormaltestResult(statistic=9.259612322961752, pvalue=0.009756650133673144)\n",
      "NormaltestResult(statistic=3.8867991580130616, pvalue=0.14321624630982302)\n",
      "NormaltestResult(statistic=20.663728398616882, pvalue=3.257829791806402e-05)\n"
     ]
    }
   ],
   "source": [
    "print(stats.normaltest(empl_1.log))\n",
    "print(stats.normaltest(empl_2.log))\n",
    "print(stats.normaltest(empl_3.log))\n",
    "print(stats.normaltest(empl_4.log))\n",
    "print(stats.normaltest(empl_5.log))\n",
    "print(stats.normaltest(empl_6.log))\n",
    "print(stats.normaltest(empl_7.log))\n",
    "print(stats.normaltest(empl_8.log))\n",
    "print(stats.normaltest(empl_9.log))"
   ]
  },
  {
   "cell_type": "code",
   "execution_count": 74,
   "metadata": {},
   "outputs": [
    {
     "data": {
      "text/html": [
       "<div>\n",
       "<style scoped>\n",
       "    .dataframe tbody tr th:only-of-type {\n",
       "        vertical-align: middle;\n",
       "    }\n",
       "\n",
       "    .dataframe tbody tr th {\n",
       "        vertical-align: top;\n",
       "    }\n",
       "\n",
       "    .dataframe thead th {\n",
       "        text-align: right;\n",
       "    }\n",
       "</style>\n",
       "<table border=\"1\" class=\"dataframe\">\n",
       "  <thead>\n",
       "    <tr style=\"text-align: right;\">\n",
       "      <th></th>\n",
       "      <th>Quantity</th>\n",
       "      <th>HireDate</th>\n",
       "      <th>OrderDate</th>\n",
       "      <th>MonthsInJob</th>\n",
       "      <th>YrsInJob</th>\n",
       "      <th>log</th>\n",
       "    </tr>\n",
       "  </thead>\n",
       "  <tbody>\n",
       "    <tr>\n",
       "      <th>0</th>\n",
       "      <td>45.0</td>\n",
       "      <td>2004-05-01</td>\n",
       "      <td>2012-08-20</td>\n",
       "      <td>100</td>\n",
       "      <td>8.0</td>\n",
       "      <td>3.806662</td>\n",
       "    </tr>\n",
       "    <tr>\n",
       "      <th>1</th>\n",
       "      <td>36.0</td>\n",
       "      <td>2004-05-01</td>\n",
       "      <td>2012-08-20</td>\n",
       "      <td>100</td>\n",
       "      <td>8.0</td>\n",
       "      <td>3.583519</td>\n",
       "    </tr>\n",
       "    <tr>\n",
       "      <th>2</th>\n",
       "      <td>40.0</td>\n",
       "      <td>2004-05-01</td>\n",
       "      <td>2012-08-20</td>\n",
       "      <td>100</td>\n",
       "      <td>8.0</td>\n",
       "      <td>3.688879</td>\n",
       "    </tr>\n",
       "    <tr>\n",
       "      <th>3</th>\n",
       "      <td>50.0</td>\n",
       "      <td>2004-05-01</td>\n",
       "      <td>2014-04-01</td>\n",
       "      <td>119</td>\n",
       "      <td>10.0</td>\n",
       "      <td>3.912023</td>\n",
       "    </tr>\n",
       "    <tr>\n",
       "      <th>4</th>\n",
       "      <td>20.0</td>\n",
       "      <td>2004-05-01</td>\n",
       "      <td>2014-04-01</td>\n",
       "      <td>119</td>\n",
       "      <td>10.0</td>\n",
       "      <td>2.995732</td>\n",
       "    </tr>\n",
       "  </tbody>\n",
       "</table>\n",
       "</div>"
      ],
      "text/plain": [
       "   Quantity   HireDate  OrderDate  MonthsInJob  YrsInJob       log\n",
       "0      45.0 2004-05-01 2012-08-20          100       8.0  3.806662\n",
       "1      36.0 2004-05-01 2012-08-20          100       8.0  3.583519\n",
       "2      40.0 2004-05-01 2012-08-20          100       8.0  3.688879\n",
       "3      50.0 2004-05-01 2014-04-01          119      10.0  3.912023\n",
       "4      20.0 2004-05-01 2014-04-01          119      10.0  2.995732"
      ]
     },
     "execution_count": 74,
     "metadata": {},
     "output_type": "execute_result"
    }
   ],
   "source": [
    "empl_1.head()"
   ]
  },
  {
   "cell_type": "code",
   "execution_count": 75,
   "metadata": {},
   "outputs": [
    {
     "name": "stderr",
     "output_type": "stream",
     "text": [
      "C:\\Users\\mngav\\Anaconda3\\envs\\learn-env\\lib\\site-packages\\ipykernel_launcher.py:1: SettingWithCopyWarning: \n",
      "A value is trying to be set on a copy of a slice from a DataFrame.\n",
      "Try using .loc[row_indexer,col_indexer] = value instead\n",
      "\n",
      "See the caveats in the documentation: http://pandas.pydata.org/pandas-docs/stable/indexing.html#indexing-view-versus-copy\n",
      "  \"\"\"Entry point for launching an IPython kernel.\n",
      "C:\\Users\\mngav\\Anaconda3\\envs\\learn-env\\lib\\site-packages\\ipykernel_launcher.py:2: SettingWithCopyWarning: \n",
      "A value is trying to be set on a copy of a slice from a DataFrame.\n",
      "Try using .loc[row_indexer,col_indexer] = value instead\n",
      "\n",
      "See the caveats in the documentation: http://pandas.pydata.org/pandas-docs/stable/indexing.html#indexing-view-versus-copy\n",
      "  \n",
      "C:\\Users\\mngav\\Anaconda3\\envs\\learn-env\\lib\\site-packages\\ipykernel_launcher.py:3: SettingWithCopyWarning: \n",
      "A value is trying to be set on a copy of a slice from a DataFrame.\n",
      "Try using .loc[row_indexer,col_indexer] = value instead\n",
      "\n",
      "See the caveats in the documentation: http://pandas.pydata.org/pandas-docs/stable/indexing.html#indexing-view-versus-copy\n",
      "  This is separate from the ipykernel package so we can avoid doing imports until\n",
      "C:\\Users\\mngav\\Anaconda3\\envs\\learn-env\\lib\\site-packages\\ipykernel_launcher.py:4: SettingWithCopyWarning: \n",
      "A value is trying to be set on a copy of a slice from a DataFrame.\n",
      "Try using .loc[row_indexer,col_indexer] = value instead\n",
      "\n",
      "See the caveats in the documentation: http://pandas.pydata.org/pandas-docs/stable/indexing.html#indexing-view-versus-copy\n",
      "  after removing the cwd from sys.path.\n",
      "C:\\Users\\mngav\\Anaconda3\\envs\\learn-env\\lib\\site-packages\\ipykernel_launcher.py:5: SettingWithCopyWarning: \n",
      "A value is trying to be set on a copy of a slice from a DataFrame.\n",
      "Try using .loc[row_indexer,col_indexer] = value instead\n",
      "\n",
      "See the caveats in the documentation: http://pandas.pydata.org/pandas-docs/stable/indexing.html#indexing-view-versus-copy\n",
      "  \"\"\"\n",
      "C:\\Users\\mngav\\Anaconda3\\envs\\learn-env\\lib\\site-packages\\ipykernel_launcher.py:6: SettingWithCopyWarning: \n",
      "A value is trying to be set on a copy of a slice from a DataFrame.\n",
      "Try using .loc[row_indexer,col_indexer] = value instead\n",
      "\n",
      "See the caveats in the documentation: http://pandas.pydata.org/pandas-docs/stable/indexing.html#indexing-view-versus-copy\n",
      "  \n",
      "C:\\Users\\mngav\\Anaconda3\\envs\\learn-env\\lib\\site-packages\\ipykernel_launcher.py:7: SettingWithCopyWarning: \n",
      "A value is trying to be set on a copy of a slice from a DataFrame.\n",
      "Try using .loc[row_indexer,col_indexer] = value instead\n",
      "\n",
      "See the caveats in the documentation: http://pandas.pydata.org/pandas-docs/stable/indexing.html#indexing-view-versus-copy\n",
      "  import sys\n",
      "C:\\Users\\mngav\\Anaconda3\\envs\\learn-env\\lib\\site-packages\\ipykernel_launcher.py:8: SettingWithCopyWarning: \n",
      "A value is trying to be set on a copy of a slice from a DataFrame.\n",
      "Try using .loc[row_indexer,col_indexer] = value instead\n",
      "\n",
      "See the caveats in the documentation: http://pandas.pydata.org/pandas-docs/stable/indexing.html#indexing-view-versus-copy\n",
      "  \n",
      "C:\\Users\\mngav\\Anaconda3\\envs\\learn-env\\lib\\site-packages\\ipykernel_launcher.py:9: SettingWithCopyWarning: \n",
      "A value is trying to be set on a copy of a slice from a DataFrame.\n",
      "Try using .loc[row_indexer,col_indexer] = value instead\n",
      "\n",
      "See the caveats in the documentation: http://pandas.pydata.org/pandas-docs/stable/indexing.html#indexing-view-versus-copy\n",
      "  if __name__ == '__main__':\n"
     ]
    }
   ],
   "source": [
    "empl_1['boxcox'] = stats.boxcox(empl_1['Quantity'], .5)\n",
    "empl_2['boxcox'] = stats.boxcox(empl_2['Quantity'], .5)\n",
    "empl_3['boxcox'] = stats.boxcox(empl_3['Quantity'], .5)\n",
    "empl_4['boxcox'] = stats.boxcox(empl_4['Quantity'], .5)\n",
    "empl_5['boxcox'] = stats.boxcox(empl_5['Quantity'], .5)\n",
    "empl_6['boxcox'] = stats.boxcox(empl_6['Quantity'], .5)\n",
    "empl_7['boxcox'] = stats.boxcox(empl_7['Quantity'], .5)\n",
    "empl_8['boxcox'] = stats.boxcox(empl_8['Quantity'], .5)\n",
    "empl_9['boxcox'] = stats.boxcox(empl_9['Quantity'], .5)"
   ]
  },
  {
   "cell_type": "code",
   "execution_count": 76,
   "metadata": {},
   "outputs": [
    {
     "name": "stderr",
     "output_type": "stream",
     "text": [
      "C:\\Users\\mngav\\Anaconda3\\envs\\learn-env\\lib\\site-packages\\scipy\\stats\\stats.py:1713: FutureWarning: Using a non-tuple sequence for multidimensional indexing is deprecated; use `arr[tuple(seq)]` instead of `arr[seq]`. In the future this will be interpreted as an array index, `arr[np.array(seq)]`, which will result either in an error or a different result.\n",
      "  return np.add.reduce(sorted[indexer] * weights, axis=axis) / sumval\n"
     ]
    },
    {
     "data": {
      "text/plain": [
       "Text(0.5, 0, 'Order Quantity')"
      ]
     },
     "execution_count": 76,
     "metadata": {},
     "output_type": "execute_result"
    },
    {
     "data": {
      "image/png": "[encoded data removed]",
      "text/plain": [
       "<Figure size 576x360 with 1 Axes>"
      ]
     },
     "metadata": {},
     "output_type": "display_data"
    }
   ],
   "source": [
    "\n",
    "plt.figure(figsize = (8,5))\n",
    "sns.distplot(empl_1['boxcox'], label = 'emp1')\n",
    "sns.distplot(empl_2['boxcox'], label = 'emp2')\n",
    "sns.distplot(empl_3['boxcox'], label = 'emp3')\n",
    "sns.distplot(empl_4['boxcox'], label = 'emp4')\n",
    "sns.distplot(empl_5['boxcox'], label = 'emp5')\n",
    "sns.distplot(empl_6['boxcox'], label = 'emp6')\n",
    "sns.distplot(empl_7['boxcox'], label = 'emp7')\n",
    "sns.distplot(empl_8['boxcox'], label = 'emp8')\n",
    "sns.distplot(empl_9['boxcox'], label = 'emp9')\n",
    "\n",
    "plt.legend()\n",
    "plt.xlabel('Order Quantity')\n"
   ]
  },
  {
   "cell_type": "code",
   "execution_count": 77,
   "metadata": {},
   "outputs": [
    {
     "name": "stdout",
     "output_type": "stream",
     "text": [
      "NormaltestResult(statistic=16.33348047954139, pvalue=0.00028394209263362893)\n",
      "NormaltestResult(statistic=20.35371577870838, pvalue=3.804054895664827e-05)\n",
      "NormaltestResult(statistic=11.750129043094349, pvalue=0.002808612972624808)\n",
      "NormaltestResult(statistic=17.4393151084693, pvalue=0.00016334311750423934)\n",
      "NormaltestResult(statistic=17.68039375885265, pvalue=0.00014479423686999224)\n",
      "NormaltestResult(statistic=20.485874544170688, pvalue=3.560810519207613e-05)\n",
      "NormaltestResult(statistic=11.002330535871463, pvalue=0.0040820120282787494)\n",
      "NormaltestResult(statistic=22.141583997192047, pvalue=1.5560234033776167e-05)\n",
      "NormaltestResult(statistic=2.5653990721773643, pvalue=0.27728774091333613)\n"
     ]
    }
   ],
   "source": [
    "print(stats.normaltest(empl_1.boxcox))\n",
    "print(stats.normaltest(empl_2.boxcox))\n",
    "print(stats.normaltest(empl_3.boxcox))\n",
    "print(stats.normaltest(empl_4.boxcox))\n",
    "print(stats.normaltest(empl_5.boxcox))\n",
    "print(stats.normaltest(empl_6.boxcox))\n",
    "print(stats.normaltest(empl_7.boxcox))\n",
    "print(stats.normaltest(empl_8.boxcox))\n",
    "print(stats.normaltest(empl_9.boxcox))\n",
    "\n"
   ]
  },
  {
   "cell_type": "markdown",
   "metadata": {},
   "source": [
    "log transformation looks the best, will use that data for testing distributions"
   ]
  },
  {
   "cell_type": "code",
   "execution_count": 78,
   "metadata": {},
   "outputs": [
    {
     "data": {
      "text/html": [
       "<div>\n",
       "<style scoped>\n",
       "    .dataframe tbody tr th:only-of-type {\n",
       "        vertical-align: middle;\n",
       "    }\n",
       "\n",
       "    .dataframe tbody tr th {\n",
       "        vertical-align: top;\n",
       "    }\n",
       "\n",
       "    .dataframe thead th {\n",
       "        text-align: right;\n",
       "    }\n",
       "</style>\n",
       "<table border=\"1\" class=\"dataframe\">\n",
       "  <thead>\n",
       "    <tr style=\"text-align: right;\">\n",
       "      <th></th>\n",
       "      <th>Quantity</th>\n",
       "      <th>HireDate</th>\n",
       "      <th>OrderDate</th>\n",
       "      <th>MonthsInJob</th>\n",
       "      <th>YrsInJob</th>\n",
       "      <th>log</th>\n",
       "      <th>boxcox</th>\n",
       "    </tr>\n",
       "  </thead>\n",
       "  <tbody>\n",
       "    <tr>\n",
       "      <th>0</th>\n",
       "      <td>45.0</td>\n",
       "      <td>2004-05-01</td>\n",
       "      <td>2012-08-20</td>\n",
       "      <td>100</td>\n",
       "      <td>8.0</td>\n",
       "      <td>3.806662</td>\n",
       "      <td>11.416408</td>\n",
       "    </tr>\n",
       "    <tr>\n",
       "      <th>1</th>\n",
       "      <td>36.0</td>\n",
       "      <td>2004-05-01</td>\n",
       "      <td>2012-08-20</td>\n",
       "      <td>100</td>\n",
       "      <td>8.0</td>\n",
       "      <td>3.583519</td>\n",
       "      <td>10.000000</td>\n",
       "    </tr>\n",
       "    <tr>\n",
       "      <th>2</th>\n",
       "      <td>40.0</td>\n",
       "      <td>2004-05-01</td>\n",
       "      <td>2012-08-20</td>\n",
       "      <td>100</td>\n",
       "      <td>8.0</td>\n",
       "      <td>3.688879</td>\n",
       "      <td>10.649111</td>\n",
       "    </tr>\n",
       "    <tr>\n",
       "      <th>3</th>\n",
       "      <td>50.0</td>\n",
       "      <td>2004-05-01</td>\n",
       "      <td>2014-04-01</td>\n",
       "      <td>119</td>\n",
       "      <td>10.0</td>\n",
       "      <td>3.912023</td>\n",
       "      <td>12.142136</td>\n",
       "    </tr>\n",
       "    <tr>\n",
       "      <th>4</th>\n",
       "      <td>20.0</td>\n",
       "      <td>2004-05-01</td>\n",
       "      <td>2014-04-01</td>\n",
       "      <td>119</td>\n",
       "      <td>10.0</td>\n",
       "      <td>2.995732</td>\n",
       "      <td>6.944272</td>\n",
       "    </tr>\n",
       "  </tbody>\n",
       "</table>\n",
       "</div>"
      ],
      "text/plain": [
       "   Quantity   HireDate  OrderDate  MonthsInJob  YrsInJob       log     boxcox\n",
       "0      45.0 2004-05-01 2012-08-20          100       8.0  3.806662  11.416408\n",
       "1      36.0 2004-05-01 2012-08-20          100       8.0  3.583519  10.000000\n",
       "2      40.0 2004-05-01 2012-08-20          100       8.0  3.688879  10.649111\n",
       "3      50.0 2004-05-01 2014-04-01          119      10.0  3.912023  12.142136\n",
       "4      20.0 2004-05-01 2014-04-01          119      10.0  2.995732   6.944272"
      ]
     },
     "execution_count": 78,
     "metadata": {},
     "output_type": "execute_result"
    }
   ],
   "source": [
    "empl_1.head()"
   ]
  },
  {
   "cell_type": "code",
   "execution_count": 79,
   "metadata": {},
   "outputs": [
    {
     "name": "stderr",
     "output_type": "stream",
     "text": [
      "C:\\Users\\mngav\\Anaconda3\\envs\\learn-env\\lib\\site-packages\\ipykernel_launcher.py:1: SettingWithCopyWarning: \n",
      "A value is trying to be set on a copy of a slice from a DataFrame.\n",
      "Try using .loc[row_indexer,col_indexer] = value instead\n",
      "\n",
      "See the caveats in the documentation: http://pandas.pydata.org/pandas-docs/stable/indexing.html#indexing-view-versus-copy\n",
      "  \"\"\"Entry point for launching an IPython kernel.\n",
      "C:\\Users\\mngav\\Anaconda3\\envs\\learn-env\\lib\\site-packages\\ipykernel_launcher.py:2: SettingWithCopyWarning: \n",
      "A value is trying to be set on a copy of a slice from a DataFrame.\n",
      "Try using .loc[row_indexer,col_indexer] = value instead\n",
      "\n",
      "See the caveats in the documentation: http://pandas.pydata.org/pandas-docs/stable/indexing.html#indexing-view-versus-copy\n",
      "  \n",
      "C:\\Users\\mngav\\Anaconda3\\envs\\learn-env\\lib\\site-packages\\ipykernel_launcher.py:3: SettingWithCopyWarning: \n",
      "A value is trying to be set on a copy of a slice from a DataFrame.\n",
      "Try using .loc[row_indexer,col_indexer] = value instead\n",
      "\n",
      "See the caveats in the documentation: http://pandas.pydata.org/pandas-docs/stable/indexing.html#indexing-view-versus-copy\n",
      "  This is separate from the ipykernel package so we can avoid doing imports until\n",
      "C:\\Users\\mngav\\Anaconda3\\envs\\learn-env\\lib\\site-packages\\ipykernel_launcher.py:4: SettingWithCopyWarning: \n",
      "A value is trying to be set on a copy of a slice from a DataFrame.\n",
      "Try using .loc[row_indexer,col_indexer] = value instead\n",
      "\n",
      "See the caveats in the documentation: http://pandas.pydata.org/pandas-docs/stable/indexing.html#indexing-view-versus-copy\n",
      "  after removing the cwd from sys.path.\n",
      "C:\\Users\\mngav\\Anaconda3\\envs\\learn-env\\lib\\site-packages\\ipykernel_launcher.py:5: SettingWithCopyWarning: \n",
      "A value is trying to be set on a copy of a slice from a DataFrame.\n",
      "Try using .loc[row_indexer,col_indexer] = value instead\n",
      "\n",
      "See the caveats in the documentation: http://pandas.pydata.org/pandas-docs/stable/indexing.html#indexing-view-versus-copy\n",
      "  \"\"\"\n",
      "C:\\Users\\mngav\\Anaconda3\\envs\\learn-env\\lib\\site-packages\\ipykernel_launcher.py:6: SettingWithCopyWarning: \n",
      "A value is trying to be set on a copy of a slice from a DataFrame.\n",
      "Try using .loc[row_indexer,col_indexer] = value instead\n",
      "\n",
      "See the caveats in the documentation: http://pandas.pydata.org/pandas-docs/stable/indexing.html#indexing-view-versus-copy\n",
      "  \n",
      "C:\\Users\\mngav\\Anaconda3\\envs\\learn-env\\lib\\site-packages\\ipykernel_launcher.py:7: SettingWithCopyWarning: \n",
      "A value is trying to be set on a copy of a slice from a DataFrame.\n",
      "Try using .loc[row_indexer,col_indexer] = value instead\n",
      "\n",
      "See the caveats in the documentation: http://pandas.pydata.org/pandas-docs/stable/indexing.html#indexing-view-versus-copy\n",
      "  import sys\n",
      "C:\\Users\\mngav\\Anaconda3\\envs\\learn-env\\lib\\site-packages\\ipykernel_launcher.py:8: SettingWithCopyWarning: \n",
      "A value is trying to be set on a copy of a slice from a DataFrame.\n",
      "Try using .loc[row_indexer,col_indexer] = value instead\n",
      "\n",
      "See the caveats in the documentation: http://pandas.pydata.org/pandas-docs/stable/indexing.html#indexing-view-versus-copy\n",
      "  \n",
      "C:\\Users\\mngav\\Anaconda3\\envs\\learn-env\\lib\\site-packages\\ipykernel_launcher.py:9: SettingWithCopyWarning: \n",
      "A value is trying to be set on a copy of a slice from a DataFrame.\n",
      "Try using .loc[row_indexer,col_indexer] = value instead\n",
      "\n",
      "See the caveats in the documentation: http://pandas.pydata.org/pandas-docs/stable/indexing.html#indexing-view-versus-copy\n",
      "  if __name__ == '__main__':\n"
     ]
    }
   ],
   "source": [
    "empl_1['Employee'] = 1\n",
    "empl_2['Employee'] = 2\n",
    "empl_3['Employee'] = 3\n",
    "empl_4['Employee'] = 4\n",
    "empl_5['Employee'] = 5\n",
    "empl_6['Employee'] = 6\n",
    "empl_7['Employee'] = 7\n",
    "empl_8['Employee'] = 8\n",
    "empl_9['Employee'] = 9"
   ]
  },
  {
   "cell_type": "code",
   "execution_count": 80,
   "metadata": {},
   "outputs": [
    {
     "data": {
      "text/html": [
       "<div>\n",
       "<style scoped>\n",
       "    .dataframe tbody tr th:only-of-type {\n",
       "        vertical-align: middle;\n",
       "    }\n",
       "\n",
       "    .dataframe tbody tr th {\n",
       "        vertical-align: top;\n",
       "    }\n",
       "\n",
       "    .dataframe thead th {\n",
       "        text-align: right;\n",
       "    }\n",
       "</style>\n",
       "<table border=\"1\" class=\"dataframe\">\n",
       "  <thead>\n",
       "    <tr style=\"text-align: right;\">\n",
       "      <th></th>\n",
       "      <th>Quantity</th>\n",
       "      <th>HireDate</th>\n",
       "      <th>OrderDate</th>\n",
       "      <th>MonthsInJob</th>\n",
       "      <th>YrsInJob</th>\n",
       "      <th>log</th>\n",
       "      <th>boxcox</th>\n",
       "      <th>Employee</th>\n",
       "    </tr>\n",
       "  </thead>\n",
       "  <tbody>\n",
       "    <tr>\n",
       "      <th>0</th>\n",
       "      <td>45.0</td>\n",
       "      <td>2004-05-01</td>\n",
       "      <td>2012-08-20</td>\n",
       "      <td>100</td>\n",
       "      <td>8.0</td>\n",
       "      <td>3.806662</td>\n",
       "      <td>11.416408</td>\n",
       "      <td>1</td>\n",
       "    </tr>\n",
       "    <tr>\n",
       "      <th>1</th>\n",
       "      <td>36.0</td>\n",
       "      <td>2004-05-01</td>\n",
       "      <td>2012-08-20</td>\n",
       "      <td>100</td>\n",
       "      <td>8.0</td>\n",
       "      <td>3.583519</td>\n",
       "      <td>10.000000</td>\n",
       "      <td>1</td>\n",
       "    </tr>\n",
       "    <tr>\n",
       "      <th>2</th>\n",
       "      <td>40.0</td>\n",
       "      <td>2004-05-01</td>\n",
       "      <td>2012-08-20</td>\n",
       "      <td>100</td>\n",
       "      <td>8.0</td>\n",
       "      <td>3.688879</td>\n",
       "      <td>10.649111</td>\n",
       "      <td>1</td>\n",
       "    </tr>\n",
       "    <tr>\n",
       "      <th>3</th>\n",
       "      <td>50.0</td>\n",
       "      <td>2004-05-01</td>\n",
       "      <td>2014-04-01</td>\n",
       "      <td>119</td>\n",
       "      <td>10.0</td>\n",
       "      <td>3.912023</td>\n",
       "      <td>12.142136</td>\n",
       "      <td>1</td>\n",
       "    </tr>\n",
       "    <tr>\n",
       "      <th>4</th>\n",
       "      <td>20.0</td>\n",
       "      <td>2004-05-01</td>\n",
       "      <td>2014-04-01</td>\n",
       "      <td>119</td>\n",
       "      <td>10.0</td>\n",
       "      <td>2.995732</td>\n",
       "      <td>6.944272</td>\n",
       "      <td>1</td>\n",
       "    </tr>\n",
       "  </tbody>\n",
       "</table>\n",
       "</div>"
      ],
      "text/plain": [
       "   Quantity   HireDate  OrderDate  MonthsInJob  YrsInJob       log     boxcox  \\\n",
       "0      45.0 2004-05-01 2012-08-20          100       8.0  3.806662  11.416408   \n",
       "1      36.0 2004-05-01 2012-08-20          100       8.0  3.583519  10.000000   \n",
       "2      40.0 2004-05-01 2012-08-20          100       8.0  3.688879  10.649111   \n",
       "3      50.0 2004-05-01 2014-04-01          119      10.0  3.912023  12.142136   \n",
       "4      20.0 2004-05-01 2014-04-01          119      10.0  2.995732   6.944272   \n",
       "\n",
       "   Employee  \n",
       "0         1  \n",
       "1         1  \n",
       "2         1  \n",
       "3         1  \n",
       "4         1  "
      ]
     },
     "execution_count": 80,
     "metadata": {},
     "output_type": "execute_result"
    }
   ],
   "source": [
    "empl_1.head()"
   ]
  },
  {
   "cell_type": "code",
   "execution_count": 81,
   "metadata": {},
   "outputs": [
    {
     "data": {
      "text/html": [
       "<div>\n",
       "<style scoped>\n",
       "    .dataframe tbody tr th:only-of-type {\n",
       "        vertical-align: middle;\n",
       "    }\n",
       "\n",
       "    .dataframe tbody tr th {\n",
       "        vertical-align: top;\n",
       "    }\n",
       "\n",
       "    .dataframe thead th {\n",
       "        text-align: right;\n",
       "    }\n",
       "</style>\n",
       "<table border=\"1\" class=\"dataframe\">\n",
       "  <thead>\n",
       "    <tr style=\"text-align: right;\">\n",
       "      <th></th>\n",
       "      <th>Quantity</th>\n",
       "      <th>HireDate</th>\n",
       "      <th>OrderDate</th>\n",
       "      <th>MonthsInJob</th>\n",
       "      <th>YrsInJob</th>\n",
       "      <th>log</th>\n",
       "      <th>boxcox</th>\n",
       "      <th>Employee</th>\n",
       "    </tr>\n",
       "  </thead>\n",
       "  <tbody>\n",
       "    <tr>\n",
       "      <th>1982</th>\n",
       "      <td>20.0</td>\n",
       "      <td>2006-11-15</td>\n",
       "      <td>2014-03-26</td>\n",
       "      <td>88</td>\n",
       "      <td>7.0</td>\n",
       "      <td>2.995732</td>\n",
       "      <td>6.944272</td>\n",
       "      <td>9</td>\n",
       "    </tr>\n",
       "    <tr>\n",
       "      <th>1983</th>\n",
       "      <td>6.0</td>\n",
       "      <td>2006-11-15</td>\n",
       "      <td>2014-03-26</td>\n",
       "      <td>88</td>\n",
       "      <td>7.0</td>\n",
       "      <td>1.791759</td>\n",
       "      <td>2.898979</td>\n",
       "      <td>9</td>\n",
       "    </tr>\n",
       "    <tr>\n",
       "      <th>1984</th>\n",
       "      <td>40.0</td>\n",
       "      <td>2006-11-15</td>\n",
       "      <td>2014-03-26</td>\n",
       "      <td>88</td>\n",
       "      <td>7.0</td>\n",
       "      <td>3.688879</td>\n",
       "      <td>10.649111</td>\n",
       "      <td>9</td>\n",
       "    </tr>\n",
       "    <tr>\n",
       "      <th>1985</th>\n",
       "      <td>10.0</td>\n",
       "      <td>2006-11-15</td>\n",
       "      <td>2014-03-26</td>\n",
       "      <td>88</td>\n",
       "      <td>7.0</td>\n",
       "      <td>2.302585</td>\n",
       "      <td>4.324555</td>\n",
       "      <td>9</td>\n",
       "    </tr>\n",
       "    <tr>\n",
       "      <th>1986</th>\n",
       "      <td>40.0</td>\n",
       "      <td>2006-11-15</td>\n",
       "      <td>2014-03-24</td>\n",
       "      <td>88</td>\n",
       "      <td>7.0</td>\n",
       "      <td>3.688879</td>\n",
       "      <td>10.649111</td>\n",
       "      <td>9</td>\n",
       "    </tr>\n",
       "  </tbody>\n",
       "</table>\n",
       "</div>"
      ],
      "text/plain": [
       "      Quantity   HireDate  OrderDate  MonthsInJob  YrsInJob       log  \\\n",
       "1982      20.0 2006-11-15 2014-03-26           88       7.0  2.995732   \n",
       "1983       6.0 2006-11-15 2014-03-26           88       7.0  1.791759   \n",
       "1984      40.0 2006-11-15 2014-03-26           88       7.0  3.688879   \n",
       "1985      10.0 2006-11-15 2014-03-26           88       7.0  2.302585   \n",
       "1986      40.0 2006-11-15 2014-03-24           88       7.0  3.688879   \n",
       "\n",
       "         boxcox  Employee  \n",
       "1982   6.944272         9  \n",
       "1983   2.898979         9  \n",
       "1984  10.649111         9  \n",
       "1985   4.324555         9  \n",
       "1986  10.649111         9  "
      ]
     },
     "execution_count": 81,
     "metadata": {},
     "output_type": "execute_result"
    }
   ],
   "source": [
    "q3_transformed_data = pd.concat([empl_1, empl_2, empl_3, empl_4, empl_5, empl_6, empl_7, empl_8, empl_9])\n",
    "q3_transformed_data.tail()"
   ]
  },
  {
   "cell_type": "code",
   "execution_count": 82,
   "metadata": {},
   "outputs": [],
   "source": [
    "q3_transformed_data_v2 = copy.deepcopy(q3_transformed_data)"
   ]
  },
  {
   "cell_type": "code",
   "execution_count": 83,
   "metadata": {},
   "outputs": [
    {
     "name": "stdout",
     "output_type": "stream",
     "text": [
      "<class 'pandas.core.frame.DataFrame'>\n",
      "Int64Index: 2155 entries, 0 to 1986\n",
      "Data columns (total 6 columns):\n",
      "HireDate       2155 non-null datetime64[ns]\n",
      "OrderDate      2155 non-null datetime64[ns]\n",
      "MonthsInJob    2155 non-null int64\n",
      "YrsInJob       2155 non-null float64\n",
      "log            2155 non-null float64\n",
      "Employee       2155 non-null int64\n",
      "dtypes: datetime64[ns](2), float64(2), int64(2)\n",
      "memory usage: 117.9 KB\n"
     ]
    }
   ],
   "source": [
    "q3_transformed_data_v2.drop(columns = ['Quantity', 'boxcox'], inplace = True, axis = 1)\n",
    "q3_transformed_data_v2.MonthsInJob = q3_transformed_data_v2.MonthsInJob.astype('int64')\n",
    "q3_transformed_data_v2.info()"
   ]
  },
  {
   "cell_type": "markdown",
   "metadata": {},
   "source": [
    "And now, we can run the ANOVA"
   ]
  },
  {
   "cell_type": "code",
   "execution_count": 84,
   "metadata": {},
   "outputs": [
    {
     "name": "stdout",
     "output_type": "stream",
     "text": [
      "                  sum_sq      df         F    PR(>F)\n",
      "C(Employee)    13.569629     8.0  2.235877  0.022476\n",
      "MonthsInJob     4.139111     1.0  5.456032  0.019593\n",
      "Residual     1627.261833  2145.0       NaN       NaN\n"
     ]
    }
   ],
   "source": [
    "formula = \"log ~ C(Employee) + MonthsInJob\"\n",
    "           \n",
    "lm = ols(formula, q3_transformed_data_v2).fit()\n",
    "table = sm.stats.anova_lm(lm, typ=2)\n",
    "print(table)\n"
   ]
  },
  {
   "cell_type": "markdown",
   "metadata": {},
   "source": [
    "##### <font color='blue'> Conclusion Question 3 </font>\n",
    "\n",
    "The ANOVA P-values fail to reject the null that order quantities vary between employee and time-in-job"
   ]
  },
  {
   "cell_type": "markdown",
   "metadata": {},
   "source": [
    "<a id='link_to_question_#4'></a>\n",
    "\n",
    "\n",
    "\n",
    "## <font color ='lime'> Question 4 </font>\n",
    "##### Is the distributions of dairy product purchased similar across regions?"
   ]
  },
  {
   "cell_type": "code",
   "execution_count": 85,
   "metadata": {},
   "outputs": [
    {
     "data": {
      "text/html": [
       "<div>\n",
       "<style scoped>\n",
       "    .dataframe tbody tr th:only-of-type {\n",
       "        vertical-align: middle;\n",
       "    }\n",
       "\n",
       "    .dataframe tbody tr th {\n",
       "        vertical-align: top;\n",
       "    }\n",
       "\n",
       "    .dataframe thead th {\n",
       "        text-align: right;\n",
       "    }\n",
       "</style>\n",
       "<table border=\"1\" class=\"dataframe\">\n",
       "  <thead>\n",
       "    <tr style=\"text-align: right;\">\n",
       "      <th></th>\n",
       "      <th>CategoryId</th>\n",
       "      <th>CategoryName</th>\n",
       "      <th>Description</th>\n",
       "      <th>ProductId</th>\n",
       "      <th>ProductName</th>\n",
       "      <th>SupplierId</th>\n",
       "      <th>QuantityPerUnit</th>\n",
       "      <th>UnitPrice_x</th>\n",
       "      <th>UnitsInStock</th>\n",
       "      <th>UnitsOnOrder</th>\n",
       "      <th>ReorderLevel</th>\n",
       "      <th>Discontinued</th>\n",
       "      <th>Id</th>\n",
       "      <th>OrderId</th>\n",
       "      <th>UnitPrice_y</th>\n",
       "      <th>Quantity</th>\n",
       "      <th>Discount</th>\n",
       "      <th>CustomerId</th>\n",
       "      <th>EmployeeId</th>\n",
       "      <th>OrderDate</th>\n",
       "      <th>RequiredDate</th>\n",
       "      <th>ShippedDate</th>\n",
       "      <th>ShipVia</th>\n",
       "      <th>Freight</th>\n",
       "      <th>ShipName</th>\n",
       "      <th>ShipAddress</th>\n",
       "      <th>ShipCity</th>\n",
       "      <th>ShipRegion</th>\n",
       "      <th>ShipPostalCode</th>\n",
       "      <th>ShipCountry</th>\n",
       "      <th>CompanyName</th>\n",
       "      <th>ContactName</th>\n",
       "      <th>ContactTitle</th>\n",
       "      <th>Address</th>\n",
       "      <th>City</th>\n",
       "      <th>Region</th>\n",
       "      <th>PostalCode</th>\n",
       "      <th>Country</th>\n",
       "      <th>Phone</th>\n",
       "      <th>Fax</th>\n",
       "    </tr>\n",
       "  </thead>\n",
       "  <tbody>\n",
       "    <tr>\n",
       "      <th>0</th>\n",
       "      <td>1.0</td>\n",
       "      <td>Beverages</td>\n",
       "      <td>Soft drinks, coffees, teas, beers, and ales</td>\n",
       "      <td>1.0</td>\n",
       "      <td>Chai</td>\n",
       "      <td>1.0</td>\n",
       "      <td>10 boxes x 20 bags</td>\n",
       "      <td>18.0</td>\n",
       "      <td>39.0</td>\n",
       "      <td>0.0</td>\n",
       "      <td>10.0</td>\n",
       "      <td>0.0</td>\n",
       "      <td>10285/1</td>\n",
       "      <td>10285.0</td>\n",
       "      <td>14.4</td>\n",
       "      <td>45.0</td>\n",
       "      <td>0.2</td>\n",
       "      <td>QUICK</td>\n",
       "      <td>1.0</td>\n",
       "      <td>2012-08-20</td>\n",
       "      <td>2012-09-17</td>\n",
       "      <td>2012-08-26</td>\n",
       "      <td>2.0</td>\n",
       "      <td>76.83</td>\n",
       "      <td>QUICK-Stop</td>\n",
       "      <td>Taucherstraße 10</td>\n",
       "      <td>Cunewalde</td>\n",
       "      <td>Western Europe</td>\n",
       "      <td>01307</td>\n",
       "      <td>Germany</td>\n",
       "      <td>QUICK-Stop</td>\n",
       "      <td>Horst Kloss</td>\n",
       "      <td>Accounting Manager</td>\n",
       "      <td>Taucherstraße 10</td>\n",
       "      <td>Cunewalde</td>\n",
       "      <td>Western Europe</td>\n",
       "      <td>01307</td>\n",
       "      <td>Germany</td>\n",
       "      <td>0372-035188</td>\n",
       "      <td>None</td>\n",
       "    </tr>\n",
       "  </tbody>\n",
       "</table>\n",
       "</div>"
      ],
      "text/plain": [
       "   CategoryId CategoryName                                  Description  \\\n",
       "0         1.0    Beverages  Soft drinks, coffees, teas, beers, and ales   \n",
       "\n",
       "   ProductId ProductName  SupplierId     QuantityPerUnit  UnitPrice_x  \\\n",
       "0        1.0        Chai         1.0  10 boxes x 20 bags         18.0   \n",
       "\n",
       "   UnitsInStock  UnitsOnOrder  ReorderLevel  Discontinued       Id  OrderId  \\\n",
       "0          39.0           0.0          10.0           0.0  10285/1  10285.0   \n",
       "\n",
       "   UnitPrice_y  Quantity  Discount CustomerId  EmployeeId   OrderDate  \\\n",
       "0         14.4      45.0       0.2      QUICK         1.0  2012-08-20   \n",
       "\n",
       "  RequiredDate ShippedDate  ShipVia  Freight    ShipName       ShipAddress  \\\n",
       "0   2012-09-17  2012-08-26      2.0    76.83  QUICK-Stop  Taucherstraße 10   \n",
       "\n",
       "    ShipCity      ShipRegion ShipPostalCode ShipCountry CompanyName  \\\n",
       "0  Cunewalde  Western Europe          01307     Germany  QUICK-Stop   \n",
       "\n",
       "   ContactName        ContactTitle           Address       City  \\\n",
       "0  Horst Kloss  Accounting Manager  Taucherstraße 10  Cunewalde   \n",
       "\n",
       "           Region PostalCode  Country        Phone   Fax  \n",
       "0  Western Europe      01307  Germany  0372-035188  None  "
      ]
     },
     "execution_count": 85,
     "metadata": {},
     "output_type": "execute_result"
    }
   ],
   "source": [
    "cat_prod_OrDtl_orders_cust_df.head(1)"
   ]
  },
  {
   "cell_type": "code",
   "execution_count": 86,
   "metadata": {},
   "outputs": [],
   "source": [
    "q4df = copy.deepcopy(cat_prod_OrDtl_orders_cust_df[['CategoryName', 'Quantity', 'Region']])"
   ]
  },
  {
   "cell_type": "code",
   "execution_count": 87,
   "metadata": {},
   "outputs": [
    {
     "data": {
      "text/html": [
       "<div>\n",
       "<style scoped>\n",
       "    .dataframe tbody tr th:only-of-type {\n",
       "        vertical-align: middle;\n",
       "    }\n",
       "\n",
       "    .dataframe tbody tr th {\n",
       "        vertical-align: top;\n",
       "    }\n",
       "\n",
       "    .dataframe thead th {\n",
       "        text-align: right;\n",
       "    }\n",
       "</style>\n",
       "<table border=\"1\" class=\"dataframe\">\n",
       "  <thead>\n",
       "    <tr style=\"text-align: right;\">\n",
       "      <th></th>\n",
       "      <th>CategoryName</th>\n",
       "      <th>Quantity</th>\n",
       "      <th>Region</th>\n",
       "    </tr>\n",
       "  </thead>\n",
       "  <tbody>\n",
       "    <tr>\n",
       "      <th>0</th>\n",
       "      <td>Beverages</td>\n",
       "      <td>45.0</td>\n",
       "      <td>Western Europe</td>\n",
       "    </tr>\n",
       "    <tr>\n",
       "      <th>1</th>\n",
       "      <td>Meat/Poultry</td>\n",
       "      <td>36.0</td>\n",
       "      <td>Western Europe</td>\n",
       "    </tr>\n",
       "    <tr>\n",
       "      <th>2</th>\n",
       "      <td>Seafood</td>\n",
       "      <td>40.0</td>\n",
       "      <td>Western Europe</td>\n",
       "    </tr>\n",
       "    <tr>\n",
       "      <th>3</th>\n",
       "      <td>Beverages</td>\n",
       "      <td>30.0</td>\n",
       "      <td>Western Europe</td>\n",
       "    </tr>\n",
       "    <tr>\n",
       "      <th>4</th>\n",
       "      <td>Beverages</td>\n",
       "      <td>40.0</td>\n",
       "      <td>Western Europe</td>\n",
       "    </tr>\n",
       "  </tbody>\n",
       "</table>\n",
       "</div>"
      ],
      "text/plain": [
       "   CategoryName  Quantity          Region\n",
       "0     Beverages      45.0  Western Europe\n",
       "1  Meat/Poultry      36.0  Western Europe\n",
       "2       Seafood      40.0  Western Europe\n",
       "3     Beverages      30.0  Western Europe\n",
       "4     Beverages      40.0  Western Europe"
      ]
     },
     "execution_count": 87,
     "metadata": {},
     "output_type": "execute_result"
    }
   ],
   "source": [
    "q4df.head() "
   ]
  },
  {
   "cell_type": "code",
   "execution_count": 88,
   "metadata": {},
   "outputs": [
    {
     "data": {
      "text/plain": [
       "Beverages         404\n",
       "Dairy Products    366\n",
       "Confections       334\n",
       "Seafood           330\n",
       "Condiments        216\n",
       "Grains/Cereals    196\n",
       "Meat/Poultry      173\n",
       "Produce           136\n",
       "Name: CategoryName, dtype: int64"
      ]
     },
     "execution_count": 88,
     "metadata": {},
     "output_type": "execute_result"
    }
   ],
   "source": [
    "q4df.CategoryName.value_counts()"
   ]
  },
  {
   "cell_type": "code",
   "execution_count": 89,
   "metadata": {},
   "outputs": [
    {
     "name": "stdout",
     "output_type": "stream",
     "text": [
      "      CategoryName  Quantity          Region\n",
      "18  Dairy Products      35.0  Western Europe\n",
      "34  Dairy Products      55.0  Western Europe\n",
      "36  Dairy Products      49.0  Western Europe\n",
      "37  Dairy Products      35.0  Western Europe\n",
      "40  Dairy Products      25.0  Western Europe\n"
     ]
    },
    {
     "data": {
      "text/plain": [
       "CategoryName     0\n",
       "Quantity         0\n",
       "Region          16\n",
       "dtype: int64"
      ]
     },
     "execution_count": 89,
     "metadata": {},
     "output_type": "execute_result"
    }
   ],
   "source": [
    "q4df = copy.deepcopy(q4df[q4df['CategoryName']=='Dairy Products'])\n",
    "print(q4df.head())\n",
    "q4df.isna().sum()"
   ]
  },
  {
   "cell_type": "code",
   "execution_count": 90,
   "metadata": {},
   "outputs": [
    {
     "data": {
      "text/html": [
       "<div>\n",
       "<style scoped>\n",
       "    .dataframe tbody tr th:only-of-type {\n",
       "        vertical-align: middle;\n",
       "    }\n",
       "\n",
       "    .dataframe tbody tr th {\n",
       "        vertical-align: top;\n",
       "    }\n",
       "\n",
       "    .dataframe thead th {\n",
       "        text-align: right;\n",
       "    }\n",
       "</style>\n",
       "<table border=\"1\" class=\"dataframe\">\n",
       "  <thead>\n",
       "    <tr style=\"text-align: right;\">\n",
       "      <th></th>\n",
       "      <th>CategoryName</th>\n",
       "      <th>Quantity</th>\n",
       "      <th>Region</th>\n",
       "    </tr>\n",
       "  </thead>\n",
       "  <tbody>\n",
       "    <tr>\n",
       "      <th>18</th>\n",
       "      <td>Dairy Products</td>\n",
       "      <td>35.0</td>\n",
       "      <td>Western Europe</td>\n",
       "    </tr>\n",
       "    <tr>\n",
       "      <th>34</th>\n",
       "      <td>Dairy Products</td>\n",
       "      <td>55.0</td>\n",
       "      <td>Western Europe</td>\n",
       "    </tr>\n",
       "    <tr>\n",
       "      <th>36</th>\n",
       "      <td>Dairy Products</td>\n",
       "      <td>49.0</td>\n",
       "      <td>Western Europe</td>\n",
       "    </tr>\n",
       "    <tr>\n",
       "      <th>37</th>\n",
       "      <td>Dairy Products</td>\n",
       "      <td>35.0</td>\n",
       "      <td>Western Europe</td>\n",
       "    </tr>\n",
       "    <tr>\n",
       "      <th>40</th>\n",
       "      <td>Dairy Products</td>\n",
       "      <td>25.0</td>\n",
       "      <td>Western Europe</td>\n",
       "    </tr>\n",
       "  </tbody>\n",
       "</table>\n",
       "</div>"
      ],
      "text/plain": [
       "      CategoryName  Quantity          Region\n",
       "18  Dairy Products      35.0  Western Europe\n",
       "34  Dairy Products      55.0  Western Europe\n",
       "36  Dairy Products      49.0  Western Europe\n",
       "37  Dairy Products      35.0  Western Europe\n",
       "40  Dairy Products      25.0  Western Europe"
      ]
     },
     "execution_count": 90,
     "metadata": {},
     "output_type": "execute_result"
    }
   ],
   "source": [
    "q4df.head()"
   ]
  },
  {
   "cell_type": "code",
   "execution_count": 91,
   "metadata": {},
   "outputs": [
    {
     "name": "stderr",
     "output_type": "stream",
     "text": [
      "C:\\Users\\mngav\\Anaconda3\\envs\\learn-env\\lib\\site-packages\\scipy\\stats\\stats.py:1713: FutureWarning: Using a non-tuple sequence for multidimensional indexing is deprecated; use `arr[tuple(seq)]` instead of `arr[seq]`. In the future this will be interpreted as an array index, `arr[np.array(seq)]`, which will result either in an error or a different result.\n",
      "  return np.add.reduce(sorted[indexer] * weights, axis=axis) / sumval\n"
     ]
    },
    {
     "data": {
      "image/png": "[encoded data removed]",
      "text/plain": [
       "<Figure size 720x504 with 1 Axes>"
      ]
     },
     "metadata": {},
     "output_type": "display_data"
    }
   ],
   "source": [
    "q4BarPlot = sns.barplot(x= 'Region', y='Quantity', data= q4df, order = ['Western Europe', 'North America', 'British Isles', 'South America'\n",
    "                                                                       , 'Northern Europe', 'Southern Europe'])"
   ]
  },
  {
   "cell_type": "code",
   "execution_count": null,
   "metadata": {},
   "outputs": [],
   "source": []
  },
  {
   "cell_type": "code",
   "execution_count": 92,
   "metadata": {},
   "outputs": [
    {
     "data": {
      "text/html": [
       "<div>\n",
       "<style scoped>\n",
       "    .dataframe tbody tr th:only-of-type {\n",
       "        vertical-align: middle;\n",
       "    }\n",
       "\n",
       "    .dataframe tbody tr th {\n",
       "        vertical-align: top;\n",
       "    }\n",
       "\n",
       "    .dataframe thead th {\n",
       "        text-align: right;\n",
       "    }\n",
       "</style>\n",
       "<table border=\"1\" class=\"dataframe\">\n",
       "  <thead>\n",
       "    <tr style=\"text-align: right;\">\n",
       "      <th></th>\n",
       "      <th>Quantity</th>\n",
       "      <th>Region</th>\n",
       "    </tr>\n",
       "  </thead>\n",
       "  <tbody>\n",
       "    <tr>\n",
       "      <th>18</th>\n",
       "      <td>35.0</td>\n",
       "      <td>Western Europe</td>\n",
       "    </tr>\n",
       "    <tr>\n",
       "      <th>34</th>\n",
       "      <td>55.0</td>\n",
       "      <td>Western Europe</td>\n",
       "    </tr>\n",
       "    <tr>\n",
       "      <th>36</th>\n",
       "      <td>49.0</td>\n",
       "      <td>Western Europe</td>\n",
       "    </tr>\n",
       "    <tr>\n",
       "      <th>37</th>\n",
       "      <td>35.0</td>\n",
       "      <td>Western Europe</td>\n",
       "    </tr>\n",
       "    <tr>\n",
       "      <th>40</th>\n",
       "      <td>25.0</td>\n",
       "      <td>Western Europe</td>\n",
       "    </tr>\n",
       "  </tbody>\n",
       "</table>\n",
       "</div>"
      ],
      "text/plain": [
       "    Quantity          Region\n",
       "18      35.0  Western Europe\n",
       "34      55.0  Western Europe\n",
       "36      49.0  Western Europe\n",
       "37      35.0  Western Europe\n",
       "40      25.0  Western Europe"
      ]
     },
     "execution_count": 92,
     "metadata": {},
     "output_type": "execute_result"
    }
   ],
   "source": [
    "q4df.dropna(inplace = True)\n",
    "q4df.drop(['CategoryName'], axis = 1, inplace = True)\n",
    "q4df.head()"
   ]
  },
  {
   "cell_type": "code",
   "execution_count": 93,
   "metadata": {},
   "outputs": [
    {
     "data": {
      "text/plain": [
       "Western Europe     132\n",
       "North America       69\n",
       "South America       49\n",
       "British Isles       42\n",
       "Northern Europe     17\n",
       "Southern Europe     14\n",
       "Scandinavia         13\n",
       "Central America     12\n",
       "Eastern Europe       2\n",
       "Name: Region, dtype: int64"
      ]
     },
     "execution_count": 93,
     "metadata": {},
     "output_type": "execute_result"
    }
   ],
   "source": [
    "q4df.Region.value_counts()"
   ]
  },
  {
   "cell_type": "markdown",
   "metadata": {},
   "source": [
    "Eastern Europe, Central America, Scandinavia, Northern Europe and Southern Europe don't have enough observations on their own to run tests on.  I will combine Northern and Southern Europe and drop the others."
   ]
  },
  {
   "cell_type": "code",
   "execution_count": 94,
   "metadata": {},
   "outputs": [
    {
     "data": {
      "text/plain": [
       "Western Europe     132\n",
       "North America       69\n",
       "South America       49\n",
       "British Isles       42\n",
       "Northern Europe     17\n",
       "Southern Europe     14\n",
       "Name: Region, dtype: int64"
      ]
     },
     "execution_count": 94,
     "metadata": {},
     "output_type": "execute_result"
    }
   ],
   "source": [
    "filter_list = ['Western Europe', 'North America', 'South America', 'British Isles', 'Northern Europe', 'Southern Europe'] # https://www.ritchieng.com/pandas-multi-criteria-filtering/\n",
    "q4df = q4df[q4df.Region.isin(filter_list)]\n",
    "q4df.Region.value_counts()"
   ]
  },
  {
   "cell_type": "code",
   "execution_count": 95,
   "metadata": {},
   "outputs": [
    {
     "name": "stderr",
     "output_type": "stream",
     "text": [
      "C:\\Users\\mngav\\Anaconda3\\envs\\learn-env\\lib\\site-packages\\scipy\\stats\\stats.py:1713: FutureWarning: Using a non-tuple sequence for multidimensional indexing is deprecated; use `arr[tuple(seq)]` instead of `arr[seq]`. In the future this will be interpreted as an array index, `arr[np.array(seq)]`, which will result either in an error or a different result.\n",
      "  return np.add.reduce(sorted[indexer] * weights, axis=axis) / sumval\n"
     ]
    },
    {
     "data": {
      "image/png": "[encoded data removed]",
      "text/plain": [
       "<Figure size 360x360 with 1 Axes>"
      ]
     },
     "metadata": {},
     "output_type": "display_data"
    }
   ],
   "source": [
    "plt.figure(figsize = (5,5))\n",
    "for rgn in set(q4df.Region):\n",
    "    helper = q4df.loc[q4df.Region == rgn]\n",
    "    sns.distplot(helper.Quantity, label = rgn)\n",
    "    plt.legend()\n",
    "    plt.xlabel('Quantity of Dairy Products per Region')\n",
    "\n",
    "\n",
    "\n"
   ]
  },
  {
   "cell_type": "code",
   "execution_count": 96,
   "metadata": {},
   "outputs": [
    {
     "name": "stdout",
     "output_type": "stream",
     "text": [
      "['Northern Europe', 'South America', 'Southern Europe', 'British Isles', 'Western Europe', 'North America']\n"
     ]
    }
   ],
   "source": [
    "print(list(set(q4df['Region'])))"
   ]
  },
  {
   "cell_type": "code",
   "execution_count": 97,
   "metadata": {},
   "outputs": [
    {
     "name": "stdout",
     "output_type": "stream",
     "text": [
      "NormaltestResult(statistic=6.711192667338976, pvalue=0.03488855872784588)\n",
      "NormaltestResult(statistic=6.466900986101741, pvalue=0.039421241126965656)\n",
      "NormaltestResult(statistic=5.009894828792571, pvalue=0.08167989305885082)\n",
      "NormaltestResult(statistic=5.027457052708909, pvalue=0.0809657926595086)\n",
      "NormaltestResult(statistic=43.16477868949511, pvalue=4.235331431739707e-10)\n",
      "NormaltestResult(statistic=19.28931394232651, pvalue=6.477071594603006e-05)\n"
     ]
    },
    {
     "name": "stderr",
     "output_type": "stream",
     "text": [
      "C:\\Users\\mngav\\Anaconda3\\envs\\learn-env\\lib\\site-packages\\scipy\\stats\\stats.py:1394: UserWarning: kurtosistest only valid for n>=20 ... continuing anyway, n=17\n",
      "  \"anyway, n=%i\" % int(n))\n",
      "C:\\Users\\mngav\\Anaconda3\\envs\\learn-env\\lib\\site-packages\\scipy\\stats\\stats.py:1394: UserWarning: kurtosistest only valid for n>=20 ... continuing anyway, n=14\n",
      "  \"anyway, n=%i\" % int(n))\n"
     ]
    }
   ],
   "source": [
    "for rgn in set(q4df['Region']):\n",
    "    helper = q4df.loc[q4df.Region == rgn]\n",
    "    print(stats.normaltest(helper.Quantity))"
   ]
  },
  {
   "cell_type": "code",
   "execution_count": 98,
   "metadata": {},
   "outputs": [],
   "source": [
    "# log transform quantities\n",
    "q4df['Quantity'] = np.log(q4df['Quantity'])\n",
    "\n"
   ]
  },
  {
   "cell_type": "code",
   "execution_count": 99,
   "metadata": {},
   "outputs": [
    {
     "name": "stderr",
     "output_type": "stream",
     "text": [
      "C:\\Users\\mngav\\Anaconda3\\envs\\learn-env\\lib\\site-packages\\scipy\\stats\\stats.py:1713: FutureWarning: Using a non-tuple sequence for multidimensional indexing is deprecated; use `arr[tuple(seq)]` instead of `arr[seq]`. In the future this will be interpreted as an array index, `arr[np.array(seq)]`, which will result either in an error or a different result.\n",
      "  return np.add.reduce(sorted[indexer] * weights, axis=axis) / sumval\n"
     ]
    },
    {
     "data": {
      "image/png": "[encoded data removed]",
      "text/plain": [
       "<Figure size 360x360 with 1 Axes>"
      ]
     },
     "metadata": {},
     "output_type": "display_data"
    }
   ],
   "source": [
    "plt.figure(figsize = (5,5))\n",
    "for rgn in set(q4df.Region):\n",
    "    helper = q4df.loc[q4df.Region == rgn]\n",
    "    sns.distplot(helper.Quantity, label = rgn)\n",
    "    plt.legend()\n",
    "    plt.xlabel('Quantity of Dairy Products per Region')"
   ]
  },
  {
   "cell_type": "code",
   "execution_count": 100,
   "metadata": {},
   "outputs": [
    {
     "name": "stdout",
     "output_type": "stream",
     "text": [
      "NormaltestResult(statistic=3.2024892321984417, pvalue=0.20164539064896905)\n",
      "NormaltestResult(statistic=6.7754457507725725, pvalue=0.03378552321855244)\n",
      "NormaltestResult(statistic=0.5727087582525431, pvalue=0.7509964313253688)\n",
      "NormaltestResult(statistic=2.9747336375745665, pvalue=0.22596688459491002)\n",
      "NormaltestResult(statistic=5.143158081267064, pvalue=0.0764147880532662)\n",
      "NormaltestResult(statistic=14.39570830320499, pvalue=0.0007481895884562356)\n"
     ]
    },
    {
     "name": "stderr",
     "output_type": "stream",
     "text": [
      "C:\\Users\\mngav\\Anaconda3\\envs\\learn-env\\lib\\site-packages\\scipy\\stats\\stats.py:1394: UserWarning: kurtosistest only valid for n>=20 ... continuing anyway, n=17\n",
      "  \"anyway, n=%i\" % int(n))\n",
      "C:\\Users\\mngav\\Anaconda3\\envs\\learn-env\\lib\\site-packages\\scipy\\stats\\stats.py:1394: UserWarning: kurtosistest only valid for n>=20 ... continuing anyway, n=14\n",
      "  \"anyway, n=%i\" % int(n))\n"
     ]
    }
   ],
   "source": [
    "for rgn in set(q4df['Region']):\n",
    "    helper = q4df.loc[q4df.Region == rgn]\n",
    "    print(stats.normaltest(helper.Quantity))"
   ]
  },
  {
   "cell_type": "code",
   "execution_count": 101,
   "metadata": {},
   "outputs": [
    {
     "name": "stdout",
     "output_type": "stream",
     "text": [
      "               sum_sq     df         F   PR(>F)\n",
      "C(Region)   13.282293    5.0  3.557478  0.00382\n",
      "Residual   236.711919  317.0       NaN      NaN\n"
     ]
    }
   ],
   "source": [
    "formula = \"Quantity ~ C(Region)\"\n",
    "           \n",
    "lm = ols(formula, q4df).fit()\n",
    "table = sm.stats.anova_lm(lm, typ=2)\n",
    "print(table)"
   ]
  },
  {
   "cell_type": "markdown",
   "metadata": {},
   "source": [
    "##### <font color='blue'> Conclusion Question 4 </font>\n",
    "\n",
    "Looks like we can reject the null and accept the alternative that ther is a difference in order quantity of dairy products by region.<br>Now lets figure out what the differences look like."
   ]
  },
  {
   "cell_type": "code",
   "execution_count": null,
   "metadata": {},
   "outputs": [],
   "source": []
  }
 ],
 "metadata": {
  "kernelspec": {
   "display_name": "learn-env",
   "language": "python",
   "name": "learn-env"
  },
  "language_info": {
   "codemirror_mode": {
    "name": "ipython",
    "version": 3
   },
   "file_extension": ".py",
   "mimetype": "text/x-python",
   "name": "python",
   "nbconvert_exporter": "python",
   "pygments_lexer": "ipython3",
   "version": "3.6.6"
  },
  "toc": {
   "base_numbering": 1,
   "nav_menu": {},
   "number_sections": false,
   "sideBar": false,
   "skip_h1_title": false,
   "title_cell": "Table of Contents",
   "title_sidebar": "Contents",
   "toc_cell": true,
   "toc_position": {
    "height": "100px",
    "left": "10px",
    "top": "150px",
    "width": "165px"
   },
   "toc_section_display": true,
   "toc_window_display": false
  },
  "varInspector": {
   "cols": {
    "lenName": 16,
    "lenType": 16,
    "lenVar": 40
   },
   "kernels_config": {
    "python": {
     "delete_cmd_postfix": "",
     "delete_cmd_prefix": "del ",
     "library": "var_list.py",
     "varRefreshCmd": "print(var_dic_list())"
    },
    "r": {
     "delete_cmd_postfix": ") ",
     "delete_cmd_prefix": "rm(",
     "library": "var_list.r",
     "varRefreshCmd": "cat(var_dic_list()) "
    }
   },
   "types_to_exclude": [
    "module",
    "function",
    "builtin_function_or_method",
    "instance",
    "_Feature"
   ],
   "window_display": false
  }
 },
 "nbformat": 4,
 "nbformat_minor": 2
}
