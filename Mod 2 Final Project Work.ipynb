{
 "cells": [
  {
   "cell_type": "markdown",
   "metadata": {
    "toc": true
   },
   "source": [
    "<h1>Table of Contents<span class=\"tocSkip\"></span></h1>\n",
    "<div class=\"toc\"><ul class=\"toc-item\"><li><span><a href=\"#Case-Study:-Northwind-Traders\" data-toc-modified-id=\"Case-Study:-Northwind-Traders-1\">Case Study: Northwind Traders</a></span><ul class=\"toc-item\"><li><span><a href=\"#convert-sql-database-tables-into-pandas-dataframes\" data-toc-modified-id=\"convert-sql-database-tables-into-pandas-dataframes-1.1\">convert sql database tables into pandas dataframes</a></span><ul class=\"toc-item\"><li><span><a href=\"#check-for-normality-in-the-experiment-and-control-samples\" data-toc-modified-id=\"check-for-normality-in-the-experiment-and-control-samples-1.1.1\">check for normality in the experiment and control samples</a></span></li></ul></li><li><span><a href=\"#Question-1:\" data-toc-modified-id=\"Question-1:-1.2\">Question 1:</a></span></li><li><span><a href=\"#Question-2\" data-toc-modified-id=\"Question-2-1.3\">Question 2</a></span><ul class=\"toc-item\"><li><ul class=\"toc-item\"><li><span><a href=\"#Is-there-a-region-that-outperforms-the-others-in-terms-of-order-quantities?\" data-toc-modified-id=\"Is-there-a-region-that-outperforms-the-others-in-terms-of-order-quantities?-1.3.0.1\">Is there a region that outperforms the others in terms of order quantities?</a></span></li></ul></li><li><span><a href=\"#check-for-normality\" data-toc-modified-id=\"check-for-normality-1.3.1\">check for normality</a></span><ul class=\"toc-item\"><li><span><a href=\"#stats-normaltest-confirms-the-distributions-are-not-normalLets-re-sample-to-gather-distribution-means-that-will-satisfy-normality-assumptions\" data-toc-modified-id=\"stats-normaltest-confirms-the-distributions-are-not-normalLets-re-sample-to-gather-distribution-means-that-will-satisfy-normality-assumptions-1.3.1.1\">stats normaltest confirms the distributions are not normal<br>Lets re-sample to gather distribution means that will satisfy normality assumptions</a></span></li></ul></li><li><span><a href=\"#combining-multiple-Series-into-a-DataFrame:-lessons-learned----the-Series-must-have-names-(see-example-above)and-you-must-specify-the-horizontal-axis\" data-toc-modified-id=\"combining-multiple-Series-into-a-DataFrame:-lessons-learned----the-Series-must-have-names-(see-example-above)and-you-must-specify-the-horizontal-axis-1.3.2\">combining multiple Series into a DataFrame: <br>lessons learned -- the Series must have names (see example above)<br>and you must specify the horizontal axis</a></span></li><li><span><a href=\"#need-to-run-ANOVA-here\" data-toc-modified-id=\"need-to-run-ANOVA-here-1.3.3\">need to run ANOVA here</a></span></li></ul></li><li><span><a href=\"#Question-3\" data-toc-modified-id=\"Question-3-1.4\">Question 3</a></span><ul class=\"toc-item\"><li><ul class=\"toc-item\"><li><span><a href=\"#are-there-any-salespeople-that-stand-out?\" data-toc-modified-id=\"are-there-any-salespeople-that-stand-out?-1.4.0.1\">are there any salespeople that stand out?</a></span></li></ul></li></ul></li><li><span><a href=\"#Question-4\" data-toc-modified-id=\"Question-4-1.5\">Question 4</a></span><ul class=\"toc-item\"><li><ul class=\"toc-item\"><li><span><a href=\"#are-there-any-categories-we-should-think-about-dicontinuing-or-expanding-on?\" data-toc-modified-id=\"are-there-any-categories-we-should-think-about-dicontinuing-or-expanding-on?-1.5.0.1\">are there any categories we should think about dicontinuing or expanding on?</a></span></li></ul></li></ul></li></ul></li></ul></div>"
   ]
  },
  {
   "cell_type": "markdown",
   "metadata": {},
   "source": [
    "[link to cell in question](#link_to_cell_in_question)\n",
    "\n",
    "[link to pd.melt](#link_to_pd.melt)\n"
   ]
  },
  {
   "cell_type": "markdown",
   "metadata": {},
   "source": [
    "# Case Study: Northwind Traders\n"
   ]
  },
  {
   "cell_type": "markdown",
   "metadata": {},
   "source": [
    "Four questions to consider:<br>\n",
    "1. Do discounted items sell in greater quantites than non-discounted items?  And if so, does the level of discount have an impact?\n",
    "2. Are there any days per week that stand out \n",
    "3. Do all regions perform equally in terms of quantities sold?  And are there any products that differ in quanitty sold by region?\n",
    "4. Are all salespeople created equal or do we have any under/over-performers?  And does time in job play a role?\n"
   ]
  },
  {
   "cell_type": "code",
   "execution_count": 1,
   "metadata": {
    "hidden": true
   },
   "outputs": [],
   "source": [
    "# import packages and modules\n",
    "\n",
    "\n",
    "import pandas as pd\n",
    "import numpy as np\n",
    "from scipy.stats import kurtosis, skew\n",
    "import scipy.stats as stats\n",
    "from math import sqrt\n",
    "import math\n",
    "import copy\n",
    "import statsmodels.api as sm             #for ANOVA\n",
    "from statsmodels.formula.api import ols  #for ANOVA\n",
    "from sklearn import preprocessing\n",
    "\n",
    "import sqlalchemy\n",
    "from sqlalchemy import create_engine\n",
    "from sqlalchemy.orm import session, sessionmaker\n",
    "from sqlalchemy import inspect # so we can perform high level investigations\n",
    "\n",
    "\n",
    "import seaborn as sns\n",
    "\n",
    "import matplotlib.pyplot as plt\n",
    "%matplotlib inline\n",
    "#plt.style.use('seaborn')\n",
    "from matplotlib import style\n",
    "\n",
    "pd.set_option('display.max_columns', None)"
   ]
  },
  {
   "cell_type": "code",
   "execution_count": 2,
   "metadata": {
    "hidden": true
   },
   "outputs": [
    {
     "name": "stdout",
     "output_type": "stream",
     "text": [
      "2019-05-18 18:37:39,024 INFO sqlalchemy.engine.base.Engine SELECT CAST('test plain returns' AS VARCHAR(60)) AS anon_1\n",
      "2019-05-18 18:37:39,031 INFO sqlalchemy.engine.base.Engine ()\n",
      "2019-05-18 18:37:39,035 INFO sqlalchemy.engine.base.Engine SELECT CAST('test unicode returns' AS VARCHAR(60)) AS anon_1\n",
      "2019-05-18 18:37:39,036 INFO sqlalchemy.engine.base.Engine ()\n"
     ]
    }
   ],
   "source": [
    "# creating an engine object and a session to connect and work with the Northwind sql db\n",
    "\n",
    "engine = create_engine(\"sqlite:///Northwind_small.sqlite\", echo = True)\n",
    "Session = sessionmaker(bind = engine)\n",
    "session = Session\n",
    "inspector = inspect(engine)"
   ]
  },
  {
   "cell_type": "code",
   "execution_count": 3,
   "metadata": {
    "hidden": true
   },
   "outputs": [
    {
     "name": "stdout",
     "output_type": "stream",
     "text": [
      "2019-05-18 18:37:59,212 INFO sqlalchemy.engine.base.Engine SELECT name FROM sqlite_master WHERE type='table' ORDER BY name\n",
      "2019-05-18 18:37:59,218 INFO sqlalchemy.engine.base.Engine ()\n"
     ]
    },
    {
     "data": {
      "text/plain": [
       "['Category',\n",
       " 'Customer',\n",
       " 'CustomerCustomerDemo',\n",
       " 'CustomerDemographic',\n",
       " 'Employee',\n",
       " 'EmployeeTerritory',\n",
       " 'Order',\n",
       " 'OrderDetail',\n",
       " 'Product',\n",
       " 'Region',\n",
       " 'Shipper',\n",
       " 'Supplier',\n",
       " 'Territory']"
      ]
     },
     "execution_count": 3,
     "metadata": {},
     "output_type": "execute_result"
    }
   ],
   "source": [
    "# lets have a look at the tables we will be working with and get to know them better\n",
    "\n",
    "inspector.get_table_names()"
   ]
  },
  {
   "cell_type": "code",
   "execution_count": 4,
   "metadata": {
    "hidden": true
   },
   "outputs": [],
   "source": [
    "\n",
    "\n",
    "from sqlalchemy import MetaData\n",
    "from sqlalchemy.ext.automap import automap_base # creates a framework that clones the db structure so that it can generate a \n",
    "                                                  # a new model in which to map the db with its metadata, ie, column headings"
   ]
  },
  {
   "cell_type": "code",
   "execution_count": 5,
   "metadata": {
    "hidden": true,
    "scrolled": true
   },
   "outputs": [
    {
     "name": "stdout",
     "output_type": "stream",
     "text": [
      "2019-05-18 18:37:59,255 INFO sqlalchemy.engine.base.Engine SELECT name FROM sqlite_master WHERE type='table' ORDER BY name\n",
      "2019-05-18 18:37:59,256 INFO sqlalchemy.engine.base.Engine ()\n",
      "2019-05-18 18:37:59,260 INFO sqlalchemy.engine.base.Engine PRAGMA table_info(\"Category\")\n",
      "2019-05-18 18:37:59,262 INFO sqlalchemy.engine.base.Engine ()\n",
      "2019-05-18 18:37:59,265 INFO sqlalchemy.engine.base.Engine SELECT sql FROM  (SELECT * FROM sqlite_master UNION ALL   SELECT * FROM sqlite_temp_master) WHERE name = 'Category' AND type = 'table'\n",
      "2019-05-18 18:37:59,266 INFO sqlalchemy.engine.base.Engine ()\n",
      "2019-05-18 18:37:59,268 INFO sqlalchemy.engine.base.Engine PRAGMA foreign_key_list(\"Category\")\n",
      "2019-05-18 18:37:59,269 INFO sqlalchemy.engine.base.Engine ()\n",
      "2019-05-18 18:37:59,270 INFO sqlalchemy.engine.base.Engine SELECT sql FROM  (SELECT * FROM sqlite_master UNION ALL   SELECT * FROM sqlite_temp_master) WHERE name = 'Category' AND type = 'table'\n",
      "2019-05-18 18:37:59,271 INFO sqlalchemy.engine.base.Engine ()\n",
      "2019-05-18 18:37:59,277 INFO sqlalchemy.engine.base.Engine PRAGMA index_list(\"Category\")\n",
      "2019-05-18 18:37:59,278 INFO sqlalchemy.engine.base.Engine ()\n",
      "2019-05-18 18:37:59,280 INFO sqlalchemy.engine.base.Engine PRAGMA index_list(\"Category\")\n",
      "2019-05-18 18:37:59,281 INFO sqlalchemy.engine.base.Engine ()\n",
      "2019-05-18 18:37:59,283 INFO sqlalchemy.engine.base.Engine SELECT sql FROM  (SELECT * FROM sqlite_master UNION ALL   SELECT * FROM sqlite_temp_master) WHERE name = 'Category' AND type = 'table'\n",
      "2019-05-18 18:37:59,284 INFO sqlalchemy.engine.base.Engine ()\n",
      "2019-05-18 18:37:59,291 INFO sqlalchemy.engine.base.Engine PRAGMA table_info(\"Customer\")\n",
      "2019-05-18 18:37:59,292 INFO sqlalchemy.engine.base.Engine ()\n",
      "2019-05-18 18:37:59,295 INFO sqlalchemy.engine.base.Engine SELECT sql FROM  (SELECT * FROM sqlite_master UNION ALL   SELECT * FROM sqlite_temp_master) WHERE name = 'Customer' AND type = 'table'\n",
      "2019-05-18 18:37:59,296 INFO sqlalchemy.engine.base.Engine ()\n",
      "2019-05-18 18:37:59,298 INFO sqlalchemy.engine.base.Engine PRAGMA foreign_key_list(\"Customer\")\n",
      "2019-05-18 18:37:59,299 INFO sqlalchemy.engine.base.Engine ()\n",
      "2019-05-18 18:37:59,300 INFO sqlalchemy.engine.base.Engine SELECT sql FROM  (SELECT * FROM sqlite_master UNION ALL   SELECT * FROM sqlite_temp_master) WHERE name = 'Customer' AND type = 'table'\n",
      "2019-05-18 18:37:59,302 INFO sqlalchemy.engine.base.Engine ()\n",
      "2019-05-18 18:37:59,303 INFO sqlalchemy.engine.base.Engine PRAGMA index_list(\"Customer\")\n",
      "2019-05-18 18:37:59,304 INFO sqlalchemy.engine.base.Engine ()\n",
      "2019-05-18 18:37:59,306 INFO sqlalchemy.engine.base.Engine PRAGMA index_list(\"Customer\")\n",
      "2019-05-18 18:37:59,307 INFO sqlalchemy.engine.base.Engine ()\n",
      "2019-05-18 18:37:59,310 INFO sqlalchemy.engine.base.Engine PRAGMA index_info(\"sqlite_autoindex_Customer_1\")\n",
      "2019-05-18 18:37:59,311 INFO sqlalchemy.engine.base.Engine ()\n",
      "2019-05-18 18:37:59,313 INFO sqlalchemy.engine.base.Engine SELECT sql FROM  (SELECT * FROM sqlite_master UNION ALL   SELECT * FROM sqlite_temp_master) WHERE name = 'Customer' AND type = 'table'\n",
      "2019-05-18 18:37:59,314 INFO sqlalchemy.engine.base.Engine ()\n",
      "2019-05-18 18:37:59,316 INFO sqlalchemy.engine.base.Engine PRAGMA table_info(\"CustomerCustomerDemo\")\n",
      "2019-05-18 18:37:59,317 INFO sqlalchemy.engine.base.Engine ()\n",
      "2019-05-18 18:37:59,320 INFO sqlalchemy.engine.base.Engine SELECT sql FROM  (SELECT * FROM sqlite_master UNION ALL   SELECT * FROM sqlite_temp_master) WHERE name = 'CustomerCustomerDemo' AND type = 'table'\n",
      "2019-05-18 18:37:59,321 INFO sqlalchemy.engine.base.Engine ()\n",
      "2019-05-18 18:37:59,323 INFO sqlalchemy.engine.base.Engine PRAGMA foreign_key_list(\"CustomerCustomerDemo\")\n",
      "2019-05-18 18:37:59,325 INFO sqlalchemy.engine.base.Engine ()\n",
      "2019-05-18 18:37:59,326 INFO sqlalchemy.engine.base.Engine SELECT sql FROM  (SELECT * FROM sqlite_master UNION ALL   SELECT * FROM sqlite_temp_master) WHERE name = 'CustomerCustomerDemo' AND type = 'table'\n",
      "2019-05-18 18:37:59,327 INFO sqlalchemy.engine.base.Engine ()\n",
      "2019-05-18 18:37:59,328 INFO sqlalchemy.engine.base.Engine PRAGMA index_list(\"CustomerCustomerDemo\")\n",
      "2019-05-18 18:37:59,329 INFO sqlalchemy.engine.base.Engine ()\n",
      "2019-05-18 18:37:59,331 INFO sqlalchemy.engine.base.Engine PRAGMA index_list(\"CustomerCustomerDemo\")\n",
      "2019-05-18 18:37:59,332 INFO sqlalchemy.engine.base.Engine ()\n",
      "2019-05-18 18:37:59,333 INFO sqlalchemy.engine.base.Engine PRAGMA index_info(\"sqlite_autoindex_CustomerCustomerDemo_1\")\n",
      "2019-05-18 18:37:59,334 INFO sqlalchemy.engine.base.Engine ()\n",
      "2019-05-18 18:37:59,336 INFO sqlalchemy.engine.base.Engine SELECT sql FROM  (SELECT * FROM sqlite_master UNION ALL   SELECT * FROM sqlite_temp_master) WHERE name = 'CustomerCustomerDemo' AND type = 'table'\n",
      "2019-05-18 18:37:59,337 INFO sqlalchemy.engine.base.Engine ()\n",
      "2019-05-18 18:37:59,339 INFO sqlalchemy.engine.base.Engine PRAGMA table_info(\"CustomerDemographic\")\n",
      "2019-05-18 18:37:59,340 INFO sqlalchemy.engine.base.Engine ()\n",
      "2019-05-18 18:37:59,342 INFO sqlalchemy.engine.base.Engine SELECT sql FROM  (SELECT * FROM sqlite_master UNION ALL   SELECT * FROM sqlite_temp_master) WHERE name = 'CustomerDemographic' AND type = 'table'\n",
      "2019-05-18 18:37:59,343 INFO sqlalchemy.engine.base.Engine ()\n",
      "2019-05-18 18:37:59,345 INFO sqlalchemy.engine.base.Engine PRAGMA foreign_key_list(\"CustomerDemographic\")\n",
      "2019-05-18 18:37:59,346 INFO sqlalchemy.engine.base.Engine ()\n",
      "2019-05-18 18:37:59,347 INFO sqlalchemy.engine.base.Engine SELECT sql FROM  (SELECT * FROM sqlite_master UNION ALL   SELECT * FROM sqlite_temp_master) WHERE name = 'CustomerDemographic' AND type = 'table'\n",
      "2019-05-18 18:37:59,348 INFO sqlalchemy.engine.base.Engine ()\n",
      "2019-05-18 18:37:59,350 INFO sqlalchemy.engine.base.Engine PRAGMA index_list(\"CustomerDemographic\")\n",
      "2019-05-18 18:37:59,350 INFO sqlalchemy.engine.base.Engine ()\n",
      "2019-05-18 18:37:59,352 INFO sqlalchemy.engine.base.Engine PRAGMA index_list(\"CustomerDemographic\")\n",
      "2019-05-18 18:37:59,353 INFO sqlalchemy.engine.base.Engine ()\n",
      "2019-05-18 18:37:59,354 INFO sqlalchemy.engine.base.Engine PRAGMA index_info(\"sqlite_autoindex_CustomerDemographic_1\")\n",
      "2019-05-18 18:37:59,355 INFO sqlalchemy.engine.base.Engine ()\n",
      "2019-05-18 18:37:59,357 INFO sqlalchemy.engine.base.Engine SELECT sql FROM  (SELECT * FROM sqlite_master UNION ALL   SELECT * FROM sqlite_temp_master) WHERE name = 'CustomerDemographic' AND type = 'table'\n",
      "2019-05-18 18:37:59,358 INFO sqlalchemy.engine.base.Engine ()\n",
      "2019-05-18 18:37:59,360 INFO sqlalchemy.engine.base.Engine PRAGMA table_info(\"Employee\")\n",
      "2019-05-18 18:37:59,360 INFO sqlalchemy.engine.base.Engine ()\n",
      "2019-05-18 18:37:59,363 INFO sqlalchemy.engine.base.Engine SELECT sql FROM  (SELECT * FROM sqlite_master UNION ALL   SELECT * FROM sqlite_temp_master) WHERE name = 'Employee' AND type = 'table'\n",
      "2019-05-18 18:37:59,364 INFO sqlalchemy.engine.base.Engine ()\n",
      "2019-05-18 18:37:59,365 INFO sqlalchemy.engine.base.Engine PRAGMA foreign_key_list(\"Employee\")\n",
      "2019-05-18 18:37:59,366 INFO sqlalchemy.engine.base.Engine ()\n",
      "2019-05-18 18:37:59,367 INFO sqlalchemy.engine.base.Engine SELECT sql FROM  (SELECT * FROM sqlite_master UNION ALL   SELECT * FROM sqlite_temp_master) WHERE name = 'Employee' AND type = 'table'\n",
      "2019-05-18 18:37:59,368 INFO sqlalchemy.engine.base.Engine ()\n",
      "2019-05-18 18:37:59,369 INFO sqlalchemy.engine.base.Engine PRAGMA index_list(\"Employee\")\n",
      "2019-05-18 18:37:59,370 INFO sqlalchemy.engine.base.Engine ()\n",
      "2019-05-18 18:37:59,372 INFO sqlalchemy.engine.base.Engine PRAGMA index_list(\"Employee\")\n",
      "2019-05-18 18:37:59,374 INFO sqlalchemy.engine.base.Engine ()\n",
      "2019-05-18 18:37:59,377 INFO sqlalchemy.engine.base.Engine SELECT sql FROM  (SELECT * FROM sqlite_master UNION ALL   SELECT * FROM sqlite_temp_master) WHERE name = 'Employee' AND type = 'table'\n",
      "2019-05-18 18:37:59,379 INFO sqlalchemy.engine.base.Engine ()\n",
      "2019-05-18 18:37:59,382 INFO sqlalchemy.engine.base.Engine PRAGMA table_info(\"EmployeeTerritory\")\n",
      "2019-05-18 18:37:59,383 INFO sqlalchemy.engine.base.Engine ()\n",
      "2019-05-18 18:37:59,387 INFO sqlalchemy.engine.base.Engine SELECT sql FROM  (SELECT * FROM sqlite_master UNION ALL   SELECT * FROM sqlite_temp_master) WHERE name = 'EmployeeTerritory' AND type = 'table'\n",
      "2019-05-18 18:37:59,388 INFO sqlalchemy.engine.base.Engine ()\n",
      "2019-05-18 18:37:59,392 INFO sqlalchemy.engine.base.Engine PRAGMA foreign_key_list(\"EmployeeTerritory\")\n",
      "2019-05-18 18:37:59,393 INFO sqlalchemy.engine.base.Engine ()\n",
      "2019-05-18 18:37:59,395 INFO sqlalchemy.engine.base.Engine SELECT sql FROM  (SELECT * FROM sqlite_master UNION ALL   SELECT * FROM sqlite_temp_master) WHERE name = 'EmployeeTerritory' AND type = 'table'\n",
      "2019-05-18 18:37:59,396 INFO sqlalchemy.engine.base.Engine ()\n",
      "2019-05-18 18:37:59,399 INFO sqlalchemy.engine.base.Engine PRAGMA index_list(\"EmployeeTerritory\")\n",
      "2019-05-18 18:37:59,400 INFO sqlalchemy.engine.base.Engine ()\n",
      "2019-05-18 18:37:59,402 INFO sqlalchemy.engine.base.Engine PRAGMA index_list(\"EmployeeTerritory\")\n",
      "2019-05-18 18:37:59,404 INFO sqlalchemy.engine.base.Engine ()\n",
      "2019-05-18 18:37:59,407 INFO sqlalchemy.engine.base.Engine PRAGMA index_info(\"sqlite_autoindex_EmployeeTerritory_1\")\n",
      "2019-05-18 18:37:59,408 INFO sqlalchemy.engine.base.Engine ()\n",
      "2019-05-18 18:37:59,411 INFO sqlalchemy.engine.base.Engine SELECT sql FROM  (SELECT * FROM sqlite_master UNION ALL   SELECT * FROM sqlite_temp_master) WHERE name = 'EmployeeTerritory' AND type = 'table'\n",
      "2019-05-18 18:37:59,412 INFO sqlalchemy.engine.base.Engine ()\n",
      "2019-05-18 18:37:59,415 INFO sqlalchemy.engine.base.Engine PRAGMA table_info(\"Order\")\n",
      "2019-05-18 18:37:59,416 INFO sqlalchemy.engine.base.Engine ()\n",
      "2019-05-18 18:37:59,419 INFO sqlalchemy.engine.base.Engine SELECT sql FROM  (SELECT * FROM sqlite_master UNION ALL   SELECT * FROM sqlite_temp_master) WHERE name = 'Order' AND type = 'table'\n",
      "2019-05-18 18:37:59,421 INFO sqlalchemy.engine.base.Engine ()\n",
      "2019-05-18 18:37:59,424 INFO sqlalchemy.engine.base.Engine PRAGMA foreign_key_list(\"Order\")\n",
      "2019-05-18 18:37:59,426 INFO sqlalchemy.engine.base.Engine ()\n",
      "2019-05-18 18:37:59,427 INFO sqlalchemy.engine.base.Engine SELECT sql FROM  (SELECT * FROM sqlite_master UNION ALL   SELECT * FROM sqlite_temp_master) WHERE name = 'Order' AND type = 'table'\n",
      "2019-05-18 18:37:59,428 INFO sqlalchemy.engine.base.Engine ()\n",
      "2019-05-18 18:37:59,430 INFO sqlalchemy.engine.base.Engine PRAGMA index_list(\"Order\")\n",
      "2019-05-18 18:37:59,431 INFO sqlalchemy.engine.base.Engine ()\n",
      "2019-05-18 18:37:59,433 INFO sqlalchemy.engine.base.Engine PRAGMA index_list(\"Order\")\n",
      "2019-05-18 18:37:59,434 INFO sqlalchemy.engine.base.Engine ()\n",
      "2019-05-18 18:37:59,435 INFO sqlalchemy.engine.base.Engine SELECT sql FROM  (SELECT * FROM sqlite_master UNION ALL   SELECT * FROM sqlite_temp_master) WHERE name = 'Order' AND type = 'table'\n",
      "2019-05-18 18:37:59,436 INFO sqlalchemy.engine.base.Engine ()\n",
      "2019-05-18 18:37:59,439 INFO sqlalchemy.engine.base.Engine PRAGMA table_info(\"OrderDetail\")\n",
      "2019-05-18 18:37:59,440 INFO sqlalchemy.engine.base.Engine ()\n",
      "2019-05-18 18:37:59,444 INFO sqlalchemy.engine.base.Engine SELECT sql FROM  (SELECT * FROM sqlite_master UNION ALL   SELECT * FROM sqlite_temp_master) WHERE name = 'OrderDetail' AND type = 'table'\n",
      "2019-05-18 18:37:59,445 INFO sqlalchemy.engine.base.Engine ()\n",
      "2019-05-18 18:37:59,447 INFO sqlalchemy.engine.base.Engine PRAGMA foreign_key_list(\"OrderDetail\")\n",
      "2019-05-18 18:37:59,449 INFO sqlalchemy.engine.base.Engine ()\n",
      "2019-05-18 18:37:59,451 INFO sqlalchemy.engine.base.Engine SELECT sql FROM  (SELECT * FROM sqlite_master UNION ALL   SELECT * FROM sqlite_temp_master) WHERE name = 'OrderDetail' AND type = 'table'\n",
      "2019-05-18 18:37:59,452 INFO sqlalchemy.engine.base.Engine ()\n",
      "2019-05-18 18:37:59,453 INFO sqlalchemy.engine.base.Engine PRAGMA index_list(\"OrderDetail\")\n",
      "2019-05-18 18:37:59,455 INFO sqlalchemy.engine.base.Engine ()\n",
      "2019-05-18 18:37:59,458 INFO sqlalchemy.engine.base.Engine PRAGMA index_list(\"OrderDetail\")\n",
      "2019-05-18 18:37:59,459 INFO sqlalchemy.engine.base.Engine ()\n",
      "2019-05-18 18:37:59,462 INFO sqlalchemy.engine.base.Engine PRAGMA index_info(\"sqlite_autoindex_OrderDetail_1\")\n",
      "2019-05-18 18:37:59,465 INFO sqlalchemy.engine.base.Engine ()\n",
      "2019-05-18 18:37:59,468 INFO sqlalchemy.engine.base.Engine SELECT sql FROM  (SELECT * FROM sqlite_master UNION ALL   SELECT * FROM sqlite_temp_master) WHERE name = 'OrderDetail' AND type = 'table'\n",
      "2019-05-18 18:37:59,470 INFO sqlalchemy.engine.base.Engine ()\n",
      "2019-05-18 18:37:59,475 INFO sqlalchemy.engine.base.Engine PRAGMA table_info(\"Product\")\n",
      "2019-05-18 18:37:59,477 INFO sqlalchemy.engine.base.Engine ()\n",
      "2019-05-18 18:37:59,483 INFO sqlalchemy.engine.base.Engine SELECT sql FROM  (SELECT * FROM sqlite_master UNION ALL   SELECT * FROM sqlite_temp_master) WHERE name = 'Product' AND type = 'table'\n",
      "2019-05-18 18:37:59,486 INFO sqlalchemy.engine.base.Engine ()\n",
      "2019-05-18 18:37:59,489 INFO sqlalchemy.engine.base.Engine PRAGMA foreign_key_list(\"Product\")\n",
      "2019-05-18 18:37:59,490 INFO sqlalchemy.engine.base.Engine ()\n",
      "2019-05-18 18:37:59,492 INFO sqlalchemy.engine.base.Engine SELECT sql FROM  (SELECT * FROM sqlite_master UNION ALL   SELECT * FROM sqlite_temp_master) WHERE name = 'Product' AND type = 'table'\n",
      "2019-05-18 18:37:59,494 INFO sqlalchemy.engine.base.Engine ()\n",
      "2019-05-18 18:37:59,497 INFO sqlalchemy.engine.base.Engine PRAGMA index_list(\"Product\")\n",
      "2019-05-18 18:37:59,500 INFO sqlalchemy.engine.base.Engine ()\n",
      "2019-05-18 18:37:59,502 INFO sqlalchemy.engine.base.Engine PRAGMA index_list(\"Product\")\n",
      "2019-05-18 18:37:59,503 INFO sqlalchemy.engine.base.Engine ()\n",
      "2019-05-18 18:37:59,505 INFO sqlalchemy.engine.base.Engine SELECT sql FROM  (SELECT * FROM sqlite_master UNION ALL   SELECT * FROM sqlite_temp_master) WHERE name = 'Product' AND type = 'table'\n",
      "2019-05-18 18:37:59,506 INFO sqlalchemy.engine.base.Engine ()\n",
      "2019-05-18 18:37:59,511 INFO sqlalchemy.engine.base.Engine PRAGMA table_info(\"Region\")\n",
      "2019-05-18 18:37:59,513 INFO sqlalchemy.engine.base.Engine ()\n",
      "2019-05-18 18:37:59,515 INFO sqlalchemy.engine.base.Engine SELECT sql FROM  (SELECT * FROM sqlite_master UNION ALL   SELECT * FROM sqlite_temp_master) WHERE name = 'Region' AND type = 'table'\n",
      "2019-05-18 18:37:59,517 INFO sqlalchemy.engine.base.Engine ()\n",
      "2019-05-18 18:37:59,520 INFO sqlalchemy.engine.base.Engine PRAGMA foreign_key_list(\"Region\")\n",
      "2019-05-18 18:37:59,521 INFO sqlalchemy.engine.base.Engine ()\n",
      "2019-05-18 18:37:59,522 INFO sqlalchemy.engine.base.Engine SELECT sql FROM  (SELECT * FROM sqlite_master UNION ALL   SELECT * FROM sqlite_temp_master) WHERE name = 'Region' AND type = 'table'\n",
      "2019-05-18 18:37:59,524 INFO sqlalchemy.engine.base.Engine ()\n",
      "2019-05-18 18:37:59,527 INFO sqlalchemy.engine.base.Engine PRAGMA index_list(\"Region\")\n",
      "2019-05-18 18:37:59,528 INFO sqlalchemy.engine.base.Engine ()\n",
      "2019-05-18 18:37:59,530 INFO sqlalchemy.engine.base.Engine PRAGMA index_list(\"Region\")\n",
      "2019-05-18 18:37:59,531 INFO sqlalchemy.engine.base.Engine ()\n",
      "2019-05-18 18:37:59,532 INFO sqlalchemy.engine.base.Engine SELECT sql FROM  (SELECT * FROM sqlite_master UNION ALL   SELECT * FROM sqlite_temp_master) WHERE name = 'Region' AND type = 'table'\n",
      "2019-05-18 18:37:59,533 INFO sqlalchemy.engine.base.Engine ()\n",
      "2019-05-18 18:37:59,536 INFO sqlalchemy.engine.base.Engine PRAGMA table_info(\"Shipper\")\n",
      "2019-05-18 18:37:59,536 INFO sqlalchemy.engine.base.Engine ()\n",
      "2019-05-18 18:37:59,538 INFO sqlalchemy.engine.base.Engine SELECT sql FROM  (SELECT * FROM sqlite_master UNION ALL   SELECT * FROM sqlite_temp_master) WHERE name = 'Shipper' AND type = 'table'\n",
      "2019-05-18 18:37:59,539 INFO sqlalchemy.engine.base.Engine ()\n",
      "2019-05-18 18:37:59,542 INFO sqlalchemy.engine.base.Engine PRAGMA foreign_key_list(\"Shipper\")\n",
      "2019-05-18 18:37:59,543 INFO sqlalchemy.engine.base.Engine ()\n",
      "2019-05-18 18:37:59,544 INFO sqlalchemy.engine.base.Engine SELECT sql FROM  (SELECT * FROM sqlite_master UNION ALL   SELECT * FROM sqlite_temp_master) WHERE name = 'Shipper' AND type = 'table'\n",
      "2019-05-18 18:37:59,545 INFO sqlalchemy.engine.base.Engine ()\n",
      "2019-05-18 18:37:59,546 INFO sqlalchemy.engine.base.Engine PRAGMA index_list(\"Shipper\")\n",
      "2019-05-18 18:37:59,547 INFO sqlalchemy.engine.base.Engine ()\n",
      "2019-05-18 18:37:59,548 INFO sqlalchemy.engine.base.Engine PRAGMA index_list(\"Shipper\")\n",
      "2019-05-18 18:37:59,549 INFO sqlalchemy.engine.base.Engine ()\n",
      "2019-05-18 18:37:59,550 INFO sqlalchemy.engine.base.Engine SELECT sql FROM  (SELECT * FROM sqlite_master UNION ALL   SELECT * FROM sqlite_temp_master) WHERE name = 'Shipper' AND type = 'table'\n",
      "2019-05-18 18:37:59,551 INFO sqlalchemy.engine.base.Engine ()\n",
      "2019-05-18 18:37:59,553 INFO sqlalchemy.engine.base.Engine PRAGMA table_info(\"Supplier\")\n",
      "2019-05-18 18:37:59,554 INFO sqlalchemy.engine.base.Engine ()\n",
      "2019-05-18 18:37:59,557 INFO sqlalchemy.engine.base.Engine SELECT sql FROM  (SELECT * FROM sqlite_master UNION ALL   SELECT * FROM sqlite_temp_master) WHERE name = 'Supplier' AND type = 'table'\n",
      "2019-05-18 18:37:59,558 INFO sqlalchemy.engine.base.Engine ()\n",
      "2019-05-18 18:37:59,560 INFO sqlalchemy.engine.base.Engine PRAGMA foreign_key_list(\"Supplier\")\n",
      "2019-05-18 18:37:59,560 INFO sqlalchemy.engine.base.Engine ()\n",
      "2019-05-18 18:37:59,561 INFO sqlalchemy.engine.base.Engine SELECT sql FROM  (SELECT * FROM sqlite_master UNION ALL   SELECT * FROM sqlite_temp_master) WHERE name = 'Supplier' AND type = 'table'\n",
      "2019-05-18 18:37:59,562 INFO sqlalchemy.engine.base.Engine ()\n",
      "2019-05-18 18:37:59,564 INFO sqlalchemy.engine.base.Engine PRAGMA index_list(\"Supplier\")\n",
      "2019-05-18 18:37:59,564 INFO sqlalchemy.engine.base.Engine ()\n",
      "2019-05-18 18:37:59,566 INFO sqlalchemy.engine.base.Engine PRAGMA index_list(\"Supplier\")\n",
      "2019-05-18 18:37:59,567 INFO sqlalchemy.engine.base.Engine ()\n",
      "2019-05-18 18:37:59,569 INFO sqlalchemy.engine.base.Engine SELECT sql FROM  (SELECT * FROM sqlite_master UNION ALL   SELECT * FROM sqlite_temp_master) WHERE name = 'Supplier' AND type = 'table'\n",
      "2019-05-18 18:37:59,570 INFO sqlalchemy.engine.base.Engine ()\n",
      "2019-05-18 18:37:59,573 INFO sqlalchemy.engine.base.Engine PRAGMA table_info(\"Territory\")\n",
      "2019-05-18 18:37:59,574 INFO sqlalchemy.engine.base.Engine ()\n",
      "2019-05-18 18:37:59,577 INFO sqlalchemy.engine.base.Engine SELECT sql FROM  (SELECT * FROM sqlite_master UNION ALL   SELECT * FROM sqlite_temp_master) WHERE name = 'Territory' AND type = 'table'\n",
      "2019-05-18 18:37:59,578 INFO sqlalchemy.engine.base.Engine ()\n",
      "2019-05-18 18:37:59,581 INFO sqlalchemy.engine.base.Engine PRAGMA foreign_key_list(\"Territory\")\n",
      "2019-05-18 18:37:59,582 INFO sqlalchemy.engine.base.Engine ()\n",
      "2019-05-18 18:37:59,583 INFO sqlalchemy.engine.base.Engine SELECT sql FROM  (SELECT * FROM sqlite_master UNION ALL   SELECT * FROM sqlite_temp_master) WHERE name = 'Territory' AND type = 'table'\n",
      "2019-05-18 18:37:59,583 INFO sqlalchemy.engine.base.Engine ()\n",
      "2019-05-18 18:37:59,585 INFO sqlalchemy.engine.base.Engine PRAGMA index_list(\"Territory\")\n",
      "2019-05-18 18:37:59,586 INFO sqlalchemy.engine.base.Engine ()\n",
      "2019-05-18 18:37:59,588 INFO sqlalchemy.engine.base.Engine PRAGMA index_list(\"Territory\")\n",
      "2019-05-18 18:37:59,589 INFO sqlalchemy.engine.base.Engine ()\n",
      "2019-05-18 18:37:59,592 INFO sqlalchemy.engine.base.Engine PRAGMA index_info(\"sqlite_autoindex_Territory_1\")\n",
      "2019-05-18 18:37:59,594 INFO sqlalchemy.engine.base.Engine ()\n",
      "2019-05-18 18:37:59,596 INFO sqlalchemy.engine.base.Engine SELECT sql FROM  (SELECT * FROM sqlite_master UNION ALL   SELECT * FROM sqlite_temp_master) WHERE name = 'Territory' AND type = 'table'\n",
      "2019-05-18 18:37:59,597 INFO sqlalchemy.engine.base.Engine ()\n"
     ]
    }
   ],
   "source": [
    "# map the db table features with their headings\n",
    "\n",
    "metadata = MetaData()\n",
    "metadata.reflect(engine)\n",
    "Base = automap_base(metadata = metadata)\n",
    "Base.prepare()\n",
    "\n",
    "Category, Customer, CustomerCustomerDemo, CustomerDemographic, Employee, EmployeeTerritory, Order, OrderDetail,\\\n",
    "Product, Region, Shipper, Supplier, Territory = \\\n",
    "Base.classes.Category,\\\n",
    "Base.classes.Customer,\\\n",
    "Base.classes.CustomerCustomerDemo,\\\n",
    "Base.classes.CustomerDemographic, \\\n",
    "Base.classes.Employee, \\\n",
    "Base.classes.EmployeeTerritory,\\\n",
    "Base.classes.Order,\\\n",
    "Base.classes.OrderDetail, \\\n",
    "Base.classes.Product, \\\n",
    "Base.classes.Region,\\\n",
    "Base.classes.Shipper, \\\n",
    "Base.classes.Supplier, \\\n",
    "Base.classes.Territory"
   ]
  },
  {
   "cell_type": "markdown",
   "metadata": {
    "hidden": true
   },
   "source": [
    "##### converting each mapped table to a pandas dataframe"
   ]
  },
  {
   "cell_type": "code",
   "execution_count": 6,
   "metadata": {
    "hidden": true,
    "scrolled": true
   },
   "outputs": [
    {
     "name": "stdout",
     "output_type": "stream",
     "text": [
      "2019-05-18 18:37:59,651 INFO sqlalchemy.engine.base.Engine SELECT * FROM [category]\n",
      "2019-05-18 18:37:59,652 INFO sqlalchemy.engine.base.Engine ()\n",
      "2019-05-18 18:37:59,659 INFO sqlalchemy.engine.base.Engine SELECT * FROM [customer]\n",
      "2019-05-18 18:37:59,661 INFO sqlalchemy.engine.base.Engine ()\n",
      "2019-05-18 18:37:59,671 INFO sqlalchemy.engine.base.Engine SELECT * FROM [customerCustomerDemo]\n",
      "2019-05-18 18:37:59,672 INFO sqlalchemy.engine.base.Engine ()\n",
      "2019-05-18 18:37:59,677 INFO sqlalchemy.engine.base.Engine SELECT * FROM [customerDemographic]\n",
      "2019-05-18 18:37:59,678 INFO sqlalchemy.engine.base.Engine ()\n",
      "2019-05-18 18:37:59,683 INFO sqlalchemy.engine.base.Engine SELECT * FROM [employee]\n",
      "2019-05-18 18:37:59,685 INFO sqlalchemy.engine.base.Engine ()\n",
      "2019-05-18 18:37:59,694 INFO sqlalchemy.engine.base.Engine SELECT * FROM [employeeTerritory]\n",
      "2019-05-18 18:37:59,695 INFO sqlalchemy.engine.base.Engine ()\n",
      "2019-05-18 18:37:59,702 INFO sqlalchemy.engine.base.Engine SELECT * FROM [order]\n",
      "2019-05-18 18:37:59,703 INFO sqlalchemy.engine.base.Engine ()\n",
      "2019-05-18 18:37:59,770 INFO sqlalchemy.engine.base.Engine SELECT * FROM [orderDetail]\n",
      "2019-05-18 18:37:59,771 INFO sqlalchemy.engine.base.Engine ()\n",
      "2019-05-18 18:37:59,811 INFO sqlalchemy.engine.base.Engine SELECT * FROM [product]\n",
      "2019-05-18 18:37:59,812 INFO sqlalchemy.engine.base.Engine ()\n",
      "2019-05-18 18:37:59,820 INFO sqlalchemy.engine.base.Engine SELECT * FROM [region]\n",
      "2019-05-18 18:37:59,821 INFO sqlalchemy.engine.base.Engine ()\n",
      "2019-05-18 18:37:59,826 INFO sqlalchemy.engine.base.Engine SELECT * FROM [shipper]\n",
      "2019-05-18 18:37:59,827 INFO sqlalchemy.engine.base.Engine ()\n",
      "2019-05-18 18:37:59,832 INFO sqlalchemy.engine.base.Engine SELECT * FROM [supplier]\n",
      "2019-05-18 18:37:59,834 INFO sqlalchemy.engine.base.Engine ()\n",
      "2019-05-18 18:37:59,839 INFO sqlalchemy.engine.base.Engine SELECT * FROM [territory]\n",
      "2019-05-18 18:37:59,841 INFO sqlalchemy.engine.base.Engine ()\n"
     ]
    }
   ],
   "source": [
    "# converting each mapped table to a pandas dataframe\n",
    "\n",
    "category_df= pd.read_sql_query(\"SELECT * FROM [category]\", engine)\n",
    "customer_df = pd.read_sql_query(\"SELECT * FROM [customer]\", engine)\n",
    "customerCustomerDemo_df = pd.read_sql_query(\"SELECT * FROM [customerCustomerDemo]\", engine)\n",
    "customerDemographic_df = pd.read_sql_query(\"SELECT * FROM [customerDemographic]\", engine)\n",
    "employee_df = pd.read_sql_query(\"SELECT * FROM [employee]\", engine)\n",
    "employeeTerritory_df = pd.read_sql_query(\"SELECT * FROM [employeeTerritory]\", engine)\n",
    "order_df = pd.read_sql_query(\"SELECT * FROM [order]\", engine)\n",
    "orderDetail_df = pd.read_sql_query(\"SELECT * FROM [orderDetail]\", engine)\n",
    "product_df = pd.read_sql_query(\"SELECT * FROM [product]\", engine)\n",
    "region_df = pd.read_sql_query(\"SELECT * FROM [region]\", engine)\n",
    "shipper_df = pd.read_sql_query(\"SELECT * FROM [shipper]\", engine)\n",
    "supplier_df = pd.read_sql_query(\"SELECT * FROM [supplier]\", engine)\n",
    "territory_df = pd.read_sql_query(\"SELECT * FROM [territory]\", engine)"
   ]
  },
  {
   "cell_type": "code",
   "execution_count": 7,
   "metadata": {},
   "outputs": [
    {
     "data": {
      "text/html": [
       "<div>\n",
       "<style scoped>\n",
       "    .dataframe tbody tr th:only-of-type {\n",
       "        vertical-align: middle;\n",
       "    }\n",
       "\n",
       "    .dataframe tbody tr th {\n",
       "        vertical-align: top;\n",
       "    }\n",
       "\n",
       "    .dataframe thead th {\n",
       "        text-align: right;\n",
       "    }\n",
       "</style>\n",
       "<table border=\"1\" class=\"dataframe\">\n",
       "  <thead>\n",
       "    <tr style=\"text-align: right;\">\n",
       "      <th></th>\n",
       "      <th>CategoryId</th>\n",
       "      <th>CategoryName</th>\n",
       "      <th>Description</th>\n",
       "      <th>ProductId</th>\n",
       "      <th>ProductName</th>\n",
       "      <th>SupplierId</th>\n",
       "      <th>QuantityPerUnit</th>\n",
       "      <th>UnitPrice_x</th>\n",
       "      <th>UnitsInStock</th>\n",
       "      <th>UnitsOnOrder</th>\n",
       "      <th>ReorderLevel</th>\n",
       "      <th>Discontinued</th>\n",
       "      <th>Id</th>\n",
       "      <th>OrderId</th>\n",
       "      <th>UnitPrice_y</th>\n",
       "      <th>Quantity</th>\n",
       "      <th>Discount</th>\n",
       "      <th>CustomerId</th>\n",
       "      <th>EmployeeId</th>\n",
       "      <th>OrderDate</th>\n",
       "      <th>RequiredDate</th>\n",
       "      <th>ShippedDate</th>\n",
       "      <th>ShipVia</th>\n",
       "      <th>Freight</th>\n",
       "      <th>ShipName</th>\n",
       "      <th>ShipAddress</th>\n",
       "      <th>ShipCity</th>\n",
       "      <th>ShipRegion</th>\n",
       "      <th>ShipPostalCode</th>\n",
       "      <th>ShipCountry</th>\n",
       "      <th>CompanyName</th>\n",
       "      <th>ContactName</th>\n",
       "      <th>ContactTitle</th>\n",
       "      <th>Address</th>\n",
       "      <th>City</th>\n",
       "      <th>Region</th>\n",
       "      <th>PostalCode</th>\n",
       "      <th>Country</th>\n",
       "      <th>Phone</th>\n",
       "      <th>Fax</th>\n",
       "    </tr>\n",
       "  </thead>\n",
       "  <tbody>\n",
       "    <tr>\n",
       "      <th>0</th>\n",
       "      <td>1</td>\n",
       "      <td>Beverages</td>\n",
       "      <td>Soft drinks, coffees, teas, beers, and ales</td>\n",
       "      <td>1</td>\n",
       "      <td>Chai</td>\n",
       "      <td>1</td>\n",
       "      <td>10 boxes x 20 bags</td>\n",
       "      <td>18.0</td>\n",
       "      <td>39</td>\n",
       "      <td>0</td>\n",
       "      <td>10</td>\n",
       "      <td>0</td>\n",
       "      <td>10285/1</td>\n",
       "      <td>10285</td>\n",
       "      <td>14.4</td>\n",
       "      <td>45</td>\n",
       "      <td>0.2</td>\n",
       "      <td>QUICK</td>\n",
       "      <td>1</td>\n",
       "      <td>2012-08-20</td>\n",
       "      <td>2012-09-17</td>\n",
       "      <td>2012-08-26</td>\n",
       "      <td>2</td>\n",
       "      <td>76.83</td>\n",
       "      <td>QUICK-Stop</td>\n",
       "      <td>Taucherstraße 10</td>\n",
       "      <td>Cunewalde</td>\n",
       "      <td>Western Europe</td>\n",
       "      <td>01307</td>\n",
       "      <td>Germany</td>\n",
       "      <td>QUICK-Stop</td>\n",
       "      <td>Horst Kloss</td>\n",
       "      <td>Accounting Manager</td>\n",
       "      <td>Taucherstraße 10</td>\n",
       "      <td>Cunewalde</td>\n",
       "      <td>Western Europe</td>\n",
       "      <td>01307</td>\n",
       "      <td>Germany</td>\n",
       "      <td>0372-035188</td>\n",
       "      <td>None</td>\n",
       "    </tr>\n",
       "    <tr>\n",
       "      <th>1</th>\n",
       "      <td>6</td>\n",
       "      <td>Meat/Poultry</td>\n",
       "      <td>Prepared meats</td>\n",
       "      <td>53</td>\n",
       "      <td>Perth Pasties</td>\n",
       "      <td>24</td>\n",
       "      <td>48 pieces</td>\n",
       "      <td>32.8</td>\n",
       "      <td>0</td>\n",
       "      <td>0</td>\n",
       "      <td>0</td>\n",
       "      <td>1</td>\n",
       "      <td>10285/53</td>\n",
       "      <td>10285</td>\n",
       "      <td>26.2</td>\n",
       "      <td>36</td>\n",
       "      <td>0.2</td>\n",
       "      <td>QUICK</td>\n",
       "      <td>1</td>\n",
       "      <td>2012-08-20</td>\n",
       "      <td>2012-09-17</td>\n",
       "      <td>2012-08-26</td>\n",
       "      <td>2</td>\n",
       "      <td>76.83</td>\n",
       "      <td>QUICK-Stop</td>\n",
       "      <td>Taucherstraße 10</td>\n",
       "      <td>Cunewalde</td>\n",
       "      <td>Western Europe</td>\n",
       "      <td>01307</td>\n",
       "      <td>Germany</td>\n",
       "      <td>QUICK-Stop</td>\n",
       "      <td>Horst Kloss</td>\n",
       "      <td>Accounting Manager</td>\n",
       "      <td>Taucherstraße 10</td>\n",
       "      <td>Cunewalde</td>\n",
       "      <td>Western Europe</td>\n",
       "      <td>01307</td>\n",
       "      <td>Germany</td>\n",
       "      <td>0372-035188</td>\n",
       "      <td>None</td>\n",
       "    </tr>\n",
       "    <tr>\n",
       "      <th>2</th>\n",
       "      <td>8</td>\n",
       "      <td>Seafood</td>\n",
       "      <td>Seaweed and fish</td>\n",
       "      <td>40</td>\n",
       "      <td>Boston Crab Meat</td>\n",
       "      <td>19</td>\n",
       "      <td>24 - 4 oz tins</td>\n",
       "      <td>18.4</td>\n",
       "      <td>123</td>\n",
       "      <td>0</td>\n",
       "      <td>30</td>\n",
       "      <td>0</td>\n",
       "      <td>10285/40</td>\n",
       "      <td>10285</td>\n",
       "      <td>14.7</td>\n",
       "      <td>40</td>\n",
       "      <td>0.2</td>\n",
       "      <td>QUICK</td>\n",
       "      <td>1</td>\n",
       "      <td>2012-08-20</td>\n",
       "      <td>2012-09-17</td>\n",
       "      <td>2012-08-26</td>\n",
       "      <td>2</td>\n",
       "      <td>76.83</td>\n",
       "      <td>QUICK-Stop</td>\n",
       "      <td>Taucherstraße 10</td>\n",
       "      <td>Cunewalde</td>\n",
       "      <td>Western Europe</td>\n",
       "      <td>01307</td>\n",
       "      <td>Germany</td>\n",
       "      <td>QUICK-Stop</td>\n",
       "      <td>Horst Kloss</td>\n",
       "      <td>Accounting Manager</td>\n",
       "      <td>Taucherstraße 10</td>\n",
       "      <td>Cunewalde</td>\n",
       "      <td>Western Europe</td>\n",
       "      <td>01307</td>\n",
       "      <td>Germany</td>\n",
       "      <td>0372-035188</td>\n",
       "      <td>None</td>\n",
       "    </tr>\n",
       "    <tr>\n",
       "      <th>3</th>\n",
       "      <td>1</td>\n",
       "      <td>Beverages</td>\n",
       "      <td>Soft drinks, coffees, teas, beers, and ales</td>\n",
       "      <td>1</td>\n",
       "      <td>Chai</td>\n",
       "      <td>1</td>\n",
       "      <td>10 boxes x 20 bags</td>\n",
       "      <td>18.0</td>\n",
       "      <td>39</td>\n",
       "      <td>0</td>\n",
       "      <td>10</td>\n",
       "      <td>0</td>\n",
       "      <td>10691/1</td>\n",
       "      <td>10691</td>\n",
       "      <td>18.0</td>\n",
       "      <td>30</td>\n",
       "      <td>0.0</td>\n",
       "      <td>QUICK</td>\n",
       "      <td>2</td>\n",
       "      <td>2013-10-03</td>\n",
       "      <td>2013-11-14</td>\n",
       "      <td>2013-10-22</td>\n",
       "      <td>2</td>\n",
       "      <td>810.05</td>\n",
       "      <td>QUICK-Stop</td>\n",
       "      <td>Taucherstraße 10</td>\n",
       "      <td>Cunewalde</td>\n",
       "      <td>Western Europe</td>\n",
       "      <td>01307</td>\n",
       "      <td>Germany</td>\n",
       "      <td>QUICK-Stop</td>\n",
       "      <td>Horst Kloss</td>\n",
       "      <td>Accounting Manager</td>\n",
       "      <td>Taucherstraße 10</td>\n",
       "      <td>Cunewalde</td>\n",
       "      <td>Western Europe</td>\n",
       "      <td>01307</td>\n",
       "      <td>Germany</td>\n",
       "      <td>0372-035188</td>\n",
       "      <td>None</td>\n",
       "    </tr>\n",
       "    <tr>\n",
       "      <th>4</th>\n",
       "      <td>1</td>\n",
       "      <td>Beverages</td>\n",
       "      <td>Soft drinks, coffees, teas, beers, and ales</td>\n",
       "      <td>43</td>\n",
       "      <td>Ipoh Coffee</td>\n",
       "      <td>20</td>\n",
       "      <td>16 - 500 g tins</td>\n",
       "      <td>46.0</td>\n",
       "      <td>17</td>\n",
       "      <td>10</td>\n",
       "      <td>25</td>\n",
       "      <td>0</td>\n",
       "      <td>10691/43</td>\n",
       "      <td>10691</td>\n",
       "      <td>46.0</td>\n",
       "      <td>40</td>\n",
       "      <td>0.0</td>\n",
       "      <td>QUICK</td>\n",
       "      <td>2</td>\n",
       "      <td>2013-10-03</td>\n",
       "      <td>2013-11-14</td>\n",
       "      <td>2013-10-22</td>\n",
       "      <td>2</td>\n",
       "      <td>810.05</td>\n",
       "      <td>QUICK-Stop</td>\n",
       "      <td>Taucherstraße 10</td>\n",
       "      <td>Cunewalde</td>\n",
       "      <td>Western Europe</td>\n",
       "      <td>01307</td>\n",
       "      <td>Germany</td>\n",
       "      <td>QUICK-Stop</td>\n",
       "      <td>Horst Kloss</td>\n",
       "      <td>Accounting Manager</td>\n",
       "      <td>Taucherstraße 10</td>\n",
       "      <td>Cunewalde</td>\n",
       "      <td>Western Europe</td>\n",
       "      <td>01307</td>\n",
       "      <td>Germany</td>\n",
       "      <td>0372-035188</td>\n",
       "      <td>None</td>\n",
       "    </tr>\n",
       "  </tbody>\n",
       "</table>\n",
       "</div>"
      ],
      "text/plain": [
       "   CategoryId  CategoryName                                  Description  \\\n",
       "0           1     Beverages  Soft drinks, coffees, teas, beers, and ales   \n",
       "1           6  Meat/Poultry                               Prepared meats   \n",
       "2           8       Seafood                             Seaweed and fish   \n",
       "3           1     Beverages  Soft drinks, coffees, teas, beers, and ales   \n",
       "4           1     Beverages  Soft drinks, coffees, teas, beers, and ales   \n",
       "\n",
       "   ProductId       ProductName  SupplierId     QuantityPerUnit  UnitPrice_x  \\\n",
       "0          1              Chai           1  10 boxes x 20 bags         18.0   \n",
       "1         53     Perth Pasties          24           48 pieces         32.8   \n",
       "2         40  Boston Crab Meat          19      24 - 4 oz tins         18.4   \n",
       "3          1              Chai           1  10 boxes x 20 bags         18.0   \n",
       "4         43       Ipoh Coffee          20     16 - 500 g tins         46.0   \n",
       "\n",
       "   UnitsInStock  UnitsOnOrder  ReorderLevel  Discontinued        Id  OrderId  \\\n",
       "0            39             0            10             0   10285/1    10285   \n",
       "1             0             0             0             1  10285/53    10285   \n",
       "2           123             0            30             0  10285/40    10285   \n",
       "3            39             0            10             0   10691/1    10691   \n",
       "4            17            10            25             0  10691/43    10691   \n",
       "\n",
       "   UnitPrice_y  Quantity  Discount CustomerId  EmployeeId   OrderDate  \\\n",
       "0         14.4        45       0.2      QUICK           1  2012-08-20   \n",
       "1         26.2        36       0.2      QUICK           1  2012-08-20   \n",
       "2         14.7        40       0.2      QUICK           1  2012-08-20   \n",
       "3         18.0        30       0.0      QUICK           2  2013-10-03   \n",
       "4         46.0        40       0.0      QUICK           2  2013-10-03   \n",
       "\n",
       "  RequiredDate ShippedDate  ShipVia  Freight    ShipName       ShipAddress  \\\n",
       "0   2012-09-17  2012-08-26        2    76.83  QUICK-Stop  Taucherstraße 10   \n",
       "1   2012-09-17  2012-08-26        2    76.83  QUICK-Stop  Taucherstraße 10   \n",
       "2   2012-09-17  2012-08-26        2    76.83  QUICK-Stop  Taucherstraße 10   \n",
       "3   2013-11-14  2013-10-22        2   810.05  QUICK-Stop  Taucherstraße 10   \n",
       "4   2013-11-14  2013-10-22        2   810.05  QUICK-Stop  Taucherstraße 10   \n",
       "\n",
       "    ShipCity      ShipRegion ShipPostalCode ShipCountry CompanyName  \\\n",
       "0  Cunewalde  Western Europe          01307     Germany  QUICK-Stop   \n",
       "1  Cunewalde  Western Europe          01307     Germany  QUICK-Stop   \n",
       "2  Cunewalde  Western Europe          01307     Germany  QUICK-Stop   \n",
       "3  Cunewalde  Western Europe          01307     Germany  QUICK-Stop   \n",
       "4  Cunewalde  Western Europe          01307     Germany  QUICK-Stop   \n",
       "\n",
       "   ContactName        ContactTitle           Address       City  \\\n",
       "0  Horst Kloss  Accounting Manager  Taucherstraße 10  Cunewalde   \n",
       "1  Horst Kloss  Accounting Manager  Taucherstraße 10  Cunewalde   \n",
       "2  Horst Kloss  Accounting Manager  Taucherstraße 10  Cunewalde   \n",
       "3  Horst Kloss  Accounting Manager  Taucherstraße 10  Cunewalde   \n",
       "4  Horst Kloss  Accounting Manager  Taucherstraße 10  Cunewalde   \n",
       "\n",
       "           Region PostalCode  Country        Phone   Fax  \n",
       "0  Western Europe      01307  Germany  0372-035188  None  \n",
       "1  Western Europe      01307  Germany  0372-035188  None  \n",
       "2  Western Europe      01307  Germany  0372-035188  None  \n",
       "3  Western Europe      01307  Germany  0372-035188  None  \n",
       "4  Western Europe      01307  Germany  0372-035188  None  "
      ]
     },
     "execution_count": 7,
     "metadata": {},
     "output_type": "execute_result"
    }
   ],
   "source": [
    "# combining all the newly converted tables into one go-to DataFrame\n",
    "\n",
    "category_df.rename(columns = {\"Id\":\"CategoryId\"}, inplace = True)\n",
    "cat_prod_df = pd.merge(category_df, product_df, on = \"CategoryId\" )\n",
    "cat_prod_df.rename(columns = {\"Id\": \"ProductId\"}, inplace = True)\n",
    "cat_prod_OrDtl_df = pd.merge(cat_prod_df, orderDetail_df, on = \"ProductId\")\n",
    "order_df.rename(columns = {\"Id\" : \"OrderId\"}, inplace = True)\n",
    "cat_prod_OrDtl_orders_df = pd.merge(cat_prod_OrDtl_df, order_df, on = \"OrderId\" )\n",
    "customer_df.rename(columns ={\"Id\": \"CustomerId\"}, inplace = True)\n",
    "data = pd.merge(cat_prod_OrDtl_orders_df, customer_df, on = \"CustomerId\")\n",
    "data.head()"
   ]
  },
  {
   "cell_type": "markdown",
   "metadata": {},
   "source": [
    "## Question 1 \n",
    "###### Do discounted items sell in greater quantites than non-discounted items?  And if so, does the level of discount have an impact?"
   ]
  },
  {
   "cell_type": "markdown",
   "metadata": {},
   "source": [
    "##### Isolate the data we need "
   ]
  },
  {
   "cell_type": "code",
   "execution_count": 8,
   "metadata": {
    "hidden": true
   },
   "outputs": [
    {
     "data": {
      "text/html": [
       "<div>\n",
       "<style scoped>\n",
       "    .dataframe tbody tr th:only-of-type {\n",
       "        vertical-align: middle;\n",
       "    }\n",
       "\n",
       "    .dataframe tbody tr th {\n",
       "        vertical-align: top;\n",
       "    }\n",
       "\n",
       "    .dataframe thead th {\n",
       "        text-align: right;\n",
       "    }\n",
       "</style>\n",
       "<table border=\"1\" class=\"dataframe\">\n",
       "  <thead>\n",
       "    <tr style=\"text-align: right;\">\n",
       "      <th></th>\n",
       "      <th>Quantity</th>\n",
       "      <th>Discount</th>\n",
       "    </tr>\n",
       "  </thead>\n",
       "  <tbody>\n",
       "    <tr>\n",
       "      <th>0</th>\n",
       "      <td>12</td>\n",
       "      <td>0.0</td>\n",
       "    </tr>\n",
       "    <tr>\n",
       "      <th>1</th>\n",
       "      <td>10</td>\n",
       "      <td>0.0</td>\n",
       "    </tr>\n",
       "    <tr>\n",
       "      <th>2</th>\n",
       "      <td>5</td>\n",
       "      <td>0.0</td>\n",
       "    </tr>\n",
       "    <tr>\n",
       "      <th>3</th>\n",
       "      <td>9</td>\n",
       "      <td>0.0</td>\n",
       "    </tr>\n",
       "    <tr>\n",
       "      <th>4</th>\n",
       "      <td>40</td>\n",
       "      <td>0.0</td>\n",
       "    </tr>\n",
       "  </tbody>\n",
       "</table>\n",
       "</div>"
      ],
      "text/plain": [
       "   Quantity  Discount\n",
       "0        12       0.0\n",
       "1        10       0.0\n",
       "2         5       0.0\n",
       "3         9       0.0\n",
       "4        40       0.0"
      ]
     },
     "execution_count": 8,
     "metadata": {},
     "output_type": "execute_result"
    }
   ],
   "source": [
    "# we will need Quanity and Discount columns to answer both parts of quesiotn 1\n",
    "\n",
    "q1df = copy.deepcopy(orderDetail_df[[\"Quantity\", \"Discount\"]])\n",
    "q1df.head()"
   ]
  },
  {
   "cell_type": "code",
   "execution_count": 9,
   "metadata": {
    "hidden": true
   },
   "outputs": [
    {
     "data": {
      "text/plain": [
       "0.00    1317\n",
       "0.05     185\n",
       "0.10     173\n",
       "0.20     161\n",
       "0.15     157\n",
       "0.25     154\n",
       "0.03       3\n",
       "0.02       2\n",
       "0.01       1\n",
       "0.04       1\n",
       "0.06       1\n",
       "Name: Discount, dtype: int64"
      ]
     },
     "execution_count": 9,
     "metadata": {},
     "output_type": "execute_result"
    }
   ],
   "source": [
    "q1df.Discount.value_counts()"
   ]
  },
  {
   "cell_type": "code",
   "execution_count": 10,
   "metadata": {
    "hidden": true
   },
   "outputs": [],
   "source": [
    "# remove irrelevant discount levels based on the extremely low number of observations\n",
    "\n",
    "q1df = copy.deepcopy(q1df[q1df.Discount.isin([ 0.05, 0.10, 0.20, 0.15, 0.25, 0.00])])"
   ]
  },
  {
   "cell_type": "code",
   "execution_count": 11,
   "metadata": {},
   "outputs": [
    {
     "name": "stdout",
     "output_type": "stream",
     "text": [
      "<class 'pandas.core.frame.DataFrame'>\n",
      "Int64Index: 2147 entries, 0 to 2154\n",
      "Data columns (total 2 columns):\n",
      "Quantity    2147 non-null int64\n",
      "Discount    2147 non-null float64\n",
      "dtypes: float64(1), int64(1)\n",
      "memory usage: 50.3 KB\n"
     ]
    }
   ],
   "source": [
    "# check for null values\n",
    "\n",
    "q1df.info()"
   ]
  },
  {
   "cell_type": "markdown",
   "metadata": {},
   "source": [
    "##### Lets check for normality visually and with statistical tests "
   ]
  },
  {
   "cell_type": "code",
   "execution_count": 12,
   "metadata": {
    "hidden": true
   },
   "outputs": [
    {
     "name": "stdout",
     "output_type": "stream",
     "text": [
      "number observations without discount: 1317\n",
      "number observations with discount : 830\n",
      "avg. quantity sold with discount: 27.35421686746988\n",
      "avg. quantity sold without a discount: 21.715261958997722\n"
     ]
    }
   ],
   "source": [
    "# split the data between the control (no discount) and experiment group (having a discount)\n",
    "\n",
    "q1_wDis = copy.deepcopy(q1df[q1df.Discount > 0.0])\n",
    "q1_woDis = copy.deepcopy(q1df[q1df.Discount == 0.0])\n",
    "\n",
    "print(\"number observations without discount:\", len(q1_woDis))\n",
    "print(\"number observations with discount :\", len(q1_wDis))\n",
    "\n",
    "wDisAvg = q1_wDis['Quantity'].mean()\n",
    "print(\"avg. quantity sold with discount:\" , wDisAvg)\n",
    "\n",
    "wOdisAvg = q1_woDis['Quantity'].mean()\n",
    "print(\"avg. quantity sold without a discount:\" , wOdisAvg)"
   ]
  },
  {
   "cell_type": "markdown",
   "metadata": {},
   "source": [
    "##### Visual checks for normality "
   ]
  },
  {
   "cell_type": "code",
   "execution_count": 13,
   "metadata": {
    "hidden": true
   },
   "outputs": [
    {
     "data": {
      "image/png": "[encoded data removed]",
      "text/plain": [
       "<Figure size 432x288 with 1 Axes>"
      ]
     },
     "metadata": {
      "needs_background": "light"
     },
     "output_type": "display_data"
    },
    {
     "data": {
      "image/png": "[encoded data removed]",
      "text/plain": [
       "<Figure size 432x288 with 1 Axes>"
      ]
     },
     "metadata": {
      "needs_background": "light"
     },
     "output_type": "display_data"
    }
   ],
   "source": [
    "from statsmodels.graphics.gofplots import qqplot\n",
    "\n",
    "wo_dis = qqplot(q1_woDis.Quantity, line = 's')\n",
    "w_dis=qqplot(q1_wDis.Quantity, line = 's')"
   ]
  },
  {
   "cell_type": "markdown",
   "metadata": {
    "hidden": true
   },
   "source": [
    "##### The Quanitle Quantile (QQ) plots above for the experiment and control group show a large deviation from the ideal normal distribution (the straight line). "
   ]
  },
  {
   "cell_type": "code",
   "execution_count": 14,
   "metadata": {
    "hidden": true,
    "scrolled": true
   },
   "outputs": [
    {
     "name": "stderr",
     "output_type": "stream",
     "text": [
      "C:\\Users\\mngav\\Anaconda3\\envs\\learn-env\\lib\\site-packages\\scipy\\stats\\stats.py:1713: FutureWarning: Using a non-tuple sequence for multidimensional indexing is deprecated; use `arr[tuple(seq)]` instead of `arr[seq]`. In the future this will be interpreted as an array index, `arr[np.array(seq)]`, which will result either in an error or a different result.\n",
      "  return np.add.reduce(sorted[indexer] * weights, axis=axis) / sumval\n"
     ]
    },
    {
     "data": {
      "text/plain": [
       "<matplotlib.axes._subplots.AxesSubplot at 0x18190384e48>"
      ]
     },
     "execution_count": 14,
     "metadata": {},
     "output_type": "execute_result"
    },
    {
     "data": {
      "image/png": "[encoded data removed]",
      "text/plain": [
       "<Figure size 432x288 with 1 Axes>"
      ]
     },
     "metadata": {
      "needs_background": "light"
     },
     "output_type": "display_data"
    }
   ],
   "source": [
    "# kde turned off so we see actual frequency instead of normalized frequency\n",
    "\n",
    "sns.distplot(q1_wDis.Quantity, kde = False, color = 'g', label = \"w discount\")\n",
    "sns.distplot(q1_woDis.Quantity, kde = False, color = 'b', label = \"wo discount\")"
   ]
  },
  {
   "cell_type": "code",
   "execution_count": 15,
   "metadata": {
    "hidden": true
   },
   "outputs": [
    {
     "name": "stderr",
     "output_type": "stream",
     "text": [
      "C:\\Users\\mngav\\Anaconda3\\envs\\learn-env\\lib\\site-packages\\scipy\\stats\\stats.py:1713: FutureWarning: Using a non-tuple sequence for multidimensional indexing is deprecated; use `arr[tuple(seq)]` instead of `arr[seq]`. In the future this will be interpreted as an array index, `arr[np.array(seq)]`, which will result either in an error or a different result.\n",
      "  return np.add.reduce(sorted[indexer] * weights, axis=axis) / sumval\n"
     ]
    },
    {
     "data": {
      "text/plain": [
       "<matplotlib.legend.Legend at 0x1819094a1d0>"
      ]
     },
     "execution_count": 15,
     "metadata": {},
     "output_type": "execute_result"
    },
    {
     "data": {
      "image/png": "[encoded data removed]",
      "text/plain": [
       "<Figure size 720x504 with 1 Axes>"
      ]
     },
     "metadata": {},
     "output_type": "display_data"
    }
   ],
   "source": [
    "#plt.style.use(\"dark_background\")\n",
    "#sns.set_color_codes(\"bright\")\n",
    "sns.set(rc={'figure.figsize':(10,7)})\n",
    "sns.distplot(q1_wDis.Quantity, color = \"g\", label = \"with discount\", norm_hist = False) \n",
    "sns.distplot(q1_woDis.Quantity, color = \"b\", label = \"without discount\", norm_hist = False) \n",
    "\n",
    "font = {'family': 'serif',\n",
    "        'color':  'darkred',\n",
    "        'weight': 'normal',\n",
    "        'size': 17,\n",
    "        }\n",
    "\n",
    "plt.title(\"Order Quantity with and without a discount\", fontdict=font)\n",
    "plt.legend()"
   ]
  },
  {
   "cell_type": "markdown",
   "metadata": {
    "hidden": true
   },
   "source": [
    "###### The qq plots and historgrams look non-normal; lets conifrm with the stats normaltest method which performs a D'Aostino K**2 test that looks at skew (asymetry) and kurtosis (magnitude of observations present in a tail)"
   ]
  },
  {
   "cell_type": "code",
   "execution_count": 16,
   "metadata": {
    "hidden": true
   },
   "outputs": [
    {
     "name": "stdout",
     "output_type": "stream",
     "text": [
      "NormaltestResult(statistic=261.04626710761113, pvalue=2.0631145260149106e-57)\n",
      "NormaltestResult(statistic=544.5770045551502, pvalue=5.579637380545965e-119)\n"
     ]
    }
   ],
   "source": [
    "print(stats.normaltest(q1_wDis.Quantity))\n",
    "print(stats.normaltest(q1_woDis.Quantity))"
   ]
  },
  {
   "cell_type": "code",
   "execution_count": null,
   "metadata": {},
   "outputs": [],
   "source": []
  },
  {
   "cell_type": "code",
   "execution_count": null,
   "metadata": {},
   "outputs": [],
   "source": []
  },
  {
   "cell_type": "code",
   "execution_count": null,
   "metadata": {},
   "outputs": [],
   "source": []
  },
  {
   "cell_type": "code",
   "execution_count": null,
   "metadata": {},
   "outputs": [],
   "source": []
  },
  {
   "cell_type": "code",
   "execution_count": null,
   "metadata": {},
   "outputs": [],
   "source": []
  },
  {
   "cell_type": "code",
   "execution_count": null,
   "metadata": {},
   "outputs": [],
   "source": []
  },
  {
   "cell_type": "code",
   "execution_count": null,
   "metadata": {},
   "outputs": [],
   "source": []
  },
  {
   "cell_type": "code",
   "execution_count": null,
   "metadata": {},
   "outputs": [],
   "source": []
  },
  {
   "cell_type": "markdown",
   "metadata": {
    "hidden": true
   },
   "source": [
    "##### P-value for both sets is less than alpha of 0.05 so we reject the null that distribution is normal. <br> Now lets focus on getting our samples to fit a normal distribution<br>we will use the property of the Central Limit Theorem and sampling distribution of the mean"
   ]
  },
  {
   "cell_type": "markdown",
   "metadata": {
    "hidden": true
   },
   "source": [
    "##### running a normal test on the new data we see we fail to reject the null that the distributions are normal <br> Our data now satisfies the normality assumption. "
   ]
  },
  {
   "cell_type": "markdown",
   "metadata": {
    "heading_collapsed": true
   },
   "source": [
    "## Question 1: \n",
    "##### Does offering a discount precipitate a meaningful difference in order quantity?<br> And if so, is there a discount level that stands out from the rest?"
   ]
  },
  {
   "cell_type": "markdown",
   "metadata": {
    "hidden": true
   },
   "source": [
    "question 1 part a\n",
    "\n",
    "$H_O$: Offering a discount does not change the average order quantity<br>\n",
    "$H_a$: Products having a discount are ordered in greater quantities compared to those not having a discount<br>\n",
    "\n",
    "this is a one tail test"
   ]
  },
  {
   "cell_type": "code",
   "execution_count": 98,
   "metadata": {},
   "outputs": [
    {
     "name": "stdout",
     "output_type": "stream",
     "text": [
      "Ttest_indResult(statistic=6.511219067380875, pvalue=1.0051255540843165e-10)\n",
      "Ttest_indResult(statistic=213.58361431845864, pvalue=0.0)\n"
     ]
    }
   ],
   "source": [
    "# Run a T-test\n",
    "\n",
    "print(stats.ttest_ind(q1_wDis.Quantity, q1_woDis.Quantity , equal_var = False))\n",
    "\n",
    "print(stats.ttest_ind(experiment_sample1, control_sample1 , equal_var = False))\n"
   ]
  },
  {
   "cell_type": "code",
   "execution_count": 101,
   "metadata": {},
   "outputs": [
    {
     "data": {
      "text/plain": [
       "27.35421686746988"
      ]
     },
     "execution_count": 101,
     "metadata": {},
     "output_type": "execute_result"
    }
   ],
   "source": [
    "type(q1_wDis.Quantity)\n",
    "q1_wDis.Quantity.mean()"
   ]
  },
  {
   "cell_type": "code",
   "execution_count": 102,
   "metadata": {},
   "outputs": [
    {
     "data": {
      "text/plain": [
       "27.376046000000002"
      ]
     },
     "execution_count": 102,
     "metadata": {},
     "output_type": "execute_result"
    }
   ],
   "source": [
    "type(experiment_sample1)\n",
    "experiment_sample1.mean()"
   ]
  },
  {
   "cell_type": "code",
   "execution_count": 55,
   "metadata": {},
   "outputs": [
    {
     "name": "stdout",
     "output_type": "stream",
     "text": [
      "avg. quantity sold with discount: 27.35421686746988\n",
      "avg. quantity sold without a discount: 21.715261958997722\n",
      "difference in avg. quantity sold (simple effect size): 5.638954908472158\n",
      "relative to not using a discount, discounted items increase quanties sold by 26.0 percent on avearge\n"
     ]
    }
   ],
   "source": [
    "print(\"avg. quantity sold with discount:\" , wDisAvg)\n",
    "print(\"avg. quantity sold without a discount:\" , wOdisAvg)\n",
    "print(\"difference in avg. quantity sold (simple effect size):\", wDisAvg - wOdisAvg )\n",
    "print(\"relative to not using a discount, discounted items increase quanties sold by {} percent on avearge\" .format(round(((wDisAvg - wOdisAvg)/wOdisAvg)*100),1))\n",
    "\n",
    "#print(\"Effect size: \", round(discount['Quantity'].mean() - no_discount['Quantity'].mean(),1))\n",
    "#print(\"Relative effect size: \", round((discount['Quantity'].mean() - no_discount['Quantity'].mean())/no_discount['Quantity'].mean(),2))"
   ]
  },
  {
   "cell_type": "markdown",
   "metadata": {
    "hidden": true
   },
   "source": [
    "#####  <font color='yellow'> Conclusion part 1a </font>\n",
    "Our P-value and T-score tell us we can confidently reject the null hypothsis (P value is less than alpha and T score is greater than critical value of 1.96) so we now know that the sample means are different and that we can trust the results of the test to a statistically significant degree."
   ]
  },
  {
   "cell_type": "markdown",
   "metadata": {
    "hidden": true
   },
   "source": [
    "question 1 part b\n",
    "\n",
    "for the next part of the question, we will dig a bit deeper to determine if there is a certain level of discount that precipitates an increase in order size, or not"
   ]
  },
  {
   "cell_type": "markdown",
   "metadata": {
    "hidden": true
   },
   "source": [
    "will separate/bin the discount levels so we can compare each experiment group to the control"
   ]
  },
  {
   "cell_type": "code",
   "execution_count": 91,
   "metadata": {},
   "outputs": [
    {
     "name": "stderr",
     "output_type": "stream",
     "text": [
      "C:\\Users\\mngav\\Anaconda3\\envs\\learn-env\\lib\\site-packages\\scipy\\stats\\stats.py:1713: FutureWarning: Using a non-tuple sequence for multidimensional indexing is deprecated; use `arr[tuple(seq)]` instead of `arr[seq]`. In the future this will be interpreted as an array index, `arr[np.array(seq)]`, which will result either in an error or a different result.\n",
      "  return np.add.reduce(sorted[indexer] * weights, axis=axis) / sumval\n"
     ]
    },
    {
     "data": {
      "text/plain": [
       "<matplotlib.legend.Legend at 0x1b0a3c01710>"
      ]
     },
     "execution_count": 91,
     "metadata": {},
     "output_type": "execute_result"
    },
    {
     "data": {
      "image/png": "[encoded data removed]",
      "text/plain": [
       "<Figure size 720x360 with 1 Axes>"
      ]
     },
     "metadata": {},
     "output_type": "display_data"
    }
   ],
   "source": [
    "\n",
    "\n",
    "plt.figure(figsize = (10,5))\n",
    "\n",
    "sns.distplot(q1_wDis['Quantity'][q1_wDis['Discount']==0.05], label = \"0.05\")\n",
    "sns.distplot(q1_wDis['Quantity'][q1_wDis['Discount']==0.10], label = \"0.10\")\n",
    "sns.distplot(q1_wDis['Quantity'][q1_wDis['Discount']==0.15], label = \"0.15\")\n",
    "sns.distplot(q1_wDis['Quantity'][q1_wDis['Discount']==0.20], label = \"0.20\")\n",
    "sns.distplot(q1_wDis['Quantity'][q1_wDis['Discount']==0.25], label = \"0.25\")\n",
    "\n",
    "\n",
    "\n",
    "plt.title(\"Distribution of Quantity Ordered\", fontsize= 10)\n",
    "plt.xlabel(\"Quantity Ordered\")\n",
    "plt.legend(fontsize = 10)"
   ]
  },
  {
   "cell_type": "code",
   "execution_count": 92,
   "metadata": {},
   "outputs": [
    {
     "name": "stdout",
     "output_type": "stream",
     "text": [
      "NormaltestResult(statistic=544.5770045551502, pvalue=5.579637380545965e-119)\n",
      "NormaltestResult(statistic=63.84242740591745, pvalue=1.3702286160643066e-14)\n",
      "NormaltestResult(statistic=98.50271035413209, pvalue=4.0776337983848464e-22)\n",
      "NormaltestResult(statistic=38.52550343019272, pvalue=4.308173885400061e-09)\n",
      "NormaltestResult(statistic=31.398997154435623, pvalue=1.519827852850104e-07)\n",
      "NormaltestResult(statistic=54.44887806745976, pvalue=1.5016763972075847e-12)\n"
     ]
    }
   ],
   "source": [
    "q1a_feature_groups = [ \n",
    "                       q1_wDis['Quantity'][q1_wDis['Discount']==.05], \n",
    "                       q1_wDis['Quantity'][q1_wDis['Discount']==.10], \n",
    "                       q1_wDis['Quantity'][q1_wDis['Discount']==.15], \n",
    "                       q1_wDis['Quantity'][q1_wDis['Discount']==.20], \n",
    "                       q1_wDis['Quantity'][q1_wDis['Discount']==.25] \n",
    "                     ]\n",
    "\n",
    "\n",
    "for i in q1a_feature_regions:\n",
    "    print(stats.normaltest(i))"
   ]
  },
  {
   "cell_type": "code",
   "execution_count": 69,
   "metadata": {
    "hidden": true
   },
   "outputs": [],
   "source": [
    "df_00 = q1df[q1df.Discount == 0.00]\n",
    "df_05 = q1df[q1df.Discount == 0.05]\n",
    "df_10 = q1df[q1df.Discount == 0.10]\n",
    "df_15 = q1df[q1df.Discount == 0.15]\n",
    "df_20 = q1df[q1df.Discount == 0.20]\n",
    "df_25 = q1df[q1df.Discount == 0.25]\n",
    "\n",
    "norm_00 = create_sample_distribution(df_00.Quantity, dist_size=1000, n=1000)\n",
    "norm_05 = create_sample_distribution(df_05.Quantity, dist_size=1000, n=1000)\n",
    "norm_10 = create_sample_distribution(df_10.Quantity, dist_size=1000, n=1000)\n",
    "norm_15 = create_sample_distribution(df_15.Quantity, dist_size=1000, n=1000)\n",
    "norm_20 = create_sample_distribution(df_20.Quantity, dist_size=1000, n=1000)\n",
    "norm_25 = create_sample_distribution(df_25.Quantity, dist_size=1000, n=1000)"
   ]
  },
  {
   "cell_type": "code",
   "execution_count": 70,
   "metadata": {
    "hidden": true
   },
   "outputs": [
    {
     "name": "stderr",
     "output_type": "stream",
     "text": [
      "C:\\Users\\mngav\\Anaconda3\\envs\\learn-env\\lib\\site-packages\\scipy\\stats\\stats.py:1713: FutureWarning: Using a non-tuple sequence for multidimensional indexing is deprecated; use `arr[tuple(seq)]` instead of `arr[seq]`. In the future this will be interpreted as an array index, `arr[np.array(seq)]`, which will result either in an error or a different result.\n",
      "  return np.add.reduce(sorted[indexer] * weights, axis=axis) / sumval\n"
     ]
    },
    {
     "data": {
      "text/plain": [
       "<matplotlib.legend.Legend at 0x1b0a0e520f0>"
      ]
     },
     "execution_count": 70,
     "metadata": {},
     "output_type": "execute_result"
    },
    {
     "data": {
      "image/png": "[encoded data removed]",
      "text/plain": [
       "<Figure size 720x360 with 1 Axes>"
      ]
     },
     "metadata": {},
     "output_type": "display_data"
    }
   ],
   "source": [
    "plt.figure(figsize = (10,5))\n",
    "\n",
    "sns.distplot(norm_00, label = \"00\")\n",
    "sns.distplot(norm_05, label = \"05\")\n",
    "sns.distplot(norm_10, label = \"10\")\n",
    "sns.distplot(norm_15, label = \"15\")\n",
    "sns.distplot(norm_20, label = \"20\")\n",
    "sns.distplot(norm_25, label = \"25\")\n",
    "\n",
    "plt.title(\"Distribution of Quantity Ordered\", fontsize= 10)\n",
    "plt.xlabel(\"Quantity Ordered\")\n",
    "plt.legend(fontsize = 10)"
   ]
  },
  {
   "cell_type": "code",
   "execution_count": 71,
   "metadata": {
    "hidden": true
   },
   "outputs": [
    {
     "name": "stdout",
     "output_type": "stream",
     "text": [
      "NormaltestResult(statistic=9.332302761396766, pvalue=0.009408409323959548)\n",
      "NormaltestResult(statistic=0.9460319307673289, pvalue=0.623120122746414)\n",
      "NormaltestResult(statistic=0.35161504796274795, pvalue=0.8387794127227992)\n",
      "NormaltestResult(statistic=0.3015741744885564, pvalue=0.860030790692851)\n",
      "NormaltestResult(statistic=2.6044142462919737, pvalue=0.2719309451221704)\n",
      "NormaltestResult(statistic=4.939239338788121, pvalue=0.08461703533067562)\n"
     ]
    }
   ],
   "source": [
    "norm_levels = [norm_00, norm_05, norm_10, norm_15, norm_20, norm_25]\n",
    "\n",
    "for level in norm_levels:\n",
    "    print(stats.normaltest(level))"
   ]
  },
  {
   "cell_type": "code",
   "execution_count": 87,
   "metadata": {},
   "outputs": [
    {
     "data": {
      "text/html": [
       "<div>\n",
       "<style scoped>\n",
       "    .dataframe tbody tr th:only-of-type {\n",
       "        vertical-align: middle;\n",
       "    }\n",
       "\n",
       "    .dataframe tbody tr th {\n",
       "        vertical-align: top;\n",
       "    }\n",
       "\n",
       "    .dataframe thead th {\n",
       "        text-align: right;\n",
       "    }\n",
       "</style>\n",
       "<table border=\"1\" class=\"dataframe\">\n",
       "  <thead>\n",
       "    <tr style=\"text-align: right;\">\n",
       "      <th></th>\n",
       "      <th>Discount</th>\n",
       "      <th>Quantity</th>\n",
       "    </tr>\n",
       "  </thead>\n",
       "  <tbody>\n",
       "    <tr>\n",
       "      <th>0</th>\n",
       "      <td>0.05</td>\n",
       "      <td>30.039</td>\n",
       "    </tr>\n",
       "    <tr>\n",
       "      <th>1</th>\n",
       "      <td>0.05</td>\n",
       "      <td>28.122</td>\n",
       "    </tr>\n",
       "    <tr>\n",
       "      <th>2</th>\n",
       "      <td>0.05</td>\n",
       "      <td>28.248</td>\n",
       "    </tr>\n",
       "    <tr>\n",
       "      <th>3</th>\n",
       "      <td>0.05</td>\n",
       "      <td>27.287</td>\n",
       "    </tr>\n",
       "    <tr>\n",
       "      <th>4</th>\n",
       "      <td>0.05</td>\n",
       "      <td>29.167</td>\n",
       "    </tr>\n",
       "  </tbody>\n",
       "</table>\n",
       "</div>"
      ],
      "text/plain": [
       "   Discount  Quantity\n",
       "0      0.05    30.039\n",
       "1      0.05    28.122\n",
       "2      0.05    28.248\n",
       "3      0.05    27.287\n",
       "4      0.05    29.167"
      ]
     },
     "execution_count": 87,
     "metadata": {},
     "output_type": "execute_result"
    }
   ],
   "source": [
    "# converting the lists of resampled quantities into series\n",
    "\n",
    "norm_00=pd.Series( norm_00, name= 'norm_00')\n",
    "norm_05=pd.Series( norm_05, name= 'norm_05')\n",
    "norm_10=pd.Series( norm_10, name= 'norm_10')\n",
    "norm_15=pd.Series( norm_15, name= 'norm_15')\n",
    "norm_20=pd.Series( norm_20, name= 'norm_20')\n",
    "norm_25=pd.Series(norm_25, name= 'norm_25')\n",
    "\n",
    "# combining the series into a dataFrame\n",
    "norm_dis_df = pd.DataFrame(pd.concat([norm_05, norm_10, norm_15, norm_20, norm_25], axis = 1))\n",
    "\n",
    "# using .melt() to change the datas structure into one that will allow me to compute ANOVA\n",
    "norm_discount_melted_df = copy.deepcopy(pd.melt(norm_dis_df))\n",
    "\n",
    "# renaming column names to be intuitive\n",
    "norm_discount_melted_df.rename(columns = {'variable': 'Discount', 'value': 'Quantity'}, inplace=True)\n",
    "\n",
    "norm_discount_melted_df.replace({'Discount':{'norm_05':0.05, 'norm_10':0.10, 'norm_15':0.15, 'norm_20':0.20, 'norm_25':0.25}}, inplace = True)\n",
    "norm_discount_melted_df.head()"
   ]
  },
  {
   "cell_type": "code",
   "execution_count": 88,
   "metadata": {},
   "outputs": [
    {
     "name": "stdout",
     "output_type": "stream",
     "text": [
      "<class 'pandas.core.frame.DataFrame'>\n",
      "RangeIndex: 5000 entries, 0 to 4999\n",
      "Data columns (total 2 columns):\n",
      "Discount    5000 non-null float64\n",
      "Quantity    5000 non-null float64\n",
      "dtypes: float64(2)\n",
      "memory usage: 78.2 KB\n"
     ]
    }
   ],
   "source": [
    "norm_discount_melted_df.info()"
   ]
  },
  {
   "cell_type": "markdown",
   "metadata": {},
   "source": [
    "ANOVA Table"
   ]
  },
  {
   "cell_type": "code",
   "execution_count": 81,
   "metadata": {},
   "outputs": [
    {
     "data": {
      "text/html": [
       "<div>\n",
       "<style scoped>\n",
       "    .dataframe tbody tr th:only-of-type {\n",
       "        vertical-align: middle;\n",
       "    }\n",
       "\n",
       "    .dataframe tbody tr th {\n",
       "        vertical-align: top;\n",
       "    }\n",
       "\n",
       "    .dataframe thead th {\n",
       "        text-align: right;\n",
       "    }\n",
       "</style>\n",
       "<table border=\"1\" class=\"dataframe\">\n",
       "  <thead>\n",
       "    <tr style=\"text-align: right;\">\n",
       "      <th></th>\n",
       "      <th>Quantity</th>\n",
       "      <th>Discount</th>\n",
       "    </tr>\n",
       "  </thead>\n",
       "  <tbody>\n",
       "    <tr>\n",
       "      <th>6</th>\n",
       "      <td>35</td>\n",
       "      <td>0.15</td>\n",
       "    </tr>\n",
       "    <tr>\n",
       "      <th>7</th>\n",
       "      <td>15</td>\n",
       "      <td>0.15</td>\n",
       "    </tr>\n",
       "    <tr>\n",
       "      <th>8</th>\n",
       "      <td>6</td>\n",
       "      <td>0.05</td>\n",
       "    </tr>\n",
       "    <tr>\n",
       "      <th>9</th>\n",
       "      <td>15</td>\n",
       "      <td>0.05</td>\n",
       "    </tr>\n",
       "    <tr>\n",
       "      <th>11</th>\n",
       "      <td>40</td>\n",
       "      <td>0.05</td>\n",
       "    </tr>\n",
       "  </tbody>\n",
       "</table>\n",
       "</div>"
      ],
      "text/plain": [
       "    Quantity  Discount\n",
       "6         35      0.15\n",
       "7         15      0.15\n",
       "8          6      0.05\n",
       "9         15      0.05\n",
       "11        40      0.05"
      ]
     },
     "execution_count": 81,
     "metadata": {},
     "output_type": "execute_result"
    }
   ],
   "source": [
    "q1_wDis.head()"
   ]
  },
  {
   "cell_type": "code",
   "execution_count": 106,
   "metadata": {},
   "outputs": [
    {
     "name": "stdout",
     "output_type": "stream",
     "text": [
      "                    sum_sq     df         F    PR(>F)\n",
      "C(Discount)    1159.517551    4.0  0.674103  0.610041\n",
      "Residual     354768.342690  825.0       NaN       NaN\n"
     ]
    }
   ],
   "source": [
    "formula = \"Quantity ~ C(Discount)\"\n",
    "           \n",
    "lm = ols(formula, q1_wDis).fit()\n",
    "table = sm.stats.anova_lm(lm, typ=2)\n",
    "print(table)\n"
   ]
  },
  {
   "cell_type": "markdown",
   "metadata": {
    "hidden": true
   },
   "source": [
    "##### Above, our P-values support the alternative hypothesis, that the average quantities sold for having a discount versus not having a discount are not equal, except for the 10% discount level where we cannot reject the null.  So, the distribution for quantity sold at a 10% discount is not dissimilar from not having a discount."
   ]
  },
  {
   "cell_type": "code",
   "execution_count": 34,
   "metadata": {
    "hidden": true
   },
   "outputs": [
    {
     "data": {
      "text/html": [
       "<div>\n",
       "<style scoped>\n",
       "    .dataframe tbody tr th:only-of-type {\n",
       "        vertical-align: middle;\n",
       "    }\n",
       "\n",
       "    .dataframe tbody tr th {\n",
       "        vertical-align: top;\n",
       "    }\n",
       "\n",
       "    .dataframe thead th {\n",
       "        text-align: right;\n",
       "    }\n",
       "</style>\n",
       "<table border=\"1\" class=\"dataframe\">\n",
       "  <thead>\n",
       "    <tr style=\"text-align: right;\">\n",
       "      <th></th>\n",
       "      <th>Standard_Deviations_greater_than_mean</th>\n",
       "      <th>Discount_Level</th>\n",
       "    </tr>\n",
       "  </thead>\n",
       "  <tbody>\n",
       "    <tr>\n",
       "      <th>0</th>\n",
       "      <td>3.7</td>\n",
       "      <td>0.05</td>\n",
       "    </tr>\n",
       "    <tr>\n",
       "      <th>1</th>\n",
       "      <td>2.1</td>\n",
       "      <td>0.10</td>\n",
       "    </tr>\n",
       "    <tr>\n",
       "      <th>2</th>\n",
       "      <td>3.8</td>\n",
       "      <td>0.15</td>\n",
       "    </tr>\n",
       "    <tr>\n",
       "      <th>3</th>\n",
       "      <td>3.4</td>\n",
       "      <td>0.20</td>\n",
       "    </tr>\n",
       "    <tr>\n",
       "      <th>4</th>\n",
       "      <td>3.8</td>\n",
       "      <td>0.25</td>\n",
       "    </tr>\n",
       "  </tbody>\n",
       "</table>\n",
       "</div>"
      ],
      "text/plain": [
       "   Standard_Deviations_greater_than_mean  Discount_Level\n",
       "0                                    3.7            0.05\n",
       "1                                    2.1            0.10\n",
       "2                                    3.8            0.15\n",
       "3                                    3.4            0.20\n",
       "4                                    3.8            0.25"
      ]
     },
     "execution_count": 34,
     "metadata": {},
     "output_type": "execute_result"
    }
   ],
   "source": [
    "graph2 = pd.DataFrame([3.7, 2.1, 3.8, 3.4, 3.8]) \n",
    "graph2.columns =  [\"Standard_Deviations_greater_than_mean\"]\n",
    "graph2['Discount_Level'] = [.05, .10, .15, .20, .25]\n",
    "graph2.head()"
   ]
  },
  {
   "cell_type": "code",
   "execution_count": 35,
   "metadata": {
    "hidden": true
   },
   "outputs": [
    {
     "data": {
      "image/png": "[encoded data removed]",
      "text/plain": [
       "<Figure size 720x504 with 1 Axes>"
      ]
     },
     "metadata": {},
     "output_type": "display_data"
    }
   ],
   "source": [
    "\n",
    "plt.style.use('ggplot')\n",
    "width = .25\n",
    "ax = sns.barplot(x= \"Discount_Level\", y=\"Standard_Deviations_greater_than_mean\", data=graph2)"
   ]
  },
  {
   "cell_type": "markdown",
   "metadata": {
    "hidden": true
   },
   "source": [
    "##### Conclusion part 1b<br>\n",
    "\n",
    "**Restate the question and hypotheses:**<br>\n",
    "is there a difference is quantity ordered between no discount and having a discount?<br>\n",
    "𝐻𝑂: There is no difference in the average quantity ordered between product having and not having a discount<br>\n",
    "𝐻𝑎: Products having a discount are ordered at greater quantities compared to those not having a discount<br>\n",
    "\n",
    "\n",
    "We can see that all levels of discount have a significant effect on the quantity of orders though, a 10% discount has a lesser effect compared to the others which are more in line with each other.  <br>\n",
    "Since there is not much of a difference in the magnitude of effect by the varying discount levels (excluding 10%), it makes sense to use the 5% level in our marketing campaigns since it will produce the same effect in moving product compared to the  highest discount, with the benefit of not having to buy as much demand."
   ]
  },
  {
   "cell_type": "markdown",
   "metadata": {},
   "source": [
    "## Question 2 \n",
    "#### Is there a region that outperforms the others in terms of order quantities?"
   ]
  },
  {
   "cell_type": "markdown",
   "metadata": {},
   "source": [
    "$H_O$: each region sells the same quantities of product<br>\n",
    "$H_a$: regions do not sell the same quantities of product<br>\n",
    "\n",
    "this is a two tailed test"
   ]
  },
  {
   "cell_type": "code",
   "execution_count": 37,
   "metadata": {
    "scrolled": true
   },
   "outputs": [
    {
     "name": "stdout",
     "output_type": "stream",
     "text": [
      "<class 'pandas.core.frame.DataFrame'>\n",
      "Int64Index: 2078 entries, 0 to 2077\n",
      "Data columns (total 40 columns):\n",
      "CategoryId         2078 non-null int64\n",
      "CategoryName       2078 non-null object\n",
      "Description        2078 non-null object\n",
      "ProductId          2078 non-null int64\n",
      "ProductName        2078 non-null object\n",
      "SupplierId         2078 non-null int64\n",
      "QuantityPerUnit    2078 non-null object\n",
      "UnitPrice_x        2078 non-null float64\n",
      "UnitsInStock       2078 non-null int64\n",
      "UnitsOnOrder       2078 non-null int64\n",
      "ReorderLevel       2078 non-null int64\n",
      "Discontinued       2078 non-null int64\n",
      "Id                 2078 non-null object\n",
      "OrderId            2078 non-null int64\n",
      "UnitPrice_y        2078 non-null float64\n",
      "Quantity           2078 non-null int64\n",
      "Discount           2078 non-null float64\n",
      "CustomerId         2078 non-null object\n",
      "EmployeeId         2078 non-null int64\n",
      "OrderDate          2078 non-null object\n",
      "RequiredDate       2078 non-null object\n",
      "ShippedDate        2008 non-null object\n",
      "ShipVia            2078 non-null int64\n",
      "Freight            2078 non-null float64\n",
      "ShipName           2078 non-null object\n",
      "ShipAddress        2078 non-null object\n",
      "ShipCity           2078 non-null object\n",
      "ShipRegion         2078 non-null object\n",
      "ShipPostalCode     2023 non-null object\n",
      "ShipCountry        2078 non-null object\n",
      "CompanyName        2078 non-null object\n",
      "ContactName        2078 non-null object\n",
      "ContactTitle       2078 non-null object\n",
      "Address            2078 non-null object\n",
      "City               2078 non-null object\n",
      "Region             2078 non-null object\n",
      "PostalCode         2023 non-null object\n",
      "Country            2078 non-null object\n",
      "Phone              2078 non-null object\n",
      "Fax                1486 non-null object\n",
      "dtypes: float64(4), int64(11), object(25)\n",
      "memory usage: 665.6+ KB\n"
     ]
    }
   ],
   "source": [
    "data.info()"
   ]
  },
  {
   "cell_type": "markdown",
   "metadata": {},
   "source": [
    "Lets isolate Region and Quantity so we can answer our second question"
   ]
  },
  {
   "cell_type": "code",
   "execution_count": 38,
   "metadata": {},
   "outputs": [
    {
     "data": {
      "text/plain": [
       "Western Europe     736\n",
       "North America      427\n",
       "South America      304\n",
       "British Isles      190\n",
       "Northern Europe    143\n",
       "Southern Europe    137\n",
       "Scandinavia         70\n",
       "Central America     55\n",
       "Eastern Europe      16\n",
       "Name: Region, dtype: int64"
      ]
     },
     "execution_count": 38,
     "metadata": {},
     "output_type": "execute_result"
    }
   ],
   "source": [
    "q2df = data[[\"Region\", \"Quantity\"]]\n",
    "q2df.head()\n",
    "q2df.Region.value_counts()"
   ]
  },
  {
   "cell_type": "code",
   "execution_count": 39,
   "metadata": {},
   "outputs": [
    {
     "data": {
      "text/html": [
       "<div>\n",
       "<style scoped>\n",
       "    .dataframe tbody tr th:only-of-type {\n",
       "        vertical-align: middle;\n",
       "    }\n",
       "\n",
       "    .dataframe tbody tr th {\n",
       "        vertical-align: top;\n",
       "    }\n",
       "\n",
       "    .dataframe thead th {\n",
       "        text-align: right;\n",
       "    }\n",
       "</style>\n",
       "<table border=\"1\" class=\"dataframe\">\n",
       "  <thead>\n",
       "    <tr style=\"text-align: right;\">\n",
       "      <th></th>\n",
       "      <th>Region</th>\n",
       "      <th>Quantity</th>\n",
       "    </tr>\n",
       "  </thead>\n",
       "  <tbody>\n",
       "    <tr>\n",
       "      <th>0</th>\n",
       "      <td>Western Europe</td>\n",
       "      <td>45</td>\n",
       "    </tr>\n",
       "    <tr>\n",
       "      <th>1</th>\n",
       "      <td>Western Europe</td>\n",
       "      <td>36</td>\n",
       "    </tr>\n",
       "    <tr>\n",
       "      <th>2</th>\n",
       "      <td>Western Europe</td>\n",
       "      <td>40</td>\n",
       "    </tr>\n",
       "    <tr>\n",
       "      <th>3</th>\n",
       "      <td>Western Europe</td>\n",
       "      <td>30</td>\n",
       "    </tr>\n",
       "    <tr>\n",
       "      <th>4</th>\n",
       "      <td>Western Europe</td>\n",
       "      <td>40</td>\n",
       "    </tr>\n",
       "    <tr>\n",
       "      <th>5</th>\n",
       "      <td>Western Europe</td>\n",
       "      <td>24</td>\n",
       "    </tr>\n",
       "    <tr>\n",
       "      <th>6</th>\n",
       "      <td>Western Europe</td>\n",
       "      <td>48</td>\n",
       "    </tr>\n",
       "    <tr>\n",
       "      <th>7</th>\n",
       "      <td>Western Europe</td>\n",
       "      <td>40</td>\n",
       "    </tr>\n",
       "    <tr>\n",
       "      <th>8</th>\n",
       "      <td>Western Europe</td>\n",
       "      <td>60</td>\n",
       "    </tr>\n",
       "    <tr>\n",
       "      <th>9</th>\n",
       "      <td>Western Europe</td>\n",
       "      <td>16</td>\n",
       "    </tr>\n",
       "    <tr>\n",
       "      <th>10</th>\n",
       "      <td>Western Europe</td>\n",
       "      <td>55</td>\n",
       "    </tr>\n",
       "    <tr>\n",
       "      <th>11</th>\n",
       "      <td>Western Europe</td>\n",
       "      <td>15</td>\n",
       "    </tr>\n",
       "    <tr>\n",
       "      <th>12</th>\n",
       "      <td>Western Europe</td>\n",
       "      <td>50</td>\n",
       "    </tr>\n",
       "    <tr>\n",
       "      <th>13</th>\n",
       "      <td>Western Europe</td>\n",
       "      <td>20</td>\n",
       "    </tr>\n",
       "    <tr>\n",
       "      <th>14</th>\n",
       "      <td>Western Europe</td>\n",
       "      <td>90</td>\n",
       "    </tr>\n",
       "  </tbody>\n",
       "</table>\n",
       "</div>"
      ],
      "text/plain": [
       "            Region  Quantity\n",
       "0   Western Europe        45\n",
       "1   Western Europe        36\n",
       "2   Western Europe        40\n",
       "3   Western Europe        30\n",
       "4   Western Europe        40\n",
       "5   Western Europe        24\n",
       "6   Western Europe        48\n",
       "7   Western Europe        40\n",
       "8   Western Europe        60\n",
       "9   Western Europe        16\n",
       "10  Western Europe        55\n",
       "11  Western Europe        15\n",
       "12  Western Europe        50\n",
       "13  Western Europe        20\n",
       "14  Western Europe        90"
      ]
     },
     "execution_count": 39,
     "metadata": {},
     "output_type": "execute_result"
    }
   ],
   "source": [
    "q2df.head(15)"
   ]
  },
  {
   "cell_type": "code",
   "execution_count": 40,
   "metadata": {},
   "outputs": [
    {
     "data": {
      "text/html": [
       "<div>\n",
       "<style scoped>\n",
       "    .dataframe tbody tr th:only-of-type {\n",
       "        vertical-align: middle;\n",
       "    }\n",
       "\n",
       "    .dataframe tbody tr th {\n",
       "        vertical-align: top;\n",
       "    }\n",
       "\n",
       "    .dataframe thead th {\n",
       "        text-align: right;\n",
       "    }\n",
       "</style>\n",
       "<table border=\"1\" class=\"dataframe\">\n",
       "  <thead>\n",
       "    <tr style=\"text-align: right;\">\n",
       "      <th></th>\n",
       "      <th>Quantity</th>\n",
       "    </tr>\n",
       "    <tr>\n",
       "      <th>Region</th>\n",
       "      <th></th>\n",
       "    </tr>\n",
       "  </thead>\n",
       "  <tbody>\n",
       "    <tr>\n",
       "      <th>British Isles</th>\n",
       "      <td>23.294737</td>\n",
       "    </tr>\n",
       "    <tr>\n",
       "      <th>Central America</th>\n",
       "      <td>12.109091</td>\n",
       "    </tr>\n",
       "    <tr>\n",
       "      <th>Eastern Europe</th>\n",
       "      <td>12.812500</td>\n",
       "    </tr>\n",
       "    <tr>\n",
       "      <th>North America</th>\n",
       "      <td>26.496487</td>\n",
       "    </tr>\n",
       "    <tr>\n",
       "      <th>Northern Europe</th>\n",
       "      <td>23.811189</td>\n",
       "    </tr>\n",
       "    <tr>\n",
       "      <th>Scandinavia</th>\n",
       "      <td>14.942857</td>\n",
       "    </tr>\n",
       "    <tr>\n",
       "      <th>South America</th>\n",
       "      <td>20.917763</td>\n",
       "    </tr>\n",
       "    <tr>\n",
       "      <th>Southern Europe</th>\n",
       "      <td>15.131387</td>\n",
       "    </tr>\n",
       "    <tr>\n",
       "      <th>Western Europe</th>\n",
       "      <td>27.474185</td>\n",
       "    </tr>\n",
       "  </tbody>\n",
       "</table>\n",
       "</div>"
      ],
      "text/plain": [
       "                  Quantity\n",
       "Region                    \n",
       "British Isles    23.294737\n",
       "Central America  12.109091\n",
       "Eastern Europe   12.812500\n",
       "North America    26.496487\n",
       "Northern Europe  23.811189\n",
       "Scandinavia      14.942857\n",
       "South America    20.917763\n",
       "Southern Europe  15.131387\n",
       "Western Europe   27.474185"
      ]
     },
     "execution_count": 40,
     "metadata": {},
     "output_type": "execute_result"
    }
   ],
   "source": [
    "q2df.groupby(\"Region\").mean()"
   ]
  },
  {
   "cell_type": "code",
   "execution_count": 41,
   "metadata": {},
   "outputs": [
    {
     "data": {
      "text/plain": [
       "array(['British Isles', 'Central America', 'Eastern Europe',\n",
       "       'North America', 'Northern Europe', 'Scandinavia', 'South America',\n",
       "       'Southern Europe', 'Western Europe'], dtype=object)"
      ]
     },
     "execution_count": 41,
     "metadata": {},
     "output_type": "execute_result"
    }
   ],
   "source": [
    "regions = q2df.Region.unique()\n",
    "np.sort(regions)"
   ]
  },
  {
   "cell_type": "markdown",
   "metadata": {},
   "source": [
    "### check for normality"
   ]
  },
  {
   "cell_type": "code",
   "execution_count": 42,
   "metadata": {},
   "outputs": [],
   "source": [
    "BI = q2df[q2df.Region == \"British Isles\"]\n",
    "CA = q2df[q2df.Region == \"Central America\"]\n",
    "EE = q2df[q2df.Region == \"Eastern Europe\"]\n",
    "NA = q2df[q2df.Region == \"North America\"]\n",
    "NE = q2df[q2df.Region == \"Northern Europe\"]\n",
    "S = q2df[q2df.Region == \"Scandinavia\"]\n",
    "SA = q2df[q2df.Region == \"South America\"]\n",
    "SE = q2df[q2df.Region == \"Southern Europe\"]\n",
    "WE = q2df[q2df.Region == \"Western Europe\"]"
   ]
  },
  {
   "cell_type": "code",
   "execution_count": 43,
   "metadata": {},
   "outputs": [
    {
     "data": {
      "text/plain": [
       "pandas.core.frame.DataFrame"
      ]
     },
     "execution_count": 43,
     "metadata": {},
     "output_type": "execute_result"
    }
   ],
   "source": [
    "type(BI)"
   ]
  },
  {
   "cell_type": "code",
   "execution_count": 44,
   "metadata": {},
   "outputs": [
    {
     "data": {
      "text/html": [
       "<div>\n",
       "<style scoped>\n",
       "    .dataframe tbody tr th:only-of-type {\n",
       "        vertical-align: middle;\n",
       "    }\n",
       "\n",
       "    .dataframe tbody tr th {\n",
       "        vertical-align: top;\n",
       "    }\n",
       "\n",
       "    .dataframe thead th {\n",
       "        text-align: right;\n",
       "    }\n",
       "</style>\n",
       "<table border=\"1\" class=\"dataframe\">\n",
       "  <thead>\n",
       "    <tr style=\"text-align: right;\">\n",
       "      <th></th>\n",
       "      <th>Region</th>\n",
       "      <th>Quantity</th>\n",
       "    </tr>\n",
       "  </thead>\n",
       "  <tbody>\n",
       "    <tr>\n",
       "      <th>453</th>\n",
       "      <td>British Isles</td>\n",
       "      <td>15</td>\n",
       "    </tr>\n",
       "    <tr>\n",
       "      <th>454</th>\n",
       "      <td>British Isles</td>\n",
       "      <td>35</td>\n",
       "    </tr>\n",
       "    <tr>\n",
       "      <th>455</th>\n",
       "      <td>British Isles</td>\n",
       "      <td>30</td>\n",
       "    </tr>\n",
       "    <tr>\n",
       "      <th>456</th>\n",
       "      <td>British Isles</td>\n",
       "      <td>18</td>\n",
       "    </tr>\n",
       "    <tr>\n",
       "      <th>457</th>\n",
       "      <td>British Isles</td>\n",
       "      <td>40</td>\n",
       "    </tr>\n",
       "  </tbody>\n",
       "</table>\n",
       "</div>"
      ],
      "text/plain": [
       "            Region  Quantity\n",
       "453  British Isles        15\n",
       "454  British Isles        35\n",
       "455  British Isles        30\n",
       "456  British Isles        18\n",
       "457  British Isles        40"
      ]
     },
     "execution_count": 44,
     "metadata": {},
     "output_type": "execute_result"
    }
   ],
   "source": [
    "BI.head()"
   ]
  },
  {
   "cell_type": "code",
   "execution_count": 45,
   "metadata": {},
   "outputs": [
    {
     "name": "stderr",
     "output_type": "stream",
     "text": [
      "C:\\Users\\mngav\\Anaconda3\\envs\\learn-env\\lib\\site-packages\\scipy\\stats\\stats.py:1713: FutureWarning: Using a non-tuple sequence for multidimensional indexing is deprecated; use `arr[tuple(seq)]` instead of `arr[seq]`. In the future this will be interpreted as an array index, `arr[np.array(seq)]`, which will result either in an error or a different result.\n",
      "  return np.add.reduce(sorted[indexer] * weights, axis=axis) / sumval\n"
     ]
    },
    {
     "data": {
      "text/plain": [
       "<matplotlib.legend.Legend at 0x2880744da20>"
      ]
     },
     "execution_count": 45,
     "metadata": {},
     "output_type": "execute_result"
    },
    {
     "data": {
      "image/png": "[encoded data removed]",
      "text/plain": [
       "<Figure size 720x360 with 1 Axes>"
      ]
     },
     "metadata": {},
     "output_type": "display_data"
    }
   ],
   "source": [
    "plt.figure(figsize = (10,5))\n",
    "sns.distplot(BI.Quantity, label = \"BI\")\n",
    "sns.distplot(CA.Quantity, label = \"CA\")\n",
    "sns.distplot(EE.Quantity, label = \"EE\")\n",
    "sns.distplot(NA.Quantity, label = \"NA\")\n",
    "sns.distplot(NE.Quantity, label = \"NE\")\n",
    "sns.distplot(S.Quantity, label = \"S\")\n",
    "sns.distplot(SA.Quantity, label = \"SA\")\n",
    "sns.distplot(SE.Quantity, label = \"SE\")\n",
    "sns.distplot(WE.Quantity, label = \"WE\")\n",
    "\n",
    "plt.title(\"Distribution of Quantity Ordered\", fontsize= 10)\n",
    "plt.xlabel(\"Quantity Ordered\")\n",
    "plt.legend(fontsize = 10)"
   ]
  },
  {
   "cell_type": "markdown",
   "metadata": {},
   "source": [
    "##### Distributions of order quantities by Region to not appear to be Gaussian.  "
   ]
  },
  {
   "cell_type": "code",
   "execution_count": 46,
   "metadata": {},
   "outputs": [
    {
     "data": {
      "text/plain": [
       "Western Europe     736\n",
       "North America      427\n",
       "South America      304\n",
       "British Isles      190\n",
       "Northern Europe    143\n",
       "Southern Europe    137\n",
       "Scandinavia         70\n",
       "Central America     55\n",
       "Eastern Europe      16\n",
       "Name: Region, dtype: int64"
      ]
     },
     "execution_count": 46,
     "metadata": {},
     "output_type": "execute_result"
    }
   ],
   "source": [
    "q2df.Region.value_counts()"
   ]
  },
  {
   "cell_type": "code",
   "execution_count": 47,
   "metadata": {},
   "outputs": [
    {
     "name": "stdout",
     "output_type": "stream",
     "text": [
      "NormaltestResult(statistic=41.20964825972506, pvalue=1.1257412494490523e-09)\n",
      "NormaltestResult(statistic=5.227258641733324, pvalue=0.07326814702099883)\n",
      "NormaltestResult(statistic=2.85771466977834, pvalue=0.2395825284902985)\n",
      "NormaltestResult(statistic=135.5391214240316, pvalue=3.6987394699448064e-30)\n",
      "NormaltestResult(statistic=12.515701339906958, pvalue=0.0019153581124284672)\n",
      "NormaltestResult(statistic=16.2575615239265, pvalue=0.00029492756859355945)\n",
      "NormaltestResult(statistic=60.88963734985063, pvalue=5.997679395462476e-14)\n",
      "NormaltestResult(statistic=21.06008924451824, pvalue=2.6721431883985708e-05)\n",
      "NormaltestResult(statistic=267.16931245173646, pvalue=9.658750198147336e-59)\n"
     ]
    },
    {
     "name": "stderr",
     "output_type": "stream",
     "text": [
      "C:\\Users\\mngav\\Anaconda3\\envs\\learn-env\\lib\\site-packages\\scipy\\stats\\stats.py:1394: UserWarning: kurtosistest only valid for n>=20 ... continuing anyway, n=16\n",
      "  \"anyway, n=%i\" % int(n))\n"
     ]
    }
   ],
   "source": [
    "for i in [BI, CA, EE, NA, NE, S, SA, SE, WE]:\n",
    "    print(stats.normaltest(i.Quantity))"
   ]
  },
  {
   "cell_type": "markdown",
   "metadata": {},
   "source": [
    "#### stats normaltest confirms the distributions are not normal<br>Lets re-sample to gather distribution means that will satisfy normality assumptions"
   ]
  },
  {
   "cell_type": "code",
   "execution_count": 48,
   "metadata": {},
   "outputs": [],
   "source": [
    "#resample data for each region\n",
    "\n",
    "norm_BI = create_sample_distribution(BI.Quantity, dist_size=40, n=5)\n",
    "norm_CA = create_sample_distribution(CA.Quantity, dist_size=40, n=5)\n",
    "norm_EE = create_sample_distribution(EE.Quantity, dist_size=40, n=5)\n",
    "norm_NA = create_sample_distribution(NA.Quantity, dist_size=40, n=5)\n",
    "norm_NE = create_sample_distribution(NE.Quantity, dist_size=40, n=5)\n",
    "norm_S = create_sample_distribution(S.Quantity, dist_size=40, n=5)\n",
    "norm_SA = create_sample_distribution(SA.Quantity, dist_size=40, n=5)\n",
    "norm_SE = create_sample_distribution(SE.Quantity, dist_size=40, n=5)\n",
    "norm_WE = create_sample_distribution(WE.Quantity, dist_size=40, n=5)\n"
   ]
  },
  {
   "cell_type": "code",
   "execution_count": 49,
   "metadata": {},
   "outputs": [
    {
     "data": {
      "text/plain": [
       "list"
      ]
     },
     "execution_count": 49,
     "metadata": {},
     "output_type": "execute_result"
    }
   ],
   "source": [
    "type(norm_BI)"
   ]
  },
  {
   "cell_type": "code",
   "execution_count": 50,
   "metadata": {},
   "outputs": [
    {
     "name": "stderr",
     "output_type": "stream",
     "text": [
      "C:\\Users\\mngav\\Anaconda3\\envs\\learn-env\\lib\\site-packages\\scipy\\stats\\stats.py:1713: FutureWarning: Using a non-tuple sequence for multidimensional indexing is deprecated; use `arr[tuple(seq)]` instead of `arr[seq]`. In the future this will be interpreted as an array index, `arr[np.array(seq)]`, which will result either in an error or a different result.\n",
      "  return np.add.reduce(sorted[indexer] * weights, axis=axis) / sumval\n"
     ]
    },
    {
     "data": {
      "text/plain": [
       "<matplotlib.legend.Legend at 0x288077304e0>"
      ]
     },
     "execution_count": 50,
     "metadata": {},
     "output_type": "execute_result"
    },
    {
     "data": {
      "image/png": "[encoded data removed]",
      "text/plain": [
       "<Figure size 720x360 with 1 Axes>"
      ]
     },
     "metadata": {},
     "output_type": "display_data"
    }
   ],
   "source": [
    "plt.figure(figsize = (10,5))\n",
    "sns.distplot(norm_BI, label = \"BI\")\n",
    "sns.distplot(norm_CA, label = \"CA\")\n",
    "sns.distplot(norm_EE, label = \"EE\")\n",
    "sns.distplot(norm_NA, label = \"NA\")\n",
    "sns.distplot(norm_NE, label = \"NE\")\n",
    "sns.distplot(norm_S, label = \"S\")\n",
    "sns.distplot(norm_SA, label = \"SA\")\n",
    "sns.distplot(norm_SE, label = \"SE\")\n",
    "sns.distplot(norm_WE, label = \"WE\")\n",
    "\n",
    "plt.title(\"Distribution of Quantity Ordered\", fontsize= 10)\n",
    "plt.xlabel(\"Quantity Ordered\")\n",
    "plt.legend(fontsize = 10)"
   ]
  },
  {
   "cell_type": "code",
   "execution_count": 51,
   "metadata": {},
   "outputs": [
    {
     "name": "stdout",
     "output_type": "stream",
     "text": [
      "NormaltestResult(statistic=2.0250737533191336, pvalue=0.3632961719627318)\n",
      "NormaltestResult(statistic=1.04012430862409, pvalue=0.5944835971028783)\n",
      "NormaltestResult(statistic=1.9230055409558142, pvalue=0.38231791798053705)\n",
      "NormaltestResult(statistic=3.730770891149525, pvalue=0.1548365173311138)\n",
      "NormaltestResult(statistic=0.11020551384585997, pvalue=0.9463878950488714)\n",
      "NormaltestResult(statistic=0.002142865853685886, pvalue=0.9989291408524751)\n",
      "NormaltestResult(statistic=0.6580184752239099, pvalue=0.7196363689948453)\n",
      "NormaltestResult(statistic=4.011847555236713, pvalue=0.13453595696777013)\n",
      "NormaltestResult(statistic=8.48151437672719, pvalue=0.014396686711361776)\n"
     ]
    }
   ],
   "source": [
    "for i in [norm_BI, norm_CA, norm_EE, norm_NA, norm_NE, norm_S, norm_SA, norm_SE, norm_WE]:\n",
    "    print(stats.normaltest(i))"
   ]
  },
  {
   "cell_type": "code",
   "execution_count": 52,
   "metadata": {},
   "outputs": [],
   "source": [
    "norm_BI=pd.Series(norm_BI, name= 'norm_BI')\n",
    "norm_CA=pd.Series( norm_CA, name= 'norm_CA')\n",
    "norm_EE=pd.Series( norm_EE, name= 'norm_EE')\n",
    "norm_NA=pd.Series( norm_NA, name= 'norm_NA')\n",
    "norm_NE=pd.Series( norm_NE, name= 'norm_NE')\n",
    "norm_S=pd.Series( norm_S, name=  'norm_S')\n",
    "norm_SA=pd.Series( norm_SA, name= 'norm_SA')\n",
    "norm_SE=pd.Series( norm_SE, name= 'norm_SE')\n",
    "norm_WE=pd.Series( norm_WE, name= 'norm_WE')\n"
   ]
  },
  {
   "cell_type": "markdown",
   "metadata": {},
   "source": [
    "### combining multiple Series into a DataFrame: <br>lessons learned -- the Series must have names (see example above)<br>and you must specify the horizontal axis\n",
    "\n"
   ]
  },
  {
   "cell_type": "code",
   "execution_count": 53,
   "metadata": {},
   "outputs": [],
   "source": [
    "regions_df = pd.DataFrame(pd.concat([norm_BI, norm_CA, norm_EE, norm_NA, norm_NE, norm_S, norm_SA, norm_SE, norm_WE], \n",
    "                                   axis = 1))"
   ]
  },
  {
   "cell_type": "markdown",
   "metadata": {},
   "source": [
    "<a id='link_to_cell_in_question'></a>\n",
    "\n",
    "\n",
    "### need to run ANOVA here"
   ]
  },
  {
   "cell_type": "code",
   "execution_count": 54,
   "metadata": {},
   "outputs": [
    {
     "data": {
      "text/html": [
       "<div>\n",
       "<style scoped>\n",
       "    .dataframe tbody tr th:only-of-type {\n",
       "        vertical-align: middle;\n",
       "    }\n",
       "\n",
       "    .dataframe tbody tr th {\n",
       "        vertical-align: top;\n",
       "    }\n",
       "\n",
       "    .dataframe thead th {\n",
       "        text-align: right;\n",
       "    }\n",
       "</style>\n",
       "<table border=\"1\" class=\"dataframe\">\n",
       "  <thead>\n",
       "    <tr style=\"text-align: right;\">\n",
       "      <th></th>\n",
       "      <th>norm_BI</th>\n",
       "      <th>norm_CA</th>\n",
       "      <th>norm_EE</th>\n",
       "      <th>norm_NA</th>\n",
       "      <th>norm_NE</th>\n",
       "      <th>norm_S</th>\n",
       "      <th>norm_SA</th>\n",
       "      <th>norm_SE</th>\n",
       "      <th>norm_WE</th>\n",
       "    </tr>\n",
       "  </thead>\n",
       "  <tbody>\n",
       "    <tr>\n",
       "      <th>0</th>\n",
       "      <td>25.0</td>\n",
       "      <td>9.6</td>\n",
       "      <td>8.4</td>\n",
       "      <td>41.8</td>\n",
       "      <td>31.2</td>\n",
       "      <td>7.0</td>\n",
       "      <td>29.4</td>\n",
       "      <td>11.2</td>\n",
       "      <td>31.6</td>\n",
       "    </tr>\n",
       "    <tr>\n",
       "      <th>1</th>\n",
       "      <td>44.4</td>\n",
       "      <td>11.0</td>\n",
       "      <td>17.4</td>\n",
       "      <td>23.8</td>\n",
       "      <td>18.4</td>\n",
       "      <td>18.8</td>\n",
       "      <td>33.6</td>\n",
       "      <td>23.8</td>\n",
       "      <td>17.2</td>\n",
       "    </tr>\n",
       "    <tr>\n",
       "      <th>2</th>\n",
       "      <td>33.6</td>\n",
       "      <td>16.0</td>\n",
       "      <td>11.0</td>\n",
       "      <td>22.4</td>\n",
       "      <td>24.6</td>\n",
       "      <td>11.6</td>\n",
       "      <td>20.8</td>\n",
       "      <td>14.2</td>\n",
       "      <td>39.8</td>\n",
       "    </tr>\n",
       "    <tr>\n",
       "      <th>3</th>\n",
       "      <td>15.4</td>\n",
       "      <td>13.6</td>\n",
       "      <td>11.2</td>\n",
       "      <td>35.4</td>\n",
       "      <td>26.2</td>\n",
       "      <td>11.8</td>\n",
       "      <td>26.6</td>\n",
       "      <td>14.8</td>\n",
       "      <td>31.0</td>\n",
       "    </tr>\n",
       "    <tr>\n",
       "      <th>4</th>\n",
       "      <td>13.8</td>\n",
       "      <td>17.0</td>\n",
       "      <td>14.8</td>\n",
       "      <td>26.8</td>\n",
       "      <td>23.8</td>\n",
       "      <td>18.8</td>\n",
       "      <td>24.8</td>\n",
       "      <td>22.0</td>\n",
       "      <td>23.6</td>\n",
       "    </tr>\n",
       "  </tbody>\n",
       "</table>\n",
       "</div>"
      ],
      "text/plain": [
       "   norm_BI  norm_CA  norm_EE  norm_NA  norm_NE  norm_S  norm_SA  norm_SE  \\\n",
       "0     25.0      9.6      8.4     41.8     31.2     7.0     29.4     11.2   \n",
       "1     44.4     11.0     17.4     23.8     18.4    18.8     33.6     23.8   \n",
       "2     33.6     16.0     11.0     22.4     24.6    11.6     20.8     14.2   \n",
       "3     15.4     13.6     11.2     35.4     26.2    11.8     26.6     14.8   \n",
       "4     13.8     17.0     14.8     26.8     23.8    18.8     24.8     22.0   \n",
       "\n",
       "   norm_WE  \n",
       "0     31.6  \n",
       "1     17.2  \n",
       "2     39.8  \n",
       "3     31.0  \n",
       "4     23.6  "
      ]
     },
     "execution_count": 54,
     "metadata": {},
     "output_type": "execute_result"
    }
   ],
   "source": [
    "regions_df.head()"
   ]
  },
  {
   "cell_type": "code",
   "execution_count": 55,
   "metadata": {},
   "outputs": [
    {
     "data": {
      "text/html": [
       "<div>\n",
       "<style scoped>\n",
       "    .dataframe tbody tr th:only-of-type {\n",
       "        vertical-align: middle;\n",
       "    }\n",
       "\n",
       "    .dataframe tbody tr th {\n",
       "        vertical-align: top;\n",
       "    }\n",
       "\n",
       "    .dataframe thead th {\n",
       "        text-align: right;\n",
       "    }\n",
       "</style>\n",
       "<table border=\"1\" class=\"dataframe\">\n",
       "  <thead>\n",
       "    <tr style=\"text-align: right;\">\n",
       "      <th></th>\n",
       "      <th>norm_BI</th>\n",
       "      <th>norm_CA</th>\n",
       "      <th>norm_EE</th>\n",
       "      <th>norm_NA</th>\n",
       "      <th>norm_NE</th>\n",
       "      <th>norm_S</th>\n",
       "      <th>norm_SA</th>\n",
       "      <th>norm_SE</th>\n",
       "      <th>norm_WE</th>\n",
       "    </tr>\n",
       "  </thead>\n",
       "  <tbody>\n",
       "    <tr>\n",
       "      <th>0</th>\n",
       "      <td>25.0</td>\n",
       "      <td>9.6</td>\n",
       "      <td>8.4</td>\n",
       "      <td>41.8</td>\n",
       "      <td>31.2</td>\n",
       "      <td>7.0</td>\n",
       "      <td>29.4</td>\n",
       "      <td>11.2</td>\n",
       "      <td>31.6</td>\n",
       "    </tr>\n",
       "    <tr>\n",
       "      <th>1</th>\n",
       "      <td>44.4</td>\n",
       "      <td>11.0</td>\n",
       "      <td>17.4</td>\n",
       "      <td>23.8</td>\n",
       "      <td>18.4</td>\n",
       "      <td>18.8</td>\n",
       "      <td>33.6</td>\n",
       "      <td>23.8</td>\n",
       "      <td>17.2</td>\n",
       "    </tr>\n",
       "    <tr>\n",
       "      <th>2</th>\n",
       "      <td>33.6</td>\n",
       "      <td>16.0</td>\n",
       "      <td>11.0</td>\n",
       "      <td>22.4</td>\n",
       "      <td>24.6</td>\n",
       "      <td>11.6</td>\n",
       "      <td>20.8</td>\n",
       "      <td>14.2</td>\n",
       "      <td>39.8</td>\n",
       "    </tr>\n",
       "    <tr>\n",
       "      <th>3</th>\n",
       "      <td>15.4</td>\n",
       "      <td>13.6</td>\n",
       "      <td>11.2</td>\n",
       "      <td>35.4</td>\n",
       "      <td>26.2</td>\n",
       "      <td>11.8</td>\n",
       "      <td>26.6</td>\n",
       "      <td>14.8</td>\n",
       "      <td>31.0</td>\n",
       "    </tr>\n",
       "    <tr>\n",
       "      <th>4</th>\n",
       "      <td>13.8</td>\n",
       "      <td>17.0</td>\n",
       "      <td>14.8</td>\n",
       "      <td>26.8</td>\n",
       "      <td>23.8</td>\n",
       "      <td>18.8</td>\n",
       "      <td>24.8</td>\n",
       "      <td>22.0</td>\n",
       "      <td>23.6</td>\n",
       "    </tr>\n",
       "  </tbody>\n",
       "</table>\n",
       "</div>"
      ],
      "text/plain": [
       "   norm_BI  norm_CA  norm_EE  norm_NA  norm_NE  norm_S  norm_SA  norm_SE  \\\n",
       "0     25.0      9.6      8.4     41.8     31.2     7.0     29.4     11.2   \n",
       "1     44.4     11.0     17.4     23.8     18.4    18.8     33.6     23.8   \n",
       "2     33.6     16.0     11.0     22.4     24.6    11.6     20.8     14.2   \n",
       "3     15.4     13.6     11.2     35.4     26.2    11.8     26.6     14.8   \n",
       "4     13.8     17.0     14.8     26.8     23.8    18.8     24.8     22.0   \n",
       "\n",
       "   norm_WE  \n",
       "0     31.6  \n",
       "1     17.2  \n",
       "2     39.8  \n",
       "3     31.0  \n",
       "4     23.6  "
      ]
     },
     "execution_count": 55,
     "metadata": {},
     "output_type": "execute_result"
    }
   ],
   "source": [
    "norm_regions_df = copy.deepcopy(regions_df)\n",
    "norm_regions_df.head()"
   ]
  },
  {
   "cell_type": "markdown",
   "metadata": {},
   "source": [
    "link to pd.melt\n",
    "\n",
    "<a id='link_to_pd.melt'></a>"
   ]
  },
  {
   "cell_type": "code",
   "execution_count": 77,
   "metadata": {},
   "outputs": [
    {
     "data": {
      "text/html": [
       "<div>\n",
       "<style scoped>\n",
       "    .dataframe tbody tr th:only-of-type {\n",
       "        vertical-align: middle;\n",
       "    }\n",
       "\n",
       "    .dataframe tbody tr th {\n",
       "        vertical-align: top;\n",
       "    }\n",
       "\n",
       "    .dataframe thead th {\n",
       "        text-align: right;\n",
       "    }\n",
       "</style>\n",
       "<table border=\"1\" class=\"dataframe\">\n",
       "  <thead>\n",
       "    <tr style=\"text-align: right;\">\n",
       "      <th></th>\n",
       "      <th>variable</th>\n",
       "      <th>value</th>\n",
       "    </tr>\n",
       "  </thead>\n",
       "  <tbody>\n",
       "    <tr>\n",
       "      <th>0</th>\n",
       "      <td>norm_BI</td>\n",
       "      <td>25.0</td>\n",
       "    </tr>\n",
       "    <tr>\n",
       "      <th>1</th>\n",
       "      <td>norm_BI</td>\n",
       "      <td>44.4</td>\n",
       "    </tr>\n",
       "    <tr>\n",
       "      <th>2</th>\n",
       "      <td>norm_BI</td>\n",
       "      <td>33.6</td>\n",
       "    </tr>\n",
       "    <tr>\n",
       "      <th>3</th>\n",
       "      <td>norm_BI</td>\n",
       "      <td>15.4</td>\n",
       "    </tr>\n",
       "    <tr>\n",
       "      <th>4</th>\n",
       "      <td>norm_BI</td>\n",
       "      <td>13.8</td>\n",
       "    </tr>\n",
       "  </tbody>\n",
       "</table>\n",
       "</div>"
      ],
      "text/plain": [
       "  variable  value\n",
       "0  norm_BI   25.0\n",
       "1  norm_BI   44.4\n",
       "2  norm_BI   33.6\n",
       "3  norm_BI   15.4\n",
       "4  norm_BI   13.8"
      ]
     },
     "execution_count": 77,
     "metadata": {},
     "output_type": "execute_result"
    }
   ],
   "source": [
    "q2_transformed_df = pd.melt(norm_regions_df)\n",
    "q2_transformed_df.head()"
   ]
  },
  {
   "cell_type": "code",
   "execution_count": 78,
   "metadata": {},
   "outputs": [
    {
     "data": {
      "text/html": [
       "<div>\n",
       "<style scoped>\n",
       "    .dataframe tbody tr th:only-of-type {\n",
       "        vertical-align: middle;\n",
       "    }\n",
       "\n",
       "    .dataframe tbody tr th {\n",
       "        vertical-align: top;\n",
       "    }\n",
       "\n",
       "    .dataframe thead th {\n",
       "        text-align: right;\n",
       "    }\n",
       "</style>\n",
       "<table border=\"1\" class=\"dataframe\">\n",
       "  <thead>\n",
       "    <tr style=\"text-align: right;\">\n",
       "      <th></th>\n",
       "      <th>Region</th>\n",
       "      <th>Quantity</th>\n",
       "    </tr>\n",
       "  </thead>\n",
       "  <tbody>\n",
       "    <tr>\n",
       "      <th>0</th>\n",
       "      <td>norm_BI</td>\n",
       "      <td>25.0</td>\n",
       "    </tr>\n",
       "    <tr>\n",
       "      <th>1</th>\n",
       "      <td>norm_BI</td>\n",
       "      <td>44.4</td>\n",
       "    </tr>\n",
       "    <tr>\n",
       "      <th>2</th>\n",
       "      <td>norm_BI</td>\n",
       "      <td>33.6</td>\n",
       "    </tr>\n",
       "    <tr>\n",
       "      <th>3</th>\n",
       "      <td>norm_BI</td>\n",
       "      <td>15.4</td>\n",
       "    </tr>\n",
       "    <tr>\n",
       "      <th>4</th>\n",
       "      <td>norm_BI</td>\n",
       "      <td>13.8</td>\n",
       "    </tr>\n",
       "  </tbody>\n",
       "</table>\n",
       "</div>"
      ],
      "text/plain": [
       "    Region  Quantity\n",
       "0  norm_BI      25.0\n",
       "1  norm_BI      44.4\n",
       "2  norm_BI      33.6\n",
       "3  norm_BI      15.4\n",
       "4  norm_BI      13.8"
      ]
     },
     "execution_count": 78,
     "metadata": {},
     "output_type": "execute_result"
    }
   ],
   "source": [
    "q2_transformed_df.rename( columns = {\"value\":\"Quantity\", \"variable\":\"Region\"}, inplace = True)\n",
    "q2_transformed_df.head()"
   ]
  },
  {
   "cell_type": "code",
   "execution_count": 80,
   "metadata": {},
   "outputs": [],
   "source": [
    "q2_transformed_df = pd.get_dummies(q2_transformed_df, columns = [\"Region\"])\n"
   ]
  },
  {
   "cell_type": "code",
   "execution_count": 83,
   "metadata": {},
   "outputs": [
    {
     "data": {
      "text/html": [
       "<div>\n",
       "<style scoped>\n",
       "    .dataframe tbody tr th:only-of-type {\n",
       "        vertical-align: middle;\n",
       "    }\n",
       "\n",
       "    .dataframe tbody tr th {\n",
       "        vertical-align: top;\n",
       "    }\n",
       "\n",
       "    .dataframe thead th {\n",
       "        text-align: right;\n",
       "    }\n",
       "</style>\n",
       "<table border=\"1\" class=\"dataframe\">\n",
       "  <thead>\n",
       "    <tr style=\"text-align: right;\">\n",
       "      <th></th>\n",
       "      <th>Quantity</th>\n",
       "      <th>Region_norm_BI</th>\n",
       "      <th>Region_norm_CA</th>\n",
       "      <th>Region_norm_EE</th>\n",
       "      <th>Region_norm_NA</th>\n",
       "      <th>Region_norm_NE</th>\n",
       "      <th>Region_norm_S</th>\n",
       "      <th>Region_norm_SA</th>\n",
       "      <th>Region_norm_SE</th>\n",
       "      <th>Region_norm_WE</th>\n",
       "    </tr>\n",
       "  </thead>\n",
       "  <tbody>\n",
       "    <tr>\n",
       "      <th>0</th>\n",
       "      <td>25.0</td>\n",
       "      <td>1</td>\n",
       "      <td>0</td>\n",
       "      <td>0</td>\n",
       "      <td>0</td>\n",
       "      <td>0</td>\n",
       "      <td>0</td>\n",
       "      <td>0</td>\n",
       "      <td>0</td>\n",
       "      <td>0</td>\n",
       "    </tr>\n",
       "    <tr>\n",
       "      <th>1</th>\n",
       "      <td>44.4</td>\n",
       "      <td>1</td>\n",
       "      <td>0</td>\n",
       "      <td>0</td>\n",
       "      <td>0</td>\n",
       "      <td>0</td>\n",
       "      <td>0</td>\n",
       "      <td>0</td>\n",
       "      <td>0</td>\n",
       "      <td>0</td>\n",
       "    </tr>\n",
       "    <tr>\n",
       "      <th>2</th>\n",
       "      <td>33.6</td>\n",
       "      <td>1</td>\n",
       "      <td>0</td>\n",
       "      <td>0</td>\n",
       "      <td>0</td>\n",
       "      <td>0</td>\n",
       "      <td>0</td>\n",
       "      <td>0</td>\n",
       "      <td>0</td>\n",
       "      <td>0</td>\n",
       "    </tr>\n",
       "    <tr>\n",
       "      <th>3</th>\n",
       "      <td>15.4</td>\n",
       "      <td>1</td>\n",
       "      <td>0</td>\n",
       "      <td>0</td>\n",
       "      <td>0</td>\n",
       "      <td>0</td>\n",
       "      <td>0</td>\n",
       "      <td>0</td>\n",
       "      <td>0</td>\n",
       "      <td>0</td>\n",
       "    </tr>\n",
       "    <tr>\n",
       "      <th>4</th>\n",
       "      <td>13.8</td>\n",
       "      <td>1</td>\n",
       "      <td>0</td>\n",
       "      <td>0</td>\n",
       "      <td>0</td>\n",
       "      <td>0</td>\n",
       "      <td>0</td>\n",
       "      <td>0</td>\n",
       "      <td>0</td>\n",
       "      <td>0</td>\n",
       "    </tr>\n",
       "  </tbody>\n",
       "</table>\n",
       "</div>"
      ],
      "text/plain": [
       "   Quantity  Region_norm_BI  Region_norm_CA  Region_norm_EE  Region_norm_NA  \\\n",
       "0      25.0               1               0               0               0   \n",
       "1      44.4               1               0               0               0   \n",
       "2      33.6               1               0               0               0   \n",
       "3      15.4               1               0               0               0   \n",
       "4      13.8               1               0               0               0   \n",
       "\n",
       "   Region_norm_NE  Region_norm_S  Region_norm_SA  Region_norm_SE  \\\n",
       "0               0              0               0               0   \n",
       "1               0              0               0               0   \n",
       "2               0              0               0               0   \n",
       "3               0              0               0               0   \n",
       "4               0              0               0               0   \n",
       "\n",
       "   Region_norm_WE  \n",
       "0               0  \n",
       "1               0  \n",
       "2               0  \n",
       "3               0  \n",
       "4               0  "
      ]
     },
     "execution_count": 83,
     "metadata": {},
     "output_type": "execute_result"
    }
   ],
   "source": [
    "q2_transformed_df.head()"
   ]
  },
  {
   "cell_type": "markdown",
   "metadata": {},
   "source": [
    "##### Lets use an ANOVA test to compare the different groups with the control"
   ]
  },
  {
   "cell_type": "code",
   "execution_count": 60,
   "metadata": {},
   "outputs": [
    {
     "name": "stdout",
     "output_type": "stream",
     "text": [
      "                      sum_sq     df          F        PR(>F)\n",
      "Region_norm_BI   2171.523640    1.0  48.021086  2.026823e-11\n",
      "Region_norm_CA   1467.406562    1.0  32.450237  2.589822e-08\n",
      "Region_norm_EE   1163.951506    1.0  25.739630  6.345084e-07\n",
      "Region_norm_NA   4125.643191    1.0  91.234497  2.272360e-19\n",
      "Region_norm_NE   1530.736899    1.0  33.850725  1.341221e-08\n",
      "Region_norm_S     313.003191    1.0   6.921754  8.890719e-03\n",
      "Region_norm_SA    854.756000    1.0  18.902079  1.805117e-05\n",
      "Region_norm_SE    328.611955    1.0   7.266927  7.361796e-03\n",
      "Region_norm_WE   2555.805888    1.0  56.519106  4.688680e-13\n",
      "Residual        15872.294000  351.0        NaN           NaN\n"
     ]
    }
   ],
   "source": [
    "formula = \"Quantity ~ Region_norm_BI + Region_norm_CA + Region_norm_EE + Region_norm_NA + Region_norm_NE + Region_norm_S \\\n",
    "            + Region_norm_SA + Region_norm_SE + Region_norm_WE\"\n",
    "           \n",
    "lm = ols(formula, q2_transformed_df).fit()\n",
    "table = sm.stats.anova_lm(lm, typ=2)\n",
    "print(table)\n"
   ]
  },
  {
   "cell_type": "markdown",
   "metadata": {},
   "source": [
    "| Region          \t| Code \t|\n",
    "|-----------------\t|------\t|\n",
    "| Western Europe  \t| WE    \t|\n",
    "| North America   \t| NA   \t|\n",
    "| South America   \t| SA   \t|\n",
    "| British Isles   \t| BI   \t|\n",
    "| Northern Europe \t| NE   \t|\n",
    "| Southern Europe \t| SE   \t|\n",
    "| Scandinavia     \t| S   \t|\n",
    "| Central America \t| CA    \t|\n",
    "| Eastern Europe  \t| EE   \t|"
   ]
  },
  {
   "cell_type": "markdown",
   "metadata": {},
   "source": [
    "##### Conclusion Question 2 <br>\n",
    "**restate the question and hypotheses:**<br>\n",
    " Is there a region that outperforms the others in terms of order quantities?<br>\n",
    "𝐻𝑂: each region sells the same quantities of product<br>\n",
    "𝐻𝑎: regions do not sell the same quantities of product<br>\n",
    "\n",
    "From the above ANOVA table, we see that we have significant events for all regions and that Western Europe has the greatest variability from the average for all regions.\n"
   ]
  },
  {
   "cell_type": "markdown",
   "metadata": {},
   "source": [
    "## Question 3\n",
    "#### are there any salespeople that stand out?"
   ]
  },
  {
   "cell_type": "markdown",
   "metadata": {},
   "source": [
    "$H_O$: all sales peoples performance are identical <br>\n",
    "$H_a$: some sales people do better than others and some do worse<br>\n",
    "\n",
    "this is a two tailed test"
   ]
  },
  {
   "cell_type": "markdown",
   "metadata": {},
   "source": [
    "pull the features we need into a dataframe"
   ]
  },
  {
   "cell_type": "code",
   "execution_count": 61,
   "metadata": {},
   "outputs": [
    {
     "ename": "NameError",
     "evalue": "name 'q3df' is not defined",
     "output_type": "error",
     "traceback": [
      "\u001b[1;31m---------------------------------------------------------------------------\u001b[0m",
      "\u001b[1;31mNameError\u001b[0m                                 Traceback (most recent call last)",
      "\u001b[1;32m<ipython-input-61-710d51275206>\u001b[0m in \u001b[0;36m<module>\u001b[1;34m()\u001b[0m\n\u001b[1;32m----> 1\u001b[1;33m \u001b[0mq3df\u001b[0m\u001b[1;33m.\u001b[0m\u001b[0mEmployeeId\u001b[0m\u001b[1;33m.\u001b[0m\u001b[0mvalue_counts\u001b[0m\u001b[1;33m\u001b[0m\u001b[0m\n\u001b[0m",
      "\u001b[1;31mNameError\u001b[0m: name 'q3df' is not defined"
     ]
    }
   ],
   "source": [
    "q3df.EmployeeId.value_counts"
   ]
  },
  {
   "cell_type": "markdown",
   "metadata": {},
   "source": [
    "we can use all the data here"
   ]
  },
  {
   "cell_type": "markdown",
   "metadata": {},
   "source": [
    "EmployeeId is already numeric so, can skip label encoding and go straight to get dummies"
   ]
  },
  {
   "cell_type": "markdown",
   "metadata": {},
   "source": [
    "Check each group in the feature for normality"
   ]
  },
  {
   "cell_type": "code",
   "execution_count": null,
   "metadata": {},
   "outputs": [],
   "source": [
    "plt.figure(figsize = (10,5))\n",
    "sns.distplot(q3df['Quantity'][q3df['EmployeeId']==1], label = \"emp1\")\n",
    "sns.distplot(q3df['Quantity'][q3df['EmployeeId']==2], label = \"emp2\")\n",
    "sns.distplot(q3df['Quantity'][q3df['EmployeeId']==3], label = \"emp3\")\n",
    "sns.distplot(q3df['Quantity'][q3df['EmployeeId']==4], label = \"emp4\")\n",
    "sns.distplot(q3df['Quantity'][q3df['EmployeeId']==5], label = \"emp5\")\n",
    "sns.distplot(q3df['Quantity'][q3df['EmployeeId']==6], label = \"emp6\")\n",
    "sns.distplot(q3df['Quantity'][q3df['EmployeeId']==7], label = \"emp7\")\n",
    "sns.distplot(q3df['Quantity'][q3df['EmployeeId']==8], label = \"emp8\")\n",
    "sns.distplot(q3df['Quantity'][q3df['EmployeeId']==9], label = \"emp9\")\n",
    "\n",
    "\n",
    "plt.title(\"Distribution of Quantity Ordered\", fontsize= 10)\n",
    "plt.xlabel(\"Quantity Ordered\")\n",
    "plt.legend(fontsize = 10)"
   ]
  },
  {
   "cell_type": "code",
   "execution_count": null,
   "metadata": {},
   "outputs": [],
   "source": []
  },
  {
   "cell_type": "code",
   "execution_count": null,
   "metadata": {},
   "outputs": [],
   "source": [
    "q3_feature_regions = [q3df['Quantity'][q3df['EmployeeId']==1], q3df['Quantity'][q3df['EmployeeId']==2], q3df['Quantity'][q3df['EmployeeId']==3], q3df['Quantity'][q3df['EmployeeId']==4],\n",
    "                      q3df['Quantity'][q3df['EmployeeId']==5], q3df['Quantity'][q3df['EmployeeId']==6], q3df['Quantity'][q3df['EmployeeId']==7], q3df['Quantity'][q3df['EmployeeId']==8],\n",
    "                      q3df['Quantity'][q3df['EmployeeId']==9]]\n"
   ]
  },
  {
   "cell_type": "code",
   "execution_count": null,
   "metadata": {},
   "outputs": [],
   "source": [
    "for i in q3_feature_regions:\n",
    "    print(stats.normaltest(i))"
   ]
  },
  {
   "cell_type": "markdown",
   "metadata": {},
   "source": [
    "the histogram and stats normal test confirm the data is normal and there is no need to transform"
   ]
  },
  {
   "cell_type": "code",
   "execution_count": null,
   "metadata": {},
   "outputs": [],
   "source": [
    "q3df = (pd.get_dummies(q3df, columns = [\"EmployeeId\"])) # one-hot-encode"
   ]
  },
  {
   "cell_type": "code",
   "execution_count": null,
   "metadata": {},
   "outputs": [],
   "source": [
    "q3df.head(2)"
   ]
  },
  {
   "cell_type": "code",
   "execution_count": null,
   "metadata": {},
   "outputs": [],
   "source": [
    "formula = \"Quantity ~ C(EmployeeId_1) + C(EmployeeId_2) + C(EmployeeId_3) + C(EmployeeId_4) + C(EmployeeId_5) + C(EmployeeId_6)\\\n",
    "+ C(EmployeeId_7) + C(EmployeeId_8) + C(EmployeeId_9)\"\n",
    "           \n",
    "lm = ols(formula, q3df).fit()\n",
    "table = sm.stats.anova_lm(lm, typ=2)\n",
    "print(table)"
   ]
  },
  {
   "cell_type": "code",
   "execution_count": null,
   "metadata": {},
   "outputs": [],
   "source": [
    "q3table = pd.DataFrame(['Emp1', 'Emp2', 'Emp3', 'Emp4', 'Emp5', 'Emp6', 'Emp7', 'Emp8', 'Emp9'])\n",
    "q3table.columns = [\"Employee\"]\n",
    "q3table[\"Performance Vs Mean\"] = [1, 8.6, 7, 3.25, 4.8, 0.5, 17.6, 0.6, 3.5]\n",
    "q3table.head()"
   ]
  },
  {
   "cell_type": "code",
   "execution_count": null,
   "metadata": {
    "scrolled": false
   },
   "outputs": [],
   "source": [
    "sns.set(rc={'figure.figsize':(16,8.27)})\n",
    "plt.style.use('ggplot')\n",
    "\n",
    "ax = sns.barplot(x= \"Employee\", y=\"Performance Vs Mean\", data=q3table)"
   ]
  },
  {
   "cell_type": "markdown",
   "metadata": {},
   "source": [
    "##### Conclusion Question 3 <br> \n",
    "\n",
    "**Restate the question and hypotheses:**<br>\n",
    " are there any salespeople that stand out?<br>\n",
    " \n",
    "𝐻𝑂: all sales peoples performance are identical <br>\n",
    "𝐻𝑎: some sales people do better than others and some do worse<br>\n",
    "\n",
    "We don't have sufficient evidence to say anything about employees 1, 4, 6 or 8. \n",
    "We do have significant events for employees 2, 3, 5, 7 and 9.  \n",
    "\n",
    "Employee seven looks like a superstar on paper but we need to dig deeper to make sure it is her work that is creating the success and not some kind of 'gift' such as being the only salesperson in a region that needs several, or stable and high-growth company she has been relying on, ie, can this person reproduce the results anywhere?  maybe they can distribute some wisdom to our other salespeople. "
   ]
  },
  {
   "cell_type": "markdown",
   "metadata": {},
   "source": [
    "## Question 4\n",
    "#### are there any categories we should think about dicontinuing or expanding on?"
   ]
  },
  {
   "cell_type": "markdown",
   "metadata": {},
   "source": [
    "$H_O$: orders of categories are equal in quantity <br>\n",
    "$H_a$: orders by category are not equal<br>\n",
    "\n",
    "this is a two tailed test"
   ]
  },
  {
   "cell_type": "code",
   "execution_count": null,
   "metadata": {},
   "outputs": [],
   "source": [
    "q4df = data[[\"Quantity\", \"CategoryId\"]]\n",
    "q4df.CategoryId.value_counts()"
   ]
  },
  {
   "cell_type": "code",
   "execution_count": null,
   "metadata": {},
   "outputs": [],
   "source": [
    "q4df.head()"
   ]
  },
  {
   "cell_type": "code",
   "execution_count": null,
   "metadata": {},
   "outputs": [],
   "source": [
    "plt.figure(figsize = (10,5))\n",
    "sns.distplot(q4df['Quantity'][q4df['CategoryId']==1], label = \"Cat1\")\n",
    "sns.distplot(q4df['Quantity'][q4df['CategoryId']==2], label = \"Cat2\")\n",
    "sns.distplot(q4df['Quantity'][q4df['CategoryId']==3], label = \"Cat3\")\n",
    "sns.distplot(q4df['Quantity'][q4df['CategoryId']==4], label = \"Cat4\")\n",
    "sns.distplot(q4df['Quantity'][q4df['CategoryId']==5], label = \"Cat5\")\n",
    "sns.distplot(q4df['Quantity'][q4df['CategoryId']==6], label = \"Cat6\")\n",
    "sns.distplot(q4df['Quantity'][q4df['CategoryId']==7], label = \"Cat7\")\n",
    "\n",
    "\n",
    "\n",
    "plt.title(\"Distribution of Quantity Ordered\", fontsize= 10)\n",
    "plt.xlabel(\"Quantity Ordered\")\n",
    "plt.legend(fontsize = 10)"
   ]
  },
  {
   "cell_type": "code",
   "execution_count": null,
   "metadata": {},
   "outputs": [],
   "source": [
    "q4_feature_regions = [q4df['Quantity'][q4df['CategoryId']==1], q4df['Quantity'][q4df['CategoryId']==2], q4df['Quantity'][q4df['CategoryId']==3], q4df['Quantity'][q4df['CategoryId']==4],\n",
    "                      q4df['Quantity'][q4df['CategoryId']==5], q4df['Quantity'][q4df['CategoryId']==6], q4df['Quantity'][q4df['CategoryId']==7], ]"
   ]
  },
  {
   "cell_type": "code",
   "execution_count": null,
   "metadata": {},
   "outputs": [],
   "source": [
    "for i in q4_feature_regions:\n",
    "    print(stats.normaltest(i))"
   ]
  },
  {
   "cell_type": "markdown",
   "metadata": {},
   "source": [
    "feature regions are normal"
   ]
  },
  {
   "cell_type": "code",
   "execution_count": null,
   "metadata": {},
   "outputs": [],
   "source": [
    "q4df = copy.deepcopy(pd.get_dummies(q4df, columns = [\"CategoryId\"])) # one-hot-encode"
   ]
  },
  {
   "cell_type": "code",
   "execution_count": null,
   "metadata": {},
   "outputs": [],
   "source": [
    "q4df.head()"
   ]
  },
  {
   "cell_type": "code",
   "execution_count": null,
   "metadata": {},
   "outputs": [],
   "source": [
    "formula = \"Quantity ~ C(CategoryId_1) + C(CategoryId_2) + C(CategoryId_3) + C(CategoryId_4) + C(CategoryId_5) + C(CategoryId_6)\\\n",
    "+ C(CategoryId_7) + C(CategoryId_8) \"\n",
    "           \n",
    "lm = ols(formula, q4df).fit()\n",
    "table = sm.stats.anova_lm(lm, typ=2)\n",
    "print(table)"
   ]
  },
  {
   "cell_type": "markdown",
   "metadata": {},
   "source": [
    "| 1 \t| Beverages      \t|\n",
    "|---\t|----------------\t|\n",
    "| 2 \t| Condiments     \t|\n",
    "| 3 \t| Confections    \t|\n",
    "| 4 \t| Dairy Products \t|\n",
    "| 5 \t| Grains/Cerials \t|\n",
    "| 6 \t| Meet/Poultry   \t|\n",
    "| 7 \t| Produce        \t|\n",
    "| 8 \t| Seafood        \t|"
   ]
  },
  {
   "cell_type": "markdown",
   "metadata": {},
   "source": [
    "we have significant events for all categories exept for grains/cerials and produce."
   ]
  },
  {
   "cell_type": "code",
   "execution_count": null,
   "metadata": {},
   "outputs": [],
   "source": [
    "q4table = pd.DataFrame([\"Beverages\", \"Condiments\", \"Confections\", \"Dairy Products\", \"Grains/Cerials\", \"Meat/Poultry\",\n",
    "                        \"Produce\", \"Seafood\" ])\n",
    "\n",
    "q4table.columns = [\"Category\"]\n",
    "q4table[\"Sales vs Avg\"] = [5.6, 8, 6.5, 15, 3, 5.7, 0.4, 6]\n",
    "q4table.head()"
   ]
  },
  {
   "cell_type": "code",
   "execution_count": null,
   "metadata": {},
   "outputs": [],
   "source": [
    "sns.set(rc={'figure.figsize':(16,8.27)})\n",
    "plt.style.use('ggplot')\n",
    "\n",
    "ax = sns.barplot(x= \"Category\", y=\"Sales vs Avg\", data=q4table)"
   ]
  },
  {
   "cell_type": "code",
   "execution_count": null,
   "metadata": {},
   "outputs": [],
   "source": []
  },
  {
   "cell_type": "markdown",
   "metadata": {},
   "source": [
    "##### Conclusion Question 4 <br>\n",
    "\n",
    "**Restate the question and hypotheses:**<br>\n",
    "are there any categories we should think about dicontinuing or expanding on?<br>\n",
    "\n",
    "𝐻𝑂: orders of categories are equal in quantity <br>\n",
    "𝐻𝑎: orders by category are not equal <br>\n",
    "\n",
    "The test fails to reject the null for category 5 and 7; these seem to be categories with moderate sales.\n",
    "We can reject the null for categories 1, 2, 3, 4, 6 and 8.  Category 4 especially stands out with the lowest P-value and highest test statistic.  We should further inspect this product and look to duplicate its success. "
   ]
  },
  {
   "cell_type": "code",
   "execution_count": null,
   "metadata": {},
   "outputs": [],
   "source": []
  }
 ],
 "metadata": {
  "kernelspec": {
   "display_name": "learn-env",
   "language": "python",
   "name": "learn-env"
  },
  "language_info": {
   "codemirror_mode": {
    "name": "ipython",
    "version": 3
   },
   "file_extension": ".py",
   "mimetype": "text/x-python",
   "name": "python",
   "nbconvert_exporter": "python",
   "pygments_lexer": "ipython3",
   "version": "3.6.6"
  },
  "toc": {
   "base_numbering": 1,
   "nav_menu": {},
   "number_sections": false,
   "sideBar": false,
   "skip_h1_title": false,
   "title_cell": "Table of Contents",
   "title_sidebar": "Contents",
   "toc_cell": true,
   "toc_position": {
    "height": "calc(100% - 180px)",
    "left": "10px",
    "top": "150px",
    "width": "559px"
   },
   "toc_section_display": false,
   "toc_window_display": false
  }
 },
 "nbformat": 4,
 "nbformat_minor": 2
}
