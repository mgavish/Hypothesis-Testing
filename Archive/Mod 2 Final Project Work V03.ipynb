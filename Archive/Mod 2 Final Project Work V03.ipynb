{
 "cells": [
  {
   "cell_type": "markdown",
   "metadata": {},
   "source": [
    "http://dbdesc.com/output_samples/htmlbrowse_northwind.html<br>\n",
    "https://pandas.pydata.org/pandas-docs/stable/reference/api/pandas.Series.isin.html"
   ]
  },
  {
   "cell_type": "markdown",
   "metadata": {},
   "source": [
    "# Case Study: Northwind Traders\n"
   ]
  },
  {
   "cell_type": "markdown",
   "metadata": {
    "heading_collapsed": true
   },
   "source": [
    "## convert sql db tables into pandas df\n"
   ]
  },
  {
   "cell_type": "markdown",
   "metadata": {
    "hidden": true
   },
   "source": [
    "##### import packages and modules"
   ]
  },
  {
   "cell_type": "code",
   "execution_count": 1,
   "metadata": {
    "hidden": true
   },
   "outputs": [],
   "source": [
    "import pandas as pd\n",
    "import numpy as np\n",
    "from scipy.stats import kurtosis, skew\n",
    "import scipy.stats as stats\n",
    "from math import sqrt\n",
    "import math\n",
    "import copy\n",
    "import statsmodels.api as sm             #for ANOVA\n",
    "from statsmodels.formula.api import ols  #for ANOVA\n",
    "\n",
    "import sqlalchemy\n",
    "from sqlalchemy import create_engine\n",
    "from sqlalchemy.orm import session, sessionmaker\n",
    "from sqlalchemy import inspect # so we can perform high level investigations\n",
    "\n",
    "\n",
    "import seaborn as sns\n",
    "\n",
    "import matplotlib.pyplot as plt\n",
    "%matplotlib inline\n",
    "#plt.style.use('seaborn')\n",
    "from matplotlib import style\n",
    "\n",
    "pd.set_option('display.max_columns', None)\n",
    "\n",
    "\n",
    "\n"
   ]
  },
  {
   "cell_type": "markdown",
   "metadata": {
    "hidden": true
   },
   "source": [
    "##### creating an engine object and a session to connect and work with the Northwind sql db"
   ]
  },
  {
   "cell_type": "code",
   "execution_count": 2,
   "metadata": {
    "hidden": true
   },
   "outputs": [
    {
     "name": "stdout",
     "output_type": "stream",
     "text": [
      "2019-04-28 23:24:36,702 INFO sqlalchemy.engine.base.Engine SELECT CAST('test plain returns' AS VARCHAR(60)) AS anon_1\n",
      "2019-04-28 23:24:36,707 INFO sqlalchemy.engine.base.Engine ()\n",
      "2019-04-28 23:24:36,708 INFO sqlalchemy.engine.base.Engine SELECT CAST('test unicode returns' AS VARCHAR(60)) AS anon_1\n",
      "2019-04-28 23:24:36,708 INFO sqlalchemy.engine.base.Engine ()\n"
     ]
    }
   ],
   "source": [
    "engine = create_engine(\"sqlite:///Northwind_small.sqlite\", echo = True)\n",
    "Session = sessionmaker(bind = engine)\n",
    "session = Session\n",
    "inspector = inspect(engine)"
   ]
  },
  {
   "cell_type": "markdown",
   "metadata": {
    "hidden": true
   },
   "source": [
    "##### looking at the table names"
   ]
  },
  {
   "cell_type": "code",
   "execution_count": 3,
   "metadata": {
    "hidden": true
   },
   "outputs": [
    {
     "name": "stdout",
     "output_type": "stream",
     "text": [
      "2019-04-28 23:24:36,716 INFO sqlalchemy.engine.base.Engine SELECT name FROM sqlite_master WHERE type='table' ORDER BY name\n",
      "2019-04-28 23:24:36,717 INFO sqlalchemy.engine.base.Engine ()\n"
     ]
    },
    {
     "data": {
      "text/plain": [
       "['Category',\n",
       " 'Customer',\n",
       " 'CustomerCustomerDemo',\n",
       " 'CustomerDemographic',\n",
       " 'Employee',\n",
       " 'EmployeeTerritory',\n",
       " 'Order',\n",
       " 'OrderDetail',\n",
       " 'Product',\n",
       " 'Region',\n",
       " 'Shipper',\n",
       " 'Supplier',\n",
       " 'Territory']"
      ]
     },
     "execution_count": 3,
     "metadata": {},
     "output_type": "execute_result"
    }
   ],
   "source": [
    "inspector.get_table_names()"
   ]
  },
  {
   "cell_type": "markdown",
   "metadata": {
    "hidden": true
   },
   "source": [
    "##### For the first question, we only need Quantity and Discount though, I will aggregate all tables since we will need them later"
   ]
  },
  {
   "cell_type": "markdown",
   "metadata": {
    "hidden": true
   },
   "source": [
    "##### map the db table features with their headings"
   ]
  },
  {
   "cell_type": "code",
   "execution_count": 4,
   "metadata": {
    "hidden": true
   },
   "outputs": [],
   "source": [
    "from sqlalchemy import MetaData\n",
    "from sqlalchemy.ext.automap import automap_base # creates a framework that clones the db structure so that it can generate a \n",
    "                                                  # a new model in which to map the db with its metadata, ie, column headings"
   ]
  },
  {
   "cell_type": "code",
   "execution_count": 5,
   "metadata": {
    "hidden": true,
    "scrolled": true
   },
   "outputs": [
    {
     "name": "stdout",
     "output_type": "stream",
     "text": [
      "2019-04-28 23:24:36,743 INFO sqlalchemy.engine.base.Engine SELECT name FROM sqlite_master WHERE type='table' ORDER BY name\n",
      "2019-04-28 23:24:36,743 INFO sqlalchemy.engine.base.Engine ()\n",
      "2019-04-28 23:24:36,745 INFO sqlalchemy.engine.base.Engine PRAGMA table_info(\"Category\")\n",
      "2019-04-28 23:24:36,746 INFO sqlalchemy.engine.base.Engine ()\n",
      "2019-04-28 23:24:36,748 INFO sqlalchemy.engine.base.Engine SELECT sql FROM  (SELECT * FROM sqlite_master UNION ALL   SELECT * FROM sqlite_temp_master) WHERE name = 'Category' AND type = 'table'\n",
      "2019-04-28 23:24:36,750 INFO sqlalchemy.engine.base.Engine ()\n",
      "2019-04-28 23:24:36,751 INFO sqlalchemy.engine.base.Engine PRAGMA foreign_key_list(\"Category\")\n",
      "2019-04-28 23:24:36,752 INFO sqlalchemy.engine.base.Engine ()\n",
      "2019-04-28 23:24:36,753 INFO sqlalchemy.engine.base.Engine SELECT sql FROM  (SELECT * FROM sqlite_master UNION ALL   SELECT * FROM sqlite_temp_master) WHERE name = 'Category' AND type = 'table'\n",
      "2019-04-28 23:24:36,754 INFO sqlalchemy.engine.base.Engine ()\n",
      "2019-04-28 23:24:36,757 INFO sqlalchemy.engine.base.Engine PRAGMA index_list(\"Category\")\n",
      "2019-04-28 23:24:36,757 INFO sqlalchemy.engine.base.Engine ()\n",
      "2019-04-28 23:24:36,758 INFO sqlalchemy.engine.base.Engine PRAGMA index_list(\"Category\")\n",
      "2019-04-28 23:24:36,759 INFO sqlalchemy.engine.base.Engine ()\n",
      "2019-04-28 23:24:36,760 INFO sqlalchemy.engine.base.Engine SELECT sql FROM  (SELECT * FROM sqlite_master UNION ALL   SELECT * FROM sqlite_temp_master) WHERE name = 'Category' AND type = 'table'\n",
      "2019-04-28 23:24:36,761 INFO sqlalchemy.engine.base.Engine ()\n",
      "2019-04-28 23:24:36,765 INFO sqlalchemy.engine.base.Engine PRAGMA table_info(\"Customer\")\n",
      "2019-04-28 23:24:36,766 INFO sqlalchemy.engine.base.Engine ()\n",
      "2019-04-28 23:24:36,767 INFO sqlalchemy.engine.base.Engine SELECT sql FROM  (SELECT * FROM sqlite_master UNION ALL   SELECT * FROM sqlite_temp_master) WHERE name = 'Customer' AND type = 'table'\n",
      "2019-04-28 23:24:36,768 INFO sqlalchemy.engine.base.Engine ()\n",
      "2019-04-28 23:24:36,769 INFO sqlalchemy.engine.base.Engine PRAGMA foreign_key_list(\"Customer\")\n",
      "2019-04-28 23:24:36,770 INFO sqlalchemy.engine.base.Engine ()\n",
      "2019-04-28 23:24:36,771 INFO sqlalchemy.engine.base.Engine SELECT sql FROM  (SELECT * FROM sqlite_master UNION ALL   SELECT * FROM sqlite_temp_master) WHERE name = 'Customer' AND type = 'table'\n",
      "2019-04-28 23:24:36,771 INFO sqlalchemy.engine.base.Engine ()\n",
      "2019-04-28 23:24:36,772 INFO sqlalchemy.engine.base.Engine PRAGMA index_list(\"Customer\")\n",
      "2019-04-28 23:24:36,773 INFO sqlalchemy.engine.base.Engine ()\n",
      "2019-04-28 23:24:36,774 INFO sqlalchemy.engine.base.Engine PRAGMA index_list(\"Customer\")\n",
      "2019-04-28 23:24:36,775 INFO sqlalchemy.engine.base.Engine ()\n",
      "2019-04-28 23:24:36,776 INFO sqlalchemy.engine.base.Engine PRAGMA index_info(\"sqlite_autoindex_Customer_1\")\n",
      "2019-04-28 23:24:36,777 INFO sqlalchemy.engine.base.Engine ()\n",
      "2019-04-28 23:24:36,778 INFO sqlalchemy.engine.base.Engine SELECT sql FROM  (SELECT * FROM sqlite_master UNION ALL   SELECT * FROM sqlite_temp_master) WHERE name = 'Customer' AND type = 'table'\n",
      "2019-04-28 23:24:36,778 INFO sqlalchemy.engine.base.Engine ()\n",
      "2019-04-28 23:24:36,779 INFO sqlalchemy.engine.base.Engine PRAGMA table_info(\"CustomerCustomerDemo\")\n",
      "2019-04-28 23:24:36,780 INFO sqlalchemy.engine.base.Engine ()\n",
      "2019-04-28 23:24:36,781 INFO sqlalchemy.engine.base.Engine SELECT sql FROM  (SELECT * FROM sqlite_master UNION ALL   SELECT * FROM sqlite_temp_master) WHERE name = 'CustomerCustomerDemo' AND type = 'table'\n",
      "2019-04-28 23:24:36,781 INFO sqlalchemy.engine.base.Engine ()\n",
      "2019-04-28 23:24:36,783 INFO sqlalchemy.engine.base.Engine PRAGMA foreign_key_list(\"CustomerCustomerDemo\")\n",
      "2019-04-28 23:24:36,784 INFO sqlalchemy.engine.base.Engine ()\n",
      "2019-04-28 23:24:36,785 INFO sqlalchemy.engine.base.Engine SELECT sql FROM  (SELECT * FROM sqlite_master UNION ALL   SELECT * FROM sqlite_temp_master) WHERE name = 'CustomerCustomerDemo' AND type = 'table'\n",
      "2019-04-28 23:24:36,786 INFO sqlalchemy.engine.base.Engine ()\n",
      "2019-04-28 23:24:36,787 INFO sqlalchemy.engine.base.Engine PRAGMA index_list(\"CustomerCustomerDemo\")\n",
      "2019-04-28 23:24:36,787 INFO sqlalchemy.engine.base.Engine ()\n",
      "2019-04-28 23:24:36,788 INFO sqlalchemy.engine.base.Engine PRAGMA index_list(\"CustomerCustomerDemo\")\n",
      "2019-04-28 23:24:36,789 INFO sqlalchemy.engine.base.Engine ()\n",
      "2019-04-28 23:24:36,790 INFO sqlalchemy.engine.base.Engine PRAGMA index_info(\"sqlite_autoindex_CustomerCustomerDemo_1\")\n",
      "2019-04-28 23:24:36,790 INFO sqlalchemy.engine.base.Engine ()\n",
      "2019-04-28 23:24:36,791 INFO sqlalchemy.engine.base.Engine SELECT sql FROM  (SELECT * FROM sqlite_master UNION ALL   SELECT * FROM sqlite_temp_master) WHERE name = 'CustomerCustomerDemo' AND type = 'table'\n",
      "2019-04-28 23:24:36,792 INFO sqlalchemy.engine.base.Engine ()\n",
      "2019-04-28 23:24:36,793 INFO sqlalchemy.engine.base.Engine PRAGMA table_info(\"CustomerDemographic\")\n",
      "2019-04-28 23:24:36,794 INFO sqlalchemy.engine.base.Engine ()\n",
      "2019-04-28 23:24:36,795 INFO sqlalchemy.engine.base.Engine SELECT sql FROM  (SELECT * FROM sqlite_master UNION ALL   SELECT * FROM sqlite_temp_master) WHERE name = 'CustomerDemographic' AND type = 'table'\n",
      "2019-04-28 23:24:36,796 INFO sqlalchemy.engine.base.Engine ()\n",
      "2019-04-28 23:24:36,797 INFO sqlalchemy.engine.base.Engine PRAGMA foreign_key_list(\"CustomerDemographic\")\n",
      "2019-04-28 23:24:36,797 INFO sqlalchemy.engine.base.Engine ()\n",
      "2019-04-28 23:24:36,798 INFO sqlalchemy.engine.base.Engine SELECT sql FROM  (SELECT * FROM sqlite_master UNION ALL   SELECT * FROM sqlite_temp_master) WHERE name = 'CustomerDemographic' AND type = 'table'\n",
      "2019-04-28 23:24:36,799 INFO sqlalchemy.engine.base.Engine ()\n",
      "2019-04-28 23:24:36,800 INFO sqlalchemy.engine.base.Engine PRAGMA index_list(\"CustomerDemographic\")\n",
      "2019-04-28 23:24:36,801 INFO sqlalchemy.engine.base.Engine ()\n",
      "2019-04-28 23:24:36,802 INFO sqlalchemy.engine.base.Engine PRAGMA index_list(\"CustomerDemographic\")\n",
      "2019-04-28 23:24:36,803 INFO sqlalchemy.engine.base.Engine ()\n",
      "2019-04-28 23:24:36,804 INFO sqlalchemy.engine.base.Engine PRAGMA index_info(\"sqlite_autoindex_CustomerDemographic_1\")\n",
      "2019-04-28 23:24:36,804 INFO sqlalchemy.engine.base.Engine ()\n",
      "2019-04-28 23:24:36,805 INFO sqlalchemy.engine.base.Engine SELECT sql FROM  (SELECT * FROM sqlite_master UNION ALL   SELECT * FROM sqlite_temp_master) WHERE name = 'CustomerDemographic' AND type = 'table'\n",
      "2019-04-28 23:24:36,806 INFO sqlalchemy.engine.base.Engine ()\n",
      "2019-04-28 23:24:36,807 INFO sqlalchemy.engine.base.Engine PRAGMA table_info(\"Employee\")\n",
      "2019-04-28 23:24:36,808 INFO sqlalchemy.engine.base.Engine ()\n",
      "2019-04-28 23:24:36,811 INFO sqlalchemy.engine.base.Engine SELECT sql FROM  (SELECT * FROM sqlite_master UNION ALL   SELECT * FROM sqlite_temp_master) WHERE name = 'Employee' AND type = 'table'\n",
      "2019-04-28 23:24:36,812 INFO sqlalchemy.engine.base.Engine ()\n",
      "2019-04-28 23:24:36,813 INFO sqlalchemy.engine.base.Engine PRAGMA foreign_key_list(\"Employee\")\n",
      "2019-04-28 23:24:36,814 INFO sqlalchemy.engine.base.Engine ()\n",
      "2019-04-28 23:24:36,815 INFO sqlalchemy.engine.base.Engine SELECT sql FROM  (SELECT * FROM sqlite_master UNION ALL   SELECT * FROM sqlite_temp_master) WHERE name = 'Employee' AND type = 'table'\n",
      "2019-04-28 23:24:36,815 INFO sqlalchemy.engine.base.Engine ()\n",
      "2019-04-28 23:24:36,817 INFO sqlalchemy.engine.base.Engine PRAGMA index_list(\"Employee\")\n",
      "2019-04-28 23:24:36,817 INFO sqlalchemy.engine.base.Engine ()\n",
      "2019-04-28 23:24:36,819 INFO sqlalchemy.engine.base.Engine PRAGMA index_list(\"Employee\")\n",
      "2019-04-28 23:24:36,819 INFO sqlalchemy.engine.base.Engine ()\n",
      "2019-04-28 23:24:36,820 INFO sqlalchemy.engine.base.Engine SELECT sql FROM  (SELECT * FROM sqlite_master UNION ALL   SELECT * FROM sqlite_temp_master) WHERE name = 'Employee' AND type = 'table'\n",
      "2019-04-28 23:24:36,821 INFO sqlalchemy.engine.base.Engine ()\n",
      "2019-04-28 23:24:36,822 INFO sqlalchemy.engine.base.Engine PRAGMA table_info(\"EmployeeTerritory\")\n",
      "2019-04-28 23:24:36,823 INFO sqlalchemy.engine.base.Engine ()\n",
      "2019-04-28 23:24:36,824 INFO sqlalchemy.engine.base.Engine SELECT sql FROM  (SELECT * FROM sqlite_master UNION ALL   SELECT * FROM sqlite_temp_master) WHERE name = 'EmployeeTerritory' AND type = 'table'\n",
      "2019-04-28 23:24:36,825 INFO sqlalchemy.engine.base.Engine ()\n"
     ]
    },
    {
     "name": "stdout",
     "output_type": "stream",
     "text": [
      "2019-04-28 23:24:36,826 INFO sqlalchemy.engine.base.Engine PRAGMA foreign_key_list(\"EmployeeTerritory\")\n",
      "2019-04-28 23:24:36,826 INFO sqlalchemy.engine.base.Engine ()\n",
      "2019-04-28 23:24:36,827 INFO sqlalchemy.engine.base.Engine SELECT sql FROM  (SELECT * FROM sqlite_master UNION ALL   SELECT * FROM sqlite_temp_master) WHERE name = 'EmployeeTerritory' AND type = 'table'\n",
      "2019-04-28 23:24:36,828 INFO sqlalchemy.engine.base.Engine ()\n",
      "2019-04-28 23:24:36,829 INFO sqlalchemy.engine.base.Engine PRAGMA index_list(\"EmployeeTerritory\")\n",
      "2019-04-28 23:24:36,830 INFO sqlalchemy.engine.base.Engine ()\n",
      "2019-04-28 23:24:36,831 INFO sqlalchemy.engine.base.Engine PRAGMA index_list(\"EmployeeTerritory\")\n",
      "2019-04-28 23:24:36,832 INFO sqlalchemy.engine.base.Engine ()\n",
      "2019-04-28 23:24:36,833 INFO sqlalchemy.engine.base.Engine PRAGMA index_info(\"sqlite_autoindex_EmployeeTerritory_1\")\n",
      "2019-04-28 23:24:36,834 INFO sqlalchemy.engine.base.Engine ()\n",
      "2019-04-28 23:24:36,835 INFO sqlalchemy.engine.base.Engine SELECT sql FROM  (SELECT * FROM sqlite_master UNION ALL   SELECT * FROM sqlite_temp_master) WHERE name = 'EmployeeTerritory' AND type = 'table'\n",
      "2019-04-28 23:24:36,836 INFO sqlalchemy.engine.base.Engine ()\n",
      "2019-04-28 23:24:36,837 INFO sqlalchemy.engine.base.Engine PRAGMA table_info(\"Order\")\n",
      "2019-04-28 23:24:36,838 INFO sqlalchemy.engine.base.Engine ()\n",
      "2019-04-28 23:24:36,840 INFO sqlalchemy.engine.base.Engine SELECT sql FROM  (SELECT * FROM sqlite_master UNION ALL   SELECT * FROM sqlite_temp_master) WHERE name = 'Order' AND type = 'table'\n",
      "2019-04-28 23:24:36,841 INFO sqlalchemy.engine.base.Engine ()\n",
      "2019-04-28 23:24:36,842 INFO sqlalchemy.engine.base.Engine PRAGMA foreign_key_list(\"Order\")\n",
      "2019-04-28 23:24:36,843 INFO sqlalchemy.engine.base.Engine ()\n",
      "2019-04-28 23:24:36,844 INFO sqlalchemy.engine.base.Engine SELECT sql FROM  (SELECT * FROM sqlite_master UNION ALL   SELECT * FROM sqlite_temp_master) WHERE name = 'Order' AND type = 'table'\n",
      "2019-04-28 23:24:36,844 INFO sqlalchemy.engine.base.Engine ()\n",
      "2019-04-28 23:24:36,845 INFO sqlalchemy.engine.base.Engine PRAGMA index_list(\"Order\")\n",
      "2019-04-28 23:24:36,846 INFO sqlalchemy.engine.base.Engine ()\n",
      "2019-04-28 23:24:36,847 INFO sqlalchemy.engine.base.Engine PRAGMA index_list(\"Order\")\n",
      "2019-04-28 23:24:36,848 INFO sqlalchemy.engine.base.Engine ()\n",
      "2019-04-28 23:24:36,849 INFO sqlalchemy.engine.base.Engine SELECT sql FROM  (SELECT * FROM sqlite_master UNION ALL   SELECT * FROM sqlite_temp_master) WHERE name = 'Order' AND type = 'table'\n",
      "2019-04-28 23:24:36,850 INFO sqlalchemy.engine.base.Engine ()\n",
      "2019-04-28 23:24:36,851 INFO sqlalchemy.engine.base.Engine PRAGMA table_info(\"OrderDetail\")\n",
      "2019-04-28 23:24:36,852 INFO sqlalchemy.engine.base.Engine ()\n",
      "2019-04-28 23:24:36,854 INFO sqlalchemy.engine.base.Engine SELECT sql FROM  (SELECT * FROM sqlite_master UNION ALL   SELECT * FROM sqlite_temp_master) WHERE name = 'OrderDetail' AND type = 'table'\n",
      "2019-04-28 23:24:36,854 INFO sqlalchemy.engine.base.Engine ()\n",
      "2019-04-28 23:24:36,856 INFO sqlalchemy.engine.base.Engine PRAGMA foreign_key_list(\"OrderDetail\")\n",
      "2019-04-28 23:24:36,856 INFO sqlalchemy.engine.base.Engine ()\n",
      "2019-04-28 23:24:36,857 INFO sqlalchemy.engine.base.Engine SELECT sql FROM  (SELECT * FROM sqlite_master UNION ALL   SELECT * FROM sqlite_temp_master) WHERE name = 'OrderDetail' AND type = 'table'\n",
      "2019-04-28 23:24:36,858 INFO sqlalchemy.engine.base.Engine ()\n",
      "2019-04-28 23:24:36,859 INFO sqlalchemy.engine.base.Engine PRAGMA index_list(\"OrderDetail\")\n",
      "2019-04-28 23:24:36,860 INFO sqlalchemy.engine.base.Engine ()\n",
      "2019-04-28 23:24:36,861 INFO sqlalchemy.engine.base.Engine PRAGMA index_list(\"OrderDetail\")\n",
      "2019-04-28 23:24:36,862 INFO sqlalchemy.engine.base.Engine ()\n",
      "2019-04-28 23:24:36,864 INFO sqlalchemy.engine.base.Engine PRAGMA index_info(\"sqlite_autoindex_OrderDetail_1\")\n",
      "2019-04-28 23:24:36,865 INFO sqlalchemy.engine.base.Engine ()\n",
      "2019-04-28 23:24:36,866 INFO sqlalchemy.engine.base.Engine SELECT sql FROM  (SELECT * FROM sqlite_master UNION ALL   SELECT * FROM sqlite_temp_master) WHERE name = 'OrderDetail' AND type = 'table'\n",
      "2019-04-28 23:24:36,867 INFO sqlalchemy.engine.base.Engine ()\n",
      "2019-04-28 23:24:36,869 INFO sqlalchemy.engine.base.Engine PRAGMA table_info(\"Product\")\n",
      "2019-04-28 23:24:36,869 INFO sqlalchemy.engine.base.Engine ()\n",
      "2019-04-28 23:24:36,872 INFO sqlalchemy.engine.base.Engine SELECT sql FROM  (SELECT * FROM sqlite_master UNION ALL   SELECT * FROM sqlite_temp_master) WHERE name = 'Product' AND type = 'table'\n",
      "2019-04-28 23:24:36,872 INFO sqlalchemy.engine.base.Engine ()\n",
      "2019-04-28 23:24:36,873 INFO sqlalchemy.engine.base.Engine PRAGMA foreign_key_list(\"Product\")\n",
      "2019-04-28 23:24:36,874 INFO sqlalchemy.engine.base.Engine ()\n",
      "2019-04-28 23:24:36,875 INFO sqlalchemy.engine.base.Engine SELECT sql FROM  (SELECT * FROM sqlite_master UNION ALL   SELECT * FROM sqlite_temp_master) WHERE name = 'Product' AND type = 'table'\n",
      "2019-04-28 23:24:36,876 INFO sqlalchemy.engine.base.Engine ()\n",
      "2019-04-28 23:24:36,877 INFO sqlalchemy.engine.base.Engine PRAGMA index_list(\"Product\")\n",
      "2019-04-28 23:24:36,878 INFO sqlalchemy.engine.base.Engine ()\n",
      "2019-04-28 23:24:36,879 INFO sqlalchemy.engine.base.Engine PRAGMA index_list(\"Product\")\n",
      "2019-04-28 23:24:36,879 INFO sqlalchemy.engine.base.Engine ()\n",
      "2019-04-28 23:24:36,880 INFO sqlalchemy.engine.base.Engine SELECT sql FROM  (SELECT * FROM sqlite_master UNION ALL   SELECT * FROM sqlite_temp_master) WHERE name = 'Product' AND type = 'table'\n",
      "2019-04-28 23:24:36,881 INFO sqlalchemy.engine.base.Engine ()\n",
      "2019-04-28 23:24:36,882 INFO sqlalchemy.engine.base.Engine PRAGMA table_info(\"Region\")\n",
      "2019-04-28 23:24:36,883 INFO sqlalchemy.engine.base.Engine ()\n",
      "2019-04-28 23:24:36,884 INFO sqlalchemy.engine.base.Engine SELECT sql FROM  (SELECT * FROM sqlite_master UNION ALL   SELECT * FROM sqlite_temp_master) WHERE name = 'Region' AND type = 'table'\n",
      "2019-04-28 23:24:36,885 INFO sqlalchemy.engine.base.Engine ()\n",
      "2019-04-28 23:24:36,886 INFO sqlalchemy.engine.base.Engine PRAGMA foreign_key_list(\"Region\")\n",
      "2019-04-28 23:24:36,887 INFO sqlalchemy.engine.base.Engine ()\n",
      "2019-04-28 23:24:36,888 INFO sqlalchemy.engine.base.Engine SELECT sql FROM  (SELECT * FROM sqlite_master UNION ALL   SELECT * FROM sqlite_temp_master) WHERE name = 'Region' AND type = 'table'\n",
      "2019-04-28 23:24:36,889 INFO sqlalchemy.engine.base.Engine ()\n",
      "2019-04-28 23:24:36,890 INFO sqlalchemy.engine.base.Engine PRAGMA index_list(\"Region\")\n",
      "2019-04-28 23:24:36,890 INFO sqlalchemy.engine.base.Engine ()\n",
      "2019-04-28 23:24:36,891 INFO sqlalchemy.engine.base.Engine PRAGMA index_list(\"Region\")\n",
      "2019-04-28 23:24:36,892 INFO sqlalchemy.engine.base.Engine ()\n",
      "2019-04-28 23:24:36,893 INFO sqlalchemy.engine.base.Engine SELECT sql FROM  (SELECT * FROM sqlite_master UNION ALL   SELECT * FROM sqlite_temp_master) WHERE name = 'Region' AND type = 'table'\n",
      "2019-04-28 23:24:36,894 INFO sqlalchemy.engine.base.Engine ()\n",
      "2019-04-28 23:24:36,895 INFO sqlalchemy.engine.base.Engine PRAGMA table_info(\"Shipper\")\n",
      "2019-04-28 23:24:36,896 INFO sqlalchemy.engine.base.Engine ()\n",
      "2019-04-28 23:24:36,898 INFO sqlalchemy.engine.base.Engine SELECT sql FROM  (SELECT * FROM sqlite_master UNION ALL   SELECT * FROM sqlite_temp_master) WHERE name = 'Shipper' AND type = 'table'\n",
      "2019-04-28 23:24:36,898 INFO sqlalchemy.engine.base.Engine ()\n",
      "2019-04-28 23:24:36,900 INFO sqlalchemy.engine.base.Engine PRAGMA foreign_key_list(\"Shipper\")\n",
      "2019-04-28 23:24:36,901 INFO sqlalchemy.engine.base.Engine ()\n",
      "2019-04-28 23:24:36,902 INFO sqlalchemy.engine.base.Engine SELECT sql FROM  (SELECT * FROM sqlite_master UNION ALL   SELECT * FROM sqlite_temp_master) WHERE name = 'Shipper' AND type = 'table'\n",
      "2019-04-28 23:24:36,902 INFO sqlalchemy.engine.base.Engine ()\n",
      "2019-04-28 23:24:36,903 INFO sqlalchemy.engine.base.Engine PRAGMA index_list(\"Shipper\")\n",
      "2019-04-28 23:24:36,904 INFO sqlalchemy.engine.base.Engine ()\n",
      "2019-04-28 23:24:36,905 INFO sqlalchemy.engine.base.Engine PRAGMA index_list(\"Shipper\")\n",
      "2019-04-28 23:24:36,906 INFO sqlalchemy.engine.base.Engine ()\n",
      "2019-04-28 23:24:36,906 INFO sqlalchemy.engine.base.Engine SELECT sql FROM  (SELECT * FROM sqlite_master UNION ALL   SELECT * FROM sqlite_temp_master) WHERE name = 'Shipper' AND type = 'table'\n",
      "2019-04-28 23:24:36,907 INFO sqlalchemy.engine.base.Engine ()\n"
     ]
    },
    {
     "name": "stdout",
     "output_type": "stream",
     "text": [
      "2019-04-28 23:24:36,909 INFO sqlalchemy.engine.base.Engine PRAGMA table_info(\"Supplier\")\n",
      "2019-04-28 23:24:36,909 INFO sqlalchemy.engine.base.Engine ()\n",
      "2019-04-28 23:24:36,911 INFO sqlalchemy.engine.base.Engine SELECT sql FROM  (SELECT * FROM sqlite_master UNION ALL   SELECT * FROM sqlite_temp_master) WHERE name = 'Supplier' AND type = 'table'\n",
      "2019-04-28 23:24:36,912 INFO sqlalchemy.engine.base.Engine ()\n",
      "2019-04-28 23:24:36,913 INFO sqlalchemy.engine.base.Engine PRAGMA foreign_key_list(\"Supplier\")\n",
      "2019-04-28 23:24:36,914 INFO sqlalchemy.engine.base.Engine ()\n",
      "2019-04-28 23:24:36,915 INFO sqlalchemy.engine.base.Engine SELECT sql FROM  (SELECT * FROM sqlite_master UNION ALL   SELECT * FROM sqlite_temp_master) WHERE name = 'Supplier' AND type = 'table'\n",
      "2019-04-28 23:24:36,916 INFO sqlalchemy.engine.base.Engine ()\n",
      "2019-04-28 23:24:36,917 INFO sqlalchemy.engine.base.Engine PRAGMA index_list(\"Supplier\")\n",
      "2019-04-28 23:24:36,918 INFO sqlalchemy.engine.base.Engine ()\n",
      "2019-04-28 23:24:36,919 INFO sqlalchemy.engine.base.Engine PRAGMA index_list(\"Supplier\")\n",
      "2019-04-28 23:24:36,919 INFO sqlalchemy.engine.base.Engine ()\n",
      "2019-04-28 23:24:36,920 INFO sqlalchemy.engine.base.Engine SELECT sql FROM  (SELECT * FROM sqlite_master UNION ALL   SELECT * FROM sqlite_temp_master) WHERE name = 'Supplier' AND type = 'table'\n",
      "2019-04-28 23:24:36,921 INFO sqlalchemy.engine.base.Engine ()\n",
      "2019-04-28 23:24:36,922 INFO sqlalchemy.engine.base.Engine PRAGMA table_info(\"Territory\")\n",
      "2019-04-28 23:24:36,923 INFO sqlalchemy.engine.base.Engine ()\n",
      "2019-04-28 23:24:36,924 INFO sqlalchemy.engine.base.Engine SELECT sql FROM  (SELECT * FROM sqlite_master UNION ALL   SELECT * FROM sqlite_temp_master) WHERE name = 'Territory' AND type = 'table'\n",
      "2019-04-28 23:24:36,925 INFO sqlalchemy.engine.base.Engine ()\n",
      "2019-04-28 23:24:36,926 INFO sqlalchemy.engine.base.Engine PRAGMA foreign_key_list(\"Territory\")\n",
      "2019-04-28 23:24:36,927 INFO sqlalchemy.engine.base.Engine ()\n",
      "2019-04-28 23:24:36,928 INFO sqlalchemy.engine.base.Engine SELECT sql FROM  (SELECT * FROM sqlite_master UNION ALL   SELECT * FROM sqlite_temp_master) WHERE name = 'Territory' AND type = 'table'\n",
      "2019-04-28 23:24:36,928 INFO sqlalchemy.engine.base.Engine ()\n",
      "2019-04-28 23:24:36,929 INFO sqlalchemy.engine.base.Engine PRAGMA index_list(\"Territory\")\n",
      "2019-04-28 23:24:36,930 INFO sqlalchemy.engine.base.Engine ()\n",
      "2019-04-28 23:24:36,931 INFO sqlalchemy.engine.base.Engine PRAGMA index_list(\"Territory\")\n",
      "2019-04-28 23:24:36,932 INFO sqlalchemy.engine.base.Engine ()\n",
      "2019-04-28 23:24:36,933 INFO sqlalchemy.engine.base.Engine PRAGMA index_info(\"sqlite_autoindex_Territory_1\")\n",
      "2019-04-28 23:24:36,933 INFO sqlalchemy.engine.base.Engine ()\n",
      "2019-04-28 23:24:36,935 INFO sqlalchemy.engine.base.Engine SELECT sql FROM  (SELECT * FROM sqlite_master UNION ALL   SELECT * FROM sqlite_temp_master) WHERE name = 'Territory' AND type = 'table'\n",
      "2019-04-28 23:24:36,936 INFO sqlalchemy.engine.base.Engine ()\n"
     ]
    }
   ],
   "source": [
    "metadata = MetaData()\n",
    "metadata.reflect(engine)\n",
    "Base = automap_base(metadata = metadata)\n",
    "Base.prepare()\n",
    "\n",
    "\n",
    "\n",
    "Category, Customer, CustomerCustomerDemo, CustomerDemographic, Employee, EmployeeTerritory, Order, OrderDetail,\\\n",
    "Product, Region, Shipper, Supplier, Territory = \\\n",
    "Base.classes.Category,\\\n",
    "Base.classes.Customer,\\\n",
    "Base.classes.CustomerCustomerDemo,\\\n",
    "Base.classes.CustomerDemographic, \\\n",
    "Base.classes.Employee, \\\n",
    "Base.classes.EmployeeTerritory,\\\n",
    "Base.classes.Order,\\\n",
    "Base.classes.OrderDetail, \\\n",
    "Base.classes.Product, \\\n",
    "Base.classes.Region,\\\n",
    "Base.classes.Shipper, \\\n",
    "Base.classes.Supplier, \\\n",
    "Base.classes.Territory"
   ]
  },
  {
   "cell_type": "markdown",
   "metadata": {
    "hidden": true
   },
   "source": [
    "##### converting each table to a pandas dataframe"
   ]
  },
  {
   "cell_type": "code",
   "execution_count": 6,
   "metadata": {
    "hidden": true,
    "scrolled": true
   },
   "outputs": [
    {
     "name": "stdout",
     "output_type": "stream",
     "text": [
      "2019-04-28 23:24:36,969 INFO sqlalchemy.engine.base.Engine SELECT * FROM [category]\n",
      "2019-04-28 23:24:36,970 INFO sqlalchemy.engine.base.Engine ()\n",
      "2019-04-28 23:24:36,974 INFO sqlalchemy.engine.base.Engine SELECT * FROM [customer]\n",
      "2019-04-28 23:24:36,975 INFO sqlalchemy.engine.base.Engine ()\n",
      "2019-04-28 23:24:36,983 INFO sqlalchemy.engine.base.Engine SELECT * FROM [customerCustomerDemo]\n",
      "2019-04-28 23:24:36,983 INFO sqlalchemy.engine.base.Engine ()\n",
      "2019-04-28 23:24:36,986 INFO sqlalchemy.engine.base.Engine SELECT * FROM [customerDemographic]\n",
      "2019-04-28 23:24:36,987 INFO sqlalchemy.engine.base.Engine ()\n",
      "2019-04-28 23:24:36,991 INFO sqlalchemy.engine.base.Engine SELECT * FROM [employee]\n",
      "2019-04-28 23:24:36,992 INFO sqlalchemy.engine.base.Engine ()\n",
      "2019-04-28 23:24:36,998 INFO sqlalchemy.engine.base.Engine SELECT * FROM [employeeTerritory]\n",
      "2019-04-28 23:24:36,998 INFO sqlalchemy.engine.base.Engine ()\n",
      "2019-04-28 23:24:37,003 INFO sqlalchemy.engine.base.Engine SELECT * FROM [order]\n",
      "2019-04-28 23:24:37,004 INFO sqlalchemy.engine.base.Engine ()\n",
      "2019-04-28 23:24:37,037 INFO sqlalchemy.engine.base.Engine SELECT * FROM [orderDetail]\n",
      "2019-04-28 23:24:37,038 INFO sqlalchemy.engine.base.Engine ()\n",
      "2019-04-28 23:24:37,066 INFO sqlalchemy.engine.base.Engine SELECT * FROM [product]\n",
      "2019-04-28 23:24:37,067 INFO sqlalchemy.engine.base.Engine ()\n",
      "2019-04-28 23:24:37,072 INFO sqlalchemy.engine.base.Engine SELECT * FROM [region]\n",
      "2019-04-28 23:24:37,073 INFO sqlalchemy.engine.base.Engine ()\n",
      "2019-04-28 23:24:37,076 INFO sqlalchemy.engine.base.Engine SELECT * FROM [shipper]\n",
      "2019-04-28 23:24:37,077 INFO sqlalchemy.engine.base.Engine ()\n",
      "2019-04-28 23:24:37,081 INFO sqlalchemy.engine.base.Engine SELECT * FROM [supplier]\n",
      "2019-04-28 23:24:37,082 INFO sqlalchemy.engine.base.Engine ()\n",
      "2019-04-28 23:24:37,088 INFO sqlalchemy.engine.base.Engine SELECT * FROM [territory]\n",
      "2019-04-28 23:24:37,089 INFO sqlalchemy.engine.base.Engine ()\n"
     ]
    }
   ],
   "source": [
    "category_df= pd.read_sql_query(\"SELECT * FROM [category]\", engine)\n",
    "customer_df = pd.read_sql_query(\"SELECT * FROM [customer]\", engine)\n",
    "customerCustomerDemo_df = pd.read_sql_query(\"SELECT * FROM [customerCustomerDemo]\", engine)\n",
    "customerDemographic_df = pd.read_sql_query(\"SELECT * FROM [customerDemographic]\", engine)\n",
    "employee_df = pd.read_sql_query(\"SELECT * FROM [employee]\", engine)\n",
    "employeeTerritory_df = pd.read_sql_query(\"SELECT * FROM [employeeTerritory]\", engine)\n",
    "order_df = pd.read_sql_query(\"SELECT * FROM [order]\", engine)\n",
    "orderDetail_df = pd.read_sql_query(\"SELECT * FROM [orderDetail]\", engine)\n",
    "product_df = pd.read_sql_query(\"SELECT * FROM [product]\", engine)\n",
    "region_df = pd.read_sql_query(\"SELECT * FROM [region]\", engine)\n",
    "shipper_df = pd.read_sql_query(\"SELECT * FROM [shipper]\", engine)\n",
    "supplier_df = pd.read_sql_query(\"SELECT * FROM [supplier]\", engine)\n",
    "territory_df = pd.read_sql_query(\"SELECT * FROM [territory]\", engine)"
   ]
  },
  {
   "cell_type": "markdown",
   "metadata": {
    "hidden": true
   },
   "source": [
    "##### For question one, we need Quantity and Discount features, which are in the Order Detail table"
   ]
  },
  {
   "cell_type": "code",
   "execution_count": 7,
   "metadata": {
    "hidden": true
   },
   "outputs": [
    {
     "data": {
      "text/html": [
       "<div>\n",
       "<style scoped>\n",
       "    .dataframe tbody tr th:only-of-type {\n",
       "        vertical-align: middle;\n",
       "    }\n",
       "\n",
       "    .dataframe tbody tr th {\n",
       "        vertical-align: top;\n",
       "    }\n",
       "\n",
       "    .dataframe thead th {\n",
       "        text-align: right;\n",
       "    }\n",
       "</style>\n",
       "<table border=\"1\" class=\"dataframe\">\n",
       "  <thead>\n",
       "    <tr style=\"text-align: right;\">\n",
       "      <th></th>\n",
       "      <th>Id</th>\n",
       "      <th>OrderId</th>\n",
       "      <th>ProductId</th>\n",
       "      <th>UnitPrice</th>\n",
       "      <th>Quantity</th>\n",
       "      <th>Discount</th>\n",
       "    </tr>\n",
       "  </thead>\n",
       "  <tbody>\n",
       "    <tr>\n",
       "      <th>0</th>\n",
       "      <td>10248/11</td>\n",
       "      <td>10248</td>\n",
       "      <td>11</td>\n",
       "      <td>14.0</td>\n",
       "      <td>12</td>\n",
       "      <td>0.0</td>\n",
       "    </tr>\n",
       "    <tr>\n",
       "      <th>1</th>\n",
       "      <td>10248/42</td>\n",
       "      <td>10248</td>\n",
       "      <td>42</td>\n",
       "      <td>9.8</td>\n",
       "      <td>10</td>\n",
       "      <td>0.0</td>\n",
       "    </tr>\n",
       "    <tr>\n",
       "      <th>2</th>\n",
       "      <td>10248/72</td>\n",
       "      <td>10248</td>\n",
       "      <td>72</td>\n",
       "      <td>34.8</td>\n",
       "      <td>5</td>\n",
       "      <td>0.0</td>\n",
       "    </tr>\n",
       "    <tr>\n",
       "      <th>3</th>\n",
       "      <td>10249/14</td>\n",
       "      <td>10249</td>\n",
       "      <td>14</td>\n",
       "      <td>18.6</td>\n",
       "      <td>9</td>\n",
       "      <td>0.0</td>\n",
       "    </tr>\n",
       "    <tr>\n",
       "      <th>4</th>\n",
       "      <td>10249/51</td>\n",
       "      <td>10249</td>\n",
       "      <td>51</td>\n",
       "      <td>42.4</td>\n",
       "      <td>40</td>\n",
       "      <td>0.0</td>\n",
       "    </tr>\n",
       "  </tbody>\n",
       "</table>\n",
       "</div>"
      ],
      "text/plain": [
       "         Id  OrderId  ProductId  UnitPrice  Quantity  Discount\n",
       "0  10248/11    10248         11       14.0        12       0.0\n",
       "1  10248/42    10248         42        9.8        10       0.0\n",
       "2  10248/72    10248         72       34.8         5       0.0\n",
       "3  10249/14    10249         14       18.6         9       0.0\n",
       "4  10249/51    10249         51       42.4        40       0.0"
      ]
     },
     "execution_count": 7,
     "metadata": {},
     "output_type": "execute_result"
    }
   ],
   "source": [
    "orderDetail_df.head()"
   ]
  },
  {
   "cell_type": "code",
   "execution_count": 8,
   "metadata": {
    "hidden": true
   },
   "outputs": [
    {
     "data": {
      "text/html": [
       "<div>\n",
       "<style scoped>\n",
       "    .dataframe tbody tr th:only-of-type {\n",
       "        vertical-align: middle;\n",
       "    }\n",
       "\n",
       "    .dataframe tbody tr th {\n",
       "        vertical-align: top;\n",
       "    }\n",
       "\n",
       "    .dataframe thead th {\n",
       "        text-align: right;\n",
       "    }\n",
       "</style>\n",
       "<table border=\"1\" class=\"dataframe\">\n",
       "  <thead>\n",
       "    <tr style=\"text-align: right;\">\n",
       "      <th></th>\n",
       "      <th>Quantity</th>\n",
       "      <th>Discount</th>\n",
       "    </tr>\n",
       "  </thead>\n",
       "  <tbody>\n",
       "    <tr>\n",
       "      <th>0</th>\n",
       "      <td>12</td>\n",
       "      <td>0.0</td>\n",
       "    </tr>\n",
       "    <tr>\n",
       "      <th>1</th>\n",
       "      <td>10</td>\n",
       "      <td>0.0</td>\n",
       "    </tr>\n",
       "    <tr>\n",
       "      <th>2</th>\n",
       "      <td>5</td>\n",
       "      <td>0.0</td>\n",
       "    </tr>\n",
       "    <tr>\n",
       "      <th>3</th>\n",
       "      <td>9</td>\n",
       "      <td>0.0</td>\n",
       "    </tr>\n",
       "    <tr>\n",
       "      <th>4</th>\n",
       "      <td>40</td>\n",
       "      <td>0.0</td>\n",
       "    </tr>\n",
       "  </tbody>\n",
       "</table>\n",
       "</div>"
      ],
      "text/plain": [
       "   Quantity  Discount\n",
       "0        12       0.0\n",
       "1        10       0.0\n",
       "2         5       0.0\n",
       "3         9       0.0\n",
       "4        40       0.0"
      ]
     },
     "execution_count": 8,
     "metadata": {},
     "output_type": "execute_result"
    }
   ],
   "source": [
    "q1df = copy.deepcopy(orderDetail_df[[\"Quantity\", \"Discount\"]])\n",
    "q1df.head()"
   ]
  },
  {
   "cell_type": "code",
   "execution_count": 9,
   "metadata": {
    "hidden": true
   },
   "outputs": [
    {
     "name": "stdout",
     "output_type": "stream",
     "text": [
      "<class 'pandas.core.frame.DataFrame'>\n",
      "RangeIndex: 2155 entries, 0 to 2154\n",
      "Data columns (total 2 columns):\n",
      "Quantity    2155 non-null int64\n",
      "Discount    2155 non-null float64\n",
      "dtypes: float64(1), int64(1)\n",
      "memory usage: 33.8 KB\n"
     ]
    }
   ],
   "source": [
    "q1df.info()"
   ]
  },
  {
   "cell_type": "code",
   "execution_count": 10,
   "metadata": {
    "hidden": true
   },
   "outputs": [
    {
     "data": {
      "text/plain": [
       "0.00    1317\n",
       "0.05     185\n",
       "0.10     173\n",
       "0.20     161\n",
       "0.15     157\n",
       "0.25     154\n",
       "0.03       3\n",
       "0.02       2\n",
       "0.01       1\n",
       "0.04       1\n",
       "0.06       1\n",
       "Name: Discount, dtype: int64"
      ]
     },
     "execution_count": 10,
     "metadata": {},
     "output_type": "execute_result"
    }
   ],
   "source": [
    "q1df.Discount.value_counts()"
   ]
  },
  {
   "cell_type": "markdown",
   "metadata": {
    "hidden": true
   },
   "source": [
    "##### remove irrelevant discount levels based on the extremely low number of observations"
   ]
  },
  {
   "cell_type": "code",
   "execution_count": 11,
   "metadata": {
    "hidden": true
   },
   "outputs": [],
   "source": [
    "q1df = copy.deepcopy(q1df[q1df.Discount.isin([ 0.05, 0.10, 0.20, 0.15, 0.25, 0.00])])\n",
    "\n",
    "#q1df = q1df[q1df.Discount.isin([ 0.05, 0.10, 0.20, 0.15, 0.25, 0.00])]"
   ]
  },
  {
   "cell_type": "code",
   "execution_count": 12,
   "metadata": {
    "hidden": true
   },
   "outputs": [
    {
     "data": {
      "text/plain": [
       "0.00    1317\n",
       "0.05     185\n",
       "0.10     173\n",
       "0.20     161\n",
       "0.15     157\n",
       "0.25     154\n",
       "Name: Discount, dtype: int64"
      ]
     },
     "execution_count": 12,
     "metadata": {},
     "output_type": "execute_result"
    }
   ],
   "source": [
    "q1df.Discount.value_counts()"
   ]
  },
  {
   "cell_type": "code",
   "execution_count": 13,
   "metadata": {
    "hidden": true
   },
   "outputs": [
    {
     "data": {
      "text/html": [
       "<div>\n",
       "<style scoped>\n",
       "    .dataframe tbody tr th:only-of-type {\n",
       "        vertical-align: middle;\n",
       "    }\n",
       "\n",
       "    .dataframe tbody tr th {\n",
       "        vertical-align: top;\n",
       "    }\n",
       "\n",
       "    .dataframe thead th {\n",
       "        text-align: right;\n",
       "    }\n",
       "</style>\n",
       "<table border=\"1\" class=\"dataframe\">\n",
       "  <thead>\n",
       "    <tr style=\"text-align: right;\">\n",
       "      <th></th>\n",
       "      <th>Quantity</th>\n",
       "      <th>Discount</th>\n",
       "    </tr>\n",
       "  </thead>\n",
       "  <tbody>\n",
       "    <tr>\n",
       "      <th>0</th>\n",
       "      <td>12</td>\n",
       "      <td>0.0</td>\n",
       "    </tr>\n",
       "    <tr>\n",
       "      <th>1</th>\n",
       "      <td>10</td>\n",
       "      <td>0.0</td>\n",
       "    </tr>\n",
       "    <tr>\n",
       "      <th>2</th>\n",
       "      <td>5</td>\n",
       "      <td>0.0</td>\n",
       "    </tr>\n",
       "    <tr>\n",
       "      <th>3</th>\n",
       "      <td>9</td>\n",
       "      <td>0.0</td>\n",
       "    </tr>\n",
       "    <tr>\n",
       "      <th>4</th>\n",
       "      <td>40</td>\n",
       "      <td>0.0</td>\n",
       "    </tr>\n",
       "  </tbody>\n",
       "</table>\n",
       "</div>"
      ],
      "text/plain": [
       "   Quantity  Discount\n",
       "0        12       0.0\n",
       "1        10       0.0\n",
       "2         5       0.0\n",
       "3         9       0.0\n",
       "4        40       0.0"
      ]
     },
     "execution_count": 13,
     "metadata": {},
     "output_type": "execute_result"
    }
   ],
   "source": [
    "q1df.head()"
   ]
  },
  {
   "cell_type": "markdown",
   "metadata": {
    "hidden": true
   },
   "source": [
    "##### must split discount column into two groups; one for those with and another without a discount"
   ]
  },
  {
   "cell_type": "code",
   "execution_count": 14,
   "metadata": {
    "hidden": true
   },
   "outputs": [],
   "source": [
    "q1_wDis = q1df[q1df.Discount > 0.0]\n",
    "q1_woDis = q1df[q1df.Discount == 0.0]"
   ]
  },
  {
   "cell_type": "code",
   "execution_count": 15,
   "metadata": {
    "hidden": true
   },
   "outputs": [
    {
     "data": {
      "text/plain": [
       "27.35421686746988"
      ]
     },
     "execution_count": 15,
     "metadata": {},
     "output_type": "execute_result"
    }
   ],
   "source": [
    "q1_wDis.Quantity.mean()"
   ]
  },
  {
   "cell_type": "code",
   "execution_count": 16,
   "metadata": {
    "hidden": true
   },
   "outputs": [
    {
     "data": {
      "text/plain": [
       "21.715261958997722"
      ]
     },
     "execution_count": 16,
     "metadata": {},
     "output_type": "execute_result"
    }
   ],
   "source": [
    "q1_woDis.Quantity.mean()"
   ]
  },
  {
   "cell_type": "markdown",
   "metadata": {
    "heading_collapsed": true
   },
   "source": [
    "## Question 1: \n",
    "##### is there a difference is quantity ordered between no discount and having a discount?"
   ]
  },
  {
   "cell_type": "markdown",
   "metadata": {
    "hidden": true
   },
   "source": [
    "t test on the two groups"
   ]
  },
  {
   "cell_type": "code",
   "execution_count": 17,
   "metadata": {
    "hidden": true
   },
   "outputs": [
    {
     "name": "stderr",
     "output_type": "stream",
     "text": [
      "C:\\Users\\mngav\\Anaconda3\\envs\\learn-env\\lib\\site-packages\\scipy\\stats\\stats.py:1713: FutureWarning: Using a non-tuple sequence for multidimensional indexing is deprecated; use `arr[tuple(seq)]` instead of `arr[seq]`. In the future this will be interpreted as an array index, `arr[np.array(seq)]`, which will result either in an error or a different result.\n",
      "  return np.add.reduce(sorted[indexer] * weights, axis=axis) / sumval\n"
     ]
    },
    {
     "data": {
      "text/plain": [
       "<matplotlib.legend.Legend at 0x1f8868b56d8>"
      ]
     },
     "execution_count": 17,
     "metadata": {},
     "output_type": "execute_result"
    },
    {
     "data": {
      "image/png": "[encoded data removed]",
      "text/plain": [
       "<Figure size 720x504 with 1 Axes>"
      ]
     },
     "metadata": {},
     "output_type": "display_data"
    }
   ],
   "source": [
    "plt.style.use(\"dark_background\")\n",
    "#sns.set_color_codes(\"bright\")\n",
    "sns.set(rc={'figure.figsize':(10,7)})\n",
    "sns.distplot(q1_wDis.Quantity, color = \"g\", label = \"with discount\") \n",
    "sns.distplot(q1_woDis.Quantity, color = \"b\", label = \"without discount\") \n",
    "\n",
    "font = {'family': 'serif',\n",
    "        'color':  'darkred',\n",
    "        'weight': 'normal',\n",
    "        'size': 17,\n",
    "        }\n",
    "\n",
    "plt.title(\"Order Quantity with and without a discount\", fontdict=font)\n",
    "plt.legend()"
   ]
  },
  {
   "cell_type": "code",
   "execution_count": 18,
   "metadata": {
    "hidden": true
   },
   "outputs": [
    {
     "name": "stdout",
     "output_type": "stream",
     "text": [
      "skewness for distribution with discount is: 1.5909370768885505\n",
      "skewness for distribution without discount is: 1.9115988573935339\n"
     ]
    }
   ],
   "source": [
    "print(\"skewness for distribution with discount is:\", skew(q1_wDis.Quantity))\n",
    "print(\"skewness for distribution without discount is:\", skew(q1_woDis.Quantity))"
   ]
  },
  {
   "cell_type": "markdown",
   "metadata": {
    "hidden": true
   },
   "source": [
    "##### The distributions have a semblance of normality but are highly skewed with a measure of ~1.6 and 1.9 for with a discount and without a discount, respectiveley.  "
   ]
  },
  {
   "cell_type": "code",
   "execution_count": 19,
   "metadata": {
    "hidden": true
   },
   "outputs": [
    {
     "data": {
      "text/plain": [
       "Ttest_indResult(statistic=6.511219067380875, pvalue=1.0051255540843165e-10)"
      ]
     },
     "execution_count": 19,
     "metadata": {},
     "output_type": "execute_result"
    }
   ],
   "source": [
    "stats.ttest_ind( q1_wDis.Quantity, q1_woDis.Quantity, equal_var = False)"
   ]
  },
  {
   "cell_type": "markdown",
   "metadata": {
    "hidden": true
   },
   "source": [
    "### our t value tells us we have a significant difference in sample means and the p value tells us there is a very small probability the result is by chance so, we have evidence to reject the null hypothesis and accept the alternative, i.e., we have sifficient evidence to assert that discounts to have a statistically significant effect on order quantities. "
   ]
  },
  {
   "cell_type": "markdown",
   "metadata": {
    "hidden": true
   },
   "source": [
    "### for the next part of the question, we must determine if there is a certain level of discount that precipitates an increase in order size"
   ]
  },
  {
   "cell_type": "markdown",
   "metadata": {
    "hidden": true
   },
   "source": [
    "0.00    1317\n",
    "0.05     185\n",
    "0.10     173\n",
    "0.20     161\n",
    "0.15     157\n",
    "0.25     154"
   ]
  },
  {
   "cell_type": "code",
   "execution_count": 20,
   "metadata": {
    "hidden": true
   },
   "outputs": [],
   "source": [
    "df_05 = q1df[q1df.Discount == 0.05]\n",
    "df_10 = q1df[q1df.Discount == 0.10]\n",
    "df_15 = q1df[q1df.Discount == 0.15]\n",
    "df_20 = q1df[q1df.Discount == 0.20]\n",
    "df_25 = q1df[q1df.Discount == 0.25]\n",
    "\n"
   ]
  },
  {
   "cell_type": "code",
   "execution_count": 21,
   "metadata": {
    "hidden": true
   },
   "outputs": [
    {
     "data": {
      "text/plain": [
       "Ttest_indResult(statistic=3.700844260760871, pvalue=0.00027233494432847593)"
      ]
     },
     "execution_count": 21,
     "metadata": {},
     "output_type": "execute_result"
    }
   ],
   "source": [
    "stats.ttest_ind(df_05.Quantity, q1_woDis.Quantity, equal_var = False)"
   ]
  },
  {
   "cell_type": "code",
   "execution_count": 22,
   "metadata": {
    "hidden": true
   },
   "outputs": [
    {
     "data": {
      "text/plain": [
       "Ttest_indResult(statistic=2.094434281933477, pvalue=0.0374559661063408)"
      ]
     },
     "execution_count": 22,
     "metadata": {},
     "output_type": "execute_result"
    }
   ],
   "source": [
    "stats.ttest_ind( df_10.Quantity, q1_woDis.Quantity, equal_var = False)"
   ]
  },
  {
   "cell_type": "code",
   "execution_count": 23,
   "metadata": {
    "hidden": true
   },
   "outputs": [
    {
     "data": {
      "text/plain": [
       "Ttest_indResult(statistic=3.8356620426605934, pvalue=0.00017220729443627393)"
      ]
     },
     "execution_count": 23,
     "metadata": {},
     "output_type": "execute_result"
    }
   ],
   "source": [
    "stats.ttest_ind( df_15.Quantity, q1_woDis.Quantity, equal_var = False)"
   ]
  },
  {
   "cell_type": "code",
   "execution_count": 24,
   "metadata": {
    "hidden": true
   },
   "outputs": [
    {
     "data": {
      "text/plain": [
       "Ttest_indResult(statistic=3.4021239132172787, pvalue=0.0008110033254043408)"
      ]
     },
     "execution_count": 24,
     "metadata": {},
     "output_type": "execute_result"
    }
   ],
   "source": [
    "stats.ttest_ind( df_20.Quantity, q1_woDis.Quantity, equal_var = False)"
   ]
  },
  {
   "cell_type": "code",
   "execution_count": 25,
   "metadata": {
    "hidden": true
   },
   "outputs": [
    {
     "data": {
      "text/plain": [
       "Ttest_indResult(statistic=3.8572676240072523, pvalue=0.00015923050922125637)"
      ]
     },
     "execution_count": 25,
     "metadata": {},
     "output_type": "execute_result"
    }
   ],
   "source": [
    "stats.ttest_ind( df_25.Quantity, q1_woDis.Quantity, equal_var = False)"
   ]
  },
  {
   "cell_type": "markdown",
   "metadata": {
    "hidden": true
   },
   "source": [
    "### We can see that all levels of dicount have a significant effect on the quantity of orders though, a 10% discount has a lesser effect compared to the others which are more in line with each other"
   ]
  },
  {
   "cell_type": "markdown",
   "metadata": {
    "heading_collapsed": true
   },
   "source": [
    "## Question 2 \n",
    "#### Is there an area/region that outperforms the others in terms of order quantities?"
   ]
  },
  {
   "cell_type": "code",
   "execution_count": 26,
   "metadata": {
    "hidden": true
   },
   "outputs": [
    {
     "data": {
      "text/html": [
       "<div>\n",
       "<style scoped>\n",
       "    .dataframe tbody tr th:only-of-type {\n",
       "        vertical-align: middle;\n",
       "    }\n",
       "\n",
       "    .dataframe tbody tr th {\n",
       "        vertical-align: top;\n",
       "    }\n",
       "\n",
       "    .dataframe thead th {\n",
       "        text-align: right;\n",
       "    }\n",
       "</style>\n",
       "<table border=\"1\" class=\"dataframe\">\n",
       "  <thead>\n",
       "    <tr style=\"text-align: right;\">\n",
       "      <th></th>\n",
       "      <th>CategoryId</th>\n",
       "      <th>CategoryName</th>\n",
       "      <th>Description</th>\n",
       "      <th>ProductId</th>\n",
       "      <th>ProductName</th>\n",
       "      <th>SupplierId</th>\n",
       "      <th>QuantityPerUnit</th>\n",
       "      <th>UnitPrice_x</th>\n",
       "      <th>UnitsInStock</th>\n",
       "      <th>UnitsOnOrder</th>\n",
       "      <th>ReorderLevel</th>\n",
       "      <th>Discontinued</th>\n",
       "      <th>Id</th>\n",
       "      <th>OrderId</th>\n",
       "      <th>UnitPrice_y</th>\n",
       "      <th>Quantity</th>\n",
       "      <th>Discount</th>\n",
       "      <th>CustomerId</th>\n",
       "      <th>EmployeeId</th>\n",
       "      <th>OrderDate</th>\n",
       "      <th>RequiredDate</th>\n",
       "      <th>ShippedDate</th>\n",
       "      <th>ShipVia</th>\n",
       "      <th>Freight</th>\n",
       "      <th>ShipName</th>\n",
       "      <th>ShipAddress</th>\n",
       "      <th>ShipCity</th>\n",
       "      <th>ShipRegion</th>\n",
       "      <th>ShipPostalCode</th>\n",
       "      <th>ShipCountry</th>\n",
       "      <th>CompanyName</th>\n",
       "      <th>ContactName</th>\n",
       "      <th>ContactTitle</th>\n",
       "      <th>Address</th>\n",
       "      <th>City</th>\n",
       "      <th>Region</th>\n",
       "      <th>PostalCode</th>\n",
       "      <th>Country</th>\n",
       "      <th>Phone</th>\n",
       "      <th>Fax</th>\n",
       "    </tr>\n",
       "  </thead>\n",
       "  <tbody>\n",
       "    <tr>\n",
       "      <th>0</th>\n",
       "      <td>1</td>\n",
       "      <td>Beverages</td>\n",
       "      <td>Soft drinks, coffees, teas, beers, and ales</td>\n",
       "      <td>1</td>\n",
       "      <td>Chai</td>\n",
       "      <td>1</td>\n",
       "      <td>10 boxes x 20 bags</td>\n",
       "      <td>18.0</td>\n",
       "      <td>39</td>\n",
       "      <td>0</td>\n",
       "      <td>10</td>\n",
       "      <td>0</td>\n",
       "      <td>10285/1</td>\n",
       "      <td>10285</td>\n",
       "      <td>14.4</td>\n",
       "      <td>45</td>\n",
       "      <td>0.2</td>\n",
       "      <td>QUICK</td>\n",
       "      <td>1</td>\n",
       "      <td>2012-08-20</td>\n",
       "      <td>2012-09-17</td>\n",
       "      <td>2012-08-26</td>\n",
       "      <td>2</td>\n",
       "      <td>76.83</td>\n",
       "      <td>QUICK-Stop</td>\n",
       "      <td>Taucherstraße 10</td>\n",
       "      <td>Cunewalde</td>\n",
       "      <td>Western Europe</td>\n",
       "      <td>01307</td>\n",
       "      <td>Germany</td>\n",
       "      <td>QUICK-Stop</td>\n",
       "      <td>Horst Kloss</td>\n",
       "      <td>Accounting Manager</td>\n",
       "      <td>Taucherstraße 10</td>\n",
       "      <td>Cunewalde</td>\n",
       "      <td>Western Europe</td>\n",
       "      <td>01307</td>\n",
       "      <td>Germany</td>\n",
       "      <td>0372-035188</td>\n",
       "      <td>None</td>\n",
       "    </tr>\n",
       "    <tr>\n",
       "      <th>1</th>\n",
       "      <td>6</td>\n",
       "      <td>Meat/Poultry</td>\n",
       "      <td>Prepared meats</td>\n",
       "      <td>53</td>\n",
       "      <td>Perth Pasties</td>\n",
       "      <td>24</td>\n",
       "      <td>48 pieces</td>\n",
       "      <td>32.8</td>\n",
       "      <td>0</td>\n",
       "      <td>0</td>\n",
       "      <td>0</td>\n",
       "      <td>1</td>\n",
       "      <td>10285/53</td>\n",
       "      <td>10285</td>\n",
       "      <td>26.2</td>\n",
       "      <td>36</td>\n",
       "      <td>0.2</td>\n",
       "      <td>QUICK</td>\n",
       "      <td>1</td>\n",
       "      <td>2012-08-20</td>\n",
       "      <td>2012-09-17</td>\n",
       "      <td>2012-08-26</td>\n",
       "      <td>2</td>\n",
       "      <td>76.83</td>\n",
       "      <td>QUICK-Stop</td>\n",
       "      <td>Taucherstraße 10</td>\n",
       "      <td>Cunewalde</td>\n",
       "      <td>Western Europe</td>\n",
       "      <td>01307</td>\n",
       "      <td>Germany</td>\n",
       "      <td>QUICK-Stop</td>\n",
       "      <td>Horst Kloss</td>\n",
       "      <td>Accounting Manager</td>\n",
       "      <td>Taucherstraße 10</td>\n",
       "      <td>Cunewalde</td>\n",
       "      <td>Western Europe</td>\n",
       "      <td>01307</td>\n",
       "      <td>Germany</td>\n",
       "      <td>0372-035188</td>\n",
       "      <td>None</td>\n",
       "    </tr>\n",
       "    <tr>\n",
       "      <th>2</th>\n",
       "      <td>8</td>\n",
       "      <td>Seafood</td>\n",
       "      <td>Seaweed and fish</td>\n",
       "      <td>40</td>\n",
       "      <td>Boston Crab Meat</td>\n",
       "      <td>19</td>\n",
       "      <td>24 - 4 oz tins</td>\n",
       "      <td>18.4</td>\n",
       "      <td>123</td>\n",
       "      <td>0</td>\n",
       "      <td>30</td>\n",
       "      <td>0</td>\n",
       "      <td>10285/40</td>\n",
       "      <td>10285</td>\n",
       "      <td>14.7</td>\n",
       "      <td>40</td>\n",
       "      <td>0.2</td>\n",
       "      <td>QUICK</td>\n",
       "      <td>1</td>\n",
       "      <td>2012-08-20</td>\n",
       "      <td>2012-09-17</td>\n",
       "      <td>2012-08-26</td>\n",
       "      <td>2</td>\n",
       "      <td>76.83</td>\n",
       "      <td>QUICK-Stop</td>\n",
       "      <td>Taucherstraße 10</td>\n",
       "      <td>Cunewalde</td>\n",
       "      <td>Western Europe</td>\n",
       "      <td>01307</td>\n",
       "      <td>Germany</td>\n",
       "      <td>QUICK-Stop</td>\n",
       "      <td>Horst Kloss</td>\n",
       "      <td>Accounting Manager</td>\n",
       "      <td>Taucherstraße 10</td>\n",
       "      <td>Cunewalde</td>\n",
       "      <td>Western Europe</td>\n",
       "      <td>01307</td>\n",
       "      <td>Germany</td>\n",
       "      <td>0372-035188</td>\n",
       "      <td>None</td>\n",
       "    </tr>\n",
       "    <tr>\n",
       "      <th>3</th>\n",
       "      <td>1</td>\n",
       "      <td>Beverages</td>\n",
       "      <td>Soft drinks, coffees, teas, beers, and ales</td>\n",
       "      <td>1</td>\n",
       "      <td>Chai</td>\n",
       "      <td>1</td>\n",
       "      <td>10 boxes x 20 bags</td>\n",
       "      <td>18.0</td>\n",
       "      <td>39</td>\n",
       "      <td>0</td>\n",
       "      <td>10</td>\n",
       "      <td>0</td>\n",
       "      <td>10691/1</td>\n",
       "      <td>10691</td>\n",
       "      <td>18.0</td>\n",
       "      <td>30</td>\n",
       "      <td>0.0</td>\n",
       "      <td>QUICK</td>\n",
       "      <td>2</td>\n",
       "      <td>2013-10-03</td>\n",
       "      <td>2013-11-14</td>\n",
       "      <td>2013-10-22</td>\n",
       "      <td>2</td>\n",
       "      <td>810.05</td>\n",
       "      <td>QUICK-Stop</td>\n",
       "      <td>Taucherstraße 10</td>\n",
       "      <td>Cunewalde</td>\n",
       "      <td>Western Europe</td>\n",
       "      <td>01307</td>\n",
       "      <td>Germany</td>\n",
       "      <td>QUICK-Stop</td>\n",
       "      <td>Horst Kloss</td>\n",
       "      <td>Accounting Manager</td>\n",
       "      <td>Taucherstraße 10</td>\n",
       "      <td>Cunewalde</td>\n",
       "      <td>Western Europe</td>\n",
       "      <td>01307</td>\n",
       "      <td>Germany</td>\n",
       "      <td>0372-035188</td>\n",
       "      <td>None</td>\n",
       "    </tr>\n",
       "    <tr>\n",
       "      <th>4</th>\n",
       "      <td>1</td>\n",
       "      <td>Beverages</td>\n",
       "      <td>Soft drinks, coffees, teas, beers, and ales</td>\n",
       "      <td>43</td>\n",
       "      <td>Ipoh Coffee</td>\n",
       "      <td>20</td>\n",
       "      <td>16 - 500 g tins</td>\n",
       "      <td>46.0</td>\n",
       "      <td>17</td>\n",
       "      <td>10</td>\n",
       "      <td>25</td>\n",
       "      <td>0</td>\n",
       "      <td>10691/43</td>\n",
       "      <td>10691</td>\n",
       "      <td>46.0</td>\n",
       "      <td>40</td>\n",
       "      <td>0.0</td>\n",
       "      <td>QUICK</td>\n",
       "      <td>2</td>\n",
       "      <td>2013-10-03</td>\n",
       "      <td>2013-11-14</td>\n",
       "      <td>2013-10-22</td>\n",
       "      <td>2</td>\n",
       "      <td>810.05</td>\n",
       "      <td>QUICK-Stop</td>\n",
       "      <td>Taucherstraße 10</td>\n",
       "      <td>Cunewalde</td>\n",
       "      <td>Western Europe</td>\n",
       "      <td>01307</td>\n",
       "      <td>Germany</td>\n",
       "      <td>QUICK-Stop</td>\n",
       "      <td>Horst Kloss</td>\n",
       "      <td>Accounting Manager</td>\n",
       "      <td>Taucherstraße 10</td>\n",
       "      <td>Cunewalde</td>\n",
       "      <td>Western Europe</td>\n",
       "      <td>01307</td>\n",
       "      <td>Germany</td>\n",
       "      <td>0372-035188</td>\n",
       "      <td>None</td>\n",
       "    </tr>\n",
       "  </tbody>\n",
       "</table>\n",
       "</div>"
      ],
      "text/plain": [
       "   CategoryId  CategoryName                                  Description  \\\n",
       "0           1     Beverages  Soft drinks, coffees, teas, beers, and ales   \n",
       "1           6  Meat/Poultry                               Prepared meats   \n",
       "2           8       Seafood                             Seaweed and fish   \n",
       "3           1     Beverages  Soft drinks, coffees, teas, beers, and ales   \n",
       "4           1     Beverages  Soft drinks, coffees, teas, beers, and ales   \n",
       "\n",
       "   ProductId       ProductName  SupplierId     QuantityPerUnit  UnitPrice_x  \\\n",
       "0          1              Chai           1  10 boxes x 20 bags         18.0   \n",
       "1         53     Perth Pasties          24           48 pieces         32.8   \n",
       "2         40  Boston Crab Meat          19      24 - 4 oz tins         18.4   \n",
       "3          1              Chai           1  10 boxes x 20 bags         18.0   \n",
       "4         43       Ipoh Coffee          20     16 - 500 g tins         46.0   \n",
       "\n",
       "   UnitsInStock  UnitsOnOrder  ReorderLevel  Discontinued        Id  OrderId  \\\n",
       "0            39             0            10             0   10285/1    10285   \n",
       "1             0             0             0             1  10285/53    10285   \n",
       "2           123             0            30             0  10285/40    10285   \n",
       "3            39             0            10             0   10691/1    10691   \n",
       "4            17            10            25             0  10691/43    10691   \n",
       "\n",
       "   UnitPrice_y  Quantity  Discount CustomerId  EmployeeId   OrderDate  \\\n",
       "0         14.4        45       0.2      QUICK           1  2012-08-20   \n",
       "1         26.2        36       0.2      QUICK           1  2012-08-20   \n",
       "2         14.7        40       0.2      QUICK           1  2012-08-20   \n",
       "3         18.0        30       0.0      QUICK           2  2013-10-03   \n",
       "4         46.0        40       0.0      QUICK           2  2013-10-03   \n",
       "\n",
       "  RequiredDate ShippedDate  ShipVia  Freight    ShipName       ShipAddress  \\\n",
       "0   2012-09-17  2012-08-26        2    76.83  QUICK-Stop  Taucherstraße 10   \n",
       "1   2012-09-17  2012-08-26        2    76.83  QUICK-Stop  Taucherstraße 10   \n",
       "2   2012-09-17  2012-08-26        2    76.83  QUICK-Stop  Taucherstraße 10   \n",
       "3   2013-11-14  2013-10-22        2   810.05  QUICK-Stop  Taucherstraße 10   \n",
       "4   2013-11-14  2013-10-22        2   810.05  QUICK-Stop  Taucherstraße 10   \n",
       "\n",
       "    ShipCity      ShipRegion ShipPostalCode ShipCountry CompanyName  \\\n",
       "0  Cunewalde  Western Europe          01307     Germany  QUICK-Stop   \n",
       "1  Cunewalde  Western Europe          01307     Germany  QUICK-Stop   \n",
       "2  Cunewalde  Western Europe          01307     Germany  QUICK-Stop   \n",
       "3  Cunewalde  Western Europe          01307     Germany  QUICK-Stop   \n",
       "4  Cunewalde  Western Europe          01307     Germany  QUICK-Stop   \n",
       "\n",
       "   ContactName        ContactTitle           Address       City  \\\n",
       "0  Horst Kloss  Accounting Manager  Taucherstraße 10  Cunewalde   \n",
       "1  Horst Kloss  Accounting Manager  Taucherstraße 10  Cunewalde   \n",
       "2  Horst Kloss  Accounting Manager  Taucherstraße 10  Cunewalde   \n",
       "3  Horst Kloss  Accounting Manager  Taucherstraße 10  Cunewalde   \n",
       "4  Horst Kloss  Accounting Manager  Taucherstraße 10  Cunewalde   \n",
       "\n",
       "           Region PostalCode  Country        Phone   Fax  \n",
       "0  Western Europe      01307  Germany  0372-035188  None  \n",
       "1  Western Europe      01307  Germany  0372-035188  None  \n",
       "2  Western Europe      01307  Germany  0372-035188  None  \n",
       "3  Western Europe      01307  Germany  0372-035188  None  \n",
       "4  Western Europe      01307  Germany  0372-035188  None  "
      ]
     },
     "execution_count": 26,
     "metadata": {},
     "output_type": "execute_result"
    }
   ],
   "source": [
    "category_df.rename(columns = {\"Id\":\"CategoryId\"}, inplace = True)\n",
    "cat_prod_df = pd.merge(category_df, product_df, on = \"CategoryId\" )\n",
    "cat_prod_df.rename(columns = {\"Id\": \"ProductId\"}, inplace = True)\n",
    "cat_prod_OrDtl_df = pd.merge(cat_prod_df, orderDetail_df, on = \"ProductId\")\n",
    "order_df.rename(columns = {\"Id\" : \"OrderId\"}, inplace = True)\n",
    "cat_prod_OrDtl_orders_df = pd.merge(cat_prod_OrDtl_df, order_df, on = \"OrderId\" )\n",
    "customer_df.rename(columns ={\"Id\": \"CustomerId\"}, inplace = True)\n",
    "data = pd.merge(cat_prod_OrDtl_orders_df, customer_df, on = \"CustomerId\")\n",
    "data.head()"
   ]
  },
  {
   "cell_type": "code",
   "execution_count": 27,
   "metadata": {
    "hidden": true
   },
   "outputs": [
    {
     "name": "stdout",
     "output_type": "stream",
     "text": [
      "<class 'pandas.core.frame.DataFrame'>\n",
      "Int64Index: 2078 entries, 0 to 2077\n",
      "Data columns (total 40 columns):\n",
      "CategoryId         2078 non-null int64\n",
      "CategoryName       2078 non-null object\n",
      "Description        2078 non-null object\n",
      "ProductId          2078 non-null int64\n",
      "ProductName        2078 non-null object\n",
      "SupplierId         2078 non-null int64\n",
      "QuantityPerUnit    2078 non-null object\n",
      "UnitPrice_x        2078 non-null float64\n",
      "UnitsInStock       2078 non-null int64\n",
      "UnitsOnOrder       2078 non-null int64\n",
      "ReorderLevel       2078 non-null int64\n",
      "Discontinued       2078 non-null int64\n",
      "Id                 2078 non-null object\n",
      "OrderId            2078 non-null int64\n",
      "UnitPrice_y        2078 non-null float64\n",
      "Quantity           2078 non-null int64\n",
      "Discount           2078 non-null float64\n",
      "CustomerId         2078 non-null object\n",
      "EmployeeId         2078 non-null int64\n",
      "OrderDate          2078 non-null object\n",
      "RequiredDate       2078 non-null object\n",
      "ShippedDate        2008 non-null object\n",
      "ShipVia            2078 non-null int64\n",
      "Freight            2078 non-null float64\n",
      "ShipName           2078 non-null object\n",
      "ShipAddress        2078 non-null object\n",
      "ShipCity           2078 non-null object\n",
      "ShipRegion         2078 non-null object\n",
      "ShipPostalCode     2023 non-null object\n",
      "ShipCountry        2078 non-null object\n",
      "CompanyName        2078 non-null object\n",
      "ContactName        2078 non-null object\n",
      "ContactTitle       2078 non-null object\n",
      "Address            2078 non-null object\n",
      "City               2078 non-null object\n",
      "Region             2078 non-null object\n",
      "PostalCode         2023 non-null object\n",
      "Country            2078 non-null object\n",
      "Phone              2078 non-null object\n",
      "Fax                1486 non-null object\n",
      "dtypes: float64(4), int64(11), object(25)\n",
      "memory usage: 665.6+ KB\n"
     ]
    }
   ],
   "source": [
    "data.info()"
   ]
  },
  {
   "cell_type": "code",
   "execution_count": 28,
   "metadata": {
    "hidden": true
   },
   "outputs": [
    {
     "data": {
      "text/html": [
       "<div>\n",
       "<style scoped>\n",
       "    .dataframe tbody tr th:only-of-type {\n",
       "        vertical-align: middle;\n",
       "    }\n",
       "\n",
       "    .dataframe tbody tr th {\n",
       "        vertical-align: top;\n",
       "    }\n",
       "\n",
       "    .dataframe thead th {\n",
       "        text-align: right;\n",
       "    }\n",
       "</style>\n",
       "<table border=\"1\" class=\"dataframe\">\n",
       "  <thead>\n",
       "    <tr style=\"text-align: right;\">\n",
       "      <th></th>\n",
       "      <th>Region</th>\n",
       "      <th>Quantity</th>\n",
       "    </tr>\n",
       "  </thead>\n",
       "  <tbody>\n",
       "    <tr>\n",
       "      <th>0</th>\n",
       "      <td>Western Europe</td>\n",
       "      <td>45</td>\n",
       "    </tr>\n",
       "    <tr>\n",
       "      <th>1</th>\n",
       "      <td>Western Europe</td>\n",
       "      <td>36</td>\n",
       "    </tr>\n",
       "    <tr>\n",
       "      <th>2</th>\n",
       "      <td>Western Europe</td>\n",
       "      <td>40</td>\n",
       "    </tr>\n",
       "    <tr>\n",
       "      <th>3</th>\n",
       "      <td>Western Europe</td>\n",
       "      <td>30</td>\n",
       "    </tr>\n",
       "    <tr>\n",
       "      <th>4</th>\n",
       "      <td>Western Europe</td>\n",
       "      <td>40</td>\n",
       "    </tr>\n",
       "  </tbody>\n",
       "</table>\n",
       "</div>"
      ],
      "text/plain": [
       "           Region  Quantity\n",
       "0  Western Europe        45\n",
       "1  Western Europe        36\n",
       "2  Western Europe        40\n",
       "3  Western Europe        30\n",
       "4  Western Europe        40"
      ]
     },
     "execution_count": 28,
     "metadata": {},
     "output_type": "execute_result"
    }
   ],
   "source": [
    "q2df = data[[\"Region\", \"Quantity\"]]\n",
    "q2df.head()"
   ]
  },
  {
   "cell_type": "code",
   "execution_count": 29,
   "metadata": {
    "hidden": true
   },
   "outputs": [
    {
     "name": "stderr",
     "output_type": "stream",
     "text": [
      "C:\\Users\\mngav\\Anaconda3\\envs\\learn-env\\lib\\site-packages\\ipykernel_launcher.py:1: SettingWithCopyWarning: \n",
      "A value is trying to be set on a copy of a slice from a DataFrame.\n",
      "Try using .loc[row_indexer,col_indexer] = value instead\n",
      "\n",
      "See the caveats in the documentation: http://pandas.pydata.org/pandas-docs/stable/indexing.html#indexing-view-versus-copy\n",
      "  \"\"\"Entry point for launching an IPython kernel.\n",
      "C:\\Users\\mngav\\Anaconda3\\envs\\learn-env\\lib\\site-packages\\ipykernel_launcher.py:2: SettingWithCopyWarning: \n",
      "A value is trying to be set on a copy of a slice from a DataFrame.\n",
      "Try using .loc[row_indexer,col_indexer] = value instead\n",
      "\n",
      "See the caveats in the documentation: http://pandas.pydata.org/pandas-docs/stable/indexing.html#indexing-view-versus-copy\n",
      "  \n"
     ]
    },
    {
     "data": {
      "text/html": [
       "<div>\n",
       "<style scoped>\n",
       "    .dataframe tbody tr th:only-of-type {\n",
       "        vertical-align: middle;\n",
       "    }\n",
       "\n",
       "    .dataframe tbody tr th {\n",
       "        vertical-align: top;\n",
       "    }\n",
       "\n",
       "    .dataframe thead th {\n",
       "        text-align: right;\n",
       "    }\n",
       "</style>\n",
       "<table border=\"1\" class=\"dataframe\">\n",
       "  <thead>\n",
       "    <tr style=\"text-align: right;\">\n",
       "      <th></th>\n",
       "      <th>Region</th>\n",
       "      <th>Quantity</th>\n",
       "    </tr>\n",
       "  </thead>\n",
       "  <tbody>\n",
       "    <tr>\n",
       "      <th>0</th>\n",
       "      <td>8</td>\n",
       "      <td>45</td>\n",
       "    </tr>\n",
       "    <tr>\n",
       "      <th>1</th>\n",
       "      <td>8</td>\n",
       "      <td>36</td>\n",
       "    </tr>\n",
       "    <tr>\n",
       "      <th>2</th>\n",
       "      <td>8</td>\n",
       "      <td>40</td>\n",
       "    </tr>\n",
       "    <tr>\n",
       "      <th>3</th>\n",
       "      <td>8</td>\n",
       "      <td>30</td>\n",
       "    </tr>\n",
       "    <tr>\n",
       "      <th>4</th>\n",
       "      <td>8</td>\n",
       "      <td>40</td>\n",
       "    </tr>\n",
       "  </tbody>\n",
       "</table>\n",
       "</div>"
      ],
      "text/plain": [
       "   Region  Quantity\n",
       "0       8        45\n",
       "1       8        36\n",
       "2       8        40\n",
       "3       8        30\n",
       "4       8        40"
      ]
     },
     "execution_count": 29,
     "metadata": {},
     "output_type": "execute_result"
    }
   ],
   "source": [
    "q2df[\"Region\"] = q2df[\"Region\"].astype(\"category\") #convert feature to category type\n",
    "q2df[\"Region\"] = q2df.Region.cat.codes             # lable encode--convert text into numbers\n",
    "q2df.head()"
   ]
  },
  {
   "cell_type": "code",
   "execution_count": 30,
   "metadata": {
    "hidden": true
   },
   "outputs": [],
   "source": [
    "q2df = pd.get_dummies(q2df, columns = [\"Region\"]) # one-hot-encode\n"
   ]
  },
  {
   "cell_type": "code",
   "execution_count": 31,
   "metadata": {
    "hidden": true
   },
   "outputs": [
    {
     "data": {
      "text/html": [
       "<div>\n",
       "<style scoped>\n",
       "    .dataframe tbody tr th:only-of-type {\n",
       "        vertical-align: middle;\n",
       "    }\n",
       "\n",
       "    .dataframe tbody tr th {\n",
       "        vertical-align: top;\n",
       "    }\n",
       "\n",
       "    .dataframe thead th {\n",
       "        text-align: right;\n",
       "    }\n",
       "</style>\n",
       "<table border=\"1\" class=\"dataframe\">\n",
       "  <thead>\n",
       "    <tr style=\"text-align: right;\">\n",
       "      <th></th>\n",
       "      <th>Quantity</th>\n",
       "      <th>Region_0</th>\n",
       "      <th>Region_1</th>\n",
       "      <th>Region_2</th>\n",
       "      <th>Region_3</th>\n",
       "      <th>Region_4</th>\n",
       "      <th>Region_5</th>\n",
       "      <th>Region_6</th>\n",
       "      <th>Region_7</th>\n",
       "      <th>Region_8</th>\n",
       "    </tr>\n",
       "  </thead>\n",
       "  <tbody>\n",
       "    <tr>\n",
       "      <th>0</th>\n",
       "      <td>45</td>\n",
       "      <td>0</td>\n",
       "      <td>0</td>\n",
       "      <td>0</td>\n",
       "      <td>0</td>\n",
       "      <td>0</td>\n",
       "      <td>0</td>\n",
       "      <td>0</td>\n",
       "      <td>0</td>\n",
       "      <td>1</td>\n",
       "    </tr>\n",
       "    <tr>\n",
       "      <th>1</th>\n",
       "      <td>36</td>\n",
       "      <td>0</td>\n",
       "      <td>0</td>\n",
       "      <td>0</td>\n",
       "      <td>0</td>\n",
       "      <td>0</td>\n",
       "      <td>0</td>\n",
       "      <td>0</td>\n",
       "      <td>0</td>\n",
       "      <td>1</td>\n",
       "    </tr>\n",
       "    <tr>\n",
       "      <th>2</th>\n",
       "      <td>40</td>\n",
       "      <td>0</td>\n",
       "      <td>0</td>\n",
       "      <td>0</td>\n",
       "      <td>0</td>\n",
       "      <td>0</td>\n",
       "      <td>0</td>\n",
       "      <td>0</td>\n",
       "      <td>0</td>\n",
       "      <td>1</td>\n",
       "    </tr>\n",
       "    <tr>\n",
       "      <th>3</th>\n",
       "      <td>30</td>\n",
       "      <td>0</td>\n",
       "      <td>0</td>\n",
       "      <td>0</td>\n",
       "      <td>0</td>\n",
       "      <td>0</td>\n",
       "      <td>0</td>\n",
       "      <td>0</td>\n",
       "      <td>0</td>\n",
       "      <td>1</td>\n",
       "    </tr>\n",
       "    <tr>\n",
       "      <th>4</th>\n",
       "      <td>40</td>\n",
       "      <td>0</td>\n",
       "      <td>0</td>\n",
       "      <td>0</td>\n",
       "      <td>0</td>\n",
       "      <td>0</td>\n",
       "      <td>0</td>\n",
       "      <td>0</td>\n",
       "      <td>0</td>\n",
       "      <td>1</td>\n",
       "    </tr>\n",
       "  </tbody>\n",
       "</table>\n",
       "</div>"
      ],
      "text/plain": [
       "   Quantity  Region_0  Region_1  Region_2  Region_3  Region_4  Region_5  \\\n",
       "0        45         0         0         0         0         0         0   \n",
       "1        36         0         0         0         0         0         0   \n",
       "2        40         0         0         0         0         0         0   \n",
       "3        30         0         0         0         0         0         0   \n",
       "4        40         0         0         0         0         0         0   \n",
       "\n",
       "   Region_6  Region_7  Region_8  \n",
       "0         0         0         1  \n",
       "1         0         0         1  \n",
       "2         0         0         1  \n",
       "3         0         0         1  \n",
       "4         0         0         1  "
      ]
     },
     "execution_count": 31,
     "metadata": {},
     "output_type": "execute_result"
    }
   ],
   "source": [
    "q2df = copy.deepcopy(q2df)\n",
    "q2df.head()"
   ]
  },
  {
   "cell_type": "markdown",
   "metadata": {
    "hidden": true
   },
   "source": [
    "##### ANOVA test\n",
    "formula for the ANOVA test is:\n",
    "\n",
    "```Control_Column ~ C(factor_col1) + factor_col2 + C(factor_col3) + ... + X```\n",
    "\n",
    "they call it \"Control Column\" though, to me it should be called the dependant or, what you are looking to see an effect on\n",
    "\n",
    "** *We indicate categorical variables by wrapping them with ```C() ```**"
   ]
  },
  {
   "cell_type": "code",
   "execution_count": 32,
   "metadata": {
    "hidden": true
   },
   "outputs": [
    {
     "name": "stdout",
     "output_type": "stream",
     "text": [
      "                    sum_sq      df           F        PR(>F)\n",
      "C(Region_0)    5771.108001     1.0   16.561567  4.886478e-05\n",
      "C(Region_1)    1982.623241     1.0    5.689609  1.715519e-02\n",
      "C(Region_2)     466.230842     1.0    1.337960  2.475275e-01\n",
      "C(Region_3)   25057.877279     1.0   71.909538  4.220311e-17\n",
      "C(Region_4)    5486.219915     1.0   15.744013  7.498839e-05\n",
      "C(Region_5)     600.807523     1.0    1.724160  1.893040e-01\n",
      "C(Region_6)    2693.291573     1.0    7.729041  5.483135e-03\n",
      "C(Region_7)     934.537403     1.0    2.681877  1.016481e-01\n",
      "C(Region_8)   41507.489166     1.0  119.115612  5.296972e-27\n",
      "Residual     720971.784575  2069.0         NaN           NaN\n"
     ]
    }
   ],
   "source": [
    "formula = \"Quantity ~ C(Region_0) + C(Region_1) + C(Region_2) + C(Region_3) + C(Region_4) + C(Region_5)\\\n",
    "+ C(Region_6) + C(Region_7) + C(Region_8)\"\n",
    "           \n",
    "lm = ols(formula, q2df).fit()\n",
    "table = sm.stats.anova_lm(lm, typ=2)\n",
    "print(table)"
   ]
  },
  {
   "cell_type": "markdown",
   "metadata": {
    "hidden": true
   },
   "source": [
    "From the above ANOVA table, we see that we have significant events for all regions except for region 2, region 5 and region 7. Of the regions with significant tests (0,1,3,4,6,8), regions 3 and 8 have means that far exceed the others.  The take-away is that we need to dive deeper into those regions and consider shifting resources."
   ]
  },
  {
   "cell_type": "markdown",
   "metadata": {
    "heading_collapsed": true
   },
   "source": [
    "## Question 3\n",
    "#### are there any salespeople that stand out?"
   ]
  },
  {
   "cell_type": "code",
   "execution_count": 33,
   "metadata": {
    "hidden": true
   },
   "outputs": [
    {
     "data": {
      "text/html": [
       "<div>\n",
       "<style scoped>\n",
       "    .dataframe tbody tr th:only-of-type {\n",
       "        vertical-align: middle;\n",
       "    }\n",
       "\n",
       "    .dataframe tbody tr th {\n",
       "        vertical-align: top;\n",
       "    }\n",
       "\n",
       "    .dataframe thead th {\n",
       "        text-align: right;\n",
       "    }\n",
       "</style>\n",
       "<table border=\"1\" class=\"dataframe\">\n",
       "  <thead>\n",
       "    <tr style=\"text-align: right;\">\n",
       "      <th></th>\n",
       "      <th>Quantity</th>\n",
       "      <th>EmployeeId</th>\n",
       "    </tr>\n",
       "  </thead>\n",
       "  <tbody>\n",
       "    <tr>\n",
       "      <th>0</th>\n",
       "      <td>45</td>\n",
       "      <td>1</td>\n",
       "    </tr>\n",
       "    <tr>\n",
       "      <th>1</th>\n",
       "      <td>36</td>\n",
       "      <td>1</td>\n",
       "    </tr>\n",
       "    <tr>\n",
       "      <th>2</th>\n",
       "      <td>40</td>\n",
       "      <td>1</td>\n",
       "    </tr>\n",
       "    <tr>\n",
       "      <th>3</th>\n",
       "      <td>30</td>\n",
       "      <td>2</td>\n",
       "    </tr>\n",
       "    <tr>\n",
       "      <th>4</th>\n",
       "      <td>40</td>\n",
       "      <td>2</td>\n",
       "    </tr>\n",
       "  </tbody>\n",
       "</table>\n",
       "</div>"
      ],
      "text/plain": [
       "   Quantity  EmployeeId\n",
       "0        45           1\n",
       "1        36           1\n",
       "2        40           1\n",
       "3        30           2\n",
       "4        40           2"
      ]
     },
     "execution_count": 33,
     "metadata": {},
     "output_type": "execute_result"
    }
   ],
   "source": [
    "q3df = data[[\"Quantity\", \"EmployeeId\"]]\n",
    "q3df.head()"
   ]
  },
  {
   "cell_type": "code",
   "execution_count": 35,
   "metadata": {
    "hidden": true
   },
   "outputs": [
    {
     "data": {
      "text/plain": [
       "4    408\n",
       "1    341\n",
       "3    313\n",
       "8    248\n",
       "2    237\n",
       "6    161\n",
       "7    150\n",
       "5    113\n",
       "9    107\n",
       "Name: EmployeeId, dtype: int64"
      ]
     },
     "execution_count": 35,
     "metadata": {},
     "output_type": "execute_result"
    }
   ],
   "source": [
    "q3df.EmployeeId.value_counts()"
   ]
  },
  {
   "cell_type": "markdown",
   "metadata": {
    "hidden": true
   },
   "source": [
    "EmployeeId is already numeric so, can skip label encoding and go straight to get dummies"
   ]
  },
  {
   "cell_type": "code",
   "execution_count": 36,
   "metadata": {
    "hidden": true
   },
   "outputs": [],
   "source": [
    "q3dfv2 = copy.deepcopy(pd.get_dummies(q3df, columns = [\"EmployeeId\"])) # one-hot-encode"
   ]
  },
  {
   "cell_type": "code",
   "execution_count": 37,
   "metadata": {
    "hidden": true
   },
   "outputs": [
    {
     "data": {
      "text/html": [
       "<div>\n",
       "<style scoped>\n",
       "    .dataframe tbody tr th:only-of-type {\n",
       "        vertical-align: middle;\n",
       "    }\n",
       "\n",
       "    .dataframe tbody tr th {\n",
       "        vertical-align: top;\n",
       "    }\n",
       "\n",
       "    .dataframe thead th {\n",
       "        text-align: right;\n",
       "    }\n",
       "</style>\n",
       "<table border=\"1\" class=\"dataframe\">\n",
       "  <thead>\n",
       "    <tr style=\"text-align: right;\">\n",
       "      <th></th>\n",
       "      <th>Quantity</th>\n",
       "      <th>EmployeeId_1</th>\n",
       "      <th>EmployeeId_2</th>\n",
       "      <th>EmployeeId_3</th>\n",
       "      <th>EmployeeId_4</th>\n",
       "      <th>EmployeeId_5</th>\n",
       "      <th>EmployeeId_6</th>\n",
       "      <th>EmployeeId_7</th>\n",
       "      <th>EmployeeId_8</th>\n",
       "      <th>EmployeeId_9</th>\n",
       "    </tr>\n",
       "  </thead>\n",
       "  <tbody>\n",
       "    <tr>\n",
       "      <th>0</th>\n",
       "      <td>45</td>\n",
       "      <td>1</td>\n",
       "      <td>0</td>\n",
       "      <td>0</td>\n",
       "      <td>0</td>\n",
       "      <td>0</td>\n",
       "      <td>0</td>\n",
       "      <td>0</td>\n",
       "      <td>0</td>\n",
       "      <td>0</td>\n",
       "    </tr>\n",
       "    <tr>\n",
       "      <th>1</th>\n",
       "      <td>36</td>\n",
       "      <td>1</td>\n",
       "      <td>0</td>\n",
       "      <td>0</td>\n",
       "      <td>0</td>\n",
       "      <td>0</td>\n",
       "      <td>0</td>\n",
       "      <td>0</td>\n",
       "      <td>0</td>\n",
       "      <td>0</td>\n",
       "    </tr>\n",
       "    <tr>\n",
       "      <th>2</th>\n",
       "      <td>40</td>\n",
       "      <td>1</td>\n",
       "      <td>0</td>\n",
       "      <td>0</td>\n",
       "      <td>0</td>\n",
       "      <td>0</td>\n",
       "      <td>0</td>\n",
       "      <td>0</td>\n",
       "      <td>0</td>\n",
       "      <td>0</td>\n",
       "    </tr>\n",
       "    <tr>\n",
       "      <th>3</th>\n",
       "      <td>30</td>\n",
       "      <td>0</td>\n",
       "      <td>1</td>\n",
       "      <td>0</td>\n",
       "      <td>0</td>\n",
       "      <td>0</td>\n",
       "      <td>0</td>\n",
       "      <td>0</td>\n",
       "      <td>0</td>\n",
       "      <td>0</td>\n",
       "    </tr>\n",
       "    <tr>\n",
       "      <th>4</th>\n",
       "      <td>40</td>\n",
       "      <td>0</td>\n",
       "      <td>1</td>\n",
       "      <td>0</td>\n",
       "      <td>0</td>\n",
       "      <td>0</td>\n",
       "      <td>0</td>\n",
       "      <td>0</td>\n",
       "      <td>0</td>\n",
       "      <td>0</td>\n",
       "    </tr>\n",
       "  </tbody>\n",
       "</table>\n",
       "</div>"
      ],
      "text/plain": [
       "   Quantity  EmployeeId_1  EmployeeId_2  EmployeeId_3  EmployeeId_4  \\\n",
       "0        45             1             0             0             0   \n",
       "1        36             1             0             0             0   \n",
       "2        40             1             0             0             0   \n",
       "3        30             0             1             0             0   \n",
       "4        40             0             1             0             0   \n",
       "\n",
       "   EmployeeId_5  EmployeeId_6  EmployeeId_7  EmployeeId_8  EmployeeId_9  \n",
       "0             0             0             0             0             0  \n",
       "1             0             0             0             0             0  \n",
       "2             0             0             0             0             0  \n",
       "3             0             0             0             0             0  \n",
       "4             0             0             0             0             0  "
      ]
     },
     "execution_count": 37,
     "metadata": {},
     "output_type": "execute_result"
    }
   ],
   "source": [
    "q3dfv2.head()"
   ]
  },
  {
   "cell_type": "code",
   "execution_count": 38,
   "metadata": {
    "hidden": true
   },
   "outputs": [
    {
     "name": "stdout",
     "output_type": "stream",
     "text": [
      "                        sum_sq      df          F    PR(>F)\n",
      "C(EmployeeId_1)     340.854936     1.0   0.932931  0.334215\n",
      "C(EmployeeId_2)    3147.921070     1.0   8.615959  0.003369\n",
      "C(EmployeeId_3)    2624.747864     1.0   7.184018  0.007414\n",
      "C(EmployeeId_4)    1187.522249     1.0   3.250286  0.071556\n",
      "C(EmployeeId_5)    1750.678322     1.0   4.791662  0.028709\n",
      "C(EmployeeId_6)     191.146586     1.0   0.523174  0.469573\n",
      "C(EmployeeId_7)    6447.632335     1.0  17.647373  0.000028\n",
      "C(EmployeeId_8)     206.650793     1.0   0.565610  0.452094\n",
      "C(EmployeeId_9)    1267.128031     1.0   3.468169  0.062702\n",
      "Residual         755928.433022  2069.0        NaN       NaN\n"
     ]
    }
   ],
   "source": [
    "formula = \"Quantity ~ C(EmployeeId_1) + C(EmployeeId_2) + C(EmployeeId_3) + C(EmployeeId_4) + C(EmployeeId_5) + C(EmployeeId_6)\\\n",
    "+ C(EmployeeId_7) + C(EmployeeId_8) + C(EmployeeId_9)\"\n",
    "           \n",
    "lm = ols(formula, q3dfv2).fit()\n",
    "table = sm.stats.anova_lm(lm, typ=2)\n",
    "print(table)"
   ]
  },
  {
   "cell_type": "markdown",
   "metadata": {
    "hidden": true
   },
   "source": [
    "we dont have sufficient data to say anything about employees 1, 6 or 8 though, we should gather more data, look deeper and think about training or write-ups.\n",
    "Employee 7 is a superstar so, may want to wory abouyt keeping her and or see if theres anythign she can teach her peers."
   ]
  },
  {
   "cell_type": "markdown",
   "metadata": {
    "heading_collapsed": true
   },
   "source": [
    "## Question 4\n",
    "#### are there any categories we should think about dicontinuing or expanding on?"
   ]
  },
  {
   "cell_type": "code",
   "execution_count": 39,
   "metadata": {
    "hidden": true
   },
   "outputs": [
    {
     "data": {
      "text/plain": [
       "1    389\n",
       "4    350\n",
       "3    321\n",
       "8    319\n",
       "2    209\n",
       "5    190\n",
       "6    168\n",
       "7    132\n",
       "Name: CategoryId, dtype: int64"
      ]
     },
     "execution_count": 39,
     "metadata": {},
     "output_type": "execute_result"
    }
   ],
   "source": [
    "q4df = data[[\"Quantity\", \"CategoryId\"]]\n",
    "q4df.CategoryId.value_counts()"
   ]
  },
  {
   "cell_type": "code",
   "execution_count": 41,
   "metadata": {
    "hidden": true
   },
   "outputs": [],
   "source": [
    "q4df = copy.deepcopy(pd.get_dummies(q4df, columns = [\"CategoryId\"])) # one-hot-encode"
   ]
  },
  {
   "cell_type": "code",
   "execution_count": 42,
   "metadata": {
    "hidden": true
   },
   "outputs": [
    {
     "data": {
      "text/html": [
       "<div>\n",
       "<style scoped>\n",
       "    .dataframe tbody tr th:only-of-type {\n",
       "        vertical-align: middle;\n",
       "    }\n",
       "\n",
       "    .dataframe tbody tr th {\n",
       "        vertical-align: top;\n",
       "    }\n",
       "\n",
       "    .dataframe thead th {\n",
       "        text-align: right;\n",
       "    }\n",
       "</style>\n",
       "<table border=\"1\" class=\"dataframe\">\n",
       "  <thead>\n",
       "    <tr style=\"text-align: right;\">\n",
       "      <th></th>\n",
       "      <th>Quantity</th>\n",
       "      <th>CategoryId_1</th>\n",
       "      <th>CategoryId_2</th>\n",
       "      <th>CategoryId_3</th>\n",
       "      <th>CategoryId_4</th>\n",
       "      <th>CategoryId_5</th>\n",
       "      <th>CategoryId_6</th>\n",
       "      <th>CategoryId_7</th>\n",
       "      <th>CategoryId_8</th>\n",
       "    </tr>\n",
       "  </thead>\n",
       "  <tbody>\n",
       "    <tr>\n",
       "      <th>0</th>\n",
       "      <td>45</td>\n",
       "      <td>1</td>\n",
       "      <td>0</td>\n",
       "      <td>0</td>\n",
       "      <td>0</td>\n",
       "      <td>0</td>\n",
       "      <td>0</td>\n",
       "      <td>0</td>\n",
       "      <td>0</td>\n",
       "    </tr>\n",
       "    <tr>\n",
       "      <th>1</th>\n",
       "      <td>36</td>\n",
       "      <td>0</td>\n",
       "      <td>0</td>\n",
       "      <td>0</td>\n",
       "      <td>0</td>\n",
       "      <td>0</td>\n",
       "      <td>1</td>\n",
       "      <td>0</td>\n",
       "      <td>0</td>\n",
       "    </tr>\n",
       "    <tr>\n",
       "      <th>2</th>\n",
       "      <td>40</td>\n",
       "      <td>0</td>\n",
       "      <td>0</td>\n",
       "      <td>0</td>\n",
       "      <td>0</td>\n",
       "      <td>0</td>\n",
       "      <td>0</td>\n",
       "      <td>0</td>\n",
       "      <td>1</td>\n",
       "    </tr>\n",
       "    <tr>\n",
       "      <th>3</th>\n",
       "      <td>30</td>\n",
       "      <td>1</td>\n",
       "      <td>0</td>\n",
       "      <td>0</td>\n",
       "      <td>0</td>\n",
       "      <td>0</td>\n",
       "      <td>0</td>\n",
       "      <td>0</td>\n",
       "      <td>0</td>\n",
       "    </tr>\n",
       "    <tr>\n",
       "      <th>4</th>\n",
       "      <td>40</td>\n",
       "      <td>1</td>\n",
       "      <td>0</td>\n",
       "      <td>0</td>\n",
       "      <td>0</td>\n",
       "      <td>0</td>\n",
       "      <td>0</td>\n",
       "      <td>0</td>\n",
       "      <td>0</td>\n",
       "    </tr>\n",
       "  </tbody>\n",
       "</table>\n",
       "</div>"
      ],
      "text/plain": [
       "   Quantity  CategoryId_1  CategoryId_2  CategoryId_3  CategoryId_4  \\\n",
       "0        45             1             0             0             0   \n",
       "1        36             0             0             0             0   \n",
       "2        40             0             0             0             0   \n",
       "3        30             1             0             0             0   \n",
       "4        40             1             0             0             0   \n",
       "\n",
       "   CategoryId_5  CategoryId_6  CategoryId_7  CategoryId_8  \n",
       "0             0             0             0             0  \n",
       "1             0             1             0             0  \n",
       "2             0             0             0             1  \n",
       "3             0             0             0             0  \n",
       "4             0             0             0             0  "
      ]
     },
     "execution_count": 42,
     "metadata": {},
     "output_type": "execute_result"
    }
   ],
   "source": [
    "q4df.head()"
   ]
  },
  {
   "cell_type": "code",
   "execution_count": 43,
   "metadata": {
    "hidden": true
   },
   "outputs": [
    {
     "name": "stdout",
     "output_type": "stream",
     "text": [
      "                        sum_sq      df          F    PR(>F)\n",
      "C(CategoryId_1)    2052.627558     1.0   5.586198  0.018194\n",
      "C(CategoryId_2)    2992.424170     1.0   8.143841  0.004364\n",
      "C(CategoryId_3)    2391.615514     1.0   6.508749  0.010806\n",
      "C(CategoryId_4)    5522.924774     1.0  15.030564  0.000109\n",
      "C(CategoryId_5)    1134.337271     1.0   3.087083  0.079064\n",
      "C(CategoryId_6)    2083.430253     1.0   5.670027  0.017347\n",
      "C(CategoryId_7)     142.712229     1.0   0.388389  0.533216\n",
      "C(CategoryId_8)    2197.735170     1.0   5.981106  0.014543\n",
      "Residual         760613.779368  2070.0        NaN       NaN\n"
     ]
    }
   ],
   "source": [
    "formula = \"Quantity ~ C(CategoryId_1) + C(CategoryId_2) + C(CategoryId_3) + C(CategoryId_4) + C(CategoryId_5) + C(CategoryId_6)\\\n",
    "+ C(CategoryId_7) + C(CategoryId_8) \"\n",
    "           \n",
    "lm = ols(formula, q4df).fit()\n",
    "table = sm.stats.anova_lm(lm, typ=2)\n",
    "print(table)"
   ]
  },
  {
   "cell_type": "markdown",
   "metadata": {
    "hidden": true
   },
   "source": [
    "not enough data for categories 5 and 7<br>\n",
    "category 4 -- maybe we roll out more of it"
   ]
  },
  {
   "cell_type": "code",
   "execution_count": null,
   "metadata": {
    "hidden": true
   },
   "outputs": [],
   "source": []
  }
 ],
 "metadata": {
  "kernelspec": {
   "display_name": "learn-env",
   "language": "python",
   "name": "learn-env"
  },
  "language_info": {
   "codemirror_mode": {
    "name": "ipython",
    "version": 3
   },
   "file_extension": ".py",
   "mimetype": "text/x-python",
   "name": "python",
   "nbconvert_exporter": "python",
   "pygments_lexer": "ipython3",
   "version": "3.6.6"
  }
 },
 "nbformat": 4,
 "nbformat_minor": 2
}
