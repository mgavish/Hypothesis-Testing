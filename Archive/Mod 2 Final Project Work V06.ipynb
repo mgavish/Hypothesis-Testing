{
 "cells": [
  {
   "cell_type": "markdown",
   "metadata": {},
   "source": [
    "testing\n"
   ]
  },
  {
   "cell_type": "markdown",
   "metadata": {},
   "source": [
    "- https://www.technologynetworks.com/informatics/articles/one-way-vs-two-way-anova-definition-differences-assumptions-and-hypotheses-306553\n",
    "\n",
    "- https://pythonfordatascience.org/anova-python/\n",
    "\n",
    "- https://www.youtube.com/watch?v=-yQb_ZJnFXw\n",
    "\n",
    "- https://www.youtube.com/watch?v=zwr0bs8znEE\n",
    "\n",
    "- larger F value means greater dispersion from the mean\n",
    "- F = variation between sample means / variation within the samples\n",
    "- https://blog.minitab.com/blog/adventures-in-statistics-2/understanding-analysis-of-variance-anova-and-the-f-test\n",
    "\n"
   ]
  },
  {
   "cell_type": "markdown",
   "metadata": {
    "toc": true
   },
   "source": [
    "<h1>Table of Contents<span class=\"tocSkip\"></span></h1>\n",
    "<div class=\"toc\"><ul class=\"toc-item\"><li><span><a href=\"#Case-Study:-Northwind-Traders\" data-toc-modified-id=\"Case-Study:-Northwind-Traders-1\">Case Study: Northwind Traders</a></span><ul class=\"toc-item\"><li><span><a href=\"#convert-sql-database-tables-into-pandas-dataframes\" data-toc-modified-id=\"convert-sql-database-tables-into-pandas-dataframes-1.1\">convert sql database tables into pandas dataframes</a></span><ul class=\"toc-item\"><li><span><a href=\"#check-for-normality-in-the-experiment-and-control-samples\" data-toc-modified-id=\"check-for-normality-in-the-experiment-and-control-samples-1.1.1\">check for normality in the experiment and control samples</a></span></li></ul></li><li><span><a href=\"#Question-1:\" data-toc-modified-id=\"Question-1:-1.2\">Question 1:</a></span></li><li><span><a href=\"#Question-2\" data-toc-modified-id=\"Question-2-1.3\">Question 2</a></span><ul class=\"toc-item\"><li><ul class=\"toc-item\"><li><span><a href=\"#Is-there-a-region-that-outperforms-the-others-in-terms-of-order-quantities?\" data-toc-modified-id=\"Is-there-a-region-that-outperforms-the-others-in-terms-of-order-quantities?-1.3.0.1\">Is there a region that outperforms the others in terms of order quantities?</a></span></li></ul></li><li><span><a href=\"#check-for-normality\" data-toc-modified-id=\"check-for-normality-1.3.1\">check for normality</a></span><ul class=\"toc-item\"><li><span><a href=\"#stats-normaltest-confirms-the-distributions-are-not-normalLets-re-sample-to-gather-distribution-means-that-will-satisfy-normality-assumptions\" data-toc-modified-id=\"stats-normaltest-confirms-the-distributions-are-not-normalLets-re-sample-to-gather-distribution-means-that-will-satisfy-normality-assumptions-1.3.1.1\">stats normaltest confirms the distributions are not normal<br>Lets re-sample to gather distribution means that will satisfy normality assumptions</a></span></li></ul></li><li><span><a href=\"#combining-multiple-Series-into-a-DataFrame:-lessons-learned----the-Series-must-have-names-(see-example-above)and-you-must-specify-the-horizontal-axis\" data-toc-modified-id=\"combining-multiple-Series-into-a-DataFrame:-lessons-learned----the-Series-must-have-names-(see-example-above)and-you-must-specify-the-horizontal-axis-1.3.2\">combining multiple Series into a DataFrame: <br>lessons learned -- the Series must have names (see example above)<br>and you must specify the horizontal axis</a></span></li><li><span><a href=\"#need-to-run-ANOVA-here\" data-toc-modified-id=\"need-to-run-ANOVA-here-1.3.3\">need to run ANOVA here</a></span></li></ul></li><li><span><a href=\"#Question-3\" data-toc-modified-id=\"Question-3-1.4\">Question 3</a></span><ul class=\"toc-item\"><li><ul class=\"toc-item\"><li><span><a href=\"#are-there-any-salespeople-that-stand-out?\" data-toc-modified-id=\"are-there-any-salespeople-that-stand-out?-1.4.0.1\">are there any salespeople that stand out?</a></span></li></ul></li></ul></li><li><span><a href=\"#Question-4\" data-toc-modified-id=\"Question-4-1.5\">Question 4</a></span><ul class=\"toc-item\"><li><ul class=\"toc-item\"><li><span><a href=\"#are-there-any-categories-we-should-think-about-dicontinuing-or-expanding-on?\" data-toc-modified-id=\"are-there-any-categories-we-should-think-about-dicontinuing-or-expanding-on?-1.5.0.1\">are there any categories we should think about dicontinuing or expanding on?</a></span></li></ul></li></ul></li></ul></li></ul></div>"
   ]
  },
  {
   "cell_type": "markdown",
   "metadata": {},
   "source": [
    "[link to cell in question](#link_to_cell_in_question)\n",
    "\n",
    "[link to pd.melt](#link_to_pd.melt)\n"
   ]
  },
  {
   "cell_type": "markdown",
   "metadata": {},
   "source": [
    "need to submit all docs and video on learn mod 2 final project\n",
    "\n",
    "1. go back and test for normality of the samples we have\n",
    "2. if not normal, do a resampling\n",
    "(or can i do a kolmogorov smirov test?\n",
    "3. check effect size\n",
    "\n",
    "\n",
    "\n",
    "what do the metrics mean?  (on presentation)\n",
    "\n",
    "for all questions -- dig \"one level below the obvious\"\n",
    "\n",
    "\n",
    "sales ppl\n",
    "-time period and how long at company\n",
    "\n",
    "look at category per region\n",
    "\n",
    "\n",
    "add key take-aways to slides \n",
    "\n",
    "does a t test make sense for all questions?\n",
    "\n",
    "look at effect sizes (cohen D) \n",
    "\n"
   ]
  },
  {
   "cell_type": "markdown",
   "metadata": {},
   "source": [
    "# Case Study: Northwind Traders\n"
   ]
  },
  {
   "cell_type": "markdown",
   "metadata": {},
   "source": [
    "Four questions to consider:<br>\n",
    "1. Do discounted items sell in greater volume?  And if so, does the level of discount have an impact?\n",
    "2. Do all regions perform equally in terms of quantities sold?\n",
    "3. Are all salespeople created equal or do we have any under/over-performers?\n",
    "4. Should we consider discontinuing any items and conversely, should we consider increasing market share in other categories?"
   ]
  },
  {
   "cell_type": "markdown",
   "metadata": {
    "heading_collapsed": true
   },
   "source": [
    "## convert sql database tables into pandas dataframes\n"
   ]
  },
  {
   "cell_type": "markdown",
   "metadata": {
    "hidden": true
   },
   "source": [
    "##### import packages and modules"
   ]
  },
  {
   "cell_type": "code",
   "execution_count": 1,
   "metadata": {
    "hidden": true
   },
   "outputs": [],
   "source": [
    "import pandas as pd\n",
    "import numpy as np\n",
    "from scipy.stats import kurtosis, skew\n",
    "import scipy.stats as stats\n",
    "from math import sqrt\n",
    "import math\n",
    "import copy\n",
    "import statsmodels.api as sm             #for ANOVA\n",
    "from statsmodels.formula.api import ols  #for ANOVA\n",
    "from sklearn import preprocessing\n",
    "\n",
    "import sqlalchemy\n",
    "from sqlalchemy import create_engine\n",
    "from sqlalchemy.orm import session, sessionmaker\n",
    "from sqlalchemy import inspect # so we can perform high level investigations\n",
    "\n",
    "\n",
    "import seaborn as sns\n",
    "\n",
    "import matplotlib.pyplot as plt\n",
    "%matplotlib inline\n",
    "#plt.style.use('seaborn')\n",
    "from matplotlib import style\n",
    "\n",
    "pd.set_option('display.max_columns', None)"
   ]
  },
  {
   "cell_type": "markdown",
   "metadata": {
    "hidden": true
   },
   "source": [
    "##### creating an engine object and a session to connect and work with the Northwind sql db"
   ]
  },
  {
   "cell_type": "code",
   "execution_count": 2,
   "metadata": {
    "hidden": true
   },
   "outputs": [
    {
     "name": "stdout",
     "output_type": "stream",
     "text": [
      "2019-05-17 16:03:58,994 INFO sqlalchemy.engine.base.Engine SELECT CAST('test plain returns' AS VARCHAR(60)) AS anon_1\n",
      "2019-05-17 16:03:58,999 INFO sqlalchemy.engine.base.Engine ()\n",
      "2019-05-17 16:03:59,001 INFO sqlalchemy.engine.base.Engine SELECT CAST('test unicode returns' AS VARCHAR(60)) AS anon_1\n",
      "2019-05-17 16:03:59,002 INFO sqlalchemy.engine.base.Engine ()\n"
     ]
    }
   ],
   "source": [
    "engine = create_engine(\"sqlite:///Northwind_small.sqlite\", echo = True)\n",
    "Session = sessionmaker(bind = engine)\n",
    "session = Session\n",
    "inspector = inspect(engine)"
   ]
  },
  {
   "cell_type": "markdown",
   "metadata": {
    "hidden": true
   },
   "source": [
    "##### lets have a look at the tables we will be working with and get to know them better"
   ]
  },
  {
   "cell_type": "code",
   "execution_count": 3,
   "metadata": {
    "hidden": true
   },
   "outputs": [
    {
     "name": "stdout",
     "output_type": "stream",
     "text": [
      "2019-05-17 16:03:59,010 INFO sqlalchemy.engine.base.Engine SELECT name FROM sqlite_master WHERE type='table' ORDER BY name\n",
      "2019-05-17 16:03:59,011 INFO sqlalchemy.engine.base.Engine ()\n"
     ]
    },
    {
     "data": {
      "text/plain": [
       "['Category',\n",
       " 'Customer',\n",
       " 'CustomerCustomerDemo',\n",
       " 'CustomerDemographic',\n",
       " 'Employee',\n",
       " 'EmployeeTerritory',\n",
       " 'Order',\n",
       " 'OrderDetail',\n",
       " 'Product',\n",
       " 'Region',\n",
       " 'Shipper',\n",
       " 'Supplier',\n",
       " 'Territory']"
      ]
     },
     "execution_count": 3,
     "metadata": {},
     "output_type": "execute_result"
    }
   ],
   "source": [
    "inspector.get_table_names()"
   ]
  },
  {
   "cell_type": "markdown",
   "metadata": {
    "hidden": true
   },
   "source": [
    "##### For the first question, we only need Quantity and Discount though, I will map all tables since we will need them later"
   ]
  },
  {
   "cell_type": "markdown",
   "metadata": {
    "hidden": true
   },
   "source": [
    "##### map the db table features with their headings"
   ]
  },
  {
   "cell_type": "code",
   "execution_count": 4,
   "metadata": {
    "hidden": true
   },
   "outputs": [],
   "source": [
    "from sqlalchemy import MetaData\n",
    "from sqlalchemy.ext.automap import automap_base # creates a framework that clones the db structure so that it can generate a \n",
    "                                                  # a new model in which to map the db with its metadata, ie, column headings"
   ]
  },
  {
   "cell_type": "code",
   "execution_count": 5,
   "metadata": {
    "hidden": true,
    "scrolled": true
   },
   "outputs": [
    {
     "name": "stdout",
     "output_type": "stream",
     "text": [
      "2019-05-17 16:03:59,046 INFO sqlalchemy.engine.base.Engine SELECT name FROM sqlite_master WHERE type='table' ORDER BY name\n",
      "2019-05-17 16:03:59,047 INFO sqlalchemy.engine.base.Engine ()\n",
      "2019-05-17 16:03:59,049 INFO sqlalchemy.engine.base.Engine PRAGMA table_info(\"Category\")\n",
      "2019-05-17 16:03:59,050 INFO sqlalchemy.engine.base.Engine ()\n",
      "2019-05-17 16:03:59,053 INFO sqlalchemy.engine.base.Engine SELECT sql FROM  (SELECT * FROM sqlite_master UNION ALL   SELECT * FROM sqlite_temp_master) WHERE name = 'Category' AND type = 'table'\n",
      "2019-05-17 16:03:59,054 INFO sqlalchemy.engine.base.Engine ()\n",
      "2019-05-17 16:03:59,056 INFO sqlalchemy.engine.base.Engine PRAGMA foreign_key_list(\"Category\")\n",
      "2019-05-17 16:03:59,057 INFO sqlalchemy.engine.base.Engine ()\n",
      "2019-05-17 16:03:59,058 INFO sqlalchemy.engine.base.Engine SELECT sql FROM  (SELECT * FROM sqlite_master UNION ALL   SELECT * FROM sqlite_temp_master) WHERE name = 'Category' AND type = 'table'\n",
      "2019-05-17 16:03:59,058 INFO sqlalchemy.engine.base.Engine ()\n",
      "2019-05-17 16:03:59,062 INFO sqlalchemy.engine.base.Engine PRAGMA index_list(\"Category\")\n",
      "2019-05-17 16:03:59,063 INFO sqlalchemy.engine.base.Engine ()\n",
      "2019-05-17 16:03:59,065 INFO sqlalchemy.engine.base.Engine PRAGMA index_list(\"Category\")\n",
      "2019-05-17 16:03:59,065 INFO sqlalchemy.engine.base.Engine ()\n",
      "2019-05-17 16:03:59,067 INFO sqlalchemy.engine.base.Engine SELECT sql FROM  (SELECT * FROM sqlite_master UNION ALL   SELECT * FROM sqlite_temp_master) WHERE name = 'Category' AND type = 'table'\n",
      "2019-05-17 16:03:59,068 INFO sqlalchemy.engine.base.Engine ()\n",
      "2019-05-17 16:03:59,074 INFO sqlalchemy.engine.base.Engine PRAGMA table_info(\"Customer\")\n",
      "2019-05-17 16:03:59,075 INFO sqlalchemy.engine.base.Engine ()\n",
      "2019-05-17 16:03:59,078 INFO sqlalchemy.engine.base.Engine SELECT sql FROM  (SELECT * FROM sqlite_master UNION ALL   SELECT * FROM sqlite_temp_master) WHERE name = 'Customer' AND type = 'table'\n",
      "2019-05-17 16:03:59,079 INFO sqlalchemy.engine.base.Engine ()\n",
      "2019-05-17 16:03:59,082 INFO sqlalchemy.engine.base.Engine PRAGMA foreign_key_list(\"Customer\")\n",
      "2019-05-17 16:03:59,082 INFO sqlalchemy.engine.base.Engine ()\n",
      "2019-05-17 16:03:59,083 INFO sqlalchemy.engine.base.Engine SELECT sql FROM  (SELECT * FROM sqlite_master UNION ALL   SELECT * FROM sqlite_temp_master) WHERE name = 'Customer' AND type = 'table'\n",
      "2019-05-17 16:03:59,084 INFO sqlalchemy.engine.base.Engine ()\n",
      "2019-05-17 16:03:59,086 INFO sqlalchemy.engine.base.Engine PRAGMA index_list(\"Customer\")\n",
      "2019-05-17 16:03:59,086 INFO sqlalchemy.engine.base.Engine ()\n",
      "2019-05-17 16:03:59,088 INFO sqlalchemy.engine.base.Engine PRAGMA index_list(\"Customer\")\n",
      "2019-05-17 16:03:59,089 INFO sqlalchemy.engine.base.Engine ()\n",
      "2019-05-17 16:03:59,091 INFO sqlalchemy.engine.base.Engine PRAGMA index_info(\"sqlite_autoindex_Customer_1\")\n",
      "2019-05-17 16:03:59,091 INFO sqlalchemy.engine.base.Engine ()\n",
      "2019-05-17 16:03:59,093 INFO sqlalchemy.engine.base.Engine SELECT sql FROM  (SELECT * FROM sqlite_master UNION ALL   SELECT * FROM sqlite_temp_master) WHERE name = 'Customer' AND type = 'table'\n",
      "2019-05-17 16:03:59,094 INFO sqlalchemy.engine.base.Engine ()\n",
      "2019-05-17 16:03:59,096 INFO sqlalchemy.engine.base.Engine PRAGMA table_info(\"CustomerCustomerDemo\")\n",
      "2019-05-17 16:03:59,097 INFO sqlalchemy.engine.base.Engine ()\n",
      "2019-05-17 16:03:59,098 INFO sqlalchemy.engine.base.Engine SELECT sql FROM  (SELECT * FROM sqlite_master UNION ALL   SELECT * FROM sqlite_temp_master) WHERE name = 'CustomerCustomerDemo' AND type = 'table'\n",
      "2019-05-17 16:03:59,099 INFO sqlalchemy.engine.base.Engine ()\n",
      "2019-05-17 16:03:59,100 INFO sqlalchemy.engine.base.Engine PRAGMA foreign_key_list(\"CustomerCustomerDemo\")\n",
      "2019-05-17 16:03:59,101 INFO sqlalchemy.engine.base.Engine ()\n",
      "2019-05-17 16:03:59,102 INFO sqlalchemy.engine.base.Engine SELECT sql FROM  (SELECT * FROM sqlite_master UNION ALL   SELECT * FROM sqlite_temp_master) WHERE name = 'CustomerCustomerDemo' AND type = 'table'\n",
      "2019-05-17 16:03:59,103 INFO sqlalchemy.engine.base.Engine ()\n",
      "2019-05-17 16:03:59,104 INFO sqlalchemy.engine.base.Engine PRAGMA index_list(\"CustomerCustomerDemo\")\n",
      "2019-05-17 16:03:59,105 INFO sqlalchemy.engine.base.Engine ()\n",
      "2019-05-17 16:03:59,107 INFO sqlalchemy.engine.base.Engine PRAGMA index_list(\"CustomerCustomerDemo\")\n",
      "2019-05-17 16:03:59,108 INFO sqlalchemy.engine.base.Engine ()\n",
      "2019-05-17 16:03:59,109 INFO sqlalchemy.engine.base.Engine PRAGMA index_info(\"sqlite_autoindex_CustomerCustomerDemo_1\")\n",
      "2019-05-17 16:03:59,110 INFO sqlalchemy.engine.base.Engine ()\n",
      "2019-05-17 16:03:59,111 INFO sqlalchemy.engine.base.Engine SELECT sql FROM  (SELECT * FROM sqlite_master UNION ALL   SELECT * FROM sqlite_temp_master) WHERE name = 'CustomerCustomerDemo' AND type = 'table'\n",
      "2019-05-17 16:03:59,112 INFO sqlalchemy.engine.base.Engine ()\n",
      "2019-05-17 16:03:59,114 INFO sqlalchemy.engine.base.Engine PRAGMA table_info(\"CustomerDemographic\")\n",
      "2019-05-17 16:03:59,114 INFO sqlalchemy.engine.base.Engine ()\n",
      "2019-05-17 16:03:59,116 INFO sqlalchemy.engine.base.Engine SELECT sql FROM  (SELECT * FROM sqlite_master UNION ALL   SELECT * FROM sqlite_temp_master) WHERE name = 'CustomerDemographic' AND type = 'table'\n",
      "2019-05-17 16:03:59,116 INFO sqlalchemy.engine.base.Engine ()\n",
      "2019-05-17 16:03:59,118 INFO sqlalchemy.engine.base.Engine PRAGMA foreign_key_list(\"CustomerDemographic\")\n",
      "2019-05-17 16:03:59,119 INFO sqlalchemy.engine.base.Engine ()\n",
      "2019-05-17 16:03:59,120 INFO sqlalchemy.engine.base.Engine SELECT sql FROM  (SELECT * FROM sqlite_master UNION ALL   SELECT * FROM sqlite_temp_master) WHERE name = 'CustomerDemographic' AND type = 'table'\n",
      "2019-05-17 16:03:59,121 INFO sqlalchemy.engine.base.Engine ()\n",
      "2019-05-17 16:03:59,122 INFO sqlalchemy.engine.base.Engine PRAGMA index_list(\"CustomerDemographic\")\n",
      "2019-05-17 16:03:59,123 INFO sqlalchemy.engine.base.Engine ()\n",
      "2019-05-17 16:03:59,124 INFO sqlalchemy.engine.base.Engine PRAGMA index_list(\"CustomerDemographic\")\n",
      "2019-05-17 16:03:59,125 INFO sqlalchemy.engine.base.Engine ()\n",
      "2019-05-17 16:03:59,127 INFO sqlalchemy.engine.base.Engine PRAGMA index_info(\"sqlite_autoindex_CustomerDemographic_1\")\n",
      "2019-05-17 16:03:59,128 INFO sqlalchemy.engine.base.Engine ()\n",
      "2019-05-17 16:03:59,129 INFO sqlalchemy.engine.base.Engine SELECT sql FROM  (SELECT * FROM sqlite_master UNION ALL   SELECT * FROM sqlite_temp_master) WHERE name = 'CustomerDemographic' AND type = 'table'\n",
      "2019-05-17 16:03:59,130 INFO sqlalchemy.engine.base.Engine ()\n",
      "2019-05-17 16:03:59,132 INFO sqlalchemy.engine.base.Engine PRAGMA table_info(\"Employee\")\n",
      "2019-05-17 16:03:59,133 INFO sqlalchemy.engine.base.Engine ()\n",
      "2019-05-17 16:03:59,136 INFO sqlalchemy.engine.base.Engine SELECT sql FROM  (SELECT * FROM sqlite_master UNION ALL   SELECT * FROM sqlite_temp_master) WHERE name = 'Employee' AND type = 'table'\n",
      "2019-05-17 16:03:59,137 INFO sqlalchemy.engine.base.Engine ()\n",
      "2019-05-17 16:03:59,139 INFO sqlalchemy.engine.base.Engine PRAGMA foreign_key_list(\"Employee\")\n",
      "2019-05-17 16:03:59,140 INFO sqlalchemy.engine.base.Engine ()\n",
      "2019-05-17 16:03:59,142 INFO sqlalchemy.engine.base.Engine SELECT sql FROM  (SELECT * FROM sqlite_master UNION ALL   SELECT * FROM sqlite_temp_master) WHERE name = 'Employee' AND type = 'table'\n",
      "2019-05-17 16:03:59,142 INFO sqlalchemy.engine.base.Engine ()\n",
      "2019-05-17 16:03:59,144 INFO sqlalchemy.engine.base.Engine PRAGMA index_list(\"Employee\")\n",
      "2019-05-17 16:03:59,145 INFO sqlalchemy.engine.base.Engine ()\n",
      "2019-05-17 16:03:59,146 INFO sqlalchemy.engine.base.Engine PRAGMA index_list(\"Employee\")\n",
      "2019-05-17 16:03:59,147 INFO sqlalchemy.engine.base.Engine ()\n",
      "2019-05-17 16:03:59,148 INFO sqlalchemy.engine.base.Engine SELECT sql FROM  (SELECT * FROM sqlite_master UNION ALL   SELECT * FROM sqlite_temp_master) WHERE name = 'Employee' AND type = 'table'\n",
      "2019-05-17 16:03:59,149 INFO sqlalchemy.engine.base.Engine ()\n",
      "2019-05-17 16:03:59,151 INFO sqlalchemy.engine.base.Engine PRAGMA table_info(\"EmployeeTerritory\")\n",
      "2019-05-17 16:03:59,151 INFO sqlalchemy.engine.base.Engine ()\n",
      "2019-05-17 16:03:59,152 INFO sqlalchemy.engine.base.Engine SELECT sql FROM  (SELECT * FROM sqlite_master UNION ALL   SELECT * FROM sqlite_temp_master) WHERE name = 'EmployeeTerritory' AND type = 'table'\n",
      "2019-05-17 16:03:59,153 INFO sqlalchemy.engine.base.Engine ()\n",
      "2019-05-17 16:03:59,155 INFO sqlalchemy.engine.base.Engine PRAGMA foreign_key_list(\"EmployeeTerritory\")\n",
      "2019-05-17 16:03:59,156 INFO sqlalchemy.engine.base.Engine ()\n",
      "2019-05-17 16:03:59,157 INFO sqlalchemy.engine.base.Engine SELECT sql FROM  (SELECT * FROM sqlite_master UNION ALL   SELECT * FROM sqlite_temp_master) WHERE name = 'EmployeeTerritory' AND type = 'table'\n",
      "2019-05-17 16:03:59,158 INFO sqlalchemy.engine.base.Engine ()\n",
      "2019-05-17 16:03:59,159 INFO sqlalchemy.engine.base.Engine PRAGMA index_list(\"EmployeeTerritory\")\n",
      "2019-05-17 16:03:59,160 INFO sqlalchemy.engine.base.Engine ()\n",
      "2019-05-17 16:03:59,162 INFO sqlalchemy.engine.base.Engine PRAGMA index_list(\"EmployeeTerritory\")\n",
      "2019-05-17 16:03:59,163 INFO sqlalchemy.engine.base.Engine ()\n",
      "2019-05-17 16:03:59,164 INFO sqlalchemy.engine.base.Engine PRAGMA index_info(\"sqlite_autoindex_EmployeeTerritory_1\")\n",
      "2019-05-17 16:03:59,166 INFO sqlalchemy.engine.base.Engine ()\n",
      "2019-05-17 16:03:59,167 INFO sqlalchemy.engine.base.Engine SELECT sql FROM  (SELECT * FROM sqlite_master UNION ALL   SELECT * FROM sqlite_temp_master) WHERE name = 'EmployeeTerritory' AND type = 'table'\n",
      "2019-05-17 16:03:59,168 INFO sqlalchemy.engine.base.Engine ()\n",
      "2019-05-17 16:03:59,171 INFO sqlalchemy.engine.base.Engine PRAGMA table_info(\"Order\")\n",
      "2019-05-17 16:03:59,172 INFO sqlalchemy.engine.base.Engine ()\n",
      "2019-05-17 16:03:59,176 INFO sqlalchemy.engine.base.Engine SELECT sql FROM  (SELECT * FROM sqlite_master UNION ALL   SELECT * FROM sqlite_temp_master) WHERE name = 'Order' AND type = 'table'\n",
      "2019-05-17 16:03:59,177 INFO sqlalchemy.engine.base.Engine ()\n",
      "2019-05-17 16:03:59,179 INFO sqlalchemy.engine.base.Engine PRAGMA foreign_key_list(\"Order\")\n",
      "2019-05-17 16:03:59,181 INFO sqlalchemy.engine.base.Engine ()\n",
      "2019-05-17 16:03:59,182 INFO sqlalchemy.engine.base.Engine SELECT sql FROM  (SELECT * FROM sqlite_master UNION ALL   SELECT * FROM sqlite_temp_master) WHERE name = 'Order' AND type = 'table'\n",
      "2019-05-17 16:03:59,183 INFO sqlalchemy.engine.base.Engine ()\n",
      "2019-05-17 16:03:59,185 INFO sqlalchemy.engine.base.Engine PRAGMA index_list(\"Order\")\n",
      "2019-05-17 16:03:59,185 INFO sqlalchemy.engine.base.Engine ()\n",
      "2019-05-17 16:03:59,188 INFO sqlalchemy.engine.base.Engine PRAGMA index_list(\"Order\")\n",
      "2019-05-17 16:03:59,189 INFO sqlalchemy.engine.base.Engine ()\n",
      "2019-05-17 16:03:59,190 INFO sqlalchemy.engine.base.Engine SELECT sql FROM  (SELECT * FROM sqlite_master UNION ALL   SELECT * FROM sqlite_temp_master) WHERE name = 'Order' AND type = 'table'\n",
      "2019-05-17 16:03:59,191 INFO sqlalchemy.engine.base.Engine ()\n",
      "2019-05-17 16:03:59,193 INFO sqlalchemy.engine.base.Engine PRAGMA table_info(\"OrderDetail\")\n",
      "2019-05-17 16:03:59,194 INFO sqlalchemy.engine.base.Engine ()\n",
      "2019-05-17 16:03:59,196 INFO sqlalchemy.engine.base.Engine SELECT sql FROM  (SELECT * FROM sqlite_master UNION ALL   SELECT * FROM sqlite_temp_master) WHERE name = 'OrderDetail' AND type = 'table'\n",
      "2019-05-17 16:03:59,197 INFO sqlalchemy.engine.base.Engine ()\n",
      "2019-05-17 16:03:59,199 INFO sqlalchemy.engine.base.Engine PRAGMA foreign_key_list(\"OrderDetail\")\n",
      "2019-05-17 16:03:59,200 INFO sqlalchemy.engine.base.Engine ()\n",
      "2019-05-17 16:03:59,201 INFO sqlalchemy.engine.base.Engine SELECT sql FROM  (SELECT * FROM sqlite_master UNION ALL   SELECT * FROM sqlite_temp_master) WHERE name = 'OrderDetail' AND type = 'table'\n",
      "2019-05-17 16:03:59,201 INFO sqlalchemy.engine.base.Engine ()\n",
      "2019-05-17 16:03:59,203 INFO sqlalchemy.engine.base.Engine PRAGMA index_list(\"OrderDetail\")\n",
      "2019-05-17 16:03:59,204 INFO sqlalchemy.engine.base.Engine ()\n",
      "2019-05-17 16:03:59,205 INFO sqlalchemy.engine.base.Engine PRAGMA index_list(\"OrderDetail\")\n",
      "2019-05-17 16:03:59,206 INFO sqlalchemy.engine.base.Engine ()\n",
      "2019-05-17 16:03:59,207 INFO sqlalchemy.engine.base.Engine PRAGMA index_info(\"sqlite_autoindex_OrderDetail_1\")\n",
      "2019-05-17 16:03:59,208 INFO sqlalchemy.engine.base.Engine ()\n",
      "2019-05-17 16:03:59,210 INFO sqlalchemy.engine.base.Engine SELECT sql FROM  (SELECT * FROM sqlite_master UNION ALL   SELECT * FROM sqlite_temp_master) WHERE name = 'OrderDetail' AND type = 'table'\n",
      "2019-05-17 16:03:59,210 INFO sqlalchemy.engine.base.Engine ()\n",
      "2019-05-17 16:03:59,213 INFO sqlalchemy.engine.base.Engine PRAGMA table_info(\"Product\")\n",
      "2019-05-17 16:03:59,214 INFO sqlalchemy.engine.base.Engine ()\n",
      "2019-05-17 16:03:59,216 INFO sqlalchemy.engine.base.Engine SELECT sql FROM  (SELECT * FROM sqlite_master UNION ALL   SELECT * FROM sqlite_temp_master) WHERE name = 'Product' AND type = 'table'\n",
      "2019-05-17 16:03:59,217 INFO sqlalchemy.engine.base.Engine ()\n",
      "2019-05-17 16:03:59,219 INFO sqlalchemy.engine.base.Engine PRAGMA foreign_key_list(\"Product\")\n",
      "2019-05-17 16:03:59,219 INFO sqlalchemy.engine.base.Engine ()\n",
      "2019-05-17 16:03:59,220 INFO sqlalchemy.engine.base.Engine SELECT sql FROM  (SELECT * FROM sqlite_master UNION ALL   SELECT * FROM sqlite_temp_master) WHERE name = 'Product' AND type = 'table'\n",
      "2019-05-17 16:03:59,221 INFO sqlalchemy.engine.base.Engine ()\n",
      "2019-05-17 16:03:59,222 INFO sqlalchemy.engine.base.Engine PRAGMA index_list(\"Product\")\n",
      "2019-05-17 16:03:59,223 INFO sqlalchemy.engine.base.Engine ()\n",
      "2019-05-17 16:03:59,224 INFO sqlalchemy.engine.base.Engine PRAGMA index_list(\"Product\")\n",
      "2019-05-17 16:03:59,225 INFO sqlalchemy.engine.base.Engine ()\n",
      "2019-05-17 16:03:59,226 INFO sqlalchemy.engine.base.Engine SELECT sql FROM  (SELECT * FROM sqlite_master UNION ALL   SELECT * FROM sqlite_temp_master) WHERE name = 'Product' AND type = 'table'\n",
      "2019-05-17 16:03:59,227 INFO sqlalchemy.engine.base.Engine ()\n",
      "2019-05-17 16:03:59,229 INFO sqlalchemy.engine.base.Engine PRAGMA table_info(\"Region\")\n",
      "2019-05-17 16:03:59,230 INFO sqlalchemy.engine.base.Engine ()\n",
      "2019-05-17 16:03:59,231 INFO sqlalchemy.engine.base.Engine SELECT sql FROM  (SELECT * FROM sqlite_master UNION ALL   SELECT * FROM sqlite_temp_master) WHERE name = 'Region' AND type = 'table'\n",
      "2019-05-17 16:03:59,232 INFO sqlalchemy.engine.base.Engine ()\n",
      "2019-05-17 16:03:59,233 INFO sqlalchemy.engine.base.Engine PRAGMA foreign_key_list(\"Region\")\n",
      "2019-05-17 16:03:59,234 INFO sqlalchemy.engine.base.Engine ()\n",
      "2019-05-17 16:03:59,235 INFO sqlalchemy.engine.base.Engine SELECT sql FROM  (SELECT * FROM sqlite_master UNION ALL   SELECT * FROM sqlite_temp_master) WHERE name = 'Region' AND type = 'table'\n",
      "2019-05-17 16:03:59,237 INFO sqlalchemy.engine.base.Engine ()\n",
      "2019-05-17 16:03:59,239 INFO sqlalchemy.engine.base.Engine PRAGMA index_list(\"Region\")\n",
      "2019-05-17 16:03:59,240 INFO sqlalchemy.engine.base.Engine ()\n",
      "2019-05-17 16:03:59,242 INFO sqlalchemy.engine.base.Engine PRAGMA index_list(\"Region\")\n",
      "2019-05-17 16:03:59,243 INFO sqlalchemy.engine.base.Engine ()\n",
      "2019-05-17 16:03:59,244 INFO sqlalchemy.engine.base.Engine SELECT sql FROM  (SELECT * FROM sqlite_master UNION ALL   SELECT * FROM sqlite_temp_master) WHERE name = 'Region' AND type = 'table'\n",
      "2019-05-17 16:03:59,245 INFO sqlalchemy.engine.base.Engine ()\n",
      "2019-05-17 16:03:59,246 INFO sqlalchemy.engine.base.Engine PRAGMA table_info(\"Shipper\")\n",
      "2019-05-17 16:03:59,248 INFO sqlalchemy.engine.base.Engine ()\n",
      "2019-05-17 16:03:59,250 INFO sqlalchemy.engine.base.Engine SELECT sql FROM  (SELECT * FROM sqlite_master UNION ALL   SELECT * FROM sqlite_temp_master) WHERE name = 'Shipper' AND type = 'table'\n",
      "2019-05-17 16:03:59,251 INFO sqlalchemy.engine.base.Engine ()\n",
      "2019-05-17 16:03:59,253 INFO sqlalchemy.engine.base.Engine PRAGMA foreign_key_list(\"Shipper\")\n",
      "2019-05-17 16:03:59,254 INFO sqlalchemy.engine.base.Engine ()\n",
      "2019-05-17 16:03:59,255 INFO sqlalchemy.engine.base.Engine SELECT sql FROM  (SELECT * FROM sqlite_master UNION ALL   SELECT * FROM sqlite_temp_master) WHERE name = 'Shipper' AND type = 'table'\n",
      "2019-05-17 16:03:59,256 INFO sqlalchemy.engine.base.Engine ()\n",
      "2019-05-17 16:03:59,257 INFO sqlalchemy.engine.base.Engine PRAGMA index_list(\"Shipper\")\n",
      "2019-05-17 16:03:59,258 INFO sqlalchemy.engine.base.Engine ()\n",
      "2019-05-17 16:03:59,259 INFO sqlalchemy.engine.base.Engine PRAGMA index_list(\"Shipper\")\n",
      "2019-05-17 16:03:59,260 INFO sqlalchemy.engine.base.Engine ()\n",
      "2019-05-17 16:03:59,262 INFO sqlalchemy.engine.base.Engine SELECT sql FROM  (SELECT * FROM sqlite_master UNION ALL   SELECT * FROM sqlite_temp_master) WHERE name = 'Shipper' AND type = 'table'\n",
      "2019-05-17 16:03:59,262 INFO sqlalchemy.engine.base.Engine ()\n",
      "2019-05-17 16:03:59,264 INFO sqlalchemy.engine.base.Engine PRAGMA table_info(\"Supplier\")\n",
      "2019-05-17 16:03:59,265 INFO sqlalchemy.engine.base.Engine ()\n",
      "2019-05-17 16:03:59,267 INFO sqlalchemy.engine.base.Engine SELECT sql FROM  (SELECT * FROM sqlite_master UNION ALL   SELECT * FROM sqlite_temp_master) WHERE name = 'Supplier' AND type = 'table'\n",
      "2019-05-17 16:03:59,268 INFO sqlalchemy.engine.base.Engine ()\n",
      "2019-05-17 16:03:59,270 INFO sqlalchemy.engine.base.Engine PRAGMA foreign_key_list(\"Supplier\")\n",
      "2019-05-17 16:03:59,271 INFO sqlalchemy.engine.base.Engine ()\n",
      "2019-05-17 16:03:59,272 INFO sqlalchemy.engine.base.Engine SELECT sql FROM  (SELECT * FROM sqlite_master UNION ALL   SELECT * FROM sqlite_temp_master) WHERE name = 'Supplier' AND type = 'table'\n",
      "2019-05-17 16:03:59,273 INFO sqlalchemy.engine.base.Engine ()\n",
      "2019-05-17 16:03:59,275 INFO sqlalchemy.engine.base.Engine PRAGMA index_list(\"Supplier\")\n",
      "2019-05-17 16:03:59,276 INFO sqlalchemy.engine.base.Engine ()\n",
      "2019-05-17 16:03:59,277 INFO sqlalchemy.engine.base.Engine PRAGMA index_list(\"Supplier\")\n",
      "2019-05-17 16:03:59,277 INFO sqlalchemy.engine.base.Engine ()\n",
      "2019-05-17 16:03:59,279 INFO sqlalchemy.engine.base.Engine SELECT sql FROM  (SELECT * FROM sqlite_master UNION ALL   SELECT * FROM sqlite_temp_master) WHERE name = 'Supplier' AND type = 'table'\n",
      "2019-05-17 16:03:59,279 INFO sqlalchemy.engine.base.Engine ()\n",
      "2019-05-17 16:03:59,281 INFO sqlalchemy.engine.base.Engine PRAGMA table_info(\"Territory\")\n",
      "2019-05-17 16:03:59,282 INFO sqlalchemy.engine.base.Engine ()\n",
      "2019-05-17 16:03:59,284 INFO sqlalchemy.engine.base.Engine SELECT sql FROM  (SELECT * FROM sqlite_master UNION ALL   SELECT * FROM sqlite_temp_master) WHERE name = 'Territory' AND type = 'table'\n",
      "2019-05-17 16:03:59,284 INFO sqlalchemy.engine.base.Engine ()\n",
      "2019-05-17 16:03:59,286 INFO sqlalchemy.engine.base.Engine PRAGMA foreign_key_list(\"Territory\")\n",
      "2019-05-17 16:03:59,287 INFO sqlalchemy.engine.base.Engine ()\n",
      "2019-05-17 16:03:59,288 INFO sqlalchemy.engine.base.Engine SELECT sql FROM  (SELECT * FROM sqlite_master UNION ALL   SELECT * FROM sqlite_temp_master) WHERE name = 'Territory' AND type = 'table'\n",
      "2019-05-17 16:03:59,289 INFO sqlalchemy.engine.base.Engine ()\n",
      "2019-05-17 16:03:59,290 INFO sqlalchemy.engine.base.Engine PRAGMA index_list(\"Territory\")\n",
      "2019-05-17 16:03:59,291 INFO sqlalchemy.engine.base.Engine ()\n",
      "2019-05-17 16:03:59,293 INFO sqlalchemy.engine.base.Engine PRAGMA index_list(\"Territory\")\n",
      "2019-05-17 16:03:59,294 INFO sqlalchemy.engine.base.Engine ()\n",
      "2019-05-17 16:03:59,296 INFO sqlalchemy.engine.base.Engine PRAGMA index_info(\"sqlite_autoindex_Territory_1\")\n",
      "2019-05-17 16:03:59,296 INFO sqlalchemy.engine.base.Engine ()\n",
      "2019-05-17 16:03:59,298 INFO sqlalchemy.engine.base.Engine SELECT sql FROM  (SELECT * FROM sqlite_master UNION ALL   SELECT * FROM sqlite_temp_master) WHERE name = 'Territory' AND type = 'table'\n",
      "2019-05-17 16:03:59,299 INFO sqlalchemy.engine.base.Engine ()\n"
     ]
    }
   ],
   "source": [
    "metadata = MetaData()\n",
    "metadata.reflect(engine)\n",
    "Base = automap_base(metadata = metadata)\n",
    "Base.prepare()\n",
    "\n",
    "\n",
    "\n",
    "Category, Customer, CustomerCustomerDemo, CustomerDemographic, Employee, EmployeeTerritory, Order, OrderDetail,\\\n",
    "Product, Region, Shipper, Supplier, Territory = \\\n",
    "Base.classes.Category,\\\n",
    "Base.classes.Customer,\\\n",
    "Base.classes.CustomerCustomerDemo,\\\n",
    "Base.classes.CustomerDemographic, \\\n",
    "Base.classes.Employee, \\\n",
    "Base.classes.EmployeeTerritory,\\\n",
    "Base.classes.Order,\\\n",
    "Base.classes.OrderDetail, \\\n",
    "Base.classes.Product, \\\n",
    "Base.classes.Region,\\\n",
    "Base.classes.Shipper, \\\n",
    "Base.classes.Supplier, \\\n",
    "Base.classes.Territory"
   ]
  },
  {
   "cell_type": "markdown",
   "metadata": {
    "hidden": true
   },
   "source": [
    "##### converting each mapped table to a pandas dataframe"
   ]
  },
  {
   "cell_type": "code",
   "execution_count": 6,
   "metadata": {
    "hidden": true,
    "scrolled": true
   },
   "outputs": [
    {
     "name": "stdout",
     "output_type": "stream",
     "text": [
      "2019-05-17 16:03:59,338 INFO sqlalchemy.engine.base.Engine SELECT * FROM [category]\n",
      "2019-05-17 16:03:59,339 INFO sqlalchemy.engine.base.Engine ()\n",
      "2019-05-17 16:03:59,345 INFO sqlalchemy.engine.base.Engine SELECT * FROM [customer]\n",
      "2019-05-17 16:03:59,346 INFO sqlalchemy.engine.base.Engine ()\n",
      "2019-05-17 16:03:59,357 INFO sqlalchemy.engine.base.Engine SELECT * FROM [customerCustomerDemo]\n",
      "2019-05-17 16:03:59,359 INFO sqlalchemy.engine.base.Engine ()\n",
      "2019-05-17 16:03:59,365 INFO sqlalchemy.engine.base.Engine SELECT * FROM [customerDemographic]\n",
      "2019-05-17 16:03:59,367 INFO sqlalchemy.engine.base.Engine ()\n",
      "2019-05-17 16:03:59,372 INFO sqlalchemy.engine.base.Engine SELECT * FROM [employee]\n",
      "2019-05-17 16:03:59,373 INFO sqlalchemy.engine.base.Engine ()\n",
      "2019-05-17 16:03:59,380 INFO sqlalchemy.engine.base.Engine SELECT * FROM [employeeTerritory]\n",
      "2019-05-17 16:03:59,381 INFO sqlalchemy.engine.base.Engine ()\n",
      "2019-05-17 16:03:59,387 INFO sqlalchemy.engine.base.Engine SELECT * FROM [order]\n",
      "2019-05-17 16:03:59,387 INFO sqlalchemy.engine.base.Engine ()\n",
      "2019-05-17 16:03:59,439 INFO sqlalchemy.engine.base.Engine SELECT * FROM [orderDetail]\n",
      "2019-05-17 16:03:59,440 INFO sqlalchemy.engine.base.Engine ()\n",
      "2019-05-17 16:03:59,487 INFO sqlalchemy.engine.base.Engine SELECT * FROM [product]\n",
      "2019-05-17 16:03:59,488 INFO sqlalchemy.engine.base.Engine ()\n",
      "2019-05-17 16:03:59,495 INFO sqlalchemy.engine.base.Engine SELECT * FROM [region]\n",
      "2019-05-17 16:03:59,496 INFO sqlalchemy.engine.base.Engine ()\n",
      "2019-05-17 16:03:59,500 INFO sqlalchemy.engine.base.Engine SELECT * FROM [shipper]\n",
      "2019-05-17 16:03:59,500 INFO sqlalchemy.engine.base.Engine ()\n",
      "2019-05-17 16:03:59,504 INFO sqlalchemy.engine.base.Engine SELECT * FROM [supplier]\n",
      "2019-05-17 16:03:59,505 INFO sqlalchemy.engine.base.Engine ()\n",
      "2019-05-17 16:03:59,513 INFO sqlalchemy.engine.base.Engine SELECT * FROM [territory]\n",
      "2019-05-17 16:03:59,513 INFO sqlalchemy.engine.base.Engine ()\n"
     ]
    }
   ],
   "source": [
    "category_df= pd.read_sql_query(\"SELECT * FROM [category]\", engine)\n",
    "customer_df = pd.read_sql_query(\"SELECT * FROM [customer]\", engine)\n",
    "customerCustomerDemo_df = pd.read_sql_query(\"SELECT * FROM [customerCustomerDemo]\", engine)\n",
    "customerDemographic_df = pd.read_sql_query(\"SELECT * FROM [customerDemographic]\", engine)\n",
    "employee_df = pd.read_sql_query(\"SELECT * FROM [employee]\", engine)\n",
    "employeeTerritory_df = pd.read_sql_query(\"SELECT * FROM [employeeTerritory]\", engine)\n",
    "order_df = pd.read_sql_query(\"SELECT * FROM [order]\", engine)\n",
    "orderDetail_df = pd.read_sql_query(\"SELECT * FROM [orderDetail]\", engine)\n",
    "product_df = pd.read_sql_query(\"SELECT * FROM [product]\", engine)\n",
    "region_df = pd.read_sql_query(\"SELECT * FROM [region]\", engine)\n",
    "shipper_df = pd.read_sql_query(\"SELECT * FROM [shipper]\", engine)\n",
    "supplier_df = pd.read_sql_query(\"SELECT * FROM [supplier]\", engine)\n",
    "territory_df = pd.read_sql_query(\"SELECT * FROM [territory]\", engine)"
   ]
  },
  {
   "cell_type": "markdown",
   "metadata": {
    "hidden": true
   },
   "source": [
    "##### For question one, we need Quantity and Discount features, which are in the Order Detail table"
   ]
  },
  {
   "cell_type": "code",
   "execution_count": 7,
   "metadata": {
    "hidden": true
   },
   "outputs": [
    {
     "data": {
      "text/html": [
       "<div>\n",
       "<style scoped>\n",
       "    .dataframe tbody tr th:only-of-type {\n",
       "        vertical-align: middle;\n",
       "    }\n",
       "\n",
       "    .dataframe tbody tr th {\n",
       "        vertical-align: top;\n",
       "    }\n",
       "\n",
       "    .dataframe thead th {\n",
       "        text-align: right;\n",
       "    }\n",
       "</style>\n",
       "<table border=\"1\" class=\"dataframe\">\n",
       "  <thead>\n",
       "    <tr style=\"text-align: right;\">\n",
       "      <th></th>\n",
       "      <th>Id</th>\n",
       "      <th>OrderId</th>\n",
       "      <th>ProductId</th>\n",
       "      <th>UnitPrice</th>\n",
       "      <th>Quantity</th>\n",
       "      <th>Discount</th>\n",
       "    </tr>\n",
       "  </thead>\n",
       "  <tbody>\n",
       "    <tr>\n",
       "      <th>0</th>\n",
       "      <td>10248/11</td>\n",
       "      <td>10248</td>\n",
       "      <td>11</td>\n",
       "      <td>14.0</td>\n",
       "      <td>12</td>\n",
       "      <td>0.0</td>\n",
       "    </tr>\n",
       "    <tr>\n",
       "      <th>1</th>\n",
       "      <td>10248/42</td>\n",
       "      <td>10248</td>\n",
       "      <td>42</td>\n",
       "      <td>9.8</td>\n",
       "      <td>10</td>\n",
       "      <td>0.0</td>\n",
       "    </tr>\n",
       "    <tr>\n",
       "      <th>2</th>\n",
       "      <td>10248/72</td>\n",
       "      <td>10248</td>\n",
       "      <td>72</td>\n",
       "      <td>34.8</td>\n",
       "      <td>5</td>\n",
       "      <td>0.0</td>\n",
       "    </tr>\n",
       "    <tr>\n",
       "      <th>3</th>\n",
       "      <td>10249/14</td>\n",
       "      <td>10249</td>\n",
       "      <td>14</td>\n",
       "      <td>18.6</td>\n",
       "      <td>9</td>\n",
       "      <td>0.0</td>\n",
       "    </tr>\n",
       "    <tr>\n",
       "      <th>4</th>\n",
       "      <td>10249/51</td>\n",
       "      <td>10249</td>\n",
       "      <td>51</td>\n",
       "      <td>42.4</td>\n",
       "      <td>40</td>\n",
       "      <td>0.0</td>\n",
       "    </tr>\n",
       "  </tbody>\n",
       "</table>\n",
       "</div>"
      ],
      "text/plain": [
       "         Id  OrderId  ProductId  UnitPrice  Quantity  Discount\n",
       "0  10248/11    10248         11       14.0        12       0.0\n",
       "1  10248/42    10248         42        9.8        10       0.0\n",
       "2  10248/72    10248         72       34.8         5       0.0\n",
       "3  10249/14    10249         14       18.6         9       0.0\n",
       "4  10249/51    10249         51       42.4        40       0.0"
      ]
     },
     "execution_count": 7,
     "metadata": {},
     "output_type": "execute_result"
    }
   ],
   "source": [
    "orderDetail_df.head()"
   ]
  },
  {
   "cell_type": "markdown",
   "metadata": {
    "hidden": true
   },
   "source": [
    "create a new instance of the data we need instead of a pointer"
   ]
  },
  {
   "cell_type": "code",
   "execution_count": 8,
   "metadata": {
    "hidden": true
   },
   "outputs": [
    {
     "data": {
      "text/html": [
       "<div>\n",
       "<style scoped>\n",
       "    .dataframe tbody tr th:only-of-type {\n",
       "        vertical-align: middle;\n",
       "    }\n",
       "\n",
       "    .dataframe tbody tr th {\n",
       "        vertical-align: top;\n",
       "    }\n",
       "\n",
       "    .dataframe thead th {\n",
       "        text-align: right;\n",
       "    }\n",
       "</style>\n",
       "<table border=\"1\" class=\"dataframe\">\n",
       "  <thead>\n",
       "    <tr style=\"text-align: right;\">\n",
       "      <th></th>\n",
       "      <th>Quantity</th>\n",
       "      <th>Discount</th>\n",
       "    </tr>\n",
       "  </thead>\n",
       "  <tbody>\n",
       "    <tr>\n",
       "      <th>0</th>\n",
       "      <td>12</td>\n",
       "      <td>0.0</td>\n",
       "    </tr>\n",
       "    <tr>\n",
       "      <th>1</th>\n",
       "      <td>10</td>\n",
       "      <td>0.0</td>\n",
       "    </tr>\n",
       "    <tr>\n",
       "      <th>2</th>\n",
       "      <td>5</td>\n",
       "      <td>0.0</td>\n",
       "    </tr>\n",
       "    <tr>\n",
       "      <th>3</th>\n",
       "      <td>9</td>\n",
       "      <td>0.0</td>\n",
       "    </tr>\n",
       "    <tr>\n",
       "      <th>4</th>\n",
       "      <td>40</td>\n",
       "      <td>0.0</td>\n",
       "    </tr>\n",
       "  </tbody>\n",
       "</table>\n",
       "</div>"
      ],
      "text/plain": [
       "   Quantity  Discount\n",
       "0        12       0.0\n",
       "1        10       0.0\n",
       "2         5       0.0\n",
       "3         9       0.0\n",
       "4        40       0.0"
      ]
     },
     "execution_count": 8,
     "metadata": {},
     "output_type": "execute_result"
    }
   ],
   "source": [
    "q1df = copy.deepcopy(orderDetail_df[[\"Quantity\", \"Discount\"]])\n",
    "q1df.head()"
   ]
  },
  {
   "cell_type": "code",
   "execution_count": 9,
   "metadata": {
    "hidden": true
   },
   "outputs": [
    {
     "name": "stdout",
     "output_type": "stream",
     "text": [
      "<class 'pandas.core.frame.DataFrame'>\n",
      "RangeIndex: 2155 entries, 0 to 2154\n",
      "Data columns (total 2 columns):\n",
      "Quantity    2155 non-null int64\n",
      "Discount    2155 non-null float64\n",
      "dtypes: float64(1), int64(1)\n",
      "memory usage: 33.8 KB\n"
     ]
    }
   ],
   "source": [
    "q1df.info()"
   ]
  },
  {
   "cell_type": "markdown",
   "metadata": {
    "hidden": true
   },
   "source": [
    "no need to change data types"
   ]
  },
  {
   "cell_type": "code",
   "execution_count": 10,
   "metadata": {
    "hidden": true
   },
   "outputs": [
    {
     "data": {
      "text/plain": [
       "0.00    1317\n",
       "0.05     185\n",
       "0.10     173\n",
       "0.20     161\n",
       "0.15     157\n",
       "0.25     154\n",
       "0.03       3\n",
       "0.02       2\n",
       "0.01       1\n",
       "0.04       1\n",
       "0.06       1\n",
       "Name: Discount, dtype: int64"
      ]
     },
     "execution_count": 10,
     "metadata": {},
     "output_type": "execute_result"
    }
   ],
   "source": [
    "q1df.Discount.value_counts()"
   ]
  },
  {
   "cell_type": "markdown",
   "metadata": {
    "hidden": true
   },
   "source": [
    "##### remove irrelevant discount levels based on the extremely low number of observations"
   ]
  },
  {
   "cell_type": "code",
   "execution_count": 11,
   "metadata": {
    "hidden": true
   },
   "outputs": [],
   "source": [
    "q1df = copy.deepcopy(q1df[q1df.Discount.isin([ 0.05, 0.10, 0.20, 0.15, 0.25, 0.00])])"
   ]
  },
  {
   "cell_type": "markdown",
   "metadata": {
    "hidden": true
   },
   "source": [
    "##### must split discount column into two groups; one for those with and another without a discount"
   ]
  },
  {
   "cell_type": "code",
   "execution_count": 12,
   "metadata": {
    "hidden": true
   },
   "outputs": [
    {
     "data": {
      "text/plain": [
       "0.0    1317\n",
       "Name: Discount, dtype: int64"
      ]
     },
     "execution_count": 12,
     "metadata": {},
     "output_type": "execute_result"
    }
   ],
   "source": [
    "q1_wDis = q1df[q1df.Discount > 0.0]\n",
    "q1_woDis = q1df[q1df.Discount == 0.0]\n",
    "q1_woDis.Discount.value_counts()"
   ]
  },
  {
   "cell_type": "code",
   "execution_count": 13,
   "metadata": {
    "hidden": true
   },
   "outputs": [
    {
     "data": {
      "text/plain": [
       "27.35421686746988"
      ]
     },
     "execution_count": 13,
     "metadata": {},
     "output_type": "execute_result"
    }
   ],
   "source": [
    "wDisAvg = q1_wDis['Quantity'].mean()\n",
    "wDisAvg"
   ]
  },
  {
   "cell_type": "code",
   "execution_count": 14,
   "metadata": {
    "hidden": true
   },
   "outputs": [
    {
     "data": {
      "text/plain": [
       "21.715261958997722"
      ]
     },
     "execution_count": 14,
     "metadata": {},
     "output_type": "execute_result"
    }
   ],
   "source": [
    "wOdisAvg = q1_woDis['Quantity'].mean()\n",
    "wOdisAvg"
   ]
  },
  {
   "cell_type": "code",
   "execution_count": 15,
   "metadata": {
    "hidden": true
   },
   "outputs": [
    {
     "name": "stdout",
     "output_type": "stream",
     "text": [
      "27.35421686746988\n",
      "21.715261958997722\n"
     ]
    }
   ],
   "source": [
    "print(q1_wDis.Quantity.mean())\n",
    "print(q1_woDis.Quantity.mean())"
   ]
  },
  {
   "cell_type": "code",
   "execution_count": 16,
   "metadata": {},
   "outputs": [
    {
     "data": {
      "text/html": [
       "<div>\n",
       "<style scoped>\n",
       "    .dataframe tbody tr th:only-of-type {\n",
       "        vertical-align: middle;\n",
       "    }\n",
       "\n",
       "    .dataframe tbody tr th {\n",
       "        vertical-align: top;\n",
       "    }\n",
       "\n",
       "    .dataframe thead th {\n",
       "        text-align: right;\n",
       "    }\n",
       "</style>\n",
       "<table border=\"1\" class=\"dataframe\">\n",
       "  <thead>\n",
       "    <tr style=\"text-align: right;\">\n",
       "      <th></th>\n",
       "      <th>Quantity</th>\n",
       "      <th>Discount</th>\n",
       "    </tr>\n",
       "  </thead>\n",
       "  <tbody>\n",
       "    <tr>\n",
       "      <th>6</th>\n",
       "      <td>35</td>\n",
       "      <td>0.15</td>\n",
       "    </tr>\n",
       "    <tr>\n",
       "      <th>7</th>\n",
       "      <td>15</td>\n",
       "      <td>0.15</td>\n",
       "    </tr>\n",
       "    <tr>\n",
       "      <th>8</th>\n",
       "      <td>6</td>\n",
       "      <td>0.05</td>\n",
       "    </tr>\n",
       "    <tr>\n",
       "      <th>9</th>\n",
       "      <td>15</td>\n",
       "      <td>0.05</td>\n",
       "    </tr>\n",
       "    <tr>\n",
       "      <th>11</th>\n",
       "      <td>40</td>\n",
       "      <td>0.05</td>\n",
       "    </tr>\n",
       "  </tbody>\n",
       "</table>\n",
       "</div>"
      ],
      "text/plain": [
       "    Quantity  Discount\n",
       "6         35      0.15\n",
       "7         15      0.15\n",
       "8          6      0.05\n",
       "9         15      0.05\n",
       "11        40      0.05"
      ]
     },
     "execution_count": 16,
     "metadata": {},
     "output_type": "execute_result"
    }
   ],
   "source": [
    "q1_wDis.head()"
   ]
  },
  {
   "cell_type": "markdown",
   "metadata": {
    "hidden": true
   },
   "source": [
    "### check for normality in the experiment and control samples"
   ]
  },
  {
   "cell_type": "code",
   "execution_count": 17,
   "metadata": {
    "hidden": true
   },
   "outputs": [
    {
     "data": {
      "image/png": "[encoded data removed]",
      "text/plain": [
       "<Figure size 432x288 with 1 Axes>"
      ]
     },
     "metadata": {
      "needs_background": "light"
     },
     "output_type": "display_data"
    }
   ],
   "source": [
    "from statsmodels.graphics.gofplots import qqplot\n",
    "\n",
    "wo_dis = qqplot(q1_woDis.Quantity, line = 's')"
   ]
  },
  {
   "cell_type": "code",
   "execution_count": 18,
   "metadata": {
    "hidden": true
   },
   "outputs": [
    {
     "data": {
      "image/png": "[encoded data removed]",
      "text/plain": [
       "<Figure size 432x288 with 1 Axes>"
      ]
     },
     "metadata": {
      "needs_background": "light"
     },
     "output_type": "display_data"
    }
   ],
   "source": [
    "\n",
    "w_dis=qqplot(q1_wDis.Quantity, line = 's')"
   ]
  },
  {
   "cell_type": "markdown",
   "metadata": {
    "hidden": true
   },
   "source": [
    "##### The Quanitle Quantile (QQ) plots above for the experiment and control group show a large deviation from the ideal normal distribution (the straight line). "
   ]
  },
  {
   "cell_type": "code",
   "execution_count": 19,
   "metadata": {
    "hidden": true,
    "scrolled": true
   },
   "outputs": [
    {
     "name": "stderr",
     "output_type": "stream",
     "text": [
      "C:\\Users\\mngav\\Anaconda3\\envs\\learn-env\\lib\\site-packages\\scipy\\stats\\stats.py:1713: FutureWarning: Using a non-tuple sequence for multidimensional indexing is deprecated; use `arr[tuple(seq)]` instead of `arr[seq]`. In the future this will be interpreted as an array index, `arr[np.array(seq)]`, which will result either in an error or a different result.\n",
      "  return np.add.reduce(sorted[indexer] * weights, axis=axis) / sumval\n"
     ]
    },
    {
     "data": {
      "text/plain": [
       "<matplotlib.axes._subplots.AxesSubplot at 0x242f28713c8>"
      ]
     },
     "execution_count": 19,
     "metadata": {},
     "output_type": "execute_result"
    },
    {
     "data": {
      "image/png": "[encoded data removed]",
      "text/plain": [
       "<Figure size 432x288 with 1 Axes>"
      ]
     },
     "metadata": {
      "needs_background": "light"
     },
     "output_type": "display_data"
    }
   ],
   "source": [
    "# kde turned off so we see actual frequency instead of normalized frequency\n",
    "\n",
    "sns.distplot(q1_wDis.Quantity, kde = False, color = 'g')\n",
    "sns.distplot(q1_woDis.Quantity, kde = False, color = 'b')"
   ]
  },
  {
   "cell_type": "code",
   "execution_count": 20,
   "metadata": {
    "hidden": true
   },
   "outputs": [
    {
     "name": "stderr",
     "output_type": "stream",
     "text": [
      "C:\\Users\\mngav\\Anaconda3\\envs\\learn-env\\lib\\site-packages\\scipy\\stats\\stats.py:1713: FutureWarning: Using a non-tuple sequence for multidimensional indexing is deprecated; use `arr[tuple(seq)]` instead of `arr[seq]`. In the future this will be interpreted as an array index, `arr[np.array(seq)]`, which will result either in an error or a different result.\n",
      "  return np.add.reduce(sorted[indexer] * weights, axis=axis) / sumval\n"
     ]
    },
    {
     "data": {
      "text/plain": [
       "<matplotlib.legend.Legend at 0x242f2ac5b38>"
      ]
     },
     "execution_count": 20,
     "metadata": {},
     "output_type": "execute_result"
    },
    {
     "data": {
      "image/png": "[encoded data removed]",
      "text/plain": [
       "<Figure size 720x504 with 1 Axes>"
      ]
     },
     "metadata": {},
     "output_type": "display_data"
    }
   ],
   "source": [
    "#plt.style.use(\"dark_background\")\n",
    "#sns.set_color_codes(\"bright\")\n",
    "sns.set(rc={'figure.figsize':(10,7)})\n",
    "sns.distplot(q1_wDis.Quantity, color = \"g\", label = \"with discount\", norm_hist = False) \n",
    "sns.distplot(q1_woDis.Quantity, color = \"b\", label = \"without discount\", norm_hist = False) \n",
    "\n",
    "font = {'family': 'serif',\n",
    "        'color':  'darkred',\n",
    "        'weight': 'normal',\n",
    "        'size': 17,\n",
    "        }\n",
    "\n",
    "plt.title(\"Order Quantity with and without a discount\", fontdict=font)\n",
    "plt.legend()"
   ]
  },
  {
   "cell_type": "markdown",
   "metadata": {
    "hidden": true
   },
   "source": [
    "##### lets use the stats normaltest function to perform a D'Agostino K**2 test to look at skew (asymmetry) and kurtosis(magnitude of observations present in a tail) "
   ]
  },
  {
   "cell_type": "code",
   "execution_count": 21,
   "metadata": {
    "hidden": true
   },
   "outputs": [
    {
     "name": "stdout",
     "output_type": "stream",
     "text": [
      "NormaltestResult(statistic=261.04626710761113, pvalue=2.0631145260149106e-57)\n",
      "NormaltestResult(statistic=544.5770045551502, pvalue=5.579637380545965e-119)\n"
     ]
    }
   ],
   "source": [
    "print(stats.normaltest(q1_wDis.Quantity))\n",
    "print(stats.normaltest(q1_woDis.Quantity))"
   ]
  },
  {
   "cell_type": "markdown",
   "metadata": {
    "hidden": true
   },
   "source": [
    "##### P-value for both sets is smaller than alpha so we reject the null that distribution is normal. <br> Now lets focus on getting our samples to fit a normal distribution<br>we will use the property of the Central Limit Theorem and sampling distribution of the mean"
   ]
  },
  {
   "cell_type": "code",
   "execution_count": 22,
   "metadata": {
    "hidden": true
   },
   "outputs": [],
   "source": [
    "def get_sample(data, n):\n",
    "    sample = []\n",
    "    while len(sample) != n:\n",
    "        x = np.random.choice(data)\n",
    "        sample.append(x)\n",
    "    \n",
    "    return sample\n",
    "\n",
    "def create_sample_distribution(data, dist_size=2000, n=500):\n",
    "    sample_dist = []\n",
    "    while len(sample_dist) != dist_size:\n",
    "        sample = get_sample(data, n)\n",
    "        sample_mean = sum(sample) / len(sample)\n",
    "        sample_dist.append(sample_mean)\n",
    "    \n",
    "    return sample_dist\n",
    "\n",
    "control_sample1 = create_sample_distribution(q1_woDis.Quantity)\n",
    "experiment_sample1 = create_sample_distribution(q1_wDis.Quantity)\n"
   ]
  },
  {
   "cell_type": "markdown",
   "metadata": {
    "hidden": true
   },
   "source": [
    "##### now lets visually inspect the distribution of sample means for the control and experiment groups"
   ]
  },
  {
   "cell_type": "code",
   "execution_count": 23,
   "metadata": {
    "hidden": true
   },
   "outputs": [
    {
     "name": "stderr",
     "output_type": "stream",
     "text": [
      "C:\\Users\\mngav\\Anaconda3\\envs\\learn-env\\lib\\site-packages\\scipy\\stats\\stats.py:1713: FutureWarning: Using a non-tuple sequence for multidimensional indexing is deprecated; use `arr[tuple(seq)]` instead of `arr[seq]`. In the future this will be interpreted as an array index, `arr[np.array(seq)]`, which will result either in an error or a different result.\n",
      "  return np.add.reduce(sorted[indexer] * weights, axis=axis) / sumval\n"
     ]
    },
    {
     "data": {
      "text/plain": [
       "<matplotlib.legend.Legend at 0x242f2b30080>"
      ]
     },
     "execution_count": 23,
     "metadata": {},
     "output_type": "execute_result"
    },
    {
     "data": {
      "image/png": "[encoded data removed]",
      "text/plain": [
       "<Figure size 720x720 with 1 Axes>"
      ]
     },
     "metadata": {},
     "output_type": "display_data"
    }
   ],
   "source": [
    "plt.figure(figsize = (10,10))\n",
    "sns.distplot(control_sample1, label = \"control sample\")\n",
    "sns.distplot(experiment_sample1, label = \"experiment sample\")\n",
    "plt.title(\"Distribution of Quantity Ordered\", fontsize= 10)\n",
    "plt.xlabel(\"Quantity Ordered\")\n",
    "plt.legend(fontsize = 10)"
   ]
  },
  {
   "cell_type": "code",
   "execution_count": 24,
   "metadata": {
    "hidden": true
   },
   "outputs": [
    {
     "name": "stdout",
     "output_type": "stream",
     "text": [
      "NormaltestResult(statistic=0.40123597658761817, pvalue=0.8182249433651367)\n",
      "NormaltestResult(statistic=6.678645171224689, pvalue=0.035460971359287524)\n"
     ]
    }
   ],
   "source": [
    "print(stats.normaltest(control_sample1))\n",
    "print(stats.normaltest(experiment_sample1))"
   ]
  },
  {
   "cell_type": "markdown",
   "metadata": {
    "hidden": true
   },
   "source": [
    "##### running a normal test on the new data we see we fail to reject the null that the distributions are normal <br> Our data now satisfies the normality so we can work with it. "
   ]
  },
  {
   "cell_type": "markdown",
   "metadata": {
    "heading_collapsed": true
   },
   "source": [
    "## Question 1: \n",
    "##### is there a difference in quantity ordered between no discount and having a discount?"
   ]
  },
  {
   "cell_type": "markdown",
   "metadata": {
    "hidden": true
   },
   "source": [
    "$H_O$: There is no difference in the average quantity ordered between product having and not having a discount<br>\n",
    "$H_a$: Products having a discount are ordered in greater quantities compared to those not having a discount<br>\n",
    "\n",
    "this is a one tail test"
   ]
  },
  {
   "cell_type": "markdown",
   "metadata": {
    "hidden": true
   },
   "source": [
    "lets get our t statistic and p value"
   ]
  },
  {
   "cell_type": "code",
   "execution_count": 25,
   "metadata": {
    "hidden": true
   },
   "outputs": [
    {
     "data": {
      "text/plain": [
       "Ttest_indResult(statistic=209.66855217051634, pvalue=0.0)"
      ]
     },
     "execution_count": 25,
     "metadata": {},
     "output_type": "execute_result"
    }
   ],
   "source": [
    "stats.ttest_ind(experiment_sample1, control_sample1, equal_var = False)"
   ]
  },
  {
   "cell_type": "markdown",
   "metadata": {
    "hidden": true
   },
   "source": [
    "##### Conclusion part 1a<br>\n",
    "our t value tells us we have a significant difference in sample mean with T stat of 206 thats greater than the critical value of 1.646 and the p value tells us there is a very small probability the result is by chance so, we have evidence to reject the null hypothesis and accept the alternative, i.e., we have sufficient evidence to assert that discounts do have a statistically significant effect on order quantities. "
   ]
  },
  {
   "cell_type": "markdown",
   "metadata": {
    "hidden": true
   },
   "source": [
    "for the next part of the question, we will dig a bit deeper to determine if there is a certain level of discount that precipitates an increase in order size, or not"
   ]
  },
  {
   "cell_type": "markdown",
   "metadata": {
    "hidden": true
   },
   "source": [
    "will separate/bin the discount levels so we can compare each experiment group to the control"
   ]
  },
  {
   "cell_type": "code",
   "execution_count": 26,
   "metadata": {},
   "outputs": [
    {
     "name": "stderr",
     "output_type": "stream",
     "text": [
      "C:\\Users\\mngav\\Anaconda3\\envs\\learn-env\\lib\\site-packages\\scipy\\stats\\stats.py:1713: FutureWarning: Using a non-tuple sequence for multidimensional indexing is deprecated; use `arr[tuple(seq)]` instead of `arr[seq]`. In the future this will be interpreted as an array index, `arr[np.array(seq)]`, which will result either in an error or a different result.\n",
      "  return np.add.reduce(sorted[indexer] * weights, axis=axis) / sumval\n"
     ]
    },
    {
     "data": {
      "text/plain": [
       "<matplotlib.legend.Legend at 0x242f2c5a358>"
      ]
     },
     "execution_count": 26,
     "metadata": {},
     "output_type": "execute_result"
    },
    {
     "data": {
      "image/png": "[encoded data removed]",
      "text/plain": [
       "<Figure size 720x360 with 1 Axes>"
      ]
     },
     "metadata": {},
     "output_type": "display_data"
    }
   ],
   "source": [
    "q1_wDis\n",
    "\n",
    "plt.figure(figsize = (10,5))\n",
    "sns.distplot(q1_wDis['Quantity'][q1_wDis['Discount']==0.05], label = \"0.05\")\n",
    "sns.distplot(q1_wDis['Quantity'][q1_wDis['Discount']==0.10], label = \"0.10\")\n",
    "sns.distplot(q1_wDis['Quantity'][q1_wDis['Discount']==0.15], label = \"0.15\")\n",
    "sns.distplot(q1_wDis['Quantity'][q1_wDis['Discount']==0.20], label = \"0.20\")\n",
    "sns.distplot(q1_wDis['Quantity'][q1_wDis['Discount']==0.25], label = \"0.25\")\n",
    "\n",
    "\n",
    "\n",
    "plt.title(\"Distribution of Quantity Ordered\", fontsize= 10)\n",
    "plt.xlabel(\"Quantity Ordered\")\n",
    "plt.legend(fontsize = 10)"
   ]
  },
  {
   "cell_type": "code",
   "execution_count": 27,
   "metadata": {},
   "outputs": [
    {
     "name": "stdout",
     "output_type": "stream",
     "text": [
      "NormaltestResult(statistic=63.84242740591745, pvalue=1.3702286160643066e-14)\n",
      "NormaltestResult(statistic=98.50271035413209, pvalue=4.0776337983848464e-22)\n",
      "NormaltestResult(statistic=38.52550343019272, pvalue=4.308173885400061e-09)\n",
      "NormaltestResult(statistic=31.398997154435623, pvalue=1.519827852850104e-07)\n",
      "NormaltestResult(statistic=54.44887806745976, pvalue=1.5016763972075847e-12)\n"
     ]
    }
   ],
   "source": [
    "q1a_feature_regions = [q1_wDis['Quantity'][q1_wDis['Discount']==.05], q1_wDis['Quantity'][q1_wDis['Discount']==.10], q1_wDis['Quantity'][q1_wDis['Discount']==.15], \n",
    "                       q1_wDis['Quantity'][q1_wDis['Discount']==.20], q1_wDis['Quantity'][q1_wDis['Discount']==.25]]\n",
    "\n",
    "\n",
    "for i in q1a_feature_regions:\n",
    "    print(stats.normaltest(i))"
   ]
  },
  {
   "cell_type": "code",
   "execution_count": 28,
   "metadata": {
    "hidden": true
   },
   "outputs": [
    {
     "ename": "NameError",
     "evalue": "name 'df_00' is not defined",
     "output_type": "error",
     "traceback": [
      "\u001b[1;31m---------------------------------------------------------------------------\u001b[0m",
      "\u001b[1;31mNameError\u001b[0m                                 Traceback (most recent call last)",
      "\u001b[1;32m<ipython-input-28-15dee0f4f15d>\u001b[0m in \u001b[0;36m<module>\u001b[1;34m()\u001b[0m\n\u001b[1;32m----> 1\u001b[1;33m \u001b[0mlevels\u001b[0m \u001b[1;33m=\u001b[0m \u001b[1;33m[\u001b[0m\u001b[0mdf_00\u001b[0m\u001b[1;33m.\u001b[0m\u001b[0mQuantity\u001b[0m\u001b[1;33m,\u001b[0m\u001b[0mdf_05\u001b[0m\u001b[1;33m.\u001b[0m\u001b[0mQuantity\u001b[0m\u001b[1;33m,\u001b[0m \u001b[0mdf_10\u001b[0m\u001b[1;33m.\u001b[0m\u001b[0mQuantity\u001b[0m\u001b[1;33m,\u001b[0m \u001b[0mdf_15\u001b[0m\u001b[1;33m.\u001b[0m\u001b[0mQuantity\u001b[0m\u001b[1;33m,\u001b[0m \u001b[0mdf_20\u001b[0m\u001b[1;33m.\u001b[0m\u001b[0mQuantity\u001b[0m\u001b[1;33m,\u001b[0m \u001b[0mdf_25\u001b[0m\u001b[1;33m.\u001b[0m\u001b[0mQuantity\u001b[0m\u001b[1;33m]\u001b[0m\u001b[1;33m\u001b[0m\u001b[0m\n\u001b[0m",
      "\u001b[1;31mNameError\u001b[0m: name 'df_00' is not defined"
     ]
    }
   ],
   "source": [
    "levels = [df_00.Quantity,df_05.Quantity, df_10.Quantity, df_15.Quantity, df_20.Quantity, df_25.Quantity]"
   ]
  },
  {
   "cell_type": "code",
   "execution_count": null,
   "metadata": {
    "hidden": true
   },
   "outputs": [],
   "source": [
    "norm_00 = create_sample_distribution(df_00.Quantity, dist_size=1000, n=1000)\n",
    "norm_05 = create_sample_distribution(df_05.Quantity, dist_size=1000, n=1000)\n",
    "norm_10 = create_sample_distribution(df_10.Quantity, dist_size=1000, n=1000)\n",
    "norm_15 = create_sample_distribution(df_15.Quantity, dist_size=1000, n=1000)\n",
    "norm_20 = create_sample_distribution(df_20.Quantity, dist_size=1000, n=1000)\n",
    "norm_25 = create_sample_distribution(df_25.Quantity, dist_size=1000, n=1000)"
   ]
  },
  {
   "cell_type": "code",
   "execution_count": null,
   "metadata": {
    "hidden": true
   },
   "outputs": [],
   "source": [
    "plt.figure(figsize = (10,5))\n",
    "sns.distplot(norm_00, label = \"00\")\n",
    "sns.distplot(norm_05, label = \"05\")\n",
    "sns.distplot(norm_10, label = \"10\")\n",
    "sns.distplot(norm_15, label = \"15\")\n",
    "sns.distplot(norm_20, label = \"20\")\n",
    "sns.distplot(norm_25, label = \"25\")\n",
    "\n",
    "plt.title(\"Distribution of Quantity Ordered\", fontsize= 10)\n",
    "plt.xlabel(\"Quantity Ordered\")\n",
    "plt.legend(fontsize = 10)"
   ]
  },
  {
   "cell_type": "code",
   "execution_count": null,
   "metadata": {
    "hidden": true
   },
   "outputs": [],
   "source": [
    "norm_levels = [norm_00, norm_05, norm_10, norm_15, norm_20, norm_25]\n",
    "\n",
    "for level in norm_levels:\n",
    "    print(stats.normaltest(level))"
   ]
  },
  {
   "cell_type": "code",
   "execution_count": null,
   "metadata": {},
   "outputs": [],
   "source": [
    "norm_05=pd.Series( norm_05, name= 'norm_05')\n",
    "norm_10=pd.Series( norm_10, name= 'norm_10')\n",
    "norm_15=pd.Series( norm_15, name= 'norm_15')\n",
    "norm_20=pd.Series( norm_20, name= 'norm_20')\n",
    "norm_25=pd.Series(norm_25, name= 'norm_25')\n",
    "\n",
    "norm_dis_df = pd.DataFrame(pd.concat([norm_05, norm_10, norm_15, norm_20, norm_25], axis = 1))\n",
    "\n",
    "norm_discount_melted_df = pd.melt(norm_dis_df)\n",
    "norm_discount_melted_df.rename(columns = {'variable': 'Discount', 'value': 'Quantity'}, inplace=True)\n",
    "norm_discount_melted_df = pd.get_dummies(norm_discount_melted_df, columns = [\"Discount\"])\n",
    "norm_discount_melted_df.tail(5)"
   ]
  },
  {
   "cell_type": "code",
   "execution_count": null,
   "metadata": {},
   "outputs": [],
   "source": [
    "norm_discount_melted_df.info()"
   ]
  },
  {
   "cell_type": "code",
   "execution_count": 29,
   "metadata": {},
   "outputs": [
    {
     "ename": "NameError",
     "evalue": "name 'norm_discount_melted_df' is not defined",
     "output_type": "error",
     "traceback": [
      "\u001b[1;31m---------------------------------------------------------------------------\u001b[0m",
      "\u001b[1;31mNameError\u001b[0m                                 Traceback (most recent call last)",
      "\u001b[1;32m<ipython-input-29-961f5712a264>\u001b[0m in \u001b[0;36m<module>\u001b[1;34m()\u001b[0m\n\u001b[0;32m      1\u001b[0m \u001b[0mformula\u001b[0m \u001b[1;33m=\u001b[0m \u001b[1;34m'Quantity ~ C(Discount_norm_05) + C(Discount_norm_10) + C(Discount_norm_15) + C(Discount_norm_20) + C(Discount_norm_25)'\u001b[0m\u001b[1;33m\u001b[0m\u001b[0m\n\u001b[0;32m      2\u001b[0m \u001b[1;33m\u001b[0m\u001b[0m\n\u001b[1;32m----> 3\u001b[1;33m \u001b[0mlm\u001b[0m \u001b[1;33m=\u001b[0m \u001b[0mols\u001b[0m\u001b[1;33m(\u001b[0m\u001b[0mformula\u001b[0m\u001b[1;33m,\u001b[0m \u001b[0mnorm_discount_melted_df\u001b[0m\u001b[1;33m)\u001b[0m\u001b[1;33m.\u001b[0m\u001b[0mfit\u001b[0m\u001b[1;33m(\u001b[0m\u001b[1;33m)\u001b[0m\u001b[1;33m\u001b[0m\u001b[0m\n\u001b[0m\u001b[0;32m      4\u001b[0m \u001b[0mtable\u001b[0m \u001b[1;33m=\u001b[0m \u001b[0msm\u001b[0m\u001b[1;33m.\u001b[0m\u001b[0mstats\u001b[0m\u001b[1;33m.\u001b[0m\u001b[0manova_lm\u001b[0m\u001b[1;33m(\u001b[0m\u001b[0mlm\u001b[0m\u001b[1;33m,\u001b[0m \u001b[0mtyp\u001b[0m\u001b[1;33m=\u001b[0m\u001b[1;36m2\u001b[0m\u001b[1;33m)\u001b[0m\u001b[1;33m\u001b[0m\u001b[0m\n\u001b[0;32m      5\u001b[0m \u001b[0mprint\u001b[0m\u001b[1;33m(\u001b[0m\u001b[0mtable\u001b[0m\u001b[1;33m)\u001b[0m\u001b[1;33m\u001b[0m\u001b[0m\n",
      "\u001b[1;31mNameError\u001b[0m: name 'norm_discount_melted_df' is not defined"
     ]
    }
   ],
   "source": [
    "formula = 'Quantity ~ C(Discount_norm_05) + C(Discount_norm_10) + C(Discount_norm_15) + C(Discount_norm_20) + C(Discount_norm_25)'\n",
    "           \n",
    "lm = ols(formula, norm_discount_melted_df).fit()\n",
    "table = sm.stats.anova_lm(lm, typ=2)\n",
    "print(table)"
   ]
  },
  {
   "cell_type": "code",
   "execution_count": null,
   "metadata": {},
   "outputs": [],
   "source": []
  },
  {
   "cell_type": "markdown",
   "metadata": {
    "hidden": true
   },
   "source": [
    "##### Above, our P-values support the alternative hypothesis, that the average quantities sold for having a discount versus not having a discount are not equal, except for the 10% discount level where we cannot reject the null.  So, the distribution for quantity sold at a 10% discount is not dissimilar from not having a discount."
   ]
  },
  {
   "cell_type": "code",
   "execution_count": null,
   "metadata": {
    "hidden": true
   },
   "outputs": [],
   "source": [
    "graph2 = pd.DataFrame([3.7, 2.1, 3.8, 3.4, 3.8]) \n",
    "graph2.columns =  [\"Standard_Deviations_greater_than_mean\"]\n",
    "graph2['Discount_Level'] = [.05, .10, .15, .20, .25]\n",
    "graph2.head()"
   ]
  },
  {
   "cell_type": "code",
   "execution_count": null,
   "metadata": {
    "hidden": true
   },
   "outputs": [],
   "source": [
    "\n",
    "plt.style.use('ggplot')\n",
    "width = .25\n",
    "ax = sns.barplot(x= \"Discount_Level\", y=\"Standard_Deviations_greater_than_mean\", data=graph2)"
   ]
  },
  {
   "cell_type": "markdown",
   "metadata": {
    "hidden": true
   },
   "source": [
    "##### Conclusion part 1b<br>\n",
    "\n",
    "**Restate the question and hypotheses:**<br>\n",
    "is there a difference is quantity ordered between no discount and having a discount?<br>\n",
    "𝐻𝑂: There is no difference in the average quantity ordered between product having and not having a discount<br>\n",
    "𝐻𝑎: Products having a discount are ordered at greater quantities compared to those not having a discount<br>\n",
    "\n",
    "\n",
    "We can see that all levels of discount have a significant effect on the quantity of orders though, a 10% discount has a lesser effect compared to the others which are more in line with each other.  <br>\n",
    "Since there is not much of a difference in the magnitude of effect by the varying discount levels (excluding 10%), it makes sense to use the 5% level in our marketing campaigns since it will produce the same effect in moving product compared to the  highest discount, with the benefit of not having to buy as much demand."
   ]
  },
  {
   "cell_type": "markdown",
   "metadata": {},
   "source": [
    "## Question 2 \n",
    "#### Is there a region that outperforms the others in terms of order quantities?"
   ]
  },
  {
   "cell_type": "markdown",
   "metadata": {},
   "source": [
    "$H_O$: each region sells the same quantities of product<br>\n",
    "$H_a$: regions do not sell the same quantities of product<br>\n",
    "\n",
    "this is a two tailed test"
   ]
  },
  {
   "cell_type": "markdown",
   "metadata": {},
   "source": [
    "We will need features from other tables so below, we merge all relevant tables after renaming a few features so we are sure to have at least one matching column on which to join on"
   ]
  },
  {
   "cell_type": "code",
   "execution_count": null,
   "metadata": {},
   "outputs": [],
   "source": [
    "category_df.rename(columns = {\"Id\":\"CategoryId\"}, inplace = True)\n",
    "cat_prod_df = pd.merge(category_df, product_df, on = \"CategoryId\" )\n",
    "cat_prod_df.rename(columns = {\"Id\": \"ProductId\"}, inplace = True)\n",
    "cat_prod_OrDtl_df = pd.merge(cat_prod_df, orderDetail_df, on = \"ProductId\")\n",
    "order_df.rename(columns = {\"Id\" : \"OrderId\"}, inplace = True)\n",
    "cat_prod_OrDtl_orders_df = pd.merge(cat_prod_OrDtl_df, order_df, on = \"OrderId\" )\n",
    "customer_df.rename(columns ={\"Id\": \"CustomerId\"}, inplace = True)\n",
    "data = pd.merge(cat_prod_OrDtl_orders_df, customer_df, on = \"CustomerId\")\n",
    "data.head(2)"
   ]
  },
  {
   "cell_type": "code",
   "execution_count": null,
   "metadata": {
    "scrolled": true
   },
   "outputs": [],
   "source": [
    "data.info()"
   ]
  },
  {
   "cell_type": "markdown",
   "metadata": {},
   "source": [
    "Lets isolate Region and Quantity so we can answer our second question"
   ]
  },
  {
   "cell_type": "code",
   "execution_count": null,
   "metadata": {},
   "outputs": [],
   "source": [
    "q2df = data[[\"Region\", \"Quantity\"]]\n",
    "q2df.head()\n",
    "q2df.Region.value_counts()"
   ]
  },
  {
   "cell_type": "code",
   "execution_count": null,
   "metadata": {},
   "outputs": [],
   "source": [
    "q2df.head(15)"
   ]
  },
  {
   "cell_type": "code",
   "execution_count": null,
   "metadata": {},
   "outputs": [],
   "source": [
    "q2df.groupby(\"Region\").mean()"
   ]
  },
  {
   "cell_type": "code",
   "execution_count": null,
   "metadata": {},
   "outputs": [],
   "source": [
    "regions = q2df.Region.unique()\n",
    "np.sort(regions)"
   ]
  },
  {
   "cell_type": "markdown",
   "metadata": {},
   "source": [
    "### check for normality"
   ]
  },
  {
   "cell_type": "code",
   "execution_count": null,
   "metadata": {},
   "outputs": [],
   "source": [
    "BI = q2df[q2df.Region == \"British Isles\"]\n",
    "CA = q2df[q2df.Region == \"Central America\"]\n",
    "EE = q2df[q2df.Region == \"Eastern Europe\"]\n",
    "NA = q2df[q2df.Region == \"North America\"]\n",
    "NE = q2df[q2df.Region == \"Northern Europe\"]\n",
    "S = q2df[q2df.Region == \"Scandinavia\"]\n",
    "SA = q2df[q2df.Region == \"South America\"]\n",
    "SE = q2df[q2df.Region == \"Southern Europe\"]\n",
    "WE = q2df[q2df.Region == \"Western Europe\"]"
   ]
  },
  {
   "cell_type": "code",
   "execution_count": null,
   "metadata": {},
   "outputs": [],
   "source": [
    "type(BI)"
   ]
  },
  {
   "cell_type": "code",
   "execution_count": null,
   "metadata": {},
   "outputs": [],
   "source": [
    "BI.head()"
   ]
  },
  {
   "cell_type": "code",
   "execution_count": null,
   "metadata": {},
   "outputs": [],
   "source": [
    "plt.figure(figsize = (10,5))\n",
    "sns.distplot(BI.Quantity, label = \"BI\")\n",
    "sns.distplot(CA.Quantity, label = \"CA\")\n",
    "sns.distplot(EE.Quantity, label = \"EE\")\n",
    "sns.distplot(NA.Quantity, label = \"NA\")\n",
    "sns.distplot(NE.Quantity, label = \"NE\")\n",
    "sns.distplot(S.Quantity, label = \"S\")\n",
    "sns.distplot(SA.Quantity, label = \"SA\")\n",
    "sns.distplot(SE.Quantity, label = \"SE\")\n",
    "sns.distplot(WE.Quantity, label = \"WE\")\n",
    "\n",
    "plt.title(\"Distribution of Quantity Ordered\", fontsize= 10)\n",
    "plt.xlabel(\"Quantity Ordered\")\n",
    "plt.legend(fontsize = 10)"
   ]
  },
  {
   "cell_type": "markdown",
   "metadata": {},
   "source": [
    "##### Distributions of order quantities by Region to not appear to be Gaussian.  "
   ]
  },
  {
   "cell_type": "code",
   "execution_count": null,
   "metadata": {},
   "outputs": [],
   "source": [
    "q2df.Region.value_counts()"
   ]
  },
  {
   "cell_type": "code",
   "execution_count": null,
   "metadata": {},
   "outputs": [],
   "source": [
    "for i in [BI, CA, EE, NA, NE, S, SA, SE, WE]:\n",
    "    print(stats.normaltest(i.Quantity))"
   ]
  },
  {
   "cell_type": "markdown",
   "metadata": {},
   "source": [
    "#### stats normaltest confirms the distributions are not normal<br>Lets re-sample to gather distribution means that will satisfy normality assumptions"
   ]
  },
  {
   "cell_type": "code",
   "execution_count": null,
   "metadata": {},
   "outputs": [],
   "source": [
    "#resample data for each region\n",
    "\n",
    "norm_BI = create_sample_distribution(BI.Quantity, dist_size=40, n=5)\n",
    "norm_CA = create_sample_distribution(CA.Quantity, dist_size=40, n=5)\n",
    "norm_EE = create_sample_distribution(EE.Quantity, dist_size=40, n=5)\n",
    "norm_NA = create_sample_distribution(NA.Quantity, dist_size=40, n=5)\n",
    "norm_NE = create_sample_distribution(NE.Quantity, dist_size=40, n=5)\n",
    "norm_S = create_sample_distribution(S.Quantity, dist_size=40, n=5)\n",
    "norm_SA = create_sample_distribution(SA.Quantity, dist_size=40, n=5)\n",
    "norm_SE = create_sample_distribution(SE.Quantity, dist_size=40, n=5)\n",
    "norm_WE = create_sample_distribution(WE.Quantity, dist_size=40, n=5)\n"
   ]
  },
  {
   "cell_type": "code",
   "execution_count": null,
   "metadata": {},
   "outputs": [],
   "source": [
    "type(norm_BI)"
   ]
  },
  {
   "cell_type": "code",
   "execution_count": null,
   "metadata": {},
   "outputs": [],
   "source": [
    "plt.figure(figsize = (10,5))\n",
    "sns.distplot(norm_BI, label = \"BI\")\n",
    "sns.distplot(norm_CA, label = \"CA\")\n",
    "sns.distplot(norm_EE, label = \"EE\")\n",
    "sns.distplot(norm_NA, label = \"NA\")\n",
    "sns.distplot(norm_NE, label = \"NE\")\n",
    "sns.distplot(norm_S, label = \"S\")\n",
    "sns.distplot(norm_SA, label = \"SA\")\n",
    "sns.distplot(norm_SE, label = \"SE\")\n",
    "sns.distplot(norm_WE, label = \"WE\")\n",
    "\n",
    "plt.title(\"Distribution of Quantity Ordered\", fontsize= 10)\n",
    "plt.xlabel(\"Quantity Ordered\")\n",
    "plt.legend(fontsize = 10)"
   ]
  },
  {
   "cell_type": "code",
   "execution_count": null,
   "metadata": {},
   "outputs": [],
   "source": [
    "for i in [norm_BI, norm_CA, norm_EE, norm_NA, norm_NE, norm_S, norm_SA, norm_SE, norm_WE]:\n",
    "    print(stats.normaltest(i))"
   ]
  },
  {
   "cell_type": "code",
   "execution_count": null,
   "metadata": {},
   "outputs": [],
   "source": [
    "norm_BI=pd.Series(norm_BI, name= 'norm_BI')\n",
    "norm_CA=pd.Series( norm_CA, name= 'norm_CA')\n",
    "norm_EE=pd.Series( norm_EE, name= 'norm_EE')\n",
    "norm_NA=pd.Series( norm_NA, name= 'norm_NA')\n",
    "norm_NE=pd.Series( norm_NE, name= 'norm_NE')\n",
    "norm_S=pd.Series( norm_S, name=  'norm_S')\n",
    "norm_SA=pd.Series( norm_SA, name= 'norm_SA')\n",
    "norm_SE=pd.Series( norm_SE, name= 'norm_SE')\n",
    "norm_WE=pd.Series( norm_WE, name= 'norm_WE')\n"
   ]
  },
  {
   "cell_type": "markdown",
   "metadata": {},
   "source": [
    "### combining multiple Series into a DataFrame: <br>lessons learned -- the Series must have names (see example above)<br>and you must specify the horizontal axis\n",
    "\n"
   ]
  },
  {
   "cell_type": "code",
   "execution_count": null,
   "metadata": {},
   "outputs": [],
   "source": [
    "regions_df = pd.DataFrame(pd.concat([norm_BI, norm_CA, norm_EE, norm_NA, norm_NE, norm_S, norm_SA, norm_SE, norm_WE], \n",
    "                                   axis = 1))"
   ]
  },
  {
   "cell_type": "markdown",
   "metadata": {},
   "source": [
    "<a id='link_to_cell_in_question'></a>\n",
    "\n",
    "\n",
    "### need to run ANOVA here"
   ]
  },
  {
   "cell_type": "code",
   "execution_count": null,
   "metadata": {},
   "outputs": [],
   "source": [
    "regions_df.head()"
   ]
  },
  {
   "cell_type": "code",
   "execution_count": null,
   "metadata": {},
   "outputs": [],
   "source": [
    "norm_regions_df = copy.deepcopy(regions_df)\n",
    "norm_regions_df.head()"
   ]
  },
  {
   "cell_type": "markdown",
   "metadata": {},
   "source": [
    "link to pd.melt\n",
    "\n",
    "<a id='link_to_pd.melt'></a>"
   ]
  },
  {
   "cell_type": "code",
   "execution_count": null,
   "metadata": {},
   "outputs": [],
   "source": [
    "q2_transformed_df = pd.melt(norm_regions_df)"
   ]
  },
  {
   "cell_type": "code",
   "execution_count": null,
   "metadata": {},
   "outputs": [],
   "source": [
    "q2_transformed_df.rename( columns = {\"value\":\"Quantity\", \"variable\":\"Region\"}, inplace = True)\n",
    "q2_transformed_df.head()"
   ]
  },
  {
   "cell_type": "code",
   "execution_count": null,
   "metadata": {},
   "outputs": [],
   "source": [
    "q2_transformed_df = pd.get_dummies(q2_transformed_df, columns = [\"Region\"])\n"
   ]
  },
  {
   "cell_type": "code",
   "execution_count": null,
   "metadata": {},
   "outputs": [],
   "source": [
    "q2_transformed_df.head()"
   ]
  },
  {
   "cell_type": "markdown",
   "metadata": {},
   "source": [
    "##### Lets use an ANOVA test to compare the different groups with the control"
   ]
  },
  {
   "cell_type": "code",
   "execution_count": null,
   "metadata": {},
   "outputs": [],
   "source": [
    "formula = \"Quantity ~ Region_norm_BI + Region_norm_CA + Region_norm_EE + Region_norm_NA + Region_norm_NE + Region_norm_S \\\n",
    "            + Region_norm_SA + Region_norm_SE + Region_norm_WE\"\n",
    "           \n",
    "lm = ols(formula, q2_transformed_df).fit()\n",
    "table = sm.stats.anova_lm(lm, typ=2)\n",
    "print(table)\n"
   ]
  },
  {
   "cell_type": "markdown",
   "metadata": {},
   "source": [
    "| Region          \t| Code \t|\n",
    "|-----------------\t|------\t|\n",
    "| Western Europe  \t| WE    \t|\n",
    "| North America   \t| NA   \t|\n",
    "| South America   \t| SA   \t|\n",
    "| British Isles   \t| BI   \t|\n",
    "| Northern Europe \t| NE   \t|\n",
    "| Southern Europe \t| SE   \t|\n",
    "| Scandinavia     \t| S   \t|\n",
    "| Central America \t| CA    \t|\n",
    "| Eastern Europe  \t| EE   \t|"
   ]
  },
  {
   "cell_type": "markdown",
   "metadata": {},
   "source": [
    "##### Conclusion Question 2 <br>\n",
    "**restate the question and hypotheses:**<br>\n",
    " Is there a region that outperforms the others in terms of order quantities?<br>\n",
    "𝐻𝑂: each region sells the same quantities of product<br>\n",
    "𝐻𝑎: regions do not sell the same quantities of product<br>\n",
    "\n",
    "From the above ANOVA table, we see that we have significant events for all regions and that Western Europe has the greatest variability from the average for all regions.\n"
   ]
  },
  {
   "cell_type": "markdown",
   "metadata": {},
   "source": [
    "## Question 3\n",
    "#### are there any salespeople that stand out?"
   ]
  },
  {
   "cell_type": "markdown",
   "metadata": {},
   "source": [
    "$H_O$: all sales peoples performance are identical <br>\n",
    "$H_a$: some sales people do better than others and some do worse<br>\n",
    "\n",
    "this is a two tailed test"
   ]
  },
  {
   "cell_type": "markdown",
   "metadata": {},
   "source": [
    "pull the features we need into a dataframe"
   ]
  },
  {
   "cell_type": "code",
   "execution_count": null,
   "metadata": {},
   "outputs": [],
   "source": [
    "q3df.EmployeeId.value_counts"
   ]
  },
  {
   "cell_type": "markdown",
   "metadata": {},
   "source": [
    "we can use all the data here"
   ]
  },
  {
   "cell_type": "markdown",
   "metadata": {},
   "source": [
    "EmployeeId is already numeric so, can skip label encoding and go straight to get dummies"
   ]
  },
  {
   "cell_type": "markdown",
   "metadata": {},
   "source": [
    "Check each group in the feature for normality"
   ]
  },
  {
   "cell_type": "code",
   "execution_count": null,
   "metadata": {},
   "outputs": [],
   "source": [
    "plt.figure(figsize = (10,5))\n",
    "sns.distplot(q3df['Quantity'][q3df['EmployeeId']==1], label = \"emp1\")\n",
    "sns.distplot(q3df['Quantity'][q3df['EmployeeId']==2], label = \"emp2\")\n",
    "sns.distplot(q3df['Quantity'][q3df['EmployeeId']==3], label = \"emp3\")\n",
    "sns.distplot(q3df['Quantity'][q3df['EmployeeId']==4], label = \"emp4\")\n",
    "sns.distplot(q3df['Quantity'][q3df['EmployeeId']==5], label = \"emp5\")\n",
    "sns.distplot(q3df['Quantity'][q3df['EmployeeId']==6], label = \"emp6\")\n",
    "sns.distplot(q3df['Quantity'][q3df['EmployeeId']==7], label = \"emp7\")\n",
    "sns.distplot(q3df['Quantity'][q3df['EmployeeId']==8], label = \"emp8\")\n",
    "sns.distplot(q3df['Quantity'][q3df['EmployeeId']==9], label = \"emp9\")\n",
    "\n",
    "\n",
    "plt.title(\"Distribution of Quantity Ordered\", fontsize= 10)\n",
    "plt.xlabel(\"Quantity Ordered\")\n",
    "plt.legend(fontsize = 10)"
   ]
  },
  {
   "cell_type": "code",
   "execution_count": null,
   "metadata": {},
   "outputs": [],
   "source": []
  },
  {
   "cell_type": "code",
   "execution_count": null,
   "metadata": {},
   "outputs": [],
   "source": [
    "q3_feature_regions = [q3df['Quantity'][q3df['EmployeeId']==1], q3df['Quantity'][q3df['EmployeeId']==2], q3df['Quantity'][q3df['EmployeeId']==3], q3df['Quantity'][q3df['EmployeeId']==4],\n",
    "                      q3df['Quantity'][q3df['EmployeeId']==5], q3df['Quantity'][q3df['EmployeeId']==6], q3df['Quantity'][q3df['EmployeeId']==7], q3df['Quantity'][q3df['EmployeeId']==8],\n",
    "                      q3df['Quantity'][q3df['EmployeeId']==9]]\n"
   ]
  },
  {
   "cell_type": "code",
   "execution_count": null,
   "metadata": {},
   "outputs": [],
   "source": [
    "for i in q3_feature_regions:\n",
    "    print(stats.normaltest(i))"
   ]
  },
  {
   "cell_type": "markdown",
   "metadata": {},
   "source": [
    "the histogram and stats normal test confirm the data is normal and there is no need to transform"
   ]
  },
  {
   "cell_type": "code",
   "execution_count": null,
   "metadata": {},
   "outputs": [],
   "source": [
    "q3df = (pd.get_dummies(q3df, columns = [\"EmployeeId\"])) # one-hot-encode"
   ]
  },
  {
   "cell_type": "code",
   "execution_count": null,
   "metadata": {},
   "outputs": [],
   "source": [
    "q3df.head(2)"
   ]
  },
  {
   "cell_type": "code",
   "execution_count": null,
   "metadata": {},
   "outputs": [],
   "source": [
    "formula = \"Quantity ~ C(EmployeeId_1) + C(EmployeeId_2) + C(EmployeeId_3) + C(EmployeeId_4) + C(EmployeeId_5) + C(EmployeeId_6)\\\n",
    "+ C(EmployeeId_7) + C(EmployeeId_8) + C(EmployeeId_9)\"\n",
    "           \n",
    "lm = ols(formula, q3df).fit()\n",
    "table = sm.stats.anova_lm(lm, typ=2)\n",
    "print(table)"
   ]
  },
  {
   "cell_type": "code",
   "execution_count": null,
   "metadata": {},
   "outputs": [],
   "source": [
    "q3table = pd.DataFrame(['Emp1', 'Emp2', 'Emp3', 'Emp4', 'Emp5', 'Emp6', 'Emp7', 'Emp8', 'Emp9'])\n",
    "q3table.columns = [\"Employee\"]\n",
    "q3table[\"Performance Vs Mean\"] = [1, 8.6, 7, 3.25, 4.8, 0.5, 17.6, 0.6, 3.5]\n",
    "q3table.head()"
   ]
  },
  {
   "cell_type": "code",
   "execution_count": null,
   "metadata": {
    "scrolled": false
   },
   "outputs": [],
   "source": [
    "sns.set(rc={'figure.figsize':(16,8.27)})\n",
    "plt.style.use('ggplot')\n",
    "\n",
    "ax = sns.barplot(x= \"Employee\", y=\"Performance Vs Mean\", data=q3table)"
   ]
  },
  {
   "cell_type": "markdown",
   "metadata": {},
   "source": [
    "##### Conclusion Question 3 <br> \n",
    "\n",
    "**Restate the question and hypotheses:**<br>\n",
    " are there any salespeople that stand out?<br>\n",
    " \n",
    "𝐻𝑂: all sales peoples performance are identical <br>\n",
    "𝐻𝑎: some sales people do better than others and some do worse<br>\n",
    "\n",
    "We don't have sufficient evidence to say anything about employees 1, 4, 6 or 8. \n",
    "We do have significant events for employees 2, 3, 5, 7 and 9.  \n",
    "\n",
    "Employee seven looks like a superstar on paper but we need to dig deeper to make sure it is her work that is creating the success and not some kind of 'gift' such as being the only salesperson in a region that needs several, or stable and high-growth company she has been relying on, ie, can this person reproduce the results anywhere?  maybe they can distribute some wisdom to our other salespeople. "
   ]
  },
  {
   "cell_type": "markdown",
   "metadata": {},
   "source": [
    "## Question 4\n",
    "#### are there any categories we should think about dicontinuing or expanding on?"
   ]
  },
  {
   "cell_type": "markdown",
   "metadata": {},
   "source": [
    "$H_O$: orders of categories are equal in quantity <br>\n",
    "$H_a$: orders by category are not equal<br>\n",
    "\n",
    "this is a two tailed test"
   ]
  },
  {
   "cell_type": "code",
   "execution_count": null,
   "metadata": {},
   "outputs": [],
   "source": [
    "q4df = data[[\"Quantity\", \"CategoryId\"]]\n",
    "q4df.CategoryId.value_counts()"
   ]
  },
  {
   "cell_type": "code",
   "execution_count": null,
   "metadata": {},
   "outputs": [],
   "source": [
    "q4df.head()"
   ]
  },
  {
   "cell_type": "code",
   "execution_count": null,
   "metadata": {},
   "outputs": [],
   "source": [
    "plt.figure(figsize = (10,5))\n",
    "sns.distplot(q4df['Quantity'][q4df['CategoryId']==1], label = \"Cat1\")\n",
    "sns.distplot(q4df['Quantity'][q4df['CategoryId']==2], label = \"Cat2\")\n",
    "sns.distplot(q4df['Quantity'][q4df['CategoryId']==3], label = \"Cat3\")\n",
    "sns.distplot(q4df['Quantity'][q4df['CategoryId']==4], label = \"Cat4\")\n",
    "sns.distplot(q4df['Quantity'][q4df['CategoryId']==5], label = \"Cat5\")\n",
    "sns.distplot(q4df['Quantity'][q4df['CategoryId']==6], label = \"Cat6\")\n",
    "sns.distplot(q4df['Quantity'][q4df['CategoryId']==7], label = \"Cat7\")\n",
    "\n",
    "\n",
    "\n",
    "plt.title(\"Distribution of Quantity Ordered\", fontsize= 10)\n",
    "plt.xlabel(\"Quantity Ordered\")\n",
    "plt.legend(fontsize = 10)"
   ]
  },
  {
   "cell_type": "code",
   "execution_count": null,
   "metadata": {},
   "outputs": [],
   "source": [
    "q4_feature_regions = [q4df['Quantity'][q4df['CategoryId']==1], q4df['Quantity'][q4df['CategoryId']==2], q4df['Quantity'][q4df['CategoryId']==3], q4df['Quantity'][q4df['CategoryId']==4],\n",
    "                      q4df['Quantity'][q4df['CategoryId']==5], q4df['Quantity'][q4df['CategoryId']==6], q4df['Quantity'][q4df['CategoryId']==7], ]"
   ]
  },
  {
   "cell_type": "code",
   "execution_count": null,
   "metadata": {},
   "outputs": [],
   "source": [
    "for i in q4_feature_regions:\n",
    "    print(stats.normaltest(i))"
   ]
  },
  {
   "cell_type": "markdown",
   "metadata": {},
   "source": [
    "feature regions are normal"
   ]
  },
  {
   "cell_type": "code",
   "execution_count": null,
   "metadata": {},
   "outputs": [],
   "source": [
    "q4df = copy.deepcopy(pd.get_dummies(q4df, columns = [\"CategoryId\"])) # one-hot-encode"
   ]
  },
  {
   "cell_type": "code",
   "execution_count": null,
   "metadata": {},
   "outputs": [],
   "source": [
    "q4df.head()"
   ]
  },
  {
   "cell_type": "code",
   "execution_count": null,
   "metadata": {},
   "outputs": [],
   "source": [
    "formula = \"Quantity ~ C(CategoryId_1) + C(CategoryId_2) + C(CategoryId_3) + C(CategoryId_4) + C(CategoryId_5) + C(CategoryId_6)\\\n",
    "+ C(CategoryId_7) + C(CategoryId_8) \"\n",
    "           \n",
    "lm = ols(formula, q4df).fit()\n",
    "table = sm.stats.anova_lm(lm, typ=2)\n",
    "print(table)"
   ]
  },
  {
   "cell_type": "markdown",
   "metadata": {},
   "source": [
    "| 1 \t| Beverages      \t|\n",
    "|---\t|----------------\t|\n",
    "| 2 \t| Condiments     \t|\n",
    "| 3 \t| Confections    \t|\n",
    "| 4 \t| Dairy Products \t|\n",
    "| 5 \t| Grains/Cerials \t|\n",
    "| 6 \t| Meet/Poultry   \t|\n",
    "| 7 \t| Produce        \t|\n",
    "| 8 \t| Seafood        \t|"
   ]
  },
  {
   "cell_type": "markdown",
   "metadata": {},
   "source": [
    "we have significant events for all categories exept for grains/cerials and produce."
   ]
  },
  {
   "cell_type": "code",
   "execution_count": null,
   "metadata": {},
   "outputs": [],
   "source": [
    "q4table = pd.DataFrame([\"Beverages\", \"Condiments\", \"Confections\", \"Dairy Products\", \"Grains/Cerials\", \"Meat/Poultry\",\n",
    "                        \"Produce\", \"Seafood\" ])\n",
    "\n",
    "q4table.columns = [\"Category\"]\n",
    "q4table[\"Sales vs Avg\"] = [5.6, 8, 6.5, 15, 3, 5.7, 0.4, 6]\n",
    "q4table.head()"
   ]
  },
  {
   "cell_type": "code",
   "execution_count": null,
   "metadata": {},
   "outputs": [],
   "source": [
    "sns.set(rc={'figure.figsize':(16,8.27)})\n",
    "plt.style.use('ggplot')\n",
    "\n",
    "ax = sns.barplot(x= \"Category\", y=\"Sales vs Avg\", data=q4table)"
   ]
  },
  {
   "cell_type": "code",
   "execution_count": null,
   "metadata": {},
   "outputs": [],
   "source": []
  },
  {
   "cell_type": "markdown",
   "metadata": {},
   "source": [
    "##### Conclusion Question 4 <br>\n",
    "\n",
    "**Restate the question and hypotheses:**<br>\n",
    "are there any categories we should think about dicontinuing or expanding on?<br>\n",
    "\n",
    "𝐻𝑂: orders of categories are equal in quantity <br>\n",
    "𝐻𝑎: orders by category are not equal <br>\n",
    "\n",
    "The test fails to reject the null for category 5 and 7; these seem to be categories with moderate sales.\n",
    "We can reject the null for categories 1, 2, 3, 4, 6 and 8.  Category 4 especially stands out with the lowest P-value and highest test statistic.  We should further inspect this product and look to duplicate its success. "
   ]
  },
  {
   "cell_type": "code",
   "execution_count": null,
   "metadata": {},
   "outputs": [],
   "source": []
  }
 ],
 "metadata": {
  "kernelspec": {
   "display_name": "learn-env",
   "language": "python",
   "name": "learn-env"
  },
  "language_info": {
   "codemirror_mode": {
    "name": "ipython",
    "version": 3
   },
   "file_extension": ".py",
   "mimetype": "text/x-python",
   "name": "python",
   "nbconvert_exporter": "python",
   "pygments_lexer": "ipython3",
   "version": "3.6.6"
  },
  "toc": {
   "base_numbering": 1,
   "nav_menu": {},
   "number_sections": false,
   "sideBar": false,
   "skip_h1_title": false,
   "title_cell": "Table of Contents",
   "title_sidebar": "Contents",
   "toc_cell": true,
   "toc_position": {
    "height": "calc(100% - 180px)",
    "left": "10px",
    "top": "150px",
    "width": "559px"
   },
   "toc_section_display": false,
   "toc_window_display": false
  }
 },
 "nbformat": 4,
 "nbformat_minor": 2
}
