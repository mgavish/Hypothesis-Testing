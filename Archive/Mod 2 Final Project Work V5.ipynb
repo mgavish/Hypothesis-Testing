{
 "cells": [
  {
   "cell_type": "markdown",
   "metadata": {},
   "source": [
    "[link to cell in question](#link_to_cell_in_question)"
   ]
  },
  {
   "cell_type": "markdown",
   "metadata": {},
   "source": [
    "need to submit all docs and video on learn mod 2 final project\n",
    "\n",
    "1. go back and test for normality of the samples we have\n",
    "2. if not normal, do a resampling\n",
    "(or can i do a kolmogorov smirov test?\n",
    "3. check effect size\n",
    "\n",
    "\n",
    "\n",
    "what do the metrics mean?  (on presentation)\n",
    "\n",
    "for all questions -- dig \"one level below the obvious\"\n",
    "\n",
    "\n",
    "sales ppl\n",
    "-time period and how long at company\n",
    "\n",
    "look at category per region\n",
    "\n",
    "\n",
    "add key take-aways to slides \n",
    "\n",
    "does a t test make sense for all questions?\n",
    "\n",
    "look at effect sizes (cohen D) \n",
    "\n"
   ]
  },
  {
   "cell_type": "markdown",
   "metadata": {},
   "source": [
    "# Case Study: Northwind Traders\n"
   ]
  },
  {
   "cell_type": "markdown",
   "metadata": {},
   "source": [
    "Four questions to consider:<br>\n",
    "1. Do discounted items sell in greater volume?  And if so, does the level of discount have an impact?\n",
    "2. Do all regions perform equally in terms of quantities sold?\n",
    "3. Are all salespeople created equal or do we have any under/over-performers?\n",
    "4. Should we consider discontinuing any items and conversely, should we consider increasing market share in other categories?"
   ]
  },
  {
   "cell_type": "markdown",
   "metadata": {},
   "source": [
    "## convert sql database tables into pandas dataframes\n"
   ]
  },
  {
   "cell_type": "markdown",
   "metadata": {},
   "source": [
    "##### import packages and modules"
   ]
  },
  {
   "cell_type": "code",
   "execution_count": 1,
   "metadata": {},
   "outputs": [],
   "source": [
    "import pandas as pd\n",
    "import numpy as np\n",
    "from scipy.stats import kurtosis, skew\n",
    "import scipy.stats as stats\n",
    "from math import sqrt\n",
    "import math\n",
    "import copy\n",
    "import statsmodels.api as sm             #for ANOVA\n",
    "from statsmodels.formula.api import ols  #for ANOVA\n",
    "\n",
    "import sqlalchemy\n",
    "from sqlalchemy import create_engine\n",
    "from sqlalchemy.orm import session, sessionmaker\n",
    "from sqlalchemy import inspect # so we can perform high level investigations\n",
    "\n",
    "\n",
    "import seaborn as sns\n",
    "\n",
    "import matplotlib.pyplot as plt\n",
    "%matplotlib inline\n",
    "#plt.style.use('seaborn')\n",
    "from matplotlib import style\n",
    "\n",
    "pd.set_option('display.max_columns', None)"
   ]
  },
  {
   "cell_type": "markdown",
   "metadata": {},
   "source": [
    "##### creating an engine object and a session to connect and work with the Northwind sql db"
   ]
  },
  {
   "cell_type": "code",
   "execution_count": 2,
   "metadata": {},
   "outputs": [
    {
     "name": "stdout",
     "output_type": "stream",
     "text": [
      "2019-05-16 10:55:00,371 INFO sqlalchemy.engine.base.Engine SELECT CAST('test plain returns' AS VARCHAR(60)) AS anon_1\n",
      "2019-05-16 10:55:00,376 INFO sqlalchemy.engine.base.Engine ()\n",
      "2019-05-16 10:55:00,377 INFO sqlalchemy.engine.base.Engine SELECT CAST('test unicode returns' AS VARCHAR(60)) AS anon_1\n",
      "2019-05-16 10:55:00,378 INFO sqlalchemy.engine.base.Engine ()\n"
     ]
    }
   ],
   "source": [
    "engine = create_engine(\"sqlite:///Northwind_small.sqlite\", echo = True)\n",
    "Session = sessionmaker(bind = engine)\n",
    "session = Session\n",
    "inspector = inspect(engine)"
   ]
  },
  {
   "cell_type": "markdown",
   "metadata": {},
   "source": [
    "##### lets have a look at the tables we will be working with and get to know them better"
   ]
  },
  {
   "cell_type": "code",
   "execution_count": 3,
   "metadata": {},
   "outputs": [
    {
     "name": "stdout",
     "output_type": "stream",
     "text": [
      "2019-05-16 10:55:00,385 INFO sqlalchemy.engine.base.Engine SELECT name FROM sqlite_master WHERE type='table' ORDER BY name\n",
      "2019-05-16 10:55:00,385 INFO sqlalchemy.engine.base.Engine ()\n"
     ]
    },
    {
     "data": {
      "text/plain": [
       "['Category',\n",
       " 'Customer',\n",
       " 'CustomerCustomerDemo',\n",
       " 'CustomerDemographic',\n",
       " 'Employee',\n",
       " 'EmployeeTerritory',\n",
       " 'Order',\n",
       " 'OrderDetail',\n",
       " 'Product',\n",
       " 'Region',\n",
       " 'Shipper',\n",
       " 'Supplier',\n",
       " 'Territory']"
      ]
     },
     "execution_count": 3,
     "metadata": {},
     "output_type": "execute_result"
    }
   ],
   "source": [
    "inspector.get_table_names()"
   ]
  },
  {
   "cell_type": "markdown",
   "metadata": {},
   "source": [
    "##### For the first question, we only need Quantity and Discount though, I will map all tables since we will need them later"
   ]
  },
  {
   "cell_type": "markdown",
   "metadata": {},
   "source": [
    "##### map the db table features with their headings"
   ]
  },
  {
   "cell_type": "code",
   "execution_count": 4,
   "metadata": {},
   "outputs": [],
   "source": [
    "from sqlalchemy import MetaData\n",
    "from sqlalchemy.ext.automap import automap_base # creates a framework that clones the db structure so that it can generate a \n",
    "                                                  # a new model in which to map the db with its metadata, ie, column headings"
   ]
  },
  {
   "cell_type": "code",
   "execution_count": 5,
   "metadata": {
    "scrolled": true
   },
   "outputs": [
    {
     "name": "stdout",
     "output_type": "stream",
     "text": [
      "2019-05-16 10:55:00,410 INFO sqlalchemy.engine.base.Engine SELECT name FROM sqlite_master WHERE type='table' ORDER BY name\n",
      "2019-05-16 10:55:00,411 INFO sqlalchemy.engine.base.Engine ()\n",
      "2019-05-16 10:55:00,413 INFO sqlalchemy.engine.base.Engine PRAGMA table_info(\"Category\")\n",
      "2019-05-16 10:55:00,414 INFO sqlalchemy.engine.base.Engine ()\n",
      "2019-05-16 10:55:00,416 INFO sqlalchemy.engine.base.Engine SELECT sql FROM  (SELECT * FROM sqlite_master UNION ALL   SELECT * FROM sqlite_temp_master) WHERE name = 'Category' AND type = 'table'\n",
      "2019-05-16 10:55:00,417 INFO sqlalchemy.engine.base.Engine ()\n",
      "2019-05-16 10:55:00,420 INFO sqlalchemy.engine.base.Engine PRAGMA foreign_key_list(\"Category\")\n",
      "2019-05-16 10:55:00,421 INFO sqlalchemy.engine.base.Engine ()\n",
      "2019-05-16 10:55:00,422 INFO sqlalchemy.engine.base.Engine SELECT sql FROM  (SELECT * FROM sqlite_master UNION ALL   SELECT * FROM sqlite_temp_master) WHERE name = 'Category' AND type = 'table'\n",
      "2019-05-16 10:55:00,423 INFO sqlalchemy.engine.base.Engine ()\n",
      "2019-05-16 10:55:00,427 INFO sqlalchemy.engine.base.Engine PRAGMA index_list(\"Category\")\n",
      "2019-05-16 10:55:00,427 INFO sqlalchemy.engine.base.Engine ()\n",
      "2019-05-16 10:55:00,428 INFO sqlalchemy.engine.base.Engine PRAGMA index_list(\"Category\")\n",
      "2019-05-16 10:55:00,429 INFO sqlalchemy.engine.base.Engine ()\n",
      "2019-05-16 10:55:00,430 INFO sqlalchemy.engine.base.Engine SELECT sql FROM  (SELECT * FROM sqlite_master UNION ALL   SELECT * FROM sqlite_temp_master) WHERE name = 'Category' AND type = 'table'\n",
      "2019-05-16 10:55:00,431 INFO sqlalchemy.engine.base.Engine ()\n",
      "2019-05-16 10:55:00,434 INFO sqlalchemy.engine.base.Engine PRAGMA table_info(\"Customer\")\n",
      "2019-05-16 10:55:00,435 INFO sqlalchemy.engine.base.Engine ()\n",
      "2019-05-16 10:55:00,436 INFO sqlalchemy.engine.base.Engine SELECT sql FROM  (SELECT * FROM sqlite_master UNION ALL   SELECT * FROM sqlite_temp_master) WHERE name = 'Customer' AND type = 'table'\n",
      "2019-05-16 10:55:00,437 INFO sqlalchemy.engine.base.Engine ()\n",
      "2019-05-16 10:55:00,438 INFO sqlalchemy.engine.base.Engine PRAGMA foreign_key_list(\"Customer\")\n",
      "2019-05-16 10:55:00,438 INFO sqlalchemy.engine.base.Engine ()\n",
      "2019-05-16 10:55:00,439 INFO sqlalchemy.engine.base.Engine SELECT sql FROM  (SELECT * FROM sqlite_master UNION ALL   SELECT * FROM sqlite_temp_master) WHERE name = 'Customer' AND type = 'table'\n",
      "2019-05-16 10:55:00,440 INFO sqlalchemy.engine.base.Engine ()\n",
      "2019-05-16 10:55:00,440 INFO sqlalchemy.engine.base.Engine PRAGMA index_list(\"Customer\")\n",
      "2019-05-16 10:55:00,441 INFO sqlalchemy.engine.base.Engine ()\n",
      "2019-05-16 10:55:00,442 INFO sqlalchemy.engine.base.Engine PRAGMA index_list(\"Customer\")\n",
      "2019-05-16 10:55:00,442 INFO sqlalchemy.engine.base.Engine ()\n",
      "2019-05-16 10:55:00,443 INFO sqlalchemy.engine.base.Engine PRAGMA index_info(\"sqlite_autoindex_Customer_1\")\n",
      "2019-05-16 10:55:00,444 INFO sqlalchemy.engine.base.Engine ()\n",
      "2019-05-16 10:55:00,444 INFO sqlalchemy.engine.base.Engine SELECT sql FROM  (SELECT * FROM sqlite_master UNION ALL   SELECT * FROM sqlite_temp_master) WHERE name = 'Customer' AND type = 'table'\n",
      "2019-05-16 10:55:00,445 INFO sqlalchemy.engine.base.Engine ()\n",
      "2019-05-16 10:55:00,446 INFO sqlalchemy.engine.base.Engine PRAGMA table_info(\"CustomerCustomerDemo\")\n",
      "2019-05-16 10:55:00,447 INFO sqlalchemy.engine.base.Engine ()\n",
      "2019-05-16 10:55:00,448 INFO sqlalchemy.engine.base.Engine SELECT sql FROM  (SELECT * FROM sqlite_master UNION ALL   SELECT * FROM sqlite_temp_master) WHERE name = 'CustomerCustomerDemo' AND type = 'table'\n",
      "2019-05-16 10:55:00,449 INFO sqlalchemy.engine.base.Engine ()\n",
      "2019-05-16 10:55:00,450 INFO sqlalchemy.engine.base.Engine PRAGMA foreign_key_list(\"CustomerCustomerDemo\")\n",
      "2019-05-16 10:55:00,451 INFO sqlalchemy.engine.base.Engine ()\n",
      "2019-05-16 10:55:00,451 INFO sqlalchemy.engine.base.Engine SELECT sql FROM  (SELECT * FROM sqlite_master UNION ALL   SELECT * FROM sqlite_temp_master) WHERE name = 'CustomerCustomerDemo' AND type = 'table'\n",
      "2019-05-16 10:55:00,452 INFO sqlalchemy.engine.base.Engine ()\n",
      "2019-05-16 10:55:00,453 INFO sqlalchemy.engine.base.Engine PRAGMA index_list(\"CustomerCustomerDemo\")\n",
      "2019-05-16 10:55:00,454 INFO sqlalchemy.engine.base.Engine ()\n",
      "2019-05-16 10:55:00,455 INFO sqlalchemy.engine.base.Engine PRAGMA index_list(\"CustomerCustomerDemo\")\n",
      "2019-05-16 10:55:00,456 INFO sqlalchemy.engine.base.Engine ()\n",
      "2019-05-16 10:55:00,457 INFO sqlalchemy.engine.base.Engine PRAGMA index_info(\"sqlite_autoindex_CustomerCustomerDemo_1\")\n",
      "2019-05-16 10:55:00,458 INFO sqlalchemy.engine.base.Engine ()\n",
      "2019-05-16 10:55:00,460 INFO sqlalchemy.engine.base.Engine SELECT sql FROM  (SELECT * FROM sqlite_master UNION ALL   SELECT * FROM sqlite_temp_master) WHERE name = 'CustomerCustomerDemo' AND type = 'table'\n",
      "2019-05-16 10:55:00,461 INFO sqlalchemy.engine.base.Engine ()\n",
      "2019-05-16 10:55:00,462 INFO sqlalchemy.engine.base.Engine PRAGMA table_info(\"CustomerDemographic\")\n",
      "2019-05-16 10:55:00,463 INFO sqlalchemy.engine.base.Engine ()\n",
      "2019-05-16 10:55:00,464 INFO sqlalchemy.engine.base.Engine SELECT sql FROM  (SELECT * FROM sqlite_master UNION ALL   SELECT * FROM sqlite_temp_master) WHERE name = 'CustomerDemographic' AND type = 'table'\n",
      "2019-05-16 10:55:00,465 INFO sqlalchemy.engine.base.Engine ()\n",
      "2019-05-16 10:55:00,467 INFO sqlalchemy.engine.base.Engine PRAGMA foreign_key_list(\"CustomerDemographic\")\n",
      "2019-05-16 10:55:00,468 INFO sqlalchemy.engine.base.Engine ()\n",
      "2019-05-16 10:55:00,468 INFO sqlalchemy.engine.base.Engine SELECT sql FROM  (SELECT * FROM sqlite_master UNION ALL   SELECT * FROM sqlite_temp_master) WHERE name = 'CustomerDemographic' AND type = 'table'\n",
      "2019-05-16 10:55:00,469 INFO sqlalchemy.engine.base.Engine ()\n",
      "2019-05-16 10:55:00,470 INFO sqlalchemy.engine.base.Engine PRAGMA index_list(\"CustomerDemographic\")\n",
      "2019-05-16 10:55:00,470 INFO sqlalchemy.engine.base.Engine ()\n",
      "2019-05-16 10:55:00,472 INFO sqlalchemy.engine.base.Engine PRAGMA index_list(\"CustomerDemographic\")\n",
      "2019-05-16 10:55:00,472 INFO sqlalchemy.engine.base.Engine ()\n",
      "2019-05-16 10:55:00,473 INFO sqlalchemy.engine.base.Engine PRAGMA index_info(\"sqlite_autoindex_CustomerDemographic_1\")\n",
      "2019-05-16 10:55:00,474 INFO sqlalchemy.engine.base.Engine ()\n",
      "2019-05-16 10:55:00,476 INFO sqlalchemy.engine.base.Engine SELECT sql FROM  (SELECT * FROM sqlite_master UNION ALL   SELECT * FROM sqlite_temp_master) WHERE name = 'CustomerDemographic' AND type = 'table'\n",
      "2019-05-16 10:55:00,476 INFO sqlalchemy.engine.base.Engine ()\n",
      "2019-05-16 10:55:00,478 INFO sqlalchemy.engine.base.Engine PRAGMA table_info(\"Employee\")\n",
      "2019-05-16 10:55:00,479 INFO sqlalchemy.engine.base.Engine ()\n",
      "2019-05-16 10:55:00,482 INFO sqlalchemy.engine.base.Engine SELECT sql FROM  (SELECT * FROM sqlite_master UNION ALL   SELECT * FROM sqlite_temp_master) WHERE name = 'Employee' AND type = 'table'\n",
      "2019-05-16 10:55:00,483 INFO sqlalchemy.engine.base.Engine ()\n",
      "2019-05-16 10:55:00,485 INFO sqlalchemy.engine.base.Engine PRAGMA foreign_key_list(\"Employee\")\n",
      "2019-05-16 10:55:00,485 INFO sqlalchemy.engine.base.Engine ()\n",
      "2019-05-16 10:55:00,486 INFO sqlalchemy.engine.base.Engine SELECT sql FROM  (SELECT * FROM sqlite_master UNION ALL   SELECT * FROM sqlite_temp_master) WHERE name = 'Employee' AND type = 'table'\n",
      "2019-05-16 10:55:00,487 INFO sqlalchemy.engine.base.Engine ()\n",
      "2019-05-16 10:55:00,488 INFO sqlalchemy.engine.base.Engine PRAGMA index_list(\"Employee\")\n",
      "2019-05-16 10:55:00,489 INFO sqlalchemy.engine.base.Engine ()\n",
      "2019-05-16 10:55:00,489 INFO sqlalchemy.engine.base.Engine PRAGMA index_list(\"Employee\")\n",
      "2019-05-16 10:55:00,490 INFO sqlalchemy.engine.base.Engine ()\n",
      "2019-05-16 10:55:00,491 INFO sqlalchemy.engine.base.Engine SELECT sql FROM  (SELECT * FROM sqlite_master UNION ALL   SELECT * FROM sqlite_temp_master) WHERE name = 'Employee' AND type = 'table'\n",
      "2019-05-16 10:55:00,492 INFO sqlalchemy.engine.base.Engine ()\n",
      "2019-05-16 10:55:00,493 INFO sqlalchemy.engine.base.Engine PRAGMA table_info(\"EmployeeTerritory\")\n",
      "2019-05-16 10:55:00,494 INFO sqlalchemy.engine.base.Engine ()\n",
      "2019-05-16 10:55:00,495 INFO sqlalchemy.engine.base.Engine SELECT sql FROM  (SELECT * FROM sqlite_master UNION ALL   SELECT * FROM sqlite_temp_master) WHERE name = 'EmployeeTerritory' AND type = 'table'\n",
      "2019-05-16 10:55:00,496 INFO sqlalchemy.engine.base.Engine ()\n"
     ]
    },
    {
     "name": "stdout",
     "output_type": "stream",
     "text": [
      "2019-05-16 10:55:00,497 INFO sqlalchemy.engine.base.Engine PRAGMA foreign_key_list(\"EmployeeTerritory\")\n",
      "2019-05-16 10:55:00,497 INFO sqlalchemy.engine.base.Engine ()\n",
      "2019-05-16 10:55:00,498 INFO sqlalchemy.engine.base.Engine SELECT sql FROM  (SELECT * FROM sqlite_master UNION ALL   SELECT * FROM sqlite_temp_master) WHERE name = 'EmployeeTerritory' AND type = 'table'\n",
      "2019-05-16 10:55:00,498 INFO sqlalchemy.engine.base.Engine ()\n",
      "2019-05-16 10:55:00,500 INFO sqlalchemy.engine.base.Engine PRAGMA index_list(\"EmployeeTerritory\")\n",
      "2019-05-16 10:55:00,500 INFO sqlalchemy.engine.base.Engine ()\n",
      "2019-05-16 10:55:00,502 INFO sqlalchemy.engine.base.Engine PRAGMA index_list(\"EmployeeTerritory\")\n",
      "2019-05-16 10:55:00,502 INFO sqlalchemy.engine.base.Engine ()\n",
      "2019-05-16 10:55:00,503 INFO sqlalchemy.engine.base.Engine PRAGMA index_info(\"sqlite_autoindex_EmployeeTerritory_1\")\n",
      "2019-05-16 10:55:00,503 INFO sqlalchemy.engine.base.Engine ()\n",
      "2019-05-16 10:55:00,504 INFO sqlalchemy.engine.base.Engine SELECT sql FROM  (SELECT * FROM sqlite_master UNION ALL   SELECT * FROM sqlite_temp_master) WHERE name = 'EmployeeTerritory' AND type = 'table'\n",
      "2019-05-16 10:55:00,505 INFO sqlalchemy.engine.base.Engine ()\n",
      "2019-05-16 10:55:00,506 INFO sqlalchemy.engine.base.Engine PRAGMA table_info(\"Order\")\n",
      "2019-05-16 10:55:00,507 INFO sqlalchemy.engine.base.Engine ()\n",
      "2019-05-16 10:55:00,509 INFO sqlalchemy.engine.base.Engine SELECT sql FROM  (SELECT * FROM sqlite_master UNION ALL   SELECT * FROM sqlite_temp_master) WHERE name = 'Order' AND type = 'table'\n",
      "2019-05-16 10:55:00,510 INFO sqlalchemy.engine.base.Engine ()\n",
      "2019-05-16 10:55:00,511 INFO sqlalchemy.engine.base.Engine PRAGMA foreign_key_list(\"Order\")\n",
      "2019-05-16 10:55:00,511 INFO sqlalchemy.engine.base.Engine ()\n",
      "2019-05-16 10:55:00,512 INFO sqlalchemy.engine.base.Engine SELECT sql FROM  (SELECT * FROM sqlite_master UNION ALL   SELECT * FROM sqlite_temp_master) WHERE name = 'Order' AND type = 'table'\n",
      "2019-05-16 10:55:00,513 INFO sqlalchemy.engine.base.Engine ()\n",
      "2019-05-16 10:55:00,515 INFO sqlalchemy.engine.base.Engine PRAGMA index_list(\"Order\")\n",
      "2019-05-16 10:55:00,516 INFO sqlalchemy.engine.base.Engine ()\n",
      "2019-05-16 10:55:00,517 INFO sqlalchemy.engine.base.Engine PRAGMA index_list(\"Order\")\n",
      "2019-05-16 10:55:00,518 INFO sqlalchemy.engine.base.Engine ()\n",
      "2019-05-16 10:55:00,519 INFO sqlalchemy.engine.base.Engine SELECT sql FROM  (SELECT * FROM sqlite_master UNION ALL   SELECT * FROM sqlite_temp_master) WHERE name = 'Order' AND type = 'table'\n",
      "2019-05-16 10:55:00,520 INFO sqlalchemy.engine.base.Engine ()\n",
      "2019-05-16 10:55:00,521 INFO sqlalchemy.engine.base.Engine PRAGMA table_info(\"OrderDetail\")\n",
      "2019-05-16 10:55:00,522 INFO sqlalchemy.engine.base.Engine ()\n",
      "2019-05-16 10:55:00,523 INFO sqlalchemy.engine.base.Engine SELECT sql FROM  (SELECT * FROM sqlite_master UNION ALL   SELECT * FROM sqlite_temp_master) WHERE name = 'OrderDetail' AND type = 'table'\n",
      "2019-05-16 10:55:00,524 INFO sqlalchemy.engine.base.Engine ()\n",
      "2019-05-16 10:55:00,526 INFO sqlalchemy.engine.base.Engine PRAGMA foreign_key_list(\"OrderDetail\")\n",
      "2019-05-16 10:55:00,526 INFO sqlalchemy.engine.base.Engine ()\n",
      "2019-05-16 10:55:00,527 INFO sqlalchemy.engine.base.Engine SELECT sql FROM  (SELECT * FROM sqlite_master UNION ALL   SELECT * FROM sqlite_temp_master) WHERE name = 'OrderDetail' AND type = 'table'\n",
      "2019-05-16 10:55:00,528 INFO sqlalchemy.engine.base.Engine ()\n",
      "2019-05-16 10:55:00,528 INFO sqlalchemy.engine.base.Engine PRAGMA index_list(\"OrderDetail\")\n",
      "2019-05-16 10:55:00,529 INFO sqlalchemy.engine.base.Engine ()\n",
      "2019-05-16 10:55:00,530 INFO sqlalchemy.engine.base.Engine PRAGMA index_list(\"OrderDetail\")\n",
      "2019-05-16 10:55:00,530 INFO sqlalchemy.engine.base.Engine ()\n",
      "2019-05-16 10:55:00,532 INFO sqlalchemy.engine.base.Engine PRAGMA index_info(\"sqlite_autoindex_OrderDetail_1\")\n",
      "2019-05-16 10:55:00,533 INFO sqlalchemy.engine.base.Engine ()\n",
      "2019-05-16 10:55:00,534 INFO sqlalchemy.engine.base.Engine SELECT sql FROM  (SELECT * FROM sqlite_master UNION ALL   SELECT * FROM sqlite_temp_master) WHERE name = 'OrderDetail' AND type = 'table'\n",
      "2019-05-16 10:55:00,535 INFO sqlalchemy.engine.base.Engine ()\n",
      "2019-05-16 10:55:00,536 INFO sqlalchemy.engine.base.Engine PRAGMA table_info(\"Product\")\n",
      "2019-05-16 10:55:00,537 INFO sqlalchemy.engine.base.Engine ()\n",
      "2019-05-16 10:55:00,538 INFO sqlalchemy.engine.base.Engine SELECT sql FROM  (SELECT * FROM sqlite_master UNION ALL   SELECT * FROM sqlite_temp_master) WHERE name = 'Product' AND type = 'table'\n",
      "2019-05-16 10:55:00,539 INFO sqlalchemy.engine.base.Engine ()\n",
      "2019-05-16 10:55:00,541 INFO sqlalchemy.engine.base.Engine PRAGMA foreign_key_list(\"Product\")\n",
      "2019-05-16 10:55:00,541 INFO sqlalchemy.engine.base.Engine ()\n",
      "2019-05-16 10:55:00,542 INFO sqlalchemy.engine.base.Engine SELECT sql FROM  (SELECT * FROM sqlite_master UNION ALL   SELECT * FROM sqlite_temp_master) WHERE name = 'Product' AND type = 'table'\n",
      "2019-05-16 10:55:00,543 INFO sqlalchemy.engine.base.Engine ()\n",
      "2019-05-16 10:55:00,544 INFO sqlalchemy.engine.base.Engine PRAGMA index_list(\"Product\")\n",
      "2019-05-16 10:55:00,544 INFO sqlalchemy.engine.base.Engine ()\n",
      "2019-05-16 10:55:00,545 INFO sqlalchemy.engine.base.Engine PRAGMA index_list(\"Product\")\n",
      "2019-05-16 10:55:00,546 INFO sqlalchemy.engine.base.Engine ()\n",
      "2019-05-16 10:55:00,547 INFO sqlalchemy.engine.base.Engine SELECT sql FROM  (SELECT * FROM sqlite_master UNION ALL   SELECT * FROM sqlite_temp_master) WHERE name = 'Product' AND type = 'table'\n",
      "2019-05-16 10:55:00,548 INFO sqlalchemy.engine.base.Engine ()\n",
      "2019-05-16 10:55:00,549 INFO sqlalchemy.engine.base.Engine PRAGMA table_info(\"Region\")\n",
      "2019-05-16 10:55:00,550 INFO sqlalchemy.engine.base.Engine ()\n",
      "2019-05-16 10:55:00,551 INFO sqlalchemy.engine.base.Engine SELECT sql FROM  (SELECT * FROM sqlite_master UNION ALL   SELECT * FROM sqlite_temp_master) WHERE name = 'Region' AND type = 'table'\n",
      "2019-05-16 10:55:00,552 INFO sqlalchemy.engine.base.Engine ()\n",
      "2019-05-16 10:55:00,553 INFO sqlalchemy.engine.base.Engine PRAGMA foreign_key_list(\"Region\")\n",
      "2019-05-16 10:55:00,554 INFO sqlalchemy.engine.base.Engine ()\n",
      "2019-05-16 10:55:00,554 INFO sqlalchemy.engine.base.Engine SELECT sql FROM  (SELECT * FROM sqlite_master UNION ALL   SELECT * FROM sqlite_temp_master) WHERE name = 'Region' AND type = 'table'\n",
      "2019-05-16 10:55:00,555 INFO sqlalchemy.engine.base.Engine ()\n",
      "2019-05-16 10:55:00,556 INFO sqlalchemy.engine.base.Engine PRAGMA index_list(\"Region\")\n",
      "2019-05-16 10:55:00,556 INFO sqlalchemy.engine.base.Engine ()\n",
      "2019-05-16 10:55:00,557 INFO sqlalchemy.engine.base.Engine PRAGMA index_list(\"Region\")\n",
      "2019-05-16 10:55:00,558 INFO sqlalchemy.engine.base.Engine ()\n",
      "2019-05-16 10:55:00,559 INFO sqlalchemy.engine.base.Engine SELECT sql FROM  (SELECT * FROM sqlite_master UNION ALL   SELECT * FROM sqlite_temp_master) WHERE name = 'Region' AND type = 'table'\n",
      "2019-05-16 10:55:00,559 INFO sqlalchemy.engine.base.Engine ()\n",
      "2019-05-16 10:55:00,561 INFO sqlalchemy.engine.base.Engine PRAGMA table_info(\"Shipper\")\n",
      "2019-05-16 10:55:00,561 INFO sqlalchemy.engine.base.Engine ()\n",
      "2019-05-16 10:55:00,562 INFO sqlalchemy.engine.base.Engine SELECT sql FROM  (SELECT * FROM sqlite_master UNION ALL   SELECT * FROM sqlite_temp_master) WHERE name = 'Shipper' AND type = 'table'\n",
      "2019-05-16 10:55:00,562 INFO sqlalchemy.engine.base.Engine ()\n",
      "2019-05-16 10:55:00,564 INFO sqlalchemy.engine.base.Engine PRAGMA foreign_key_list(\"Shipper\")\n",
      "2019-05-16 10:55:00,564 INFO sqlalchemy.engine.base.Engine ()\n",
      "2019-05-16 10:55:00,565 INFO sqlalchemy.engine.base.Engine SELECT sql FROM  (SELECT * FROM sqlite_master UNION ALL   SELECT * FROM sqlite_temp_master) WHERE name = 'Shipper' AND type = 'table'\n",
      "2019-05-16 10:55:00,566 INFO sqlalchemy.engine.base.Engine ()\n",
      "2019-05-16 10:55:00,567 INFO sqlalchemy.engine.base.Engine PRAGMA index_list(\"Shipper\")\n",
      "2019-05-16 10:55:00,567 INFO sqlalchemy.engine.base.Engine ()\n",
      "2019-05-16 10:55:00,568 INFO sqlalchemy.engine.base.Engine PRAGMA index_list(\"Shipper\")\n",
      "2019-05-16 10:55:00,568 INFO sqlalchemy.engine.base.Engine ()\n",
      "2019-05-16 10:55:00,569 INFO sqlalchemy.engine.base.Engine SELECT sql FROM  (SELECT * FROM sqlite_master UNION ALL   SELECT * FROM sqlite_temp_master) WHERE name = 'Shipper' AND type = 'table'\n",
      "2019-05-16 10:55:00,570 INFO sqlalchemy.engine.base.Engine ()\n"
     ]
    },
    {
     "name": "stdout",
     "output_type": "stream",
     "text": [
      "2019-05-16 10:55:00,571 INFO sqlalchemy.engine.base.Engine PRAGMA table_info(\"Supplier\")\n",
      "2019-05-16 10:55:00,571 INFO sqlalchemy.engine.base.Engine ()\n",
      "2019-05-16 10:55:00,573 INFO sqlalchemy.engine.base.Engine SELECT sql FROM  (SELECT * FROM sqlite_master UNION ALL   SELECT * FROM sqlite_temp_master) WHERE name = 'Supplier' AND type = 'table'\n",
      "2019-05-16 10:55:00,574 INFO sqlalchemy.engine.base.Engine ()\n",
      "2019-05-16 10:55:00,575 INFO sqlalchemy.engine.base.Engine PRAGMA foreign_key_list(\"Supplier\")\n",
      "2019-05-16 10:55:00,575 INFO sqlalchemy.engine.base.Engine ()\n",
      "2019-05-16 10:55:00,576 INFO sqlalchemy.engine.base.Engine SELECT sql FROM  (SELECT * FROM sqlite_master UNION ALL   SELECT * FROM sqlite_temp_master) WHERE name = 'Supplier' AND type = 'table'\n",
      "2019-05-16 10:55:00,576 INFO sqlalchemy.engine.base.Engine ()\n",
      "2019-05-16 10:55:00,577 INFO sqlalchemy.engine.base.Engine PRAGMA index_list(\"Supplier\")\n",
      "2019-05-16 10:55:00,578 INFO sqlalchemy.engine.base.Engine ()\n",
      "2019-05-16 10:55:00,579 INFO sqlalchemy.engine.base.Engine PRAGMA index_list(\"Supplier\")\n",
      "2019-05-16 10:55:00,580 INFO sqlalchemy.engine.base.Engine ()\n",
      "2019-05-16 10:55:00,582 INFO sqlalchemy.engine.base.Engine SELECT sql FROM  (SELECT * FROM sqlite_master UNION ALL   SELECT * FROM sqlite_temp_master) WHERE name = 'Supplier' AND type = 'table'\n",
      "2019-05-16 10:55:00,582 INFO sqlalchemy.engine.base.Engine ()\n",
      "2019-05-16 10:55:00,583 INFO sqlalchemy.engine.base.Engine PRAGMA table_info(\"Territory\")\n",
      "2019-05-16 10:55:00,584 INFO sqlalchemy.engine.base.Engine ()\n",
      "2019-05-16 10:55:00,585 INFO sqlalchemy.engine.base.Engine SELECT sql FROM  (SELECT * FROM sqlite_master UNION ALL   SELECT * FROM sqlite_temp_master) WHERE name = 'Territory' AND type = 'table'\n",
      "2019-05-16 10:55:00,585 INFO sqlalchemy.engine.base.Engine ()\n",
      "2019-05-16 10:55:00,586 INFO sqlalchemy.engine.base.Engine PRAGMA foreign_key_list(\"Territory\")\n",
      "2019-05-16 10:55:00,587 INFO sqlalchemy.engine.base.Engine ()\n",
      "2019-05-16 10:55:00,587 INFO sqlalchemy.engine.base.Engine SELECT sql FROM  (SELECT * FROM sqlite_master UNION ALL   SELECT * FROM sqlite_temp_master) WHERE name = 'Territory' AND type = 'table'\n",
      "2019-05-16 10:55:00,588 INFO sqlalchemy.engine.base.Engine ()\n",
      "2019-05-16 10:55:00,589 INFO sqlalchemy.engine.base.Engine PRAGMA index_list(\"Territory\")\n",
      "2019-05-16 10:55:00,589 INFO sqlalchemy.engine.base.Engine ()\n",
      "2019-05-16 10:55:00,590 INFO sqlalchemy.engine.base.Engine PRAGMA index_list(\"Territory\")\n",
      "2019-05-16 10:55:00,590 INFO sqlalchemy.engine.base.Engine ()\n",
      "2019-05-16 10:55:00,591 INFO sqlalchemy.engine.base.Engine PRAGMA index_info(\"sqlite_autoindex_Territory_1\")\n",
      "2019-05-16 10:55:00,592 INFO sqlalchemy.engine.base.Engine ()\n",
      "2019-05-16 10:55:00,593 INFO sqlalchemy.engine.base.Engine SELECT sql FROM  (SELECT * FROM sqlite_master UNION ALL   SELECT * FROM sqlite_temp_master) WHERE name = 'Territory' AND type = 'table'\n",
      "2019-05-16 10:55:00,593 INFO sqlalchemy.engine.base.Engine ()\n"
     ]
    }
   ],
   "source": [
    "metadata = MetaData()\n",
    "metadata.reflect(engine)\n",
    "Base = automap_base(metadata = metadata)\n",
    "Base.prepare()\n",
    "\n",
    "\n",
    "\n",
    "Category, Customer, CustomerCustomerDemo, CustomerDemographic, Employee, EmployeeTerritory, Order, OrderDetail,\\\n",
    "Product, Region, Shipper, Supplier, Territory = \\\n",
    "Base.classes.Category,\\\n",
    "Base.classes.Customer,\\\n",
    "Base.classes.CustomerCustomerDemo,\\\n",
    "Base.classes.CustomerDemographic, \\\n",
    "Base.classes.Employee, \\\n",
    "Base.classes.EmployeeTerritory,\\\n",
    "Base.classes.Order,\\\n",
    "Base.classes.OrderDetail, \\\n",
    "Base.classes.Product, \\\n",
    "Base.classes.Region,\\\n",
    "Base.classes.Shipper, \\\n",
    "Base.classes.Supplier, \\\n",
    "Base.classes.Territory"
   ]
  },
  {
   "cell_type": "markdown",
   "metadata": {},
   "source": [
    "##### converting each mapped table to a pandas dataframe"
   ]
  },
  {
   "cell_type": "code",
   "execution_count": 6,
   "metadata": {
    "scrolled": true
   },
   "outputs": [
    {
     "name": "stdout",
     "output_type": "stream",
     "text": [
      "2019-05-16 10:55:00,623 INFO sqlalchemy.engine.base.Engine SELECT * FROM [category]\n",
      "2019-05-16 10:55:00,624 INFO sqlalchemy.engine.base.Engine ()\n",
      "2019-05-16 10:55:00,629 INFO sqlalchemy.engine.base.Engine SELECT * FROM [customer]\n",
      "2019-05-16 10:55:00,630 INFO sqlalchemy.engine.base.Engine ()\n",
      "2019-05-16 10:55:00,639 INFO sqlalchemy.engine.base.Engine SELECT * FROM [customerCustomerDemo]\n",
      "2019-05-16 10:55:00,639 INFO sqlalchemy.engine.base.Engine ()\n",
      "2019-05-16 10:55:00,643 INFO sqlalchemy.engine.base.Engine SELECT * FROM [customerDemographic]\n",
      "2019-05-16 10:55:00,644 INFO sqlalchemy.engine.base.Engine ()\n",
      "2019-05-16 10:55:00,648 INFO sqlalchemy.engine.base.Engine SELECT * FROM [employee]\n",
      "2019-05-16 10:55:00,648 INFO sqlalchemy.engine.base.Engine ()\n",
      "2019-05-16 10:55:00,654 INFO sqlalchemy.engine.base.Engine SELECT * FROM [employeeTerritory]\n",
      "2019-05-16 10:55:00,655 INFO sqlalchemy.engine.base.Engine ()\n",
      "2019-05-16 10:55:00,660 INFO sqlalchemy.engine.base.Engine SELECT * FROM [order]\n",
      "2019-05-16 10:55:00,661 INFO sqlalchemy.engine.base.Engine ()\n",
      "2019-05-16 10:55:00,691 INFO sqlalchemy.engine.base.Engine SELECT * FROM [orderDetail]\n",
      "2019-05-16 10:55:00,692 INFO sqlalchemy.engine.base.Engine ()\n",
      "2019-05-16 10:55:00,724 INFO sqlalchemy.engine.base.Engine SELECT * FROM [product]\n",
      "2019-05-16 10:55:00,724 INFO sqlalchemy.engine.base.Engine ()\n",
      "2019-05-16 10:55:00,729 INFO sqlalchemy.engine.base.Engine SELECT * FROM [region]\n",
      "2019-05-16 10:55:00,730 INFO sqlalchemy.engine.base.Engine ()\n",
      "2019-05-16 10:55:00,733 INFO sqlalchemy.engine.base.Engine SELECT * FROM [shipper]\n",
      "2019-05-16 10:55:00,734 INFO sqlalchemy.engine.base.Engine ()\n",
      "2019-05-16 10:55:00,737 INFO sqlalchemy.engine.base.Engine SELECT * FROM [supplier]\n",
      "2019-05-16 10:55:00,738 INFO sqlalchemy.engine.base.Engine ()\n",
      "2019-05-16 10:55:00,742 INFO sqlalchemy.engine.base.Engine SELECT * FROM [territory]\n",
      "2019-05-16 10:55:00,743 INFO sqlalchemy.engine.base.Engine ()\n"
     ]
    }
   ],
   "source": [
    "category_df= pd.read_sql_query(\"SELECT * FROM [category]\", engine)\n",
    "customer_df = pd.read_sql_query(\"SELECT * FROM [customer]\", engine)\n",
    "customerCustomerDemo_df = pd.read_sql_query(\"SELECT * FROM [customerCustomerDemo]\", engine)\n",
    "customerDemographic_df = pd.read_sql_query(\"SELECT * FROM [customerDemographic]\", engine)\n",
    "employee_df = pd.read_sql_query(\"SELECT * FROM [employee]\", engine)\n",
    "employeeTerritory_df = pd.read_sql_query(\"SELECT * FROM [employeeTerritory]\", engine)\n",
    "order_df = pd.read_sql_query(\"SELECT * FROM [order]\", engine)\n",
    "orderDetail_df = pd.read_sql_query(\"SELECT * FROM [orderDetail]\", engine)\n",
    "product_df = pd.read_sql_query(\"SELECT * FROM [product]\", engine)\n",
    "region_df = pd.read_sql_query(\"SELECT * FROM [region]\", engine)\n",
    "shipper_df = pd.read_sql_query(\"SELECT * FROM [shipper]\", engine)\n",
    "supplier_df = pd.read_sql_query(\"SELECT * FROM [supplier]\", engine)\n",
    "territory_df = pd.read_sql_query(\"SELECT * FROM [territory]\", engine)"
   ]
  },
  {
   "cell_type": "markdown",
   "metadata": {},
   "source": [
    "##### For question one, we need Quantity and Discount features, which are in the Order Detail table"
   ]
  },
  {
   "cell_type": "code",
   "execution_count": 7,
   "metadata": {},
   "outputs": [
    {
     "data": {
      "text/html": [
       "<div>\n",
       "<style scoped>\n",
       "    .dataframe tbody tr th:only-of-type {\n",
       "        vertical-align: middle;\n",
       "    }\n",
       "\n",
       "    .dataframe tbody tr th {\n",
       "        vertical-align: top;\n",
       "    }\n",
       "\n",
       "    .dataframe thead th {\n",
       "        text-align: right;\n",
       "    }\n",
       "</style>\n",
       "<table border=\"1\" class=\"dataframe\">\n",
       "  <thead>\n",
       "    <tr style=\"text-align: right;\">\n",
       "      <th></th>\n",
       "      <th>Id</th>\n",
       "      <th>OrderId</th>\n",
       "      <th>ProductId</th>\n",
       "      <th>UnitPrice</th>\n",
       "      <th>Quantity</th>\n",
       "      <th>Discount</th>\n",
       "    </tr>\n",
       "  </thead>\n",
       "  <tbody>\n",
       "    <tr>\n",
       "      <th>0</th>\n",
       "      <td>10248/11</td>\n",
       "      <td>10248</td>\n",
       "      <td>11</td>\n",
       "      <td>14.0</td>\n",
       "      <td>12</td>\n",
       "      <td>0.0</td>\n",
       "    </tr>\n",
       "    <tr>\n",
       "      <th>1</th>\n",
       "      <td>10248/42</td>\n",
       "      <td>10248</td>\n",
       "      <td>42</td>\n",
       "      <td>9.8</td>\n",
       "      <td>10</td>\n",
       "      <td>0.0</td>\n",
       "    </tr>\n",
       "    <tr>\n",
       "      <th>2</th>\n",
       "      <td>10248/72</td>\n",
       "      <td>10248</td>\n",
       "      <td>72</td>\n",
       "      <td>34.8</td>\n",
       "      <td>5</td>\n",
       "      <td>0.0</td>\n",
       "    </tr>\n",
       "    <tr>\n",
       "      <th>3</th>\n",
       "      <td>10249/14</td>\n",
       "      <td>10249</td>\n",
       "      <td>14</td>\n",
       "      <td>18.6</td>\n",
       "      <td>9</td>\n",
       "      <td>0.0</td>\n",
       "    </tr>\n",
       "    <tr>\n",
       "      <th>4</th>\n",
       "      <td>10249/51</td>\n",
       "      <td>10249</td>\n",
       "      <td>51</td>\n",
       "      <td>42.4</td>\n",
       "      <td>40</td>\n",
       "      <td>0.0</td>\n",
       "    </tr>\n",
       "  </tbody>\n",
       "</table>\n",
       "</div>"
      ],
      "text/plain": [
       "         Id  OrderId  ProductId  UnitPrice  Quantity  Discount\n",
       "0  10248/11    10248         11       14.0        12       0.0\n",
       "1  10248/42    10248         42        9.8        10       0.0\n",
       "2  10248/72    10248         72       34.8         5       0.0\n",
       "3  10249/14    10249         14       18.6         9       0.0\n",
       "4  10249/51    10249         51       42.4        40       0.0"
      ]
     },
     "execution_count": 7,
     "metadata": {},
     "output_type": "execute_result"
    }
   ],
   "source": [
    "orderDetail_df.head()"
   ]
  },
  {
   "cell_type": "markdown",
   "metadata": {},
   "source": [
    "create a new instance of the data we need instead of a pointer"
   ]
  },
  {
   "cell_type": "code",
   "execution_count": 8,
   "metadata": {},
   "outputs": [
    {
     "data": {
      "text/html": [
       "<div>\n",
       "<style scoped>\n",
       "    .dataframe tbody tr th:only-of-type {\n",
       "        vertical-align: middle;\n",
       "    }\n",
       "\n",
       "    .dataframe tbody tr th {\n",
       "        vertical-align: top;\n",
       "    }\n",
       "\n",
       "    .dataframe thead th {\n",
       "        text-align: right;\n",
       "    }\n",
       "</style>\n",
       "<table border=\"1\" class=\"dataframe\">\n",
       "  <thead>\n",
       "    <tr style=\"text-align: right;\">\n",
       "      <th></th>\n",
       "      <th>Quantity</th>\n",
       "      <th>Discount</th>\n",
       "    </tr>\n",
       "  </thead>\n",
       "  <tbody>\n",
       "    <tr>\n",
       "      <th>0</th>\n",
       "      <td>12</td>\n",
       "      <td>0.0</td>\n",
       "    </tr>\n",
       "    <tr>\n",
       "      <th>1</th>\n",
       "      <td>10</td>\n",
       "      <td>0.0</td>\n",
       "    </tr>\n",
       "    <tr>\n",
       "      <th>2</th>\n",
       "      <td>5</td>\n",
       "      <td>0.0</td>\n",
       "    </tr>\n",
       "    <tr>\n",
       "      <th>3</th>\n",
       "      <td>9</td>\n",
       "      <td>0.0</td>\n",
       "    </tr>\n",
       "    <tr>\n",
       "      <th>4</th>\n",
       "      <td>40</td>\n",
       "      <td>0.0</td>\n",
       "    </tr>\n",
       "  </tbody>\n",
       "</table>\n",
       "</div>"
      ],
      "text/plain": [
       "   Quantity  Discount\n",
       "0        12       0.0\n",
       "1        10       0.0\n",
       "2         5       0.0\n",
       "3         9       0.0\n",
       "4        40       0.0"
      ]
     },
     "execution_count": 8,
     "metadata": {},
     "output_type": "execute_result"
    }
   ],
   "source": [
    "q1df = copy.deepcopy(orderDetail_df[[\"Quantity\", \"Discount\"]])\n",
    "q1df.head()"
   ]
  },
  {
   "cell_type": "code",
   "execution_count": 9,
   "metadata": {},
   "outputs": [
    {
     "name": "stdout",
     "output_type": "stream",
     "text": [
      "<class 'pandas.core.frame.DataFrame'>\n",
      "RangeIndex: 2155 entries, 0 to 2154\n",
      "Data columns (total 2 columns):\n",
      "Quantity    2155 non-null int64\n",
      "Discount    2155 non-null float64\n",
      "dtypes: float64(1), int64(1)\n",
      "memory usage: 33.8 KB\n"
     ]
    }
   ],
   "source": [
    "q1df.info()"
   ]
  },
  {
   "cell_type": "markdown",
   "metadata": {},
   "source": [
    "no need to change data types"
   ]
  },
  {
   "cell_type": "code",
   "execution_count": 10,
   "metadata": {},
   "outputs": [
    {
     "data": {
      "text/plain": [
       "0.00    1317\n",
       "0.05     185\n",
       "0.10     173\n",
       "0.20     161\n",
       "0.15     157\n",
       "0.25     154\n",
       "0.03       3\n",
       "0.02       2\n",
       "0.01       1\n",
       "0.04       1\n",
       "0.06       1\n",
       "Name: Discount, dtype: int64"
      ]
     },
     "execution_count": 10,
     "metadata": {},
     "output_type": "execute_result"
    }
   ],
   "source": [
    "q1df.Discount.value_counts()"
   ]
  },
  {
   "cell_type": "markdown",
   "metadata": {},
   "source": [
    "##### remove irrelevant discount levels based on the extremely low number of observations"
   ]
  },
  {
   "cell_type": "code",
   "execution_count": 11,
   "metadata": {},
   "outputs": [],
   "source": [
    "q1df = copy.deepcopy(q1df[q1df.Discount.isin([ 0.05, 0.10, 0.20, 0.15, 0.25, 0.00])])"
   ]
  },
  {
   "cell_type": "markdown",
   "metadata": {},
   "source": [
    "##### must split discount column into two groups; one for those with and another without a discount"
   ]
  },
  {
   "cell_type": "code",
   "execution_count": 12,
   "metadata": {},
   "outputs": [
    {
     "data": {
      "text/plain": [
       "0.0    1317\n",
       "Name: Discount, dtype: int64"
      ]
     },
     "execution_count": 12,
     "metadata": {},
     "output_type": "execute_result"
    }
   ],
   "source": [
    "q1_wDis = q1df[q1df.Discount > 0.0]\n",
    "q1_woDis = q1df[q1df.Discount == 0.0]\n",
    "q1_woDis.Discount.value_counts()"
   ]
  },
  {
   "cell_type": "code",
   "execution_count": 13,
   "metadata": {},
   "outputs": [
    {
     "data": {
      "text/plain": [
       "27.35421686746988"
      ]
     },
     "execution_count": 13,
     "metadata": {},
     "output_type": "execute_result"
    }
   ],
   "source": [
    "wDisAvg = q1_wDis['Quantity'].mean()\n",
    "wDisAvg"
   ]
  },
  {
   "cell_type": "code",
   "execution_count": 14,
   "metadata": {},
   "outputs": [
    {
     "data": {
      "text/plain": [
       "21.715261958997722"
      ]
     },
     "execution_count": 14,
     "metadata": {},
     "output_type": "execute_result"
    }
   ],
   "source": [
    "wOdisAvg = q1_woDis['Quantity'].mean()\n",
    "wOdisAvg"
   ]
  },
  {
   "cell_type": "code",
   "execution_count": 15,
   "metadata": {},
   "outputs": [
    {
     "name": "stdout",
     "output_type": "stream",
     "text": [
      "27.35421686746988\n",
      "21.715261958997722\n"
     ]
    }
   ],
   "source": [
    "print(q1_wDis.Quantity.mean())\n",
    "print(q1_woDis.Quantity.mean())"
   ]
  },
  {
   "cell_type": "markdown",
   "metadata": {},
   "source": [
    "### check for normality in the experiment and control samples"
   ]
  },
  {
   "cell_type": "code",
   "execution_count": 16,
   "metadata": {},
   "outputs": [
    {
     "data": {
      "image/png": "[encoded data removed]",
      "text/plain": [
       "<Figure size 432x288 with 1 Axes>"
      ]
     },
     "metadata": {
      "needs_background": "light"
     },
     "output_type": "display_data"
    }
   ],
   "source": [
    "from statsmodels.graphics.gofplots import qqplot\n",
    "\n",
    "wo_dis = qqplot(q1_woDis.Quantity, line = 's')"
   ]
  },
  {
   "cell_type": "code",
   "execution_count": 17,
   "metadata": {},
   "outputs": [
    {
     "data": {
      "image/png": "[encoded data removed]",
      "text/plain": [
       "<Figure size 432x288 with 1 Axes>"
      ]
     },
     "metadata": {
      "needs_background": "light"
     },
     "output_type": "display_data"
    }
   ],
   "source": [
    "\n",
    "w_dis=qqplot(q1_wDis.Quantity, line = 's')"
   ]
  },
  {
   "cell_type": "markdown",
   "metadata": {},
   "source": [
    "##### The Quanitle Quantile (QQ) plots above for the experiment and control group show a large deviation from the ideal normal distribution (the straight line). "
   ]
  },
  {
   "cell_type": "code",
   "execution_count": 18,
   "metadata": {
    "scrolled": true
   },
   "outputs": [
    {
     "name": "stderr",
     "output_type": "stream",
     "text": [
      "C:\\Users\\mngav\\Anaconda3\\envs\\learn-env\\lib\\site-packages\\scipy\\stats\\stats.py:1713: FutureWarning: Using a non-tuple sequence for multidimensional indexing is deprecated; use `arr[tuple(seq)]` instead of `arr[seq]`. In the future this will be interpreted as an array index, `arr[np.array(seq)]`, which will result either in an error or a different result.\n",
      "  return np.add.reduce(sorted[indexer] * weights, axis=axis) / sumval\n"
     ]
    },
    {
     "data": {
      "text/plain": [
       "<matplotlib.axes._subplots.AxesSubplot at 0x1f4ea30a588>"
      ]
     },
     "execution_count": 18,
     "metadata": {},
     "output_type": "execute_result"
    },
    {
     "data": {
      "image/png": "[encoded data removed]",
      "text/plain": [
       "<Figure size 432x288 with 1 Axes>"
      ]
     },
     "metadata": {
      "needs_background": "light"
     },
     "output_type": "display_data"
    }
   ],
   "source": [
    "# kde turned off so we see actual frequency instead of normalized frequency\n",
    "\n",
    "sns.distplot(q1_wDis.Quantity, kde = False, color = 'g')\n",
    "sns.distplot(q1_woDis.Quantity, kde = False, color = 'b')"
   ]
  },
  {
   "cell_type": "code",
   "execution_count": 19,
   "metadata": {},
   "outputs": [
    {
     "name": "stderr",
     "output_type": "stream",
     "text": [
      "C:\\Users\\mngav\\Anaconda3\\envs\\learn-env\\lib\\site-packages\\scipy\\stats\\stats.py:1713: FutureWarning: Using a non-tuple sequence for multidimensional indexing is deprecated; use `arr[tuple(seq)]` instead of `arr[seq]`. In the future this will be interpreted as an array index, `arr[np.array(seq)]`, which will result either in an error or a different result.\n",
      "  return np.add.reduce(sorted[indexer] * weights, axis=axis) / sumval\n"
     ]
    },
    {
     "data": {
      "text/plain": [
       "<matplotlib.legend.Legend at 0x1f4ea8e8128>"
      ]
     },
     "execution_count": 19,
     "metadata": {},
     "output_type": "execute_result"
    },
    {
     "data": {
      "image/png": "[encoded data removed]",
      "text/plain": [
       "<Figure size 720x504 with 1 Axes>"
      ]
     },
     "metadata": {},
     "output_type": "display_data"
    }
   ],
   "source": [
    "#plt.style.use(\"dark_background\")\n",
    "#sns.set_color_codes(\"bright\")\n",
    "sns.set(rc={'figure.figsize':(10,7)})\n",
    "sns.distplot(q1_wDis.Quantity, color = \"g\", label = \"with discount\", norm_hist = False) \n",
    "sns.distplot(q1_woDis.Quantity, color = \"b\", label = \"without discount\", norm_hist = False) \n",
    "\n",
    "font = {'family': 'serif',\n",
    "        'color':  'darkred',\n",
    "        'weight': 'normal',\n",
    "        'size': 17,\n",
    "        }\n",
    "\n",
    "plt.title(\"Order Quantity with and without a discount\", fontdict=font)\n",
    "plt.legend()"
   ]
  },
  {
   "cell_type": "markdown",
   "metadata": {},
   "source": [
    "##### lets use the stats normaltest function to perform a D'Agostino K**2 test to look at skew (asymmetry) and kurtosis(magnitude of observations present in a tail) "
   ]
  },
  {
   "cell_type": "code",
   "execution_count": 20,
   "metadata": {},
   "outputs": [
    {
     "name": "stdout",
     "output_type": "stream",
     "text": [
      "NormaltestResult(statistic=261.04626710761113, pvalue=2.0631145260149106e-57)\n",
      "NormaltestResult(statistic=544.5770045551502, pvalue=5.579637380545965e-119)\n"
     ]
    }
   ],
   "source": [
    "print(stats.normaltest(q1_wDis.Quantity))\n",
    "print(stats.normaltest(q1_woDis.Quantity))"
   ]
  },
  {
   "cell_type": "markdown",
   "metadata": {},
   "source": [
    "##### P-value for both sets is smaller than alpha so we reject the null that distribution is normal. <br> Now lets focus on getting our samples to fit a normal distribution<br>we will use the property of the Central Limit Theorem and sampling distribution of the mean"
   ]
  },
  {
   "cell_type": "code",
   "execution_count": 21,
   "metadata": {},
   "outputs": [],
   "source": [
    "def get_sample(data, n):\n",
    "    sample = []\n",
    "    while len(sample) != n:\n",
    "        x = np.random.choice(data)\n",
    "        sample.append(x)\n",
    "    \n",
    "    return sample\n",
    "\n",
    "def create_sample_distribution(data, dist_size=1000, n=500):\n",
    "    sample_dist = []\n",
    "    while len(sample_dist) != dist_size:\n",
    "        sample = get_sample(data, n)\n",
    "        sample_mean = sum(sample) / len(sample)\n",
    "        sample_dist.append(sample_mean)\n",
    "    \n",
    "    return sample_dist\n",
    "\n",
    "control_sample1 = create_sample_distribution(q1_woDis.Quantity)\n",
    "experiment_sample1 = create_sample_distribution(q1_wDis.Quantity)\n"
   ]
  },
  {
   "cell_type": "markdown",
   "metadata": {},
   "source": [
    "##### now lets visually inspect the distribution of sample means for the control and experiment groups"
   ]
  },
  {
   "cell_type": "code",
   "execution_count": 22,
   "metadata": {},
   "outputs": [
    {
     "name": "stderr",
     "output_type": "stream",
     "text": [
      "C:\\Users\\mngav\\Anaconda3\\envs\\learn-env\\lib\\site-packages\\scipy\\stats\\stats.py:1713: FutureWarning: Using a non-tuple sequence for multidimensional indexing is deprecated; use `arr[tuple(seq)]` instead of `arr[seq]`. In the future this will be interpreted as an array index, `arr[np.array(seq)]`, which will result either in an error or a different result.\n",
      "  return np.add.reduce(sorted[indexer] * weights, axis=axis) / sumval\n"
     ]
    },
    {
     "data": {
      "text/plain": [
       "<matplotlib.legend.Legend at 0x1f4ea9d3128>"
      ]
     },
     "execution_count": 22,
     "metadata": {},
     "output_type": "execute_result"
    },
    {
     "data": {
      "image/png": "[encoded data removed]",
      "text/plain": [
       "<Figure size 720x720 with 1 Axes>"
      ]
     },
     "metadata": {},
     "output_type": "display_data"
    }
   ],
   "source": [
    "plt.figure(figsize = (10,10))\n",
    "sns.distplot(control_sample1, label = \"control sample\")\n",
    "sns.distplot(experiment_sample1, label = \"experiment sample\")\n",
    "plt.title(\"Distribution of Quantity Ordered\", fontsize= 10)\n",
    "plt.xlabel(\"Quantity Ordered\")\n",
    "plt.legend(fontsize = 10)"
   ]
  },
  {
   "cell_type": "code",
   "execution_count": 23,
   "metadata": {},
   "outputs": [
    {
     "name": "stdout",
     "output_type": "stream",
     "text": [
      "NormaltestResult(statistic=2.9645749720756323, pvalue=0.22711756546371215)\n",
      "NormaltestResult(statistic=1.504360248536967, pvalue=0.4713378567058043)\n"
     ]
    }
   ],
   "source": [
    "print(stats.normaltest(control_sample1))\n",
    "print(stats.normaltest(experiment_sample1))"
   ]
  },
  {
   "cell_type": "markdown",
   "metadata": {},
   "source": [
    "##### running a normal test on the new data we see we fail to reject the null that the distributions are normal <br> Our data now satisfies the normality so we can work with it. "
   ]
  },
  {
   "cell_type": "markdown",
   "metadata": {},
   "source": [
    "## Question 1: \n",
    "##### is there a difference in quantity ordered between no discount and having a discount?"
   ]
  },
  {
   "cell_type": "markdown",
   "metadata": {},
   "source": [
    "$H_O$: There is no difference in the average quantity ordered between product having and not having a discount<br>\n",
    "$H_a$: Products having a discount are ordered in greater quantities compared to those not having a discount<br>\n",
    "\n",
    "this is a one tail test"
   ]
  },
  {
   "cell_type": "markdown",
   "metadata": {},
   "source": [
    "lets get our t statistic and p value"
   ]
  },
  {
   "cell_type": "code",
   "execution_count": 24,
   "metadata": {},
   "outputs": [
    {
     "data": {
      "text/plain": [
       "Ttest_indResult(statistic=149.53741318955213, pvalue=0.0)"
      ]
     },
     "execution_count": 24,
     "metadata": {},
     "output_type": "execute_result"
    }
   ],
   "source": [
    "stats.ttest_ind(experiment_sample1, control_sample1, equal_var = False)"
   ]
  },
  {
   "cell_type": "markdown",
   "metadata": {},
   "source": [
    "##### Conclusion part 1a<br>\n",
    "our t value tells us we have a significant difference in sample mean with T stat of 6.5 thats greater than the critical value of 1.646 and the p value tells us there is a very small probability the result is by chance so, we have evidence to reject the null hypothesis and accept the alternative, i.e., we have sufficient evidence to assert that discounts do have a statistically significant effect on order quantities. "
   ]
  },
  {
   "cell_type": "markdown",
   "metadata": {},
   "source": [
    "for the next part of the question, we will dig a bit deeper to determine if there is a certain level of discount that precipitates an increase in order size, or not"
   ]
  },
  {
   "cell_type": "markdown",
   "metadata": {},
   "source": [
    "will separate/bin the discount levels so we can compare each experiment group to the control"
   ]
  },
  {
   "cell_type": "code",
   "execution_count": 25,
   "metadata": {},
   "outputs": [],
   "source": [
    "df_00 = q1df[q1df.Discount == 0.00]\n",
    "df_05 = q1df[q1df.Discount == 0.05]\n",
    "df_10 = q1df[q1df.Discount == 0.10]\n",
    "df_15 = q1df[q1df.Discount == 0.15]\n",
    "df_20 = q1df[q1df.Discount == 0.20]\n",
    "df_25 = q1df[q1df.Discount == 0.25]"
   ]
  },
  {
   "cell_type": "code",
   "execution_count": 26,
   "metadata": {},
   "outputs": [
    {
     "name": "stderr",
     "output_type": "stream",
     "text": [
      "C:\\Users\\mngav\\Anaconda3\\envs\\learn-env\\lib\\site-packages\\scipy\\stats\\stats.py:1713: FutureWarning: Using a non-tuple sequence for multidimensional indexing is deprecated; use `arr[tuple(seq)]` instead of `arr[seq]`. In the future this will be interpreted as an array index, `arr[np.array(seq)]`, which will result either in an error or a different result.\n",
      "  return np.add.reduce(sorted[indexer] * weights, axis=axis) / sumval\n"
     ]
    },
    {
     "data": {
      "text/plain": [
       "<matplotlib.legend.Legend at 0x1f4eaccad68>"
      ]
     },
     "execution_count": 26,
     "metadata": {},
     "output_type": "execute_result"
    },
    {
     "data": {
      "image/png": "[encoded data removed]",
      "text/plain": [
       "<Figure size 720x360 with 1 Axes>"
      ]
     },
     "metadata": {},
     "output_type": "display_data"
    }
   ],
   "source": [
    "plt.figure(figsize = (10,5))\n",
    "sns.distplot(df_00.Quantity, label = \"df_00\")\n",
    "sns.distplot(df_05.Quantity, label = \"df_05\")\n",
    "sns.distplot(df_10.Quantity, label = \"df_10\")\n",
    "sns.distplot(df_15.Quantity, label = \"df_15\")\n",
    "sns.distplot(df_20.Quantity, label = \"df_20\")\n",
    "sns.distplot(df_25.Quantity, label = \"df_25\")\n",
    "\n",
    "plt.title(\"Distribution of Quantity Ordered\", fontsize= 10)\n",
    "plt.xlabel(\"Quantity Ordered\")\n",
    "plt.legend(fontsize = 10)"
   ]
  },
  {
   "cell_type": "code",
   "execution_count": 27,
   "metadata": {},
   "outputs": [
    {
     "name": "stdout",
     "output_type": "stream",
     "text": [
      "(1317, 2)\n",
      "(185, 2)\n",
      "(173, 2)\n",
      "(157, 2)\n",
      "(161, 2)\n",
      "(154, 2)\n"
     ]
    }
   ],
   "source": [
    "print(df_00.shape)\n",
    "print(df_05.shape)\n",
    "print(df_10.shape)     \n",
    "print(df_15.shape)\n",
    "print(df_20.shape)\n",
    "print(df_25.shape)"
   ]
  },
  {
   "cell_type": "markdown",
   "metadata": {},
   "source": [
    "need to resample from each discount level"
   ]
  },
  {
   "cell_type": "code",
   "execution_count": 28,
   "metadata": {},
   "outputs": [],
   "source": [
    "levels = [df_00.Quantity,df_05.Quantity, df_10.Quantity, df_15.Quantity, df_20.Quantity, df_25.Quantity]"
   ]
  },
  {
   "cell_type": "code",
   "execution_count": 29,
   "metadata": {},
   "outputs": [],
   "source": [
    "norm_00 = create_sample_distribution(df_00.Quantity, dist_size=1000, n=75)\n",
    "norm_05 = create_sample_distribution(df_05.Quantity, dist_size=1000, n=75)\n",
    "norm_10 = create_sample_distribution(df_10.Quantity, dist_size=1000, n=75)\n",
    "norm_15 = create_sample_distribution(df_15.Quantity, dist_size=1000, n=75)\n",
    "norm_20 = create_sample_distribution(df_20.Quantity, dist_size=1000, n=75)\n",
    "norm_25 = create_sample_distribution(df_25.Quantity, dist_size=1000, n=75)"
   ]
  },
  {
   "cell_type": "code",
   "execution_count": 30,
   "metadata": {},
   "outputs": [
    {
     "name": "stderr",
     "output_type": "stream",
     "text": [
      "C:\\Users\\mngav\\Anaconda3\\envs\\learn-env\\lib\\site-packages\\scipy\\stats\\stats.py:1713: FutureWarning: Using a non-tuple sequence for multidimensional indexing is deprecated; use `arr[tuple(seq)]` instead of `arr[seq]`. In the future this will be interpreted as an array index, `arr[np.array(seq)]`, which will result either in an error or a different result.\n",
      "  return np.add.reduce(sorted[indexer] * weights, axis=axis) / sumval\n"
     ]
    },
    {
     "data": {
      "text/plain": [
       "<matplotlib.legend.Legend at 0x1f4eae041d0>"
      ]
     },
     "execution_count": 30,
     "metadata": {},
     "output_type": "execute_result"
    },
    {
     "data": {
      "image/png": "[encoded data removed]",
      "text/plain": [
       "<Figure size 720x360 with 1 Axes>"
      ]
     },
     "metadata": {},
     "output_type": "display_data"
    }
   ],
   "source": [
    "plt.figure(figsize = (10,5))\n",
    "sns.distplot(norm_00, label = \"00\")\n",
    "sns.distplot(norm_05, label = \"05\")\n",
    "sns.distplot(norm_10, label = \"10\")\n",
    "sns.distplot(norm_15, label = \"15\")\n",
    "sns.distplot(norm_20, label = \"20\")\n",
    "sns.distplot(norm_25, label = \"25\")\n",
    "\n",
    "plt.title(\"Distribution of Quantity Ordered\", fontsize= 10)\n",
    "plt.xlabel(\"Quantity Ordered\")\n",
    "plt.legend(fontsize = 10)"
   ]
  },
  {
   "cell_type": "code",
   "execution_count": 31,
   "metadata": {},
   "outputs": [
    {
     "name": "stdout",
     "output_type": "stream",
     "text": [
      "NormaltestResult(statistic=544.5770045551502, pvalue=5.579637380545965e-119)\n",
      "NormaltestResult(statistic=63.84242740591745, pvalue=1.3702286160643066e-14)\n",
      "NormaltestResult(statistic=98.50271035413209, pvalue=4.0776337983848464e-22)\n",
      "NormaltestResult(statistic=38.52550343019272, pvalue=4.308173885400061e-09)\n",
      "NormaltestResult(statistic=31.398997154435623, pvalue=1.519827852850104e-07)\n",
      "NormaltestResult(statistic=54.44887806745976, pvalue=1.5016763972075847e-12)\n"
     ]
    }
   ],
   "source": [
    "norm_levels = [norm_00, norm_05, norm_10, norm_15, norm_20, norm_25]\n",
    "\n",
    "for level in levels:\n",
    "    print(stats.normaltest(level))"
   ]
  },
  {
   "cell_type": "code",
   "execution_count": 32,
   "metadata": {},
   "outputs": [
    {
     "name": "stdout",
     "output_type": "stream",
     "text": [
      "Ttest_indResult(statistic=62.20913337232315, pvalue=0.0)\n",
      "Ttest_indResult(statistic=36.85598192870242, pvalue=3.220743751788842e-224)\n",
      "Ttest_indResult(statistic=69.35080457943252, pvalue=0.0)\n",
      "Ttest_indResult(statistic=57.38696747723793, pvalue=0.0)\n",
      "Ttest_indResult(statistic=68.27824271751511, pvalue=0.0)\n"
     ]
    }
   ],
   "source": [
    "for level in [norm_05, norm_10, norm_15, norm_20, norm_25]:\n",
    "    print(stats.ttest_ind(level, norm_00, equal_var = False))"
   ]
  },
  {
   "cell_type": "markdown",
   "metadata": {},
   "source": [
    "##### Above, our P-values support the alternative hypothesis, that the average quantities sold for having a discount versus not having a discount are not equal, except for the 10% discount level where we cannot reject the null.  So, the distribution for quantity sold at a 10% discount is not dissimilar from not having a discount."
   ]
  },
  {
   "cell_type": "code",
   "execution_count": 33,
   "metadata": {},
   "outputs": [
    {
     "data": {
      "text/html": [
       "<div>\n",
       "<style scoped>\n",
       "    .dataframe tbody tr th:only-of-type {\n",
       "        vertical-align: middle;\n",
       "    }\n",
       "\n",
       "    .dataframe tbody tr th {\n",
       "        vertical-align: top;\n",
       "    }\n",
       "\n",
       "    .dataframe thead th {\n",
       "        text-align: right;\n",
       "    }\n",
       "</style>\n",
       "<table border=\"1\" class=\"dataframe\">\n",
       "  <thead>\n",
       "    <tr style=\"text-align: right;\">\n",
       "      <th></th>\n",
       "      <th>Standard_Deviations_greater_than_mean</th>\n",
       "      <th>Discount_Level</th>\n",
       "    </tr>\n",
       "  </thead>\n",
       "  <tbody>\n",
       "    <tr>\n",
       "      <th>0</th>\n",
       "      <td>3.7</td>\n",
       "      <td>0.05</td>\n",
       "    </tr>\n",
       "    <tr>\n",
       "      <th>1</th>\n",
       "      <td>2.1</td>\n",
       "      <td>0.10</td>\n",
       "    </tr>\n",
       "    <tr>\n",
       "      <th>2</th>\n",
       "      <td>3.8</td>\n",
       "      <td>0.15</td>\n",
       "    </tr>\n",
       "    <tr>\n",
       "      <th>3</th>\n",
       "      <td>3.4</td>\n",
       "      <td>0.20</td>\n",
       "    </tr>\n",
       "    <tr>\n",
       "      <th>4</th>\n",
       "      <td>3.8</td>\n",
       "      <td>0.25</td>\n",
       "    </tr>\n",
       "  </tbody>\n",
       "</table>\n",
       "</div>"
      ],
      "text/plain": [
       "   Standard_Deviations_greater_than_mean  Discount_Level\n",
       "0                                    3.7            0.05\n",
       "1                                    2.1            0.10\n",
       "2                                    3.8            0.15\n",
       "3                                    3.4            0.20\n",
       "4                                    3.8            0.25"
      ]
     },
     "execution_count": 33,
     "metadata": {},
     "output_type": "execute_result"
    }
   ],
   "source": [
    "graph2 = pd.DataFrame([3.7, 2.1, 3.8, 3.4, 3.8]) \n",
    "graph2.columns =  [\"Standard_Deviations_greater_than_mean\"]\n",
    "graph2['Discount_Level'] = [.05, .10, .15, .20, .25]\n",
    "graph2.head()"
   ]
  },
  {
   "cell_type": "code",
   "execution_count": 34,
   "metadata": {},
   "outputs": [
    {
     "data": {
      "image/png": "[encoded data removed]",
      "text/plain": [
       "<Figure size 720x504 with 1 Axes>"
      ]
     },
     "metadata": {},
     "output_type": "display_data"
    }
   ],
   "source": [
    "\n",
    "plt.style.use('ggplot')\n",
    "width = .25\n",
    "ax = sns.barplot(x= \"Discount_Level\", y=\"Standard_Deviations_greater_than_mean\", data=graph2)"
   ]
  },
  {
   "cell_type": "markdown",
   "metadata": {},
   "source": [
    "##### Conclusion part 1b<br>\n",
    "\n",
    "**Restate the question and hypotheses:**<br>\n",
    "is there a difference is quantity ordered between no discount and having a discount?<br>\n",
    "𝐻𝑂: There is no difference in the average quantity ordered between product having and not having a discount<br>\n",
    "𝐻𝑎: Products having a discount are ordered at greater quantities compared to those not having a discount<br>\n",
    "\n",
    "\n",
    "We can see that all levels of discount have a significant effect on the quantity of orders though, a 10% discount has a lesser effect compared to the others which are more in line with each other.  <br>\n",
    "Since there is not much of a difference in the magnitude of effect by the varying discount levels (excluding 10%), it makes sense to use the 5% level in our marketing campaigns since it will produce the same effect in moving product compared to the  highest discount, with the benefit of not having to buy as much demand."
   ]
  },
  {
   "cell_type": "markdown",
   "metadata": {},
   "source": [
    "## Question 2 \n",
    "#### Is there a region that outperforms the others in terms of order quantities?"
   ]
  },
  {
   "cell_type": "markdown",
   "metadata": {},
   "source": [
    "$H_O$: each region sells the same quantities of product<br>\n",
    "$H_a$: regions do not sell the same quantities of product<br>\n",
    "\n",
    "this is a two tailed test"
   ]
  },
  {
   "cell_type": "markdown",
   "metadata": {},
   "source": [
    "We will need features from other tables so below, we merge all relevant tables after renaming a few features so we are sure to have at least one matching column on which to join on"
   ]
  },
  {
   "cell_type": "code",
   "execution_count": 35,
   "metadata": {},
   "outputs": [
    {
     "data": {
      "text/html": [
       "<div>\n",
       "<style scoped>\n",
       "    .dataframe tbody tr th:only-of-type {\n",
       "        vertical-align: middle;\n",
       "    }\n",
       "\n",
       "    .dataframe tbody tr th {\n",
       "        vertical-align: top;\n",
       "    }\n",
       "\n",
       "    .dataframe thead th {\n",
       "        text-align: right;\n",
       "    }\n",
       "</style>\n",
       "<table border=\"1\" class=\"dataframe\">\n",
       "  <thead>\n",
       "    <tr style=\"text-align: right;\">\n",
       "      <th></th>\n",
       "      <th>CategoryId</th>\n",
       "      <th>CategoryName</th>\n",
       "      <th>Description</th>\n",
       "      <th>ProductId</th>\n",
       "      <th>ProductName</th>\n",
       "      <th>SupplierId</th>\n",
       "      <th>QuantityPerUnit</th>\n",
       "      <th>UnitPrice_x</th>\n",
       "      <th>UnitsInStock</th>\n",
       "      <th>UnitsOnOrder</th>\n",
       "      <th>ReorderLevel</th>\n",
       "      <th>Discontinued</th>\n",
       "      <th>Id</th>\n",
       "      <th>OrderId</th>\n",
       "      <th>UnitPrice_y</th>\n",
       "      <th>Quantity</th>\n",
       "      <th>Discount</th>\n",
       "      <th>CustomerId</th>\n",
       "      <th>EmployeeId</th>\n",
       "      <th>OrderDate</th>\n",
       "      <th>RequiredDate</th>\n",
       "      <th>ShippedDate</th>\n",
       "      <th>ShipVia</th>\n",
       "      <th>Freight</th>\n",
       "      <th>ShipName</th>\n",
       "      <th>ShipAddress</th>\n",
       "      <th>ShipCity</th>\n",
       "      <th>ShipRegion</th>\n",
       "      <th>ShipPostalCode</th>\n",
       "      <th>ShipCountry</th>\n",
       "      <th>CompanyName</th>\n",
       "      <th>ContactName</th>\n",
       "      <th>ContactTitle</th>\n",
       "      <th>Address</th>\n",
       "      <th>City</th>\n",
       "      <th>Region</th>\n",
       "      <th>PostalCode</th>\n",
       "      <th>Country</th>\n",
       "      <th>Phone</th>\n",
       "      <th>Fax</th>\n",
       "    </tr>\n",
       "  </thead>\n",
       "  <tbody>\n",
       "    <tr>\n",
       "      <th>0</th>\n",
       "      <td>1</td>\n",
       "      <td>Beverages</td>\n",
       "      <td>Soft drinks, coffees, teas, beers, and ales</td>\n",
       "      <td>1</td>\n",
       "      <td>Chai</td>\n",
       "      <td>1</td>\n",
       "      <td>10 boxes x 20 bags</td>\n",
       "      <td>18.0</td>\n",
       "      <td>39</td>\n",
       "      <td>0</td>\n",
       "      <td>10</td>\n",
       "      <td>0</td>\n",
       "      <td>10285/1</td>\n",
       "      <td>10285</td>\n",
       "      <td>14.4</td>\n",
       "      <td>45</td>\n",
       "      <td>0.2</td>\n",
       "      <td>QUICK</td>\n",
       "      <td>1</td>\n",
       "      <td>2012-08-20</td>\n",
       "      <td>2012-09-17</td>\n",
       "      <td>2012-08-26</td>\n",
       "      <td>2</td>\n",
       "      <td>76.83</td>\n",
       "      <td>QUICK-Stop</td>\n",
       "      <td>Taucherstraße 10</td>\n",
       "      <td>Cunewalde</td>\n",
       "      <td>Western Europe</td>\n",
       "      <td>01307</td>\n",
       "      <td>Germany</td>\n",
       "      <td>QUICK-Stop</td>\n",
       "      <td>Horst Kloss</td>\n",
       "      <td>Accounting Manager</td>\n",
       "      <td>Taucherstraße 10</td>\n",
       "      <td>Cunewalde</td>\n",
       "      <td>Western Europe</td>\n",
       "      <td>01307</td>\n",
       "      <td>Germany</td>\n",
       "      <td>0372-035188</td>\n",
       "      <td>None</td>\n",
       "    </tr>\n",
       "    <tr>\n",
       "      <th>1</th>\n",
       "      <td>6</td>\n",
       "      <td>Meat/Poultry</td>\n",
       "      <td>Prepared meats</td>\n",
       "      <td>53</td>\n",
       "      <td>Perth Pasties</td>\n",
       "      <td>24</td>\n",
       "      <td>48 pieces</td>\n",
       "      <td>32.8</td>\n",
       "      <td>0</td>\n",
       "      <td>0</td>\n",
       "      <td>0</td>\n",
       "      <td>1</td>\n",
       "      <td>10285/53</td>\n",
       "      <td>10285</td>\n",
       "      <td>26.2</td>\n",
       "      <td>36</td>\n",
       "      <td>0.2</td>\n",
       "      <td>QUICK</td>\n",
       "      <td>1</td>\n",
       "      <td>2012-08-20</td>\n",
       "      <td>2012-09-17</td>\n",
       "      <td>2012-08-26</td>\n",
       "      <td>2</td>\n",
       "      <td>76.83</td>\n",
       "      <td>QUICK-Stop</td>\n",
       "      <td>Taucherstraße 10</td>\n",
       "      <td>Cunewalde</td>\n",
       "      <td>Western Europe</td>\n",
       "      <td>01307</td>\n",
       "      <td>Germany</td>\n",
       "      <td>QUICK-Stop</td>\n",
       "      <td>Horst Kloss</td>\n",
       "      <td>Accounting Manager</td>\n",
       "      <td>Taucherstraße 10</td>\n",
       "      <td>Cunewalde</td>\n",
       "      <td>Western Europe</td>\n",
       "      <td>01307</td>\n",
       "      <td>Germany</td>\n",
       "      <td>0372-035188</td>\n",
       "      <td>None</td>\n",
       "    </tr>\n",
       "    <tr>\n",
       "      <th>2</th>\n",
       "      <td>8</td>\n",
       "      <td>Seafood</td>\n",
       "      <td>Seaweed and fish</td>\n",
       "      <td>40</td>\n",
       "      <td>Boston Crab Meat</td>\n",
       "      <td>19</td>\n",
       "      <td>24 - 4 oz tins</td>\n",
       "      <td>18.4</td>\n",
       "      <td>123</td>\n",
       "      <td>0</td>\n",
       "      <td>30</td>\n",
       "      <td>0</td>\n",
       "      <td>10285/40</td>\n",
       "      <td>10285</td>\n",
       "      <td>14.7</td>\n",
       "      <td>40</td>\n",
       "      <td>0.2</td>\n",
       "      <td>QUICK</td>\n",
       "      <td>1</td>\n",
       "      <td>2012-08-20</td>\n",
       "      <td>2012-09-17</td>\n",
       "      <td>2012-08-26</td>\n",
       "      <td>2</td>\n",
       "      <td>76.83</td>\n",
       "      <td>QUICK-Stop</td>\n",
       "      <td>Taucherstraße 10</td>\n",
       "      <td>Cunewalde</td>\n",
       "      <td>Western Europe</td>\n",
       "      <td>01307</td>\n",
       "      <td>Germany</td>\n",
       "      <td>QUICK-Stop</td>\n",
       "      <td>Horst Kloss</td>\n",
       "      <td>Accounting Manager</td>\n",
       "      <td>Taucherstraße 10</td>\n",
       "      <td>Cunewalde</td>\n",
       "      <td>Western Europe</td>\n",
       "      <td>01307</td>\n",
       "      <td>Germany</td>\n",
       "      <td>0372-035188</td>\n",
       "      <td>None</td>\n",
       "    </tr>\n",
       "    <tr>\n",
       "      <th>3</th>\n",
       "      <td>1</td>\n",
       "      <td>Beverages</td>\n",
       "      <td>Soft drinks, coffees, teas, beers, and ales</td>\n",
       "      <td>1</td>\n",
       "      <td>Chai</td>\n",
       "      <td>1</td>\n",
       "      <td>10 boxes x 20 bags</td>\n",
       "      <td>18.0</td>\n",
       "      <td>39</td>\n",
       "      <td>0</td>\n",
       "      <td>10</td>\n",
       "      <td>0</td>\n",
       "      <td>10691/1</td>\n",
       "      <td>10691</td>\n",
       "      <td>18.0</td>\n",
       "      <td>30</td>\n",
       "      <td>0.0</td>\n",
       "      <td>QUICK</td>\n",
       "      <td>2</td>\n",
       "      <td>2013-10-03</td>\n",
       "      <td>2013-11-14</td>\n",
       "      <td>2013-10-22</td>\n",
       "      <td>2</td>\n",
       "      <td>810.05</td>\n",
       "      <td>QUICK-Stop</td>\n",
       "      <td>Taucherstraße 10</td>\n",
       "      <td>Cunewalde</td>\n",
       "      <td>Western Europe</td>\n",
       "      <td>01307</td>\n",
       "      <td>Germany</td>\n",
       "      <td>QUICK-Stop</td>\n",
       "      <td>Horst Kloss</td>\n",
       "      <td>Accounting Manager</td>\n",
       "      <td>Taucherstraße 10</td>\n",
       "      <td>Cunewalde</td>\n",
       "      <td>Western Europe</td>\n",
       "      <td>01307</td>\n",
       "      <td>Germany</td>\n",
       "      <td>0372-035188</td>\n",
       "      <td>None</td>\n",
       "    </tr>\n",
       "    <tr>\n",
       "      <th>4</th>\n",
       "      <td>1</td>\n",
       "      <td>Beverages</td>\n",
       "      <td>Soft drinks, coffees, teas, beers, and ales</td>\n",
       "      <td>43</td>\n",
       "      <td>Ipoh Coffee</td>\n",
       "      <td>20</td>\n",
       "      <td>16 - 500 g tins</td>\n",
       "      <td>46.0</td>\n",
       "      <td>17</td>\n",
       "      <td>10</td>\n",
       "      <td>25</td>\n",
       "      <td>0</td>\n",
       "      <td>10691/43</td>\n",
       "      <td>10691</td>\n",
       "      <td>46.0</td>\n",
       "      <td>40</td>\n",
       "      <td>0.0</td>\n",
       "      <td>QUICK</td>\n",
       "      <td>2</td>\n",
       "      <td>2013-10-03</td>\n",
       "      <td>2013-11-14</td>\n",
       "      <td>2013-10-22</td>\n",
       "      <td>2</td>\n",
       "      <td>810.05</td>\n",
       "      <td>QUICK-Stop</td>\n",
       "      <td>Taucherstraße 10</td>\n",
       "      <td>Cunewalde</td>\n",
       "      <td>Western Europe</td>\n",
       "      <td>01307</td>\n",
       "      <td>Germany</td>\n",
       "      <td>QUICK-Stop</td>\n",
       "      <td>Horst Kloss</td>\n",
       "      <td>Accounting Manager</td>\n",
       "      <td>Taucherstraße 10</td>\n",
       "      <td>Cunewalde</td>\n",
       "      <td>Western Europe</td>\n",
       "      <td>01307</td>\n",
       "      <td>Germany</td>\n",
       "      <td>0372-035188</td>\n",
       "      <td>None</td>\n",
       "    </tr>\n",
       "  </tbody>\n",
       "</table>\n",
       "</div>"
      ],
      "text/plain": [
       "   CategoryId  CategoryName                                  Description  \\\n",
       "0           1     Beverages  Soft drinks, coffees, teas, beers, and ales   \n",
       "1           6  Meat/Poultry                               Prepared meats   \n",
       "2           8       Seafood                             Seaweed and fish   \n",
       "3           1     Beverages  Soft drinks, coffees, teas, beers, and ales   \n",
       "4           1     Beverages  Soft drinks, coffees, teas, beers, and ales   \n",
       "\n",
       "   ProductId       ProductName  SupplierId     QuantityPerUnit  UnitPrice_x  \\\n",
       "0          1              Chai           1  10 boxes x 20 bags         18.0   \n",
       "1         53     Perth Pasties          24           48 pieces         32.8   \n",
       "2         40  Boston Crab Meat          19      24 - 4 oz tins         18.4   \n",
       "3          1              Chai           1  10 boxes x 20 bags         18.0   \n",
       "4         43       Ipoh Coffee          20     16 - 500 g tins         46.0   \n",
       "\n",
       "   UnitsInStock  UnitsOnOrder  ReorderLevel  Discontinued        Id  OrderId  \\\n",
       "0            39             0            10             0   10285/1    10285   \n",
       "1             0             0             0             1  10285/53    10285   \n",
       "2           123             0            30             0  10285/40    10285   \n",
       "3            39             0            10             0   10691/1    10691   \n",
       "4            17            10            25             0  10691/43    10691   \n",
       "\n",
       "   UnitPrice_y  Quantity  Discount CustomerId  EmployeeId   OrderDate  \\\n",
       "0         14.4        45       0.2      QUICK           1  2012-08-20   \n",
       "1         26.2        36       0.2      QUICK           1  2012-08-20   \n",
       "2         14.7        40       0.2      QUICK           1  2012-08-20   \n",
       "3         18.0        30       0.0      QUICK           2  2013-10-03   \n",
       "4         46.0        40       0.0      QUICK           2  2013-10-03   \n",
       "\n",
       "  RequiredDate ShippedDate  ShipVia  Freight    ShipName       ShipAddress  \\\n",
       "0   2012-09-17  2012-08-26        2    76.83  QUICK-Stop  Taucherstraße 10   \n",
       "1   2012-09-17  2012-08-26        2    76.83  QUICK-Stop  Taucherstraße 10   \n",
       "2   2012-09-17  2012-08-26        2    76.83  QUICK-Stop  Taucherstraße 10   \n",
       "3   2013-11-14  2013-10-22        2   810.05  QUICK-Stop  Taucherstraße 10   \n",
       "4   2013-11-14  2013-10-22        2   810.05  QUICK-Stop  Taucherstraße 10   \n",
       "\n",
       "    ShipCity      ShipRegion ShipPostalCode ShipCountry CompanyName  \\\n",
       "0  Cunewalde  Western Europe          01307     Germany  QUICK-Stop   \n",
       "1  Cunewalde  Western Europe          01307     Germany  QUICK-Stop   \n",
       "2  Cunewalde  Western Europe          01307     Germany  QUICK-Stop   \n",
       "3  Cunewalde  Western Europe          01307     Germany  QUICK-Stop   \n",
       "4  Cunewalde  Western Europe          01307     Germany  QUICK-Stop   \n",
       "\n",
       "   ContactName        ContactTitle           Address       City  \\\n",
       "0  Horst Kloss  Accounting Manager  Taucherstraße 10  Cunewalde   \n",
       "1  Horst Kloss  Accounting Manager  Taucherstraße 10  Cunewalde   \n",
       "2  Horst Kloss  Accounting Manager  Taucherstraße 10  Cunewalde   \n",
       "3  Horst Kloss  Accounting Manager  Taucherstraße 10  Cunewalde   \n",
       "4  Horst Kloss  Accounting Manager  Taucherstraße 10  Cunewalde   \n",
       "\n",
       "           Region PostalCode  Country        Phone   Fax  \n",
       "0  Western Europe      01307  Germany  0372-035188  None  \n",
       "1  Western Europe      01307  Germany  0372-035188  None  \n",
       "2  Western Europe      01307  Germany  0372-035188  None  \n",
       "3  Western Europe      01307  Germany  0372-035188  None  \n",
       "4  Western Europe      01307  Germany  0372-035188  None  "
      ]
     },
     "execution_count": 35,
     "metadata": {},
     "output_type": "execute_result"
    }
   ],
   "source": [
    "category_df.rename(columns = {\"Id\":\"CategoryId\"}, inplace = True)\n",
    "cat_prod_df = pd.merge(category_df, product_df, on = \"CategoryId\" )\n",
    "cat_prod_df.rename(columns = {\"Id\": \"ProductId\"}, inplace = True)\n",
    "cat_prod_OrDtl_df = pd.merge(cat_prod_df, orderDetail_df, on = \"ProductId\")\n",
    "order_df.rename(columns = {\"Id\" : \"OrderId\"}, inplace = True)\n",
    "cat_prod_OrDtl_orders_df = pd.merge(cat_prod_OrDtl_df, order_df, on = \"OrderId\" )\n",
    "customer_df.rename(columns ={\"Id\": \"CustomerId\"}, inplace = True)\n",
    "data = pd.merge(cat_prod_OrDtl_orders_df, customer_df, on = \"CustomerId\")\n",
    "data.head()"
   ]
  },
  {
   "cell_type": "code",
   "execution_count": 36,
   "metadata": {
    "scrolled": true
   },
   "outputs": [
    {
     "name": "stdout",
     "output_type": "stream",
     "text": [
      "<class 'pandas.core.frame.DataFrame'>\n",
      "Int64Index: 2078 entries, 0 to 2077\n",
      "Data columns (total 40 columns):\n",
      "CategoryId         2078 non-null int64\n",
      "CategoryName       2078 non-null object\n",
      "Description        2078 non-null object\n",
      "ProductId          2078 non-null int64\n",
      "ProductName        2078 non-null object\n",
      "SupplierId         2078 non-null int64\n",
      "QuantityPerUnit    2078 non-null object\n",
      "UnitPrice_x        2078 non-null float64\n",
      "UnitsInStock       2078 non-null int64\n",
      "UnitsOnOrder       2078 non-null int64\n",
      "ReorderLevel       2078 non-null int64\n",
      "Discontinued       2078 non-null int64\n",
      "Id                 2078 non-null object\n",
      "OrderId            2078 non-null int64\n",
      "UnitPrice_y        2078 non-null float64\n",
      "Quantity           2078 non-null int64\n",
      "Discount           2078 non-null float64\n",
      "CustomerId         2078 non-null object\n",
      "EmployeeId         2078 non-null int64\n",
      "OrderDate          2078 non-null object\n",
      "RequiredDate       2078 non-null object\n",
      "ShippedDate        2008 non-null object\n",
      "ShipVia            2078 non-null int64\n",
      "Freight            2078 non-null float64\n",
      "ShipName           2078 non-null object\n",
      "ShipAddress        2078 non-null object\n",
      "ShipCity           2078 non-null object\n",
      "ShipRegion         2078 non-null object\n",
      "ShipPostalCode     2023 non-null object\n",
      "ShipCountry        2078 non-null object\n",
      "CompanyName        2078 non-null object\n",
      "ContactName        2078 non-null object\n",
      "ContactTitle       2078 non-null object\n",
      "Address            2078 non-null object\n",
      "City               2078 non-null object\n",
      "Region             2078 non-null object\n",
      "PostalCode         2023 non-null object\n",
      "Country            2078 non-null object\n",
      "Phone              2078 non-null object\n",
      "Fax                1486 non-null object\n",
      "dtypes: float64(4), int64(11), object(25)\n",
      "memory usage: 665.6+ KB\n"
     ]
    }
   ],
   "source": [
    "data.info()"
   ]
  },
  {
   "cell_type": "markdown",
   "metadata": {},
   "source": [
    "Lets isolate Region and Quantity so we can answer our second question"
   ]
  },
  {
   "cell_type": "code",
   "execution_count": 37,
   "metadata": {},
   "outputs": [
    {
     "data": {
      "text/plain": [
       "Western Europe     736\n",
       "North America      427\n",
       "South America      304\n",
       "British Isles      190\n",
       "Northern Europe    143\n",
       "Southern Europe    137\n",
       "Scandinavia         70\n",
       "Central America     55\n",
       "Eastern Europe      16\n",
       "Name: Region, dtype: int64"
      ]
     },
     "execution_count": 37,
     "metadata": {},
     "output_type": "execute_result"
    }
   ],
   "source": [
    "q2df = data[[\"Region\", \"Quantity\"]]\n",
    "q2df.head()\n",
    "q2df.Region.value_counts()"
   ]
  },
  {
   "cell_type": "code",
   "execution_count": 38,
   "metadata": {},
   "outputs": [
    {
     "data": {
      "text/html": [
       "<div>\n",
       "<style scoped>\n",
       "    .dataframe tbody tr th:only-of-type {\n",
       "        vertical-align: middle;\n",
       "    }\n",
       "\n",
       "    .dataframe tbody tr th {\n",
       "        vertical-align: top;\n",
       "    }\n",
       "\n",
       "    .dataframe thead th {\n",
       "        text-align: right;\n",
       "    }\n",
       "</style>\n",
       "<table border=\"1\" class=\"dataframe\">\n",
       "  <thead>\n",
       "    <tr style=\"text-align: right;\">\n",
       "      <th></th>\n",
       "      <th>Region</th>\n",
       "      <th>Quantity</th>\n",
       "    </tr>\n",
       "  </thead>\n",
       "  <tbody>\n",
       "    <tr>\n",
       "      <th>0</th>\n",
       "      <td>Western Europe</td>\n",
       "      <td>45</td>\n",
       "    </tr>\n",
       "    <tr>\n",
       "      <th>1</th>\n",
       "      <td>Western Europe</td>\n",
       "      <td>36</td>\n",
       "    </tr>\n",
       "    <tr>\n",
       "      <th>2</th>\n",
       "      <td>Western Europe</td>\n",
       "      <td>40</td>\n",
       "    </tr>\n",
       "    <tr>\n",
       "      <th>3</th>\n",
       "      <td>Western Europe</td>\n",
       "      <td>30</td>\n",
       "    </tr>\n",
       "    <tr>\n",
       "      <th>4</th>\n",
       "      <td>Western Europe</td>\n",
       "      <td>40</td>\n",
       "    </tr>\n",
       "  </tbody>\n",
       "</table>\n",
       "</div>"
      ],
      "text/plain": [
       "           Region  Quantity\n",
       "0  Western Europe        45\n",
       "1  Western Europe        36\n",
       "2  Western Europe        40\n",
       "3  Western Europe        30\n",
       "4  Western Europe        40"
      ]
     },
     "execution_count": 38,
     "metadata": {},
     "output_type": "execute_result"
    }
   ],
   "source": [
    "q2df.head()"
   ]
  },
  {
   "cell_type": "code",
   "execution_count": 39,
   "metadata": {},
   "outputs": [
    {
     "data": {
      "text/html": [
       "<div>\n",
       "<style scoped>\n",
       "    .dataframe tbody tr th:only-of-type {\n",
       "        vertical-align: middle;\n",
       "    }\n",
       "\n",
       "    .dataframe tbody tr th {\n",
       "        vertical-align: top;\n",
       "    }\n",
       "\n",
       "    .dataframe thead th {\n",
       "        text-align: right;\n",
       "    }\n",
       "</style>\n",
       "<table border=\"1\" class=\"dataframe\">\n",
       "  <thead>\n",
       "    <tr style=\"text-align: right;\">\n",
       "      <th></th>\n",
       "      <th>Quantity</th>\n",
       "    </tr>\n",
       "    <tr>\n",
       "      <th>Region</th>\n",
       "      <th></th>\n",
       "    </tr>\n",
       "  </thead>\n",
       "  <tbody>\n",
       "    <tr>\n",
       "      <th>British Isles</th>\n",
       "      <td>23.294737</td>\n",
       "    </tr>\n",
       "    <tr>\n",
       "      <th>Central America</th>\n",
       "      <td>12.109091</td>\n",
       "    </tr>\n",
       "    <tr>\n",
       "      <th>Eastern Europe</th>\n",
       "      <td>12.812500</td>\n",
       "    </tr>\n",
       "    <tr>\n",
       "      <th>North America</th>\n",
       "      <td>26.496487</td>\n",
       "    </tr>\n",
       "    <tr>\n",
       "      <th>Northern Europe</th>\n",
       "      <td>23.811189</td>\n",
       "    </tr>\n",
       "    <tr>\n",
       "      <th>Scandinavia</th>\n",
       "      <td>14.942857</td>\n",
       "    </tr>\n",
       "    <tr>\n",
       "      <th>South America</th>\n",
       "      <td>20.917763</td>\n",
       "    </tr>\n",
       "    <tr>\n",
       "      <th>Southern Europe</th>\n",
       "      <td>15.131387</td>\n",
       "    </tr>\n",
       "    <tr>\n",
       "      <th>Western Europe</th>\n",
       "      <td>27.474185</td>\n",
       "    </tr>\n",
       "  </tbody>\n",
       "</table>\n",
       "</div>"
      ],
      "text/plain": [
       "                  Quantity\n",
       "Region                    \n",
       "British Isles    23.294737\n",
       "Central America  12.109091\n",
       "Eastern Europe   12.812500\n",
       "North America    26.496487\n",
       "Northern Europe  23.811189\n",
       "Scandinavia      14.942857\n",
       "South America    20.917763\n",
       "Southern Europe  15.131387\n",
       "Western Europe   27.474185"
      ]
     },
     "execution_count": 39,
     "metadata": {},
     "output_type": "execute_result"
    }
   ],
   "source": [
    "q2df.groupby(\"Region\").mean()"
   ]
  },
  {
   "cell_type": "code",
   "execution_count": 40,
   "metadata": {},
   "outputs": [
    {
     "data": {
      "text/plain": [
       "array(['British Isles', 'Central America', 'Eastern Europe',\n",
       "       'North America', 'Northern Europe', 'Scandinavia', 'South America',\n",
       "       'Southern Europe', 'Western Europe'], dtype=object)"
      ]
     },
     "execution_count": 40,
     "metadata": {},
     "output_type": "execute_result"
    }
   ],
   "source": [
    "regions = q2df.Region.unique()\n",
    "np.sort(regions)"
   ]
  },
  {
   "cell_type": "markdown",
   "metadata": {},
   "source": [
    "### check for normality"
   ]
  },
  {
   "cell_type": "code",
   "execution_count": 41,
   "metadata": {},
   "outputs": [],
   "source": [
    "BI = q2df[q2df.Region == \"British Isles\"]\n",
    "CA = q2df[q2df.Region == \"Central America\"]\n",
    "EE = q2df[q2df.Region == \"Eastern Europe\"]\n",
    "NA = q2df[q2df.Region == \"North America\"]\n",
    "NE = q2df[q2df.Region == \"Northern Europe\"]\n",
    "S = q2df[q2df.Region == \"Scandinavia\"]\n",
    "SA = q2df[q2df.Region == \"South America\"]\n",
    "SE = q2df[q2df.Region == \"Southern Europe\"]\n",
    "WE = q2df[q2df.Region == \"Western Europe\"]"
   ]
  },
  {
   "cell_type": "code",
   "execution_count": 42,
   "metadata": {},
   "outputs": [
    {
     "data": {
      "text/plain": [
       "pandas.core.frame.DataFrame"
      ]
     },
     "execution_count": 42,
     "metadata": {},
     "output_type": "execute_result"
    }
   ],
   "source": [
    "type(BI)"
   ]
  },
  {
   "cell_type": "code",
   "execution_count": 43,
   "metadata": {},
   "outputs": [
    {
     "data": {
      "text/html": [
       "<div>\n",
       "<style scoped>\n",
       "    .dataframe tbody tr th:only-of-type {\n",
       "        vertical-align: middle;\n",
       "    }\n",
       "\n",
       "    .dataframe tbody tr th {\n",
       "        vertical-align: top;\n",
       "    }\n",
       "\n",
       "    .dataframe thead th {\n",
       "        text-align: right;\n",
       "    }\n",
       "</style>\n",
       "<table border=\"1\" class=\"dataframe\">\n",
       "  <thead>\n",
       "    <tr style=\"text-align: right;\">\n",
       "      <th></th>\n",
       "      <th>Region</th>\n",
       "      <th>Quantity</th>\n",
       "    </tr>\n",
       "  </thead>\n",
       "  <tbody>\n",
       "    <tr>\n",
       "      <th>453</th>\n",
       "      <td>British Isles</td>\n",
       "      <td>15</td>\n",
       "    </tr>\n",
       "    <tr>\n",
       "      <th>454</th>\n",
       "      <td>British Isles</td>\n",
       "      <td>35</td>\n",
       "    </tr>\n",
       "    <tr>\n",
       "      <th>455</th>\n",
       "      <td>British Isles</td>\n",
       "      <td>30</td>\n",
       "    </tr>\n",
       "    <tr>\n",
       "      <th>456</th>\n",
       "      <td>British Isles</td>\n",
       "      <td>18</td>\n",
       "    </tr>\n",
       "    <tr>\n",
       "      <th>457</th>\n",
       "      <td>British Isles</td>\n",
       "      <td>40</td>\n",
       "    </tr>\n",
       "  </tbody>\n",
       "</table>\n",
       "</div>"
      ],
      "text/plain": [
       "            Region  Quantity\n",
       "453  British Isles        15\n",
       "454  British Isles        35\n",
       "455  British Isles        30\n",
       "456  British Isles        18\n",
       "457  British Isles        40"
      ]
     },
     "execution_count": 43,
     "metadata": {},
     "output_type": "execute_result"
    }
   ],
   "source": [
    "BI.head()"
   ]
  },
  {
   "cell_type": "code",
   "execution_count": 44,
   "metadata": {},
   "outputs": [
    {
     "name": "stderr",
     "output_type": "stream",
     "text": [
      "C:\\Users\\mngav\\Anaconda3\\envs\\learn-env\\lib\\site-packages\\scipy\\stats\\stats.py:1713: FutureWarning: Using a non-tuple sequence for multidimensional indexing is deprecated; use `arr[tuple(seq)]` instead of `arr[seq]`. In the future this will be interpreted as an array index, `arr[np.array(seq)]`, which will result either in an error or a different result.\n",
      "  return np.add.reduce(sorted[indexer] * weights, axis=axis) / sumval\n"
     ]
    },
    {
     "data": {
      "text/plain": [
       "<matplotlib.legend.Legend at 0x1f4ec209a20>"
      ]
     },
     "execution_count": 44,
     "metadata": {},
     "output_type": "execute_result"
    },
    {
     "data": {
      "image/png": "[encoded data removed]",
      "text/plain": [
       "<Figure size 720x360 with 1 Axes>"
      ]
     },
     "metadata": {},
     "output_type": "display_data"
    }
   ],
   "source": [
    "plt.figure(figsize = (10,5))\n",
    "sns.distplot(BI.Quantity, label = \"BI\")\n",
    "sns.distplot(CA.Quantity, label = \"CA\")\n",
    "sns.distplot(EE.Quantity, label = \"EE\")\n",
    "sns.distplot(NA.Quantity, label = \"NA\")\n",
    "sns.distplot(NE.Quantity, label = \"NE\")\n",
    "sns.distplot(S.Quantity, label = \"S\")\n",
    "sns.distplot(SA.Quantity, label = \"SA\")\n",
    "sns.distplot(SE.Quantity, label = \"SE\")\n",
    "sns.distplot(WE.Quantity, label = \"WE\")\n",
    "\n",
    "plt.title(\"Distribution of Quantity Ordered\", fontsize= 10)\n",
    "plt.xlabel(\"Quantity Ordered\")\n",
    "plt.legend(fontsize = 10)"
   ]
  },
  {
   "cell_type": "markdown",
   "metadata": {},
   "source": [
    "##### Distributions of order quantities by Region to not appear to be Gaussian.  "
   ]
  },
  {
   "cell_type": "code",
   "execution_count": 45,
   "metadata": {},
   "outputs": [
    {
     "data": {
      "text/plain": [
       "Western Europe     736\n",
       "North America      427\n",
       "South America      304\n",
       "British Isles      190\n",
       "Northern Europe    143\n",
       "Southern Europe    137\n",
       "Scandinavia         70\n",
       "Central America     55\n",
       "Eastern Europe      16\n",
       "Name: Region, dtype: int64"
      ]
     },
     "execution_count": 45,
     "metadata": {},
     "output_type": "execute_result"
    }
   ],
   "source": [
    "q2df.Region.value_counts()"
   ]
  },
  {
   "cell_type": "code",
   "execution_count": 46,
   "metadata": {},
   "outputs": [
    {
     "name": "stdout",
     "output_type": "stream",
     "text": [
      "NormaltestResult(statistic=41.20964825972506, pvalue=1.1257412494490523e-09)\n",
      "NormaltestResult(statistic=5.227258641733324, pvalue=0.07326814702099883)\n",
      "NormaltestResult(statistic=2.85771466977834, pvalue=0.2395825284902985)\n",
      "NormaltestResult(statistic=135.5391214240316, pvalue=3.6987394699448064e-30)\n",
      "NormaltestResult(statistic=12.515701339906958, pvalue=0.0019153581124284672)\n",
      "NormaltestResult(statistic=16.2575615239265, pvalue=0.00029492756859355945)\n",
      "NormaltestResult(statistic=60.88963734985063, pvalue=5.997679395462476e-14)\n",
      "NormaltestResult(statistic=21.06008924451824, pvalue=2.6721431883985708e-05)\n",
      "NormaltestResult(statistic=267.16931245173646, pvalue=9.658750198147336e-59)\n"
     ]
    },
    {
     "name": "stderr",
     "output_type": "stream",
     "text": [
      "C:\\Users\\mngav\\Anaconda3\\envs\\learn-env\\lib\\site-packages\\scipy\\stats\\stats.py:1394: UserWarning: kurtosistest only valid for n>=20 ... continuing anyway, n=16\n",
      "  \"anyway, n=%i\" % int(n))\n"
     ]
    }
   ],
   "source": [
    "for i in [BI, CA, EE, NA, NE, S, SA, SE, WE]:\n",
    "    print(stats.normaltest(i.Quantity))"
   ]
  },
  {
   "cell_type": "markdown",
   "metadata": {},
   "source": [
    "#### stats normaltest confirms the distributions are not normal<br>Lets re-sample to gather distribution means that will satisfy normality assumptions"
   ]
  },
  {
   "cell_type": "code",
   "execution_count": 47,
   "metadata": {},
   "outputs": [],
   "source": [
    "#resample data for each region\n",
    "\n",
    "norm_BI = create_sample_distribution(BI.Quantity, dist_size=40, n=5)\n",
    "norm_CA = create_sample_distribution(CA.Quantity, dist_size=40, n=5)\n",
    "norm_EE = create_sample_distribution(EE.Quantity, dist_size=40, n=5)\n",
    "norm_NA = create_sample_distribution(NA.Quantity, dist_size=40, n=5)\n",
    "norm_NE = create_sample_distribution(NE.Quantity, dist_size=40, n=5)\n",
    "norm_S = create_sample_distribution(S.Quantity, dist_size=40, n=5)\n",
    "norm_SA = create_sample_distribution(SA.Quantity, dist_size=40, n=5)\n",
    "norm_SE = create_sample_distribution(SE.Quantity, dist_size=40, n=5)\n",
    "norm_WE = create_sample_distribution(WE.Quantity, dist_size=40, n=5)\n"
   ]
  },
  {
   "cell_type": "code",
   "execution_count": 48,
   "metadata": {},
   "outputs": [
    {
     "data": {
      "text/plain": [
       "list"
      ]
     },
     "execution_count": 48,
     "metadata": {},
     "output_type": "execute_result"
    }
   ],
   "source": [
    "type(norm_BI)"
   ]
  },
  {
   "cell_type": "code",
   "execution_count": 49,
   "metadata": {},
   "outputs": [
    {
     "name": "stderr",
     "output_type": "stream",
     "text": [
      "C:\\Users\\mngav\\Anaconda3\\envs\\learn-env\\lib\\site-packages\\scipy\\stats\\stats.py:1713: FutureWarning: Using a non-tuple sequence for multidimensional indexing is deprecated; use `arr[tuple(seq)]` instead of `arr[seq]`. In the future this will be interpreted as an array index, `arr[np.array(seq)]`, which will result either in an error or a different result.\n",
      "  return np.add.reduce(sorted[indexer] * weights, axis=axis) / sumval\n"
     ]
    },
    {
     "data": {
      "text/plain": [
       "<matplotlib.legend.Legend at 0x1f4ec4c1a58>"
      ]
     },
     "execution_count": 49,
     "metadata": {},
     "output_type": "execute_result"
    },
    {
     "data": {
      "image/png": "[encoded data removed]",
      "text/plain": [
       "<Figure size 720x360 with 1 Axes>"
      ]
     },
     "metadata": {},
     "output_type": "display_data"
    }
   ],
   "source": [
    "plt.figure(figsize = (10,5))\n",
    "sns.distplot(norm_BI, label = \"BI\")\n",
    "sns.distplot(norm_CA, label = \"CA\")\n",
    "sns.distplot(norm_EE, label = \"EE\")\n",
    "sns.distplot(norm_NA, label = \"NA\")\n",
    "sns.distplot(norm_NE, label = \"NE\")\n",
    "sns.distplot(norm_S, label = \"S\")\n",
    "sns.distplot(norm_SA, label = \"SA\")\n",
    "sns.distplot(norm_SE, label = \"SE\")\n",
    "sns.distplot(norm_WE, label = \"WE\")\n",
    "\n",
    "plt.title(\"Distribution of Quantity Ordered\", fontsize= 10)\n",
    "plt.xlabel(\"Quantity Ordered\")\n",
    "plt.legend(fontsize = 10)"
   ]
  },
  {
   "cell_type": "code",
   "execution_count": 50,
   "metadata": {},
   "outputs": [
    {
     "name": "stdout",
     "output_type": "stream",
     "text": [
      "NormaltestResult(statistic=1.1124262185456453, pvalue=0.5733762710545094)\n",
      "NormaltestResult(statistic=1.053360547485651, pvalue=0.5905622240281216)\n",
      "NormaltestResult(statistic=0.5022636093196096, pvalue=0.7779198313427411)\n",
      "NormaltestResult(statistic=1.6728839101564352, pvalue=0.4332493047678372)\n",
      "NormaltestResult(statistic=2.4596554673366358, pvalue=0.29234293418823526)\n",
      "NormaltestResult(statistic=1.9823242774124015, pvalue=0.371145118189406)\n",
      "NormaltestResult(statistic=2.3789082027952917, pvalue=0.30438738336758625)\n",
      "NormaltestResult(statistic=2.318385207846558, pvalue=0.3137393906016676)\n",
      "NormaltestResult(statistic=6.700276940949075, pvalue=0.035079496290023285)\n"
     ]
    }
   ],
   "source": [
    "for i in [norm_BI, norm_CA, norm_EE, norm_NA, norm_NE, norm_S, norm_SA, norm_SE, norm_WE]:\n",
    "    print(stats.normaltest(i))"
   ]
  },
  {
   "cell_type": "code",
   "execution_count": 51,
   "metadata": {},
   "outputs": [],
   "source": [
    "norm_BI=pd.Series(norm_BI, name= 'norm_BI')\n",
    "norm_CA=pd.Series( norm_CA, name= 'norm_CA')\n",
    "norm_EE=pd.Series( norm_EE, name= 'norm_EE')\n",
    "norm_NA=pd.Series( norm_NA, name= 'norm_NA')\n",
    "norm_NE=pd.Series( norm_NE, name= 'norm_NE')\n",
    "norm_S=pd.Series( norm_S, name=  'norm_S')\n",
    "norm_SA=pd.Series( norm_SA, name= 'norm_SA')\n",
    "norm_SE=pd.Series( norm_SE, name= 'norm_SE')\n",
    "norm_WE=pd.Series( norm_WE, name= 'norm_WE')\n"
   ]
  },
  {
   "cell_type": "markdown",
   "metadata": {},
   "source": [
    "### combining multiple Series into a DataFrame: <br>lessons learned -- the Series must have names (see example above)<br>and you must specify the horizontal axis\n",
    "\n"
   ]
  },
  {
   "cell_type": "code",
   "execution_count": 52,
   "metadata": {},
   "outputs": [],
   "source": [
    "regions_df = pd.DataFrame(pd.concat([norm_BI, norm_CA, norm_EE, norm_NA, norm_NE, norm_S, norm_SA, norm_SE, norm_WE], \n",
    "                                   axis = 1))"
   ]
  },
  {
   "cell_type": "markdown",
   "metadata": {},
   "source": [
    "<a id='link_to_cell_in_question'></a>\n",
    "\n",
    "\n",
    "### need to run ANOVA here"
   ]
  },
  {
   "cell_type": "code",
   "execution_count": 53,
   "metadata": {},
   "outputs": [
    {
     "data": {
      "text/html": [
       "<div>\n",
       "<style scoped>\n",
       "    .dataframe tbody tr th:only-of-type {\n",
       "        vertical-align: middle;\n",
       "    }\n",
       "\n",
       "    .dataframe tbody tr th {\n",
       "        vertical-align: top;\n",
       "    }\n",
       "\n",
       "    .dataframe thead th {\n",
       "        text-align: right;\n",
       "    }\n",
       "</style>\n",
       "<table border=\"1\" class=\"dataframe\">\n",
       "  <thead>\n",
       "    <tr style=\"text-align: right;\">\n",
       "      <th></th>\n",
       "      <th>norm_BI</th>\n",
       "      <th>norm_CA</th>\n",
       "      <th>norm_EE</th>\n",
       "      <th>norm_NA</th>\n",
       "      <th>norm_NE</th>\n",
       "      <th>norm_S</th>\n",
       "      <th>norm_SA</th>\n",
       "      <th>norm_SE</th>\n",
       "      <th>norm_WE</th>\n",
       "    </tr>\n",
       "  </thead>\n",
       "  <tbody>\n",
       "    <tr>\n",
       "      <th>0</th>\n",
       "      <td>21.0</td>\n",
       "      <td>13.0</td>\n",
       "      <td>15.6</td>\n",
       "      <td>19.6</td>\n",
       "      <td>28.0</td>\n",
       "      <td>15.2</td>\n",
       "      <td>16.0</td>\n",
       "      <td>12.6</td>\n",
       "      <td>27.6</td>\n",
       "    </tr>\n",
       "    <tr>\n",
       "      <th>1</th>\n",
       "      <td>31.0</td>\n",
       "      <td>12.2</td>\n",
       "      <td>15.4</td>\n",
       "      <td>30.8</td>\n",
       "      <td>22.2</td>\n",
       "      <td>18.0</td>\n",
       "      <td>23.2</td>\n",
       "      <td>15.2</td>\n",
       "      <td>28.0</td>\n",
       "    </tr>\n",
       "    <tr>\n",
       "      <th>2</th>\n",
       "      <td>14.4</td>\n",
       "      <td>15.4</td>\n",
       "      <td>12.8</td>\n",
       "      <td>32.4</td>\n",
       "      <td>23.6</td>\n",
       "      <td>12.2</td>\n",
       "      <td>31.4</td>\n",
       "      <td>8.4</td>\n",
       "      <td>33.4</td>\n",
       "    </tr>\n",
       "    <tr>\n",
       "      <th>3</th>\n",
       "      <td>28.4</td>\n",
       "      <td>13.4</td>\n",
       "      <td>15.4</td>\n",
       "      <td>16.6</td>\n",
       "      <td>27.6</td>\n",
       "      <td>23.6</td>\n",
       "      <td>28.8</td>\n",
       "      <td>13.6</td>\n",
       "      <td>26.4</td>\n",
       "    </tr>\n",
       "    <tr>\n",
       "      <th>4</th>\n",
       "      <td>13.2</td>\n",
       "      <td>9.2</td>\n",
       "      <td>20.0</td>\n",
       "      <td>19.6</td>\n",
       "      <td>19.0</td>\n",
       "      <td>12.4</td>\n",
       "      <td>27.8</td>\n",
       "      <td>16.2</td>\n",
       "      <td>23.4</td>\n",
       "    </tr>\n",
       "  </tbody>\n",
       "</table>\n",
       "</div>"
      ],
      "text/plain": [
       "   norm_BI  norm_CA  norm_EE  norm_NA  norm_NE  norm_S  norm_SA  norm_SE  \\\n",
       "0     21.0     13.0     15.6     19.6     28.0    15.2     16.0     12.6   \n",
       "1     31.0     12.2     15.4     30.8     22.2    18.0     23.2     15.2   \n",
       "2     14.4     15.4     12.8     32.4     23.6    12.2     31.4      8.4   \n",
       "3     28.4     13.4     15.4     16.6     27.6    23.6     28.8     13.6   \n",
       "4     13.2      9.2     20.0     19.6     19.0    12.4     27.8     16.2   \n",
       "\n",
       "   norm_WE  \n",
       "0     27.6  \n",
       "1     28.0  \n",
       "2     33.4  \n",
       "3     26.4  \n",
       "4     23.4  "
      ]
     },
     "execution_count": 53,
     "metadata": {},
     "output_type": "execute_result"
    }
   ],
   "source": [
    "regions_df.head()"
   ]
  },
  {
   "cell_type": "code",
   "execution_count": 54,
   "metadata": {},
   "outputs": [
    {
     "data": {
      "text/html": [
       "<div>\n",
       "<style scoped>\n",
       "    .dataframe tbody tr th:only-of-type {\n",
       "        vertical-align: middle;\n",
       "    }\n",
       "\n",
       "    .dataframe tbody tr th {\n",
       "        vertical-align: top;\n",
       "    }\n",
       "\n",
       "    .dataframe thead th {\n",
       "        text-align: right;\n",
       "    }\n",
       "</style>\n",
       "<table border=\"1\" class=\"dataframe\">\n",
       "  <thead>\n",
       "    <tr style=\"text-align: right;\">\n",
       "      <th></th>\n",
       "      <th>norm_BI</th>\n",
       "      <th>norm_CA</th>\n",
       "      <th>norm_EE</th>\n",
       "      <th>norm_NA</th>\n",
       "      <th>norm_NE</th>\n",
       "      <th>norm_S</th>\n",
       "      <th>norm_SA</th>\n",
       "      <th>norm_SE</th>\n",
       "      <th>norm_WE</th>\n",
       "      <th>Total</th>\n",
       "    </tr>\n",
       "  </thead>\n",
       "  <tbody>\n",
       "    <tr>\n",
       "      <th>0</th>\n",
       "      <td>21.0</td>\n",
       "      <td>13.0</td>\n",
       "      <td>15.6</td>\n",
       "      <td>19.6</td>\n",
       "      <td>28.0</td>\n",
       "      <td>15.2</td>\n",
       "      <td>16.0</td>\n",
       "      <td>12.6</td>\n",
       "      <td>27.6</td>\n",
       "      <td>168.6</td>\n",
       "    </tr>\n",
       "    <tr>\n",
       "      <th>1</th>\n",
       "      <td>31.0</td>\n",
       "      <td>12.2</td>\n",
       "      <td>15.4</td>\n",
       "      <td>30.8</td>\n",
       "      <td>22.2</td>\n",
       "      <td>18.0</td>\n",
       "      <td>23.2</td>\n",
       "      <td>15.2</td>\n",
       "      <td>28.0</td>\n",
       "      <td>196.0</td>\n",
       "    </tr>\n",
       "    <tr>\n",
       "      <th>2</th>\n",
       "      <td>14.4</td>\n",
       "      <td>15.4</td>\n",
       "      <td>12.8</td>\n",
       "      <td>32.4</td>\n",
       "      <td>23.6</td>\n",
       "      <td>12.2</td>\n",
       "      <td>31.4</td>\n",
       "      <td>8.4</td>\n",
       "      <td>33.4</td>\n",
       "      <td>184.0</td>\n",
       "    </tr>\n",
       "    <tr>\n",
       "      <th>3</th>\n",
       "      <td>28.4</td>\n",
       "      <td>13.4</td>\n",
       "      <td>15.4</td>\n",
       "      <td>16.6</td>\n",
       "      <td>27.6</td>\n",
       "      <td>23.6</td>\n",
       "      <td>28.8</td>\n",
       "      <td>13.6</td>\n",
       "      <td>26.4</td>\n",
       "      <td>193.8</td>\n",
       "    </tr>\n",
       "    <tr>\n",
       "      <th>4</th>\n",
       "      <td>13.2</td>\n",
       "      <td>9.2</td>\n",
       "      <td>20.0</td>\n",
       "      <td>19.6</td>\n",
       "      <td>19.0</td>\n",
       "      <td>12.4</td>\n",
       "      <td>27.8</td>\n",
       "      <td>16.2</td>\n",
       "      <td>23.4</td>\n",
       "      <td>160.8</td>\n",
       "    </tr>\n",
       "  </tbody>\n",
       "</table>\n",
       "</div>"
      ],
      "text/plain": [
       "   norm_BI  norm_CA  norm_EE  norm_NA  norm_NE  norm_S  norm_SA  norm_SE  \\\n",
       "0     21.0     13.0     15.6     19.6     28.0    15.2     16.0     12.6   \n",
       "1     31.0     12.2     15.4     30.8     22.2    18.0     23.2     15.2   \n",
       "2     14.4     15.4     12.8     32.4     23.6    12.2     31.4      8.4   \n",
       "3     28.4     13.4     15.4     16.6     27.6    23.6     28.8     13.6   \n",
       "4     13.2      9.2     20.0     19.6     19.0    12.4     27.8     16.2   \n",
       "\n",
       "   norm_WE  Total  \n",
       "0     27.6  168.6  \n",
       "1     28.0  196.0  \n",
       "2     33.4  184.0  \n",
       "3     26.4  193.8  \n",
       "4     23.4  160.8  "
      ]
     },
     "execution_count": 54,
     "metadata": {},
     "output_type": "execute_result"
    }
   ],
   "source": [
    "regions_df['Total'] = regions_df.sum(axis=1)\n",
    "#regions_df.to_csv(\"region_df_data.csv\")\n",
    "regions_df.head()"
   ]
  },
  {
   "cell_type": "code",
   "execution_count": 56,
   "metadata": {},
   "outputs": [
    {
     "data": {
      "text/html": [
       "<div>\n",
       "<style scoped>\n",
       "    .dataframe tbody tr th:only-of-type {\n",
       "        vertical-align: middle;\n",
       "    }\n",
       "\n",
       "    .dataframe tbody tr th {\n",
       "        vertical-align: top;\n",
       "    }\n",
       "\n",
       "    .dataframe thead th {\n",
       "        text-align: right;\n",
       "    }\n",
       "</style>\n",
       "<table border=\"1\" class=\"dataframe\">\n",
       "  <thead>\n",
       "    <tr style=\"text-align: right;\">\n",
       "      <th></th>\n",
       "      <th>norm_BI</th>\n",
       "      <th>norm_CA</th>\n",
       "      <th>norm_EE</th>\n",
       "      <th>norm_NA</th>\n",
       "      <th>norm_NE</th>\n",
       "      <th>norm_S</th>\n",
       "      <th>norm_SA</th>\n",
       "      <th>norm_SE</th>\n",
       "      <th>norm_WE</th>\n",
       "      <th>Total</th>\n",
       "    </tr>\n",
       "  </thead>\n",
       "  <tbody>\n",
       "    <tr>\n",
       "      <th>0</th>\n",
       "      <td>21.0</td>\n",
       "      <td>13.0</td>\n",
       "      <td>15.6</td>\n",
       "      <td>19.6</td>\n",
       "      <td>28.0</td>\n",
       "      <td>15.2</td>\n",
       "      <td>16.0</td>\n",
       "      <td>12.6</td>\n",
       "      <td>27.6</td>\n",
       "      <td>168.6</td>\n",
       "    </tr>\n",
       "    <tr>\n",
       "      <th>1</th>\n",
       "      <td>31.0</td>\n",
       "      <td>12.2</td>\n",
       "      <td>15.4</td>\n",
       "      <td>30.8</td>\n",
       "      <td>22.2</td>\n",
       "      <td>18.0</td>\n",
       "      <td>23.2</td>\n",
       "      <td>15.2</td>\n",
       "      <td>28.0</td>\n",
       "      <td>196.0</td>\n",
       "    </tr>\n",
       "    <tr>\n",
       "      <th>2</th>\n",
       "      <td>14.4</td>\n",
       "      <td>15.4</td>\n",
       "      <td>12.8</td>\n",
       "      <td>32.4</td>\n",
       "      <td>23.6</td>\n",
       "      <td>12.2</td>\n",
       "      <td>31.4</td>\n",
       "      <td>8.4</td>\n",
       "      <td>33.4</td>\n",
       "      <td>184.0</td>\n",
       "    </tr>\n",
       "    <tr>\n",
       "      <th>3</th>\n",
       "      <td>28.4</td>\n",
       "      <td>13.4</td>\n",
       "      <td>15.4</td>\n",
       "      <td>16.6</td>\n",
       "      <td>27.6</td>\n",
       "      <td>23.6</td>\n",
       "      <td>28.8</td>\n",
       "      <td>13.6</td>\n",
       "      <td>26.4</td>\n",
       "      <td>193.8</td>\n",
       "    </tr>\n",
       "    <tr>\n",
       "      <th>4</th>\n",
       "      <td>13.2</td>\n",
       "      <td>9.2</td>\n",
       "      <td>20.0</td>\n",
       "      <td>19.6</td>\n",
       "      <td>19.0</td>\n",
       "      <td>12.4</td>\n",
       "      <td>27.8</td>\n",
       "      <td>16.2</td>\n",
       "      <td>23.4</td>\n",
       "      <td>160.8</td>\n",
       "    </tr>\n",
       "  </tbody>\n",
       "</table>\n",
       "</div>"
      ],
      "text/plain": [
       "   norm_BI  norm_CA  norm_EE  norm_NA  norm_NE  norm_S  norm_SA  norm_SE  \\\n",
       "0     21.0     13.0     15.6     19.6     28.0    15.2     16.0     12.6   \n",
       "1     31.0     12.2     15.4     30.8     22.2    18.0     23.2     15.2   \n",
       "2     14.4     15.4     12.8     32.4     23.6    12.2     31.4      8.4   \n",
       "3     28.4     13.4     15.4     16.6     27.6    23.6     28.8     13.6   \n",
       "4     13.2      9.2     20.0     19.6     19.0    12.4     27.8     16.2   \n",
       "\n",
       "   norm_WE  Total  \n",
       "0     27.6  168.6  \n",
       "1     28.0  196.0  \n",
       "2     33.4  184.0  \n",
       "3     26.4  193.8  \n",
       "4     23.4  160.8  "
      ]
     },
     "execution_count": 56,
     "metadata": {},
     "output_type": "execute_result"
    }
   ],
   "source": [
    "norm_regions_df = copy.deepcopy(regions_df)\n",
    "norm_regions_df.head()"
   ]
  },
  {
   "cell_type": "code",
   "execution_count": 57,
   "metadata": {},
   "outputs": [],
   "source": [
    "norm_regions_df.to_csv(\"norm_regions_df.csv\")"
   ]
  },
  {
   "cell_type": "markdown",
   "metadata": {},
   "source": [
    "##### Lets use an ANOVA test to compare the different groups with the control"
   ]
  },
  {
   "cell_type": "code",
   "execution_count": 58,
   "metadata": {},
   "outputs": [
    {
     "name": "stdout",
     "output_type": "stream",
     "text": [
      "                sum_sq    df             F  PR(>F)\n",
      "norm_BI   2.015874e+03   1.0  3.488626e+28     0.0\n",
      "norm_CA   2.951014e+02   1.0  5.106959e+27     0.0\n",
      "norm_EE   2.945492e+02   1.0  5.097404e+27     0.0\n",
      "norm_NA   2.793060e+03   1.0  4.833608e+28     0.0\n",
      "norm_NE   1.418448e+03   1.0  2.454735e+28     0.0\n",
      "norm_S    7.822839e+02   1.0  1.353803e+28     0.0\n",
      "norm_SA   1.054255e+03   1.0  1.824470e+28     0.0\n",
      "norm_SE   5.270211e+02   1.0  9.120511e+27     0.0\n",
      "norm_WE   1.371047e+03   1.0  2.372703e+28     0.0\n",
      "Residual  1.733525e-24  30.0           NaN     NaN\n"
     ]
    }
   ],
   "source": [
    "formula = \"Total ~ norm_BI + norm_CA + norm_EE + norm_NA + norm_NE + norm_S + norm_SA + norm_SE + norm_WE\"\n",
    "           \n",
    "lm = ols(formula, norm_regions_df).fit()\n",
    "table = sm.stats.anova_lm(lm, typ=2)\n",
    "print(table)"
   ]
  },
  {
   "cell_type": "markdown",
   "metadata": {},
   "source": [
    "| Region          \t| Code \t|\n",
    "|-----------------\t|------\t|\n",
    "| Western Europe  \t| WE    \t|\n",
    "| North America   \t| NA   \t|\n",
    "| South America   \t| SA   \t|\n",
    "| British Isles   \t| BI   \t|\n",
    "| Northern Europe \t| NE   \t|\n",
    "| Southern Europe \t| SE   \t|\n",
    "| Scandinavia     \t| S   \t|\n",
    "| Central America \t| CA    \t|\n",
    "| Eastern Europe  \t| EE   \t|"
   ]
  },
  {
   "cell_type": "code",
   "execution_count": null,
   "metadata": {},
   "outputs": [],
   "source": [
    "sns.set(rc={'figure.figsize':(16,8.27)})\n",
    "plt.style.use('ggplot')\n",
    "\n",
    "ax = sns.barplot(x= \"Region\", y=\"Avg_Sales_vs_Mean\", data=region_table)"
   ]
  },
  {
   "cell_type": "markdown",
   "metadata": {},
   "source": [
    "##### Conclusion Question 2 <br>\n",
    "**restate the question and hypotheses:**<br>\n",
    " Is there a region that outperforms the others in terms of order quantities?<br>\n",
    "𝐻𝑂: each region sells the same quantities of product<br>\n",
    "𝐻𝑎: regions do not sell the same quantities of product<br>\n",
    "\n",
    "<span class=\"burk\">From the above ANOVA table, we see that we have significant events for all regions except for Eastern Europe, Southern Europe and Scandinavia. Of the regions with significant events, North America and Western Europe have average sales that far exceed the others.  This is no surprise since they are the largest economies of the given regions.</span>  \n"
   ]
  },
  {
   "cell_type": "markdown",
   "metadata": {},
   "source": [
    "## Question 3\n",
    "#### are there any salespeople that stand out?"
   ]
  },
  {
   "cell_type": "markdown",
   "metadata": {},
   "source": [
    "$H_O$: all sales peoples performance are identical <br>\n",
    "$H_a$: some sales people do better than others and some do worse<br>\n",
    "\n",
    "this is a two tailed test"
   ]
  },
  {
   "cell_type": "markdown",
   "metadata": {},
   "source": [
    "pull the features we need into a dataframe"
   ]
  },
  {
   "cell_type": "code",
   "execution_count": 59,
   "metadata": {},
   "outputs": [
    {
     "data": {
      "text/html": [
       "<div>\n",
       "<style scoped>\n",
       "    .dataframe tbody tr th:only-of-type {\n",
       "        vertical-align: middle;\n",
       "    }\n",
       "\n",
       "    .dataframe tbody tr th {\n",
       "        vertical-align: top;\n",
       "    }\n",
       "\n",
       "    .dataframe thead th {\n",
       "        text-align: right;\n",
       "    }\n",
       "</style>\n",
       "<table border=\"1\" class=\"dataframe\">\n",
       "  <thead>\n",
       "    <tr style=\"text-align: right;\">\n",
       "      <th></th>\n",
       "      <th>Quantity</th>\n",
       "      <th>EmployeeId</th>\n",
       "    </tr>\n",
       "  </thead>\n",
       "  <tbody>\n",
       "    <tr>\n",
       "      <th>0</th>\n",
       "      <td>45</td>\n",
       "      <td>1</td>\n",
       "    </tr>\n",
       "    <tr>\n",
       "      <th>1</th>\n",
       "      <td>36</td>\n",
       "      <td>1</td>\n",
       "    </tr>\n",
       "    <tr>\n",
       "      <th>2</th>\n",
       "      <td>40</td>\n",
       "      <td>1</td>\n",
       "    </tr>\n",
       "    <tr>\n",
       "      <th>3</th>\n",
       "      <td>30</td>\n",
       "      <td>2</td>\n",
       "    </tr>\n",
       "    <tr>\n",
       "      <th>4</th>\n",
       "      <td>40</td>\n",
       "      <td>2</td>\n",
       "    </tr>\n",
       "  </tbody>\n",
       "</table>\n",
       "</div>"
      ],
      "text/plain": [
       "   Quantity  EmployeeId\n",
       "0        45           1\n",
       "1        36           1\n",
       "2        40           1\n",
       "3        30           2\n",
       "4        40           2"
      ]
     },
     "execution_count": 59,
     "metadata": {},
     "output_type": "execute_result"
    }
   ],
   "source": [
    "q3df = data[[\"Quantity\", \"EmployeeId\"]]\n",
    "q3df.head()"
   ]
  },
  {
   "cell_type": "code",
   "execution_count": 60,
   "metadata": {},
   "outputs": [
    {
     "data": {
      "text/plain": [
       "4    408\n",
       "1    341\n",
       "3    313\n",
       "8    248\n",
       "2    237\n",
       "6    161\n",
       "7    150\n",
       "5    113\n",
       "9    107\n",
       "Name: EmployeeId, dtype: int64"
      ]
     },
     "execution_count": 60,
     "metadata": {},
     "output_type": "execute_result"
    }
   ],
   "source": [
    "q3df.EmployeeId.value_counts()"
   ]
  },
  {
   "cell_type": "markdown",
   "metadata": {},
   "source": [
    "we can use all the data here"
   ]
  },
  {
   "cell_type": "markdown",
   "metadata": {},
   "source": [
    "EmployeeId is already numeric so, can skip label encoding and go straight to get dummies"
   ]
  },
  {
   "cell_type": "code",
   "execution_count": 61,
   "metadata": {},
   "outputs": [],
   "source": [
    "q3dfv2 = copy.deepcopy(pd.get_dummies(q3df, columns = [\"EmployeeId\"])) # one-hot-encode"
   ]
  },
  {
   "cell_type": "code",
   "execution_count": 62,
   "metadata": {},
   "outputs": [
    {
     "data": {
      "text/html": [
       "<div>\n",
       "<style scoped>\n",
       "    .dataframe tbody tr th:only-of-type {\n",
       "        vertical-align: middle;\n",
       "    }\n",
       "\n",
       "    .dataframe tbody tr th {\n",
       "        vertical-align: top;\n",
       "    }\n",
       "\n",
       "    .dataframe thead th {\n",
       "        text-align: right;\n",
       "    }\n",
       "</style>\n",
       "<table border=\"1\" class=\"dataframe\">\n",
       "  <thead>\n",
       "    <tr style=\"text-align: right;\">\n",
       "      <th></th>\n",
       "      <th>Quantity</th>\n",
       "      <th>EmployeeId_1</th>\n",
       "      <th>EmployeeId_2</th>\n",
       "      <th>EmployeeId_3</th>\n",
       "      <th>EmployeeId_4</th>\n",
       "      <th>EmployeeId_5</th>\n",
       "      <th>EmployeeId_6</th>\n",
       "      <th>EmployeeId_7</th>\n",
       "      <th>EmployeeId_8</th>\n",
       "      <th>EmployeeId_9</th>\n",
       "    </tr>\n",
       "  </thead>\n",
       "  <tbody>\n",
       "    <tr>\n",
       "      <th>0</th>\n",
       "      <td>45</td>\n",
       "      <td>1</td>\n",
       "      <td>0</td>\n",
       "      <td>0</td>\n",
       "      <td>0</td>\n",
       "      <td>0</td>\n",
       "      <td>0</td>\n",
       "      <td>0</td>\n",
       "      <td>0</td>\n",
       "      <td>0</td>\n",
       "    </tr>\n",
       "    <tr>\n",
       "      <th>1</th>\n",
       "      <td>36</td>\n",
       "      <td>1</td>\n",
       "      <td>0</td>\n",
       "      <td>0</td>\n",
       "      <td>0</td>\n",
       "      <td>0</td>\n",
       "      <td>0</td>\n",
       "      <td>0</td>\n",
       "      <td>0</td>\n",
       "      <td>0</td>\n",
       "    </tr>\n",
       "    <tr>\n",
       "      <th>2</th>\n",
       "      <td>40</td>\n",
       "      <td>1</td>\n",
       "      <td>0</td>\n",
       "      <td>0</td>\n",
       "      <td>0</td>\n",
       "      <td>0</td>\n",
       "      <td>0</td>\n",
       "      <td>0</td>\n",
       "      <td>0</td>\n",
       "      <td>0</td>\n",
       "    </tr>\n",
       "    <tr>\n",
       "      <th>3</th>\n",
       "      <td>30</td>\n",
       "      <td>0</td>\n",
       "      <td>1</td>\n",
       "      <td>0</td>\n",
       "      <td>0</td>\n",
       "      <td>0</td>\n",
       "      <td>0</td>\n",
       "      <td>0</td>\n",
       "      <td>0</td>\n",
       "      <td>0</td>\n",
       "    </tr>\n",
       "    <tr>\n",
       "      <th>4</th>\n",
       "      <td>40</td>\n",
       "      <td>0</td>\n",
       "      <td>1</td>\n",
       "      <td>0</td>\n",
       "      <td>0</td>\n",
       "      <td>0</td>\n",
       "      <td>0</td>\n",
       "      <td>0</td>\n",
       "      <td>0</td>\n",
       "      <td>0</td>\n",
       "    </tr>\n",
       "  </tbody>\n",
       "</table>\n",
       "</div>"
      ],
      "text/plain": [
       "   Quantity  EmployeeId_1  EmployeeId_2  EmployeeId_3  EmployeeId_4  \\\n",
       "0        45             1             0             0             0   \n",
       "1        36             1             0             0             0   \n",
       "2        40             1             0             0             0   \n",
       "3        30             0             1             0             0   \n",
       "4        40             0             1             0             0   \n",
       "\n",
       "   EmployeeId_5  EmployeeId_6  EmployeeId_7  EmployeeId_8  EmployeeId_9  \n",
       "0             0             0             0             0             0  \n",
       "1             0             0             0             0             0  \n",
       "2             0             0             0             0             0  \n",
       "3             0             0             0             0             0  \n",
       "4             0             0             0             0             0  "
      ]
     },
     "execution_count": 62,
     "metadata": {},
     "output_type": "execute_result"
    }
   ],
   "source": [
    "q3dfv2.head()"
   ]
  },
  {
   "cell_type": "code",
   "execution_count": null,
   "metadata": {},
   "outputs": [],
   "source": [
    "formula = \"Quantity ~ C(EmployeeId_1) + C(EmployeeId_2) + C(EmployeeId_3) + C(EmployeeId_4) + C(EmployeeId_5) + C(EmployeeId_6)\\\n",
    "+ C(EmployeeId_7) + C(EmployeeId_8) + C(EmployeeId_9)\"\n",
    "           \n",
    "lm = ols(formula, q3dfv2).fit()\n",
    "table = sm.stats.anova_lm(lm, typ=2)\n",
    "print(table)"
   ]
  },
  {
   "cell_type": "code",
   "execution_count": null,
   "metadata": {},
   "outputs": [],
   "source": [
    "q3table = pd.DataFrame(['Emp1', 'Emp2', 'Emp3', 'Emp4', 'Emp5', 'Emp6', 'Emp7', 'Emp8', 'Emp9'])\n",
    "q3table.columns = [\"Employee\"]\n",
    "q3table[\"Performance Vs Mean\"] = [1, 8.6, 7, 3.25, 4.8, 0.5, 17.6, 0.6, 3.5]\n",
    "q3table.head()"
   ]
  },
  {
   "cell_type": "code",
   "execution_count": null,
   "metadata": {
    "scrolled": false
   },
   "outputs": [],
   "source": [
    "sns.set(rc={'figure.figsize':(16,8.27)})\n",
    "plt.style.use('ggplot')\n",
    "\n",
    "ax = sns.barplot(x= \"Employee\", y=\"Performance Vs Mean\", data=q3table)"
   ]
  },
  {
   "cell_type": "markdown",
   "metadata": {},
   "source": [
    "##### Conclusion Question 3 <br> \n",
    "\n",
    "**Restate the question and hypotheses:**<br>\n",
    " are there any salespeople that stand out?<br>\n",
    " \n",
    "𝐻𝑂: all sales peoples performance are identical <br>\n",
    "𝐻𝑎: some sales people do better than others and some do worse<br>\n",
    "\n",
    "we don't have sufficient data to say anything about employees 1, 6 or 8 though, we should gather more data, look deeper and think about training, culture, morale...etc.\n",
    "Employee seven looks like a superstar on paper but we need to dig deeper to make sure it is her work that is creating the success and not some kind of 'gift' such as being the only salesperson in a region that needs several, or stable and high-growth company she has been relying on, ie, can this person reproduce the results anywhere?  maybe they can distribute some wisdom to our other salespeople. "
   ]
  },
  {
   "cell_type": "markdown",
   "metadata": {},
   "source": [
    "## Question 4\n",
    "#### are there any categories we should think about dicontinuing or expanding on?"
   ]
  },
  {
   "cell_type": "markdown",
   "metadata": {},
   "source": [
    "$H_O$: orders of categories are equal in quantity <br>\n",
    "$H_a$: orders by category are not equal<br>\n",
    "\n",
    "this is a two tailed test"
   ]
  },
  {
   "cell_type": "code",
   "execution_count": null,
   "metadata": {},
   "outputs": [],
   "source": [
    "q4df = data[[\"Quantity\", \"CategoryId\"]]\n",
    "q4df.CategoryId.value_counts()"
   ]
  },
  {
   "cell_type": "code",
   "execution_count": null,
   "metadata": {},
   "outputs": [],
   "source": [
    "q4df = copy.deepcopy(pd.get_dummies(q4df, columns = [\"CategoryId\"])) # one-hot-encode"
   ]
  },
  {
   "cell_type": "code",
   "execution_count": null,
   "metadata": {},
   "outputs": [],
   "source": [
    "q4df.head()"
   ]
  },
  {
   "cell_type": "code",
   "execution_count": null,
   "metadata": {},
   "outputs": [],
   "source": [
    "formula = \"Quantity ~ C(CategoryId_1) + C(CategoryId_2) + C(CategoryId_3) + C(CategoryId_4) + C(CategoryId_5) + C(CategoryId_6)\\\n",
    "+ C(CategoryId_7) + C(CategoryId_8) \"\n",
    "           \n",
    "lm = ols(formula, q4df).fit()\n",
    "table = sm.stats.anova_lm(lm, typ=2)\n",
    "print(table)"
   ]
  },
  {
   "cell_type": "code",
   "execution_count": null,
   "metadata": {},
   "outputs": [],
   "source": [
    "q4table = pd.DataFrame([])"
   ]
  },
  {
   "cell_type": "code",
   "execution_count": null,
   "metadata": {},
   "outputs": [],
   "source": [
    "data.head(30)\n"
   ]
  },
  {
   "cell_type": "code",
   "execution_count": null,
   "metadata": {},
   "outputs": [],
   "source": [
    "q4table = pd.DataFrame([\"Beverages\", \"Condiments\", \"Confections\", \"Dairy Products\", \"Grains/Cerials\", \"Meat/Poultry\",\n",
    "                        \"Produce\", \"Seafood\" ])\n",
    "\n",
    "q4table.columns = [\"Category\"]\n",
    "q4table[\"Sales vs Avg\"] = [5.6, 8, 6.5, 15, 3, 5.7, 0.4, 6]\n",
    "q4table.head()"
   ]
  },
  {
   "cell_type": "code",
   "execution_count": null,
   "metadata": {},
   "outputs": [],
   "source": [
    "sns.set(rc={'figure.figsize':(16,8.27)})\n",
    "plt.style.use('ggplot')\n",
    "\n",
    "ax = sns.barplot(x= \"Category\", y=\"Sales vs Avg\", data=q4table)"
   ]
  },
  {
   "cell_type": "code",
   "execution_count": null,
   "metadata": {},
   "outputs": [],
   "source": []
  },
  {
   "cell_type": "markdown",
   "metadata": {},
   "source": [
    "##### Conclusion Question 4 <br>\n",
    "\n",
    "**Restate the question and hypotheses:**<br>\n",
    "are there any categories we should think about dicontinuing or expanding on?<br>\n",
    "\n",
    "𝐻𝑂: orders of categories are equal in quantity <br>\n",
    "𝐻𝑎: orders by category are not equal <br>\n",
    "\n",
    "The test fails to reject the null for category 5 and 7; these seem to be categories with moderate sales.\n",
    "We can reject the null for categories 1, 2, 3, 4, 6 and 8.  Category 4 especially stands out with the lowest P-value and highest test statistic.  We should further inspect this product and look to duplicate its success. "
   ]
  },
  {
   "cell_type": "code",
   "execution_count": null,
   "metadata": {},
   "outputs": [],
   "source": []
  }
 ],
 "metadata": {
  "kernelspec": {
   "display_name": "learn-env",
   "language": "python",
   "name": "learn-env"
  },
  "language_info": {
   "codemirror_mode": {
    "name": "ipython",
    "version": 3
   },
   "file_extension": ".py",
   "mimetype": "text/x-python",
   "name": "python",
   "nbconvert_exporter": "python",
   "pygments_lexer": "ipython3",
   "version": "3.6.6"
  },
  "toc": {
   "base_numbering": 1,
   "nav_menu": {},
   "number_sections": false,
   "sideBar": true,
   "skip_h1_title": false,
   "title_cell": "Table of Contents",
   "title_sidebar": "Contents",
   "toc_cell": false,
   "toc_position": {
    "height": "calc(100% - 180px)",
    "left": "10px",
    "top": "150px",
    "width": "165px"
   },
   "toc_section_display": true,
   "toc_window_display": false
  }
 },
 "nbformat": 4,
 "nbformat_minor": 2
}
